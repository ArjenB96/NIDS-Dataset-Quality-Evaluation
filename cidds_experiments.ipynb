{
 "cells": [
  {
   "cell_type": "code",
   "execution_count": 1,
   "metadata": {},
   "outputs": [
    {
     "name": "stdout",
     "output_type": "stream",
     "text": [
      "INFO: Pandarallel will run on 12 workers.\n",
      "INFO: Pandarallel will use Memory file system to transfer data between the main process and workers.\n"
     ]
    }
   ],
   "source": [
    "# Third Party Imports\n",
    "import pandas as pd\n",
    "import matplotlib.pyplot as plt\n",
    "import numpy as np\n",
    "from pandarallel import pandarallel\n",
    "from sklearn.model_selection import StratifiedKFold\n",
    "from sklearn.tree import DecisionTreeClassifier\n",
    "import os\n",
    "import pickle\n",
    "pandarallel.initialize(progress_bar=True)\n",
    "from exphelperfunctions import abbrv_num\n",
    "from exphelperfunctions import objectToFile\n",
    "from exphelperfunctions import objectFromFile\n",
    "from exphelperfunctions import add_value_labels"
   ]
  },
  {
   "cell_type": "markdown",
   "metadata": {},
   "source": [
    "## Load original data"
   ]
  },
  {
   "cell_type": "code",
   "execution_count": 2,
   "metadata": {
    "scrolled": true
   },
   "outputs": [
    {
     "name": "stdout",
     "output_type": "stream",
     "text": [
      "['/mnt/h/CIDDS/CIDDS-001/traffic/CIDDS-001-external-week1.csv', '/mnt/h/CIDDS/CIDDS-001/traffic/CIDDS-001-external-week2.csv', '/mnt/h/CIDDS/CIDDS-001/traffic/CIDDS-001-external-week3.csv', '/mnt/h/CIDDS/CIDDS-001/traffic/CIDDS-001-external-week4.csv', '/mnt/h/CIDDS/CIDDS-001/traffic/CIDDS-001-internal-week1.csv', '/mnt/h/CIDDS/CIDDS-001/traffic/CIDDS-001-internal-week2.csv', '/mnt/h/CIDDS/CIDDS-001/traffic/CIDDS-001-internal-week3.csv', '/mnt/h/CIDDS/CIDDS-001/traffic/CIDDS-001-internal-week4.csv']\n"
     ]
    }
   ],
   "source": [
    "#Open CIDDS-001\n",
    "dirpath = \"/mnt/h/CIDDS/CIDDS-001/traffic/\"\n",
    "filepaths = [dirpath+f for f in os.listdir(dirpath) if f.endswith('.csv')]\n",
    "print(filepaths)\n",
    "dtypes = {'Date first seen': object,'Duration': np.float64, 'Proto': object, 'Src IP Addr': object, 'Src Pt': np.int32, \\\n",
    "          'Dst IP Addr': object, 'Dst Pt': np.float32, 'Packets': np.int64, 'Bytes': object, 'Flows': np.int32, \\\n",
    "          'class': object, 'attackType': object, 'attackID': object}\n",
    "\n",
    "#Open as external server dataframe and internal (openstack) server to maintain traffic distributions\n",
    "df_ext = pd.concat([pd.read_csv(f, sep=',', header=0, dtype=dtypes, skipinitialspace=True) for f in list(filepaths[i] for i in range(0,4))], ignore_index= True)\n",
    "df_int = pd.concat([pd.read_csv(f, sep=',', header=0, dtype=dtypes, skipinitialspace=True) for f in list(filepaths[i] for i in range(4,8))], ignore_index= True)"
   ]
  },
  {
   "cell_type": "code",
   "execution_count": 3,
   "metadata": {
    "scrolled": true
   },
   "outputs": [],
   "source": [
    "def fixBytesString(bytesString: str):\n",
    "    splitString = bytesString.split(' ')\n",
    "    if len(splitString) == 1:\n",
    "        return int(splitString[0])\n",
    "    elif len(splitString) == 2:\n",
    "        if splitString[1] == 'M':  \n",
    "            return int(float(splitString[0])*1000000)\n",
    "    return -1\n",
    "\n",
    "def fixColumns(df: pd.DataFrame):\n",
    "    df['Dst Pt'] = df['Dst Pt'].astype(int)\n",
    "    df['Proto'] = df['Proto'].str.strip()\n",
    "    df['Bytes'] = df['Bytes'].astype(str)\n",
    "    df['BytesAsInt'] = df['Bytes'].parallel_apply(fixBytesString)\n",
    "    return df"
   ]
  },
  {
   "cell_type": "code",
   "execution_count": 4,
   "metadata": {},
   "outputs": [
    {
     "data": {
      "application/vnd.jupyter.widget-view+json": {
       "model_id": "de0384c14e5b4d87a4682804297627d4",
       "version_major": 2,
       "version_minor": 0
      },
      "text/plain": [
       "VBox(children=(HBox(children=(IntProgress(value=0, description='0.00%', max=55937), Label(value='0 / 55937')))…"
      ]
     },
     "metadata": {},
     "output_type": "display_data"
    },
    {
     "data": {
      "application/vnd.jupyter.widget-view+json": {
       "model_id": "d5e4d252418548dbb85bc1c374ddee73",
       "version_major": 2,
       "version_minor": 0
      },
      "text/plain": [
       "VBox(children=(HBox(children=(IntProgress(value=0, description='0.00%', max=2607328), Label(value='0 / 2607328…"
      ]
     },
     "metadata": {},
     "output_type": "display_data"
    }
   ],
   "source": [
    "df_ext = fixColumns(df_ext)\n",
    "df_int = fixColumns(df_int)"
   ]
  },
  {
   "cell_type": "code",
   "execution_count": 5,
   "metadata": {
    "scrolled": false
   },
   "outputs": [],
   "source": [
    "# Only include normal and attacker traffic as benign vs. malicious\n",
    "df_ext = df_ext.loc[(df_ext['class'] == 'normal') | (df_ext['class'] == 'attacker')]\n",
    "df_int = df_int.loc[(df_int['class'] == 'normal') | (df_int['class'] == 'attacker')]"
   ]
  },
  {
   "cell_type": "code",
   "execution_count": 6,
   "metadata": {},
   "outputs": [
    {
     "name": "stdout",
     "output_type": "stream",
     "text": [
      "normal        134240\n",
      "portScan       11036\n",
      "bruteForce      1224\n",
      "Name: attackType, dtype: int64\n",
      "normal        28051906\n",
      "dos            1480217\n",
      "portScan        168177\n",
      "pingScan          4134\n",
      "bruteForce        4077\n",
      "Name: attackType, dtype: int64\n"
     ]
    }
   ],
   "source": [
    "# Rename normal instances for multiclass classification\n",
    "df_ext.loc[df_ext['attackType'] == '---','attackType'] = 'normal'\n",
    "df_int.loc[df_int['attackType'] == '---','attackType'] = 'normal'\n",
    "print(df_ext['attackType'].value_counts())\n",
    "print(df_int['attackType'].value_counts())"
   ]
  },
  {
   "cell_type": "markdown",
   "metadata": {},
   "source": [
    "# Data composition\n",
    "Total amount of instances = 29,855,011\n",
    "\n",
    "## Internal\n",
    "29,708,611 total instances (5.58% malicious)\n",
    "\n",
    "## External\n",
    "146,500 total instances (8.37% malicious)"
   ]
  },
  {
   "cell_type": "markdown",
   "metadata": {},
   "source": [
    "# One hot encoding and mean_bytes column"
   ]
  },
  {
   "cell_type": "code",
   "execution_count": 7,
   "metadata": {},
   "outputs": [
    {
     "name": "stdout",
     "output_type": "stream",
     "text": [
      "           Date first seen   Duration Proto    Src IP Addr  Src Pt  \\\n",
      "0  2017-03-14 17:43:57.172  81412.697   TCP     EXT_SERVER    8082   \n",
      "1  2017-03-14 17:43:57.172  81412.697   TCP  OPENSTACK_NET   56978   \n",
      "2  2017-03-14 17:43:26.135  81504.787   TCP     EXT_SERVER    8082   \n",
      "3  2017-03-14 17:43:26.135  81504.787   TCP  OPENSTACK_NET   56979   \n",
      "4  2017-03-14 18:17:09.005  82100.692   TCP     EXT_SERVER    8082   \n",
      "\n",
      "     Dst IP Addr  Dst Pt  Packets   Bytes  Flows  ... Tos   class attackType  \\\n",
      "0  OPENSTACK_NET   56978     3057   2.1 M      1  ...   0  normal     normal   \n",
      "1     EXT_SERVER    8082     4748   2.5 M      1  ...   0  normal     normal   \n",
      "2  OPENSTACK_NET   56979     8639   9.1 M      1  ...   0  normal     normal   \n",
      "3     EXT_SERVER    8082    12024  10.3 M      1  ...   0  normal     normal   \n",
      "4  OPENSTACK_NET   51649    11012  27.2 M      1  ...   0  normal     normal   \n",
      "\n",
      "  attackID attackDescription BytesAsInt  ICMP  TCP  UDP   mean_bytes  \n",
      "0      ---               ---    2100000     0    1    0   686.947988  \n",
      "1      ---               ---    2500000     0    1    0   526.537489  \n",
      "2      ---               ---    9100000     0    1    0  1053.362658  \n",
      "3      ---               ---   10300000     0    1    0   856.620093  \n",
      "4      ---               ---   27200000     0    1    0  2470.032692  \n",
      "\n",
      "[5 rows x 21 columns]\n"
     ]
    }
   ],
   "source": [
    "# One hot encoding for protocol\n",
    "ohe_df = pd.get_dummies(df_ext['Proto'])\n",
    "df_ext = df_ext.join(ohe_df)\n",
    "ohe_df = pd.get_dummies(df_int['Proto'])\n",
    "df_int = df_int.join(ohe_df)\n",
    "\n",
    "#Generate mean bytes column\n",
    "df_ext['mean_bytes'] = df_ext['BytesAsInt']/df_ext['Packets']\n",
    "df_int['mean_bytes'] = df_int['BytesAsInt']/df_int['Packets']\n",
    "print(df_ext.head())"
   ]
  },
  {
   "cell_type": "code",
   "execution_count": 17,
   "metadata": {
    "scrolled": true
   },
   "outputs": [],
   "source": [
    "#Get input columns and corresponding label vector\n",
    "#Use duration, proto OHE, packets, bytesasint, average bytes\n",
    "features = ['Duration','Packets','mean_bytes','BytesAsInt','ICMP','TCP','UDP']\n",
    "#Try adding ports\n",
    "features.extend(['Src Pt', 'Dst Pt'])\n",
    "label = 'class' #'class' or 'attackType'\n",
    "skf = StratifiedKFold(n_splits=5)"
   ]
  },
  {
   "cell_type": "code",
   "execution_count": 10,
   "metadata": {},
   "outputs": [
    {
     "name": "stdout",
     "output_type": "stream",
     "text": [
      "(28051906, 22)\n",
      "(14025953, 22)\n",
      "(134240, 21)\n",
      "(67120, 21)\n"
     ]
    }
   ],
   "source": [
    "print(df_int.loc[df_int['class'] == 'normal'].shape)\n",
    "df_int.drop(index=df_int.loc[df_int['class'] == 'normal'].sample(frac=0.5).index, inplace=True)\n",
    "print(df_int.loc[df_int['class'] == 'normal'].shape)\n",
    "\n",
    "print(df_ext.loc[df_ext['class'] == 'normal'].shape)\n",
    "df_ext.drop(index=df_ext.loc[df_ext['class'] == 'normal'].sample(frac=0.5).index, inplace=True)\n",
    "print(df_ext.loc[df_ext['class'] == 'normal'].shape)"
   ]
  },
  {
   "cell_type": "code",
   "execution_count": 18,
   "metadata": {},
   "outputs": [
    {
     "name": "stdout",
     "output_type": "stream",
     "text": [
      "TRAIN: 12609550 TEST: 3152388\n"
     ]
    },
    {
     "name": "stderr",
     "output_type": "stream",
     "text": [
      "[Parallel(n_jobs=5)]: Using backend ThreadingBackend with 5 concurrent workers.\n"
     ]
    },
    {
     "name": "stdout",
     "output_type": "stream",
     "text": [
      "building tree 1 of 100building tree 2 of 100building tree 3 of 100\n",
      "building tree 4 of 100\n",
      "building tree 5 of 100\n",
      "\n",
      "\n",
      "building tree 6 of 100\n",
      "building tree 7 of 100\n",
      "building tree 8 of 100\n",
      "building tree 9 of 100\n",
      "building tree 10 of 100\n",
      "building tree 11 of 100\n",
      "building tree 12 of 100\n",
      "building tree 13 of 100\n"
     ]
    },
    {
     "name": "stderr",
     "output_type": "stream",
     "text": [
      "[Parallel(n_jobs=5)]: Done   8 tasks      | elapsed:   28.7s\n"
     ]
    },
    {
     "name": "stdout",
     "output_type": "stream",
     "text": [
      "building tree 14 of 100\n",
      "building tree 15 of 100\n",
      "building tree 16 of 100\n",
      "building tree 17 of 100\n",
      "building tree 18 of 100\n",
      "building tree 19 of 100\n",
      "building tree 20 of 100\n",
      "building tree 21 of 100\n",
      "building tree 22 of 100\n",
      "building tree 23 of 100\n",
      "building tree 24 of 100\n",
      "building tree 25 of 100\n",
      "building tree 26 of 100\n",
      "building tree 27 of 100\n",
      "building tree 28 of 100\n",
      "building tree 29 of 100\n",
      "building tree 30 of 100\n",
      "building tree 31 of 100\n",
      "building tree 32 of 100\n",
      "building tree 33 of 100\n",
      "building tree 34 of 100\n",
      "building tree 35 of 100\n",
      "building tree 36 of 100building tree 37 of 100\n",
      "\n",
      "building tree 38 of 100\n",
      "building tree 39 of 100\n",
      "building tree 40 of 100\n",
      "building tree 41 of 100\n",
      "building tree 42 of 100\n",
      "building tree 43 of 100\n",
      "building tree 44 of 100\n",
      "building tree 45 of 100\n",
      "building tree 46 of 100\n",
      "building tree 47 of 100building tree 48 of 100\n",
      "\n",
      "building tree 49 of 100\n",
      "building tree 50 of 100\n",
      "building tree 51 of 100\n",
      "building tree 52 of 100\n",
      "building tree 53 of 100\n",
      "building tree 54 of 100\n",
      "building tree 55 of 100\n",
      "building tree 56 of 100\n",
      "building tree 57 of 100\n",
      "building tree 58 of 100\n",
      "building tree 59 of 100\n",
      "building tree 60 of 100\n",
      "building tree 61 of 100\n",
      "building tree 62 of 100\n",
      "building tree 63 of 100\n",
      "building tree 64 of 100\n",
      "building tree 65 of 100\n",
      "building tree 66 of 100\n",
      "building tree 67 of 100\n"
     ]
    },
    {
     "name": "stderr",
     "output_type": "stream",
     "text": [
      "[Parallel(n_jobs=5)]: Done  62 tasks      | elapsed:  2.9min\n"
     ]
    },
    {
     "name": "stdout",
     "output_type": "stream",
     "text": [
      "building tree 68 of 100\n",
      "building tree 69 of 100building tree 70 of 100\n",
      "\n",
      "building tree 71 of 100\n",
      "building tree 72 of 100\n",
      "building tree 73 of 100\n",
      "building tree 74 of 100\n",
      "building tree 75 of 100\n",
      "building tree 76 of 100\n",
      "building tree 77 of 100\n",
      "building tree 78 of 100\n",
      "building tree 79 of 100\n",
      "building tree 80 of 100\n",
      "building tree 81 of 100\n",
      "building tree 82 of 100\n",
      "building tree 83 of 100\n",
      "building tree 84 of 100\n",
      "building tree 85 of 100\n",
      "building tree 86 of 100\n",
      "building tree 87 of 100\n",
      "building tree 88 of 100\n",
      "building tree 89 of 100\n",
      "building tree 90 of 100\n",
      "building tree 91 of 100\n",
      "building tree 92 of 100\n",
      "building tree 93 of 100\n",
      "building tree 94 of 100\n",
      "building tree 95 of 100\n",
      "building tree 96 of 100\n",
      "building tree 97 of 100\n",
      "building tree 98 of 100\n",
      "building tree 99 of 100\n",
      "building tree 100 of 100\n"
     ]
    },
    {
     "name": "stderr",
     "output_type": "stream",
     "text": [
      "[Parallel(n_jobs=5)]: Done 100 out of 100 | elapsed:  4.6min finished\n",
      "[Parallel(n_jobs=5)]: Using backend ThreadingBackend with 5 concurrent workers.\n",
      "[Parallel(n_jobs=5)]: Done   8 tasks      | elapsed:    0.5s\n",
      "[Parallel(n_jobs=5)]: Done  62 tasks      | elapsed:    2.7s\n",
      "[Parallel(n_jobs=5)]: Done 100 out of 100 | elapsed:    4.3s finished\n"
     ]
    },
    {
     "name": "stdout",
     "output_type": "stream",
     "text": [
      "TRAIN: 12609550 TEST: 3152388\n"
     ]
    },
    {
     "name": "stderr",
     "output_type": "stream",
     "text": [
      "[Parallel(n_jobs=5)]: Using backend ThreadingBackend with 5 concurrent workers.\n"
     ]
    },
    {
     "name": "stdout",
     "output_type": "stream",
     "text": [
      "building tree 1 of 100building tree 2 of 100building tree 3 of 100building tree 4 of 100building tree 5 of 100\n",
      "\n",
      "\n",
      "\n",
      "\n",
      "building tree 6 of 100\n",
      "building tree 7 of 100\n",
      "building tree 8 of 100building tree 9 of 100\n",
      "\n",
      "building tree 10 of 100\n",
      "building tree 11 of 100\n",
      "building tree 12 of 100\n",
      "building tree 13 of 100\n"
     ]
    },
    {
     "name": "stderr",
     "output_type": "stream",
     "text": [
      "[Parallel(n_jobs=5)]: Done   8 tasks      | elapsed:   32.9s\n"
     ]
    },
    {
     "name": "stdout",
     "output_type": "stream",
     "text": [
      "building tree 14 of 100building tree 15 of 100\n",
      "\n",
      "building tree 16 of 100\n",
      "building tree 17 of 100\n",
      "building tree 18 of 100\n",
      "building tree 19 of 100\n",
      "building tree 20 of 100\n",
      "building tree 21 of 100\n",
      "building tree 22 of 100\n",
      "building tree 23 of 100\n",
      "building tree 24 of 100\n",
      "building tree 25 of 100\n",
      "building tree 26 of 100\n",
      "building tree 27 of 100\n",
      "building tree 28 of 100\n",
      "building tree 29 of 100\n",
      "building tree 30 of 100\n",
      "building tree 31 of 100\n",
      "building tree 32 of 100\n",
      "building tree 33 of 100\n",
      "building tree 34 of 100\n",
      "building tree 35 of 100\n",
      "building tree 36 of 100\n",
      "building tree 37 of 100\n",
      "building tree 38 of 100\n",
      "building tree 39 of 100\n",
      "building tree 40 of 100\n",
      "building tree 41 of 100\n",
      "building tree 42 of 100\n",
      "building tree 43 of 100building tree 44 of 100\n",
      "\n",
      "building tree 45 of 100\n",
      "building tree 46 of 100\n",
      "building tree 47 of 100\n",
      "building tree 48 of 100\n",
      "building tree 49 of 100\n",
      "building tree 50 of 100\n",
      "building tree 51 of 100\n",
      "building tree 52 of 100\n",
      "building tree 53 of 100\n",
      "building tree 54 of 100\n",
      "building tree 55 of 100\n",
      "building tree 56 of 100\n",
      "building tree 57 of 100\n",
      "building tree 58 of 100\n",
      "building tree 59 of 100\n",
      "building tree 60 of 100\n",
      "building tree 61 of 100\n",
      "building tree 62 of 100\n",
      "building tree 63 of 100\n",
      "building tree 64 of 100\n",
      "building tree 65 of 100\n",
      "building tree 66 of 100\n",
      "building tree 67 of 100\n"
     ]
    },
    {
     "name": "stderr",
     "output_type": "stream",
     "text": [
      "[Parallel(n_jobs=5)]: Done  62 tasks      | elapsed:  3.2min\n"
     ]
    },
    {
     "name": "stdout",
     "output_type": "stream",
     "text": [
      "building tree 68 of 100\n",
      "building tree 69 of 100\n",
      "building tree 70 of 100\n",
      "building tree 71 of 100\n",
      "building tree 72 of 100\n",
      "building tree 73 of 100\n",
      "building tree 74 of 100\n",
      "building tree 75 of 100\n",
      "building tree 76 of 100\n",
      "building tree 77 of 100\n",
      "building tree 78 of 100\n",
      "building tree 79 of 100\n",
      "building tree 80 of 100\n",
      "building tree 81 of 100\n",
      "building tree 82 of 100\n",
      "building tree 83 of 100\n",
      "building tree 84 of 100\n",
      "building tree 85 of 100\n",
      "building tree 86 of 100\n",
      "building tree 87 of 100\n",
      "building tree 88 of 100\n",
      "building tree 89 of 100\n",
      "building tree 90 of 100\n",
      "building tree 91 of 100\n",
      "building tree 92 of 100\n",
      "building tree 93 of 100\n",
      "building tree 94 of 100\n",
      "building tree 95 of 100\n",
      "building tree 96 of 100\n",
      "building tree 97 of 100\n",
      "building tree 98 of 100\n",
      "building tree 99 of 100\n",
      "building tree 100 of 100\n"
     ]
    },
    {
     "name": "stderr",
     "output_type": "stream",
     "text": [
      "[Parallel(n_jobs=5)]: Done 100 out of 100 | elapsed:  4.6min finished\n",
      "[Parallel(n_jobs=5)]: Using backend ThreadingBackend with 5 concurrent workers.\n",
      "[Parallel(n_jobs=5)]: Done   8 tasks      | elapsed:    0.5s\n",
      "[Parallel(n_jobs=5)]: Done  62 tasks      | elapsed:    2.4s\n",
      "[Parallel(n_jobs=5)]: Done 100 out of 100 | elapsed:    3.8s finished\n"
     ]
    },
    {
     "name": "stdout",
     "output_type": "stream",
     "text": [
      "TRAIN: 12609550 TEST: 3152388\n"
     ]
    },
    {
     "name": "stderr",
     "output_type": "stream",
     "text": [
      "[Parallel(n_jobs=5)]: Using backend ThreadingBackend with 5 concurrent workers.\n"
     ]
    },
    {
     "name": "stdout",
     "output_type": "stream",
     "text": [
      "building tree 1 of 100building tree 2 of 100building tree 3 of 100\n",
      "\n",
      "building tree 4 of 100\n",
      "building tree 5 of 100\n",
      "\n",
      "building tree 6 of 100\n",
      "building tree 7 of 100\n",
      "building tree 8 of 100\n",
      "building tree 9 of 100\n",
      "building tree 10 of 100\n",
      "building tree 11 of 100\n",
      "building tree 12 of 100\n",
      "building tree 13 of 100\n"
     ]
    },
    {
     "name": "stderr",
     "output_type": "stream",
     "text": [
      "[Parallel(n_jobs=5)]: Done   8 tasks      | elapsed:   27.8s\n"
     ]
    },
    {
     "name": "stdout",
     "output_type": "stream",
     "text": [
      "building tree 14 of 100\n",
      "building tree 15 of 100\n",
      "building tree 16 of 100\n",
      "building tree 17 of 100\n",
      "building tree 18 of 100\n",
      "building tree 19 of 100\n",
      "building tree 20 of 100\n",
      "building tree 21 of 100\n",
      "building tree 22 of 100\n",
      "building tree 23 of 100\n",
      "building tree 24 of 100\n",
      "building tree 25 of 100\n",
      "building tree 26 of 100\n",
      "building tree 27 of 100\n",
      "building tree 28 of 100\n",
      "building tree 29 of 100\n",
      "building tree 30 of 100\n",
      "building tree 31 of 100\n",
      "building tree 32 of 100\n",
      "building tree 33 of 100\n",
      "building tree 34 of 100\n",
      "building tree 35 of 100\n",
      "building tree 36 of 100\n",
      "building tree 37 of 100\n",
      "building tree 38 of 100\n",
      "building tree 39 of 100\n",
      "building tree 40 of 100\n",
      "building tree 41 of 100\n",
      "building tree 42 of 100\n",
      "building tree 43 of 100\n",
      "building tree 44 of 100\n",
      "building tree 45 of 100\n",
      "building tree 46 of 100\n",
      "building tree 47 of 100\n",
      "building tree 48 of 100\n",
      "building tree 49 of 100\n",
      "building tree 50 of 100\n",
      "building tree 51 of 100building tree 52 of 100\n",
      "\n",
      "building tree 53 of 100\n",
      "building tree 54 of 100\n",
      "building tree 55 of 100\n",
      "building tree 56 of 100\n",
      "building tree 57 of 100\n",
      "building tree 58 of 100\n",
      "building tree 59 of 100\n",
      "building tree 60 of 100\n",
      "building tree 61 of 100\n",
      "building tree 62 of 100\n",
      "building tree 63 of 100\n",
      "building tree 64 of 100\n",
      "building tree 65 of 100\n",
      "building tree 66 of 100\n",
      "building tree 67 of 100building tree 68 of 100\n",
      "\n"
     ]
    },
    {
     "name": "stderr",
     "output_type": "stream",
     "text": [
      "[Parallel(n_jobs=5)]: Done  62 tasks      | elapsed:  2.7min\n"
     ]
    },
    {
     "name": "stdout",
     "output_type": "stream",
     "text": [
      "building tree 69 of 100\n",
      "building tree 70 of 100\n",
      "building tree 71 of 100\n",
      "building tree 72 of 100\n",
      "building tree 73 of 100\n",
      "building tree 74 of 100\n",
      "building tree 75 of 100\n",
      "building tree 76 of 100building tree 77 of 100\n",
      "\n",
      "building tree 78 of 100\n",
      "building tree 79 of 100\n",
      "building tree 80 of 100\n",
      "building tree 81 of 100\n",
      "building tree 82 of 100\n",
      "building tree 83 of 100\n",
      "building tree 84 of 100\n",
      "building tree 85 of 100\n",
      "building tree 86 of 100\n",
      "building tree 87 of 100\n",
      "building tree 88 of 100building tree 89 of 100\n",
      "\n",
      "building tree 90 of 100\n",
      "building tree 91 of 100\n",
      "building tree 92 of 100\n",
      "building tree 93 of 100\n",
      "building tree 94 of 100\n",
      "building tree 95 of 100\n",
      "building tree 96 of 100\n",
      "building tree 97 of 100\n",
      "building tree 98 of 100\n",
      "building tree 99 of 100\n",
      "building tree 100 of 100\n"
     ]
    },
    {
     "name": "stderr",
     "output_type": "stream",
     "text": [
      "[Parallel(n_jobs=5)]: Done 100 out of 100 | elapsed:  4.3min finished\n",
      "[Parallel(n_jobs=5)]: Using backend ThreadingBackend with 5 concurrent workers.\n",
      "[Parallel(n_jobs=5)]: Done   8 tasks      | elapsed:    0.5s\n",
      "[Parallel(n_jobs=5)]: Done  62 tasks      | elapsed:    2.4s\n",
      "[Parallel(n_jobs=5)]: Done 100 out of 100 | elapsed:    3.8s finished\n"
     ]
    },
    {
     "name": "stdout",
     "output_type": "stream",
     "text": [
      "TRAIN: 12609551 TEST: 3152387\n"
     ]
    },
    {
     "name": "stderr",
     "output_type": "stream",
     "text": [
      "[Parallel(n_jobs=5)]: Using backend ThreadingBackend with 5 concurrent workers.\n"
     ]
    },
    {
     "name": "stdout",
     "output_type": "stream",
     "text": [
      "building tree 1 of 100building tree 2 of 100building tree 3 of 100building tree 4 of 100\n",
      "\n",
      "\n",
      "\n",
      "building tree 5 of 100\n",
      "building tree 6 of 100\n",
      "building tree 7 of 100\n",
      "building tree 8 of 100\n",
      "building tree 9 of 100\n",
      "building tree 10 of 100\n",
      "building tree 11 of 100\n",
      "building tree 12 of 100\n",
      "building tree 13 of 100\n"
     ]
    },
    {
     "name": "stderr",
     "output_type": "stream",
     "text": [
      "[Parallel(n_jobs=5)]: Done   8 tasks      | elapsed:   29.6s\n"
     ]
    },
    {
     "name": "stdout",
     "output_type": "stream",
     "text": [
      "building tree 14 of 100\n",
      "building tree 15 of 100\n",
      "building tree 16 of 100\n",
      "building tree 17 of 100\n",
      "building tree 18 of 100\n",
      "building tree 19 of 100\n",
      "building tree 20 of 100\n",
      "building tree 21 of 100\n",
      "building tree 22 of 100\n",
      "building tree 23 of 100\n",
      "building tree 24 of 100\n",
      "building tree 25 of 100\n",
      "building tree 26 of 100\n",
      "building tree 27 of 100\n",
      "building tree 28 of 100\n",
      "building tree 29 of 100\n",
      "building tree 30 of 100\n",
      "building tree 31 of 100\n",
      "building tree 32 of 100\n",
      "building tree 33 of 100\n",
      "building tree 34 of 100\n",
      "building tree 35 of 100\n",
      "building tree 36 of 100\n",
      "building tree 37 of 100\n",
      "building tree 38 of 100\n",
      "building tree 39 of 100\n",
      "building tree 40 of 100\n",
      "building tree 41 of 100\n",
      "building tree 42 of 100\n",
      "building tree 43 of 100\n",
      "building tree 44 of 100\n",
      "building tree 45 of 100\n",
      "building tree 46 of 100\n",
      "building tree 47 of 100\n",
      "building tree 48 of 100\n",
      "building tree 49 of 100\n",
      "building tree 50 of 100\n",
      "building tree 51 of 100\n",
      "building tree 52 of 100\n",
      "building tree 53 of 100building tree 54 of 100\n",
      "\n",
      "building tree 55 of 100\n",
      "building tree 56 of 100\n",
      "building tree 57 of 100\n",
      "building tree 58 of 100\n",
      "building tree 59 of 100\n",
      "building tree 60 of 100\n",
      "building tree 61 of 100\n",
      "building tree 62 of 100\n",
      "building tree 63 of 100\n",
      "building tree 64 of 100\n",
      "building tree 65 of 100\n",
      "building tree 66 of 100\n",
      "building tree 67 of 100\n"
     ]
    },
    {
     "name": "stderr",
     "output_type": "stream",
     "text": [
      "[Parallel(n_jobs=5)]: Done  62 tasks      | elapsed:  2.7min\n"
     ]
    },
    {
     "name": "stdout",
     "output_type": "stream",
     "text": [
      "building tree 68 of 100\n",
      "building tree 69 of 100\n",
      "building tree 70 of 100\n",
      "building tree 71 of 100\n",
      "building tree 72 of 100\n",
      "building tree 73 of 100\n",
      "building tree 74 of 100\n",
      "building tree 75 of 100\n",
      "building tree 76 of 100\n",
      "building tree 77 of 100\n",
      "building tree 78 of 100\n",
      "building tree 79 of 100\n",
      "building tree 80 of 100\n",
      "building tree 81 of 100\n",
      "building tree 82 of 100\n",
      "building tree 83 of 100\n",
      "building tree 84 of 100\n",
      "building tree 85 of 100\n",
      "building tree 86 of 100\n",
      "building tree 87 of 100\n",
      "building tree 88 of 100\n",
      "building tree 89 of 100\n",
      "building tree 90 of 100\n",
      "building tree 91 of 100\n",
      "building tree 92 of 100\n",
      "building tree 93 of 100\n",
      "building tree 94 of 100\n",
      "building tree 95 of 100\n",
      "building tree 96 of 100\n",
      "building tree 97 of 100\n",
      "building tree 98 of 100\n",
      "building tree 99 of 100\n",
      "building tree 100 of 100\n"
     ]
    },
    {
     "name": "stderr",
     "output_type": "stream",
     "text": [
      "[Parallel(n_jobs=5)]: Done 100 out of 100 | elapsed:  4.2min finished\n",
      "[Parallel(n_jobs=5)]: Using backend ThreadingBackend with 5 concurrent workers.\n",
      "[Parallel(n_jobs=5)]: Done   8 tasks      | elapsed:    0.5s\n",
      "[Parallel(n_jobs=5)]: Done  62 tasks      | elapsed:    2.5s\n",
      "[Parallel(n_jobs=5)]: Done 100 out of 100 | elapsed:    3.8s finished\n"
     ]
    },
    {
     "name": "stdout",
     "output_type": "stream",
     "text": [
      "TRAIN: 12609551 TEST: 3152387\n"
     ]
    },
    {
     "name": "stderr",
     "output_type": "stream",
     "text": [
      "[Parallel(n_jobs=5)]: Using backend ThreadingBackend with 5 concurrent workers.\n"
     ]
    },
    {
     "name": "stdout",
     "output_type": "stream",
     "text": [
      "building tree 1 of 100building tree 2 of 100building tree 3 of 100\n",
      "building tree 4 of 100\n",
      "\n",
      "building tree 5 of 100\n",
      "\n",
      "building tree 6 of 100\n",
      "building tree 7 of 100\n",
      "building tree 8 of 100\n",
      "building tree 9 of 100\n",
      "building tree 10 of 100\n",
      "building tree 11 of 100\n",
      "building tree 12 of 100\n",
      "building tree 13 of 100\n"
     ]
    },
    {
     "name": "stderr",
     "output_type": "stream",
     "text": [
      "[Parallel(n_jobs=5)]: Done   8 tasks      | elapsed:   26.9s\n"
     ]
    },
    {
     "name": "stdout",
     "output_type": "stream",
     "text": [
      "building tree 14 of 100\n",
      "building tree 15 of 100\n",
      "building tree 16 of 100\n",
      "building tree 17 of 100\n",
      "building tree 18 of 100\n",
      "building tree 19 of 100\n",
      "building tree 20 of 100\n",
      "building tree 21 of 100\n",
      "building tree 22 of 100\n",
      "building tree 23 of 100\n",
      "building tree 24 of 100\n",
      "building tree 25 of 100\n",
      "building tree 26 of 100\n",
      "building tree 27 of 100\n",
      "building tree 28 of 100\n",
      "building tree 29 of 100\n",
      "building tree 30 of 100\n",
      "building tree 31 of 100\n",
      "building tree 32 of 100\n",
      "building tree 33 of 100\n",
      "building tree 34 of 100\n",
      "building tree 35 of 100\n",
      "building tree 36 of 100\n",
      "building tree 37 of 100\n",
      "building tree 38 of 100\n",
      "building tree 39 of 100\n",
      "building tree 40 of 100\n",
      "building tree 41 of 100\n",
      "building tree 42 of 100\n",
      "building tree 43 of 100\n",
      "building tree 44 of 100\n",
      "building tree 45 of 100\n",
      "building tree 46 of 100\n",
      "building tree 47 of 100\n",
      "building tree 48 of 100\n",
      "building tree 49 of 100\n",
      "building tree 50 of 100\n",
      "building tree 51 of 100\n",
      "building tree 52 of 100\n",
      "building tree 53 of 100\n",
      "building tree 54 of 100\n",
      "building tree 55 of 100\n",
      "building tree 56 of 100\n",
      "building tree 57 of 100\n",
      "building tree 58 of 100\n",
      "building tree 59 of 100\n",
      "building tree 60 of 100\n",
      "building tree 61 of 100\n",
      "building tree 62 of 100\n",
      "building tree 63 of 100\n",
      "building tree 64 of 100\n",
      "building tree 65 of 100\n",
      "building tree 66 of 100\n",
      "building tree 67 of 100\n"
     ]
    },
    {
     "name": "stderr",
     "output_type": "stream",
     "text": [
      "[Parallel(n_jobs=5)]: Done  62 tasks      | elapsed:  2.8min\n"
     ]
    },
    {
     "name": "stdout",
     "output_type": "stream",
     "text": [
      "building tree 68 of 100\n",
      "building tree 69 of 100\n",
      "building tree 70 of 100\n",
      "building tree 71 of 100\n",
      "building tree 72 of 100\n",
      "building tree 73 of 100\n",
      "building tree 74 of 100\n",
      "building tree 75 of 100\n",
      "building tree 76 of 100\n",
      "building tree 77 of 100\n",
      "building tree 78 of 100\n",
      "building tree 79 of 100\n",
      "building tree 80 of 100\n",
      "building tree 81 of 100\n",
      "building tree 82 of 100\n",
      "building tree 83 of 100\n",
      "building tree 84 of 100\n",
      "building tree 85 of 100\n",
      "building tree 86 of 100\n",
      "building tree 87 of 100\n",
      "building tree 88 of 100\n",
      "building tree 89 of 100\n",
      "building tree 90 of 100\n",
      "building tree 91 of 100\n",
      "building tree 92 of 100\n",
      "building tree 93 of 100\n",
      "building tree 94 of 100\n",
      "building tree 95 of 100\n",
      "building tree 96 of 100\n",
      "building tree 97 of 100\n",
      "building tree 98 of 100\n",
      "building tree 99 of 100\n",
      "building tree 100 of 100\n"
     ]
    },
    {
     "name": "stderr",
     "output_type": "stream",
     "text": [
      "[Parallel(n_jobs=5)]: Done 100 out of 100 | elapsed:  4.4min finished\n",
      "[Parallel(n_jobs=5)]: Using backend ThreadingBackend with 5 concurrent workers.\n",
      "[Parallel(n_jobs=5)]: Done   8 tasks      | elapsed:    0.6s\n",
      "[Parallel(n_jobs=5)]: Done  62 tasks      | elapsed:    2.9s\n",
      "[Parallel(n_jobs=5)]: Done 100 out of 100 | elapsed:    4.3s finished\n"
     ]
    }
   ],
   "source": [
    "import math\n",
    "from sklearn.ensemble import RandomForestClassifier\n",
    "from sklearn.metrics import confusion_matrix\n",
    "cfs = []\n",
    "preds = list()\n",
    "for (train_ext_idx, test_ext_idx), (train_int_idx, test_int_idx) in \\\n",
    "zip(skf.split(df_ext[features],df_ext['attackType']),skf.split(df_int[features], df_int['attackType'])):\n",
    "    print(\"TRAIN:\", (len(train_int_idx)+len(train_ext_idx)), \"TEST:\", (len(test_int_idx)+len(test_ext_idx)))\n",
    "    X_train = pd.concat([df_ext[features].iloc[train_ext_idx,:],df_int[features].iloc[train_int_idx,:]], ignore_index=True)\n",
    "    X_test = pd.concat([df_ext[features].iloc[test_ext_idx,:],df_int[features].iloc[test_int_idx,:]], ignore_index=True)\n",
    "    y_train = pd.concat([df_ext[label].iloc[train_ext_idx],df_int[label].iloc[train_int_idx]], ignore_index=True)\n",
    "    y_test = pd.concat([df_ext[label].iloc[test_ext_idx],df_int[label].iloc[test_int_idx]], ignore_index=True)\n",
    "    #Apply Random Forest\n",
    "    rf_clf = RandomForestClassifier(n_estimators=100,min_samples_split=10,min_samples_leaf=5,max_samples=0.8,criterion='gini',n_jobs=5, verbose=5)\n",
    "    rf_clf.fit(X_train,y_train)\n",
    "    y_pred = rf_clf.predict(X_test)\n",
    "    cfs.append(confusion_matrix(y_test, y_pred))\n",
    "    preds.append([y_test, y_pred])"
   ]
  },
  {
   "cell_type": "code",
   "execution_count": 19,
   "metadata": {
    "scrolled": true
   },
   "outputs": [
    {
     "name": "stdout",
     "output_type": "stream",
     "text": [
      "[array([[ 332556,    1217],\n",
      "       [     26, 2818589]]), array([[ 333515,     258],\n",
      "       [     35, 2818580]]), array([[ 332062,    1711],\n",
      "       [     15, 2818600]]), array([[ 332740,    1033],\n",
      "       [      8, 2818606]]), array([[ 331234,    2539],\n",
      "       [     12, 2818602]])]\n",
      "(5, 2, 2)\n",
      "[[3.3242140e+05 1.3516000e+03]\n",
      " [1.9200000e+01 2.8185954e+06]]\n",
      "[[755.60190577 755.60190577]\n",
      " [  9.90757286   9.54148835]]\n"
     ]
    }
   ],
   "source": [
    "print(cfs)\n",
    "print(np.shape(cfs))\n",
    "cf = np.mean(cfs,axis=(0))\n",
    "print(cf)\n",
    "print(np.std(cfs,axis=(0)))\n",
    "#objectToFile(preds, \"cidds_preds_\"+label)"
   ]
  },
  {
   "cell_type": "code",
   "execution_count": 4,
   "metadata": {},
   "outputs": [],
   "source": [
    "#Load object from file\n",
    "from sklearn.metrics import confusion_matrix\n",
    "label='class'\n",
    "preds_mem = objectFromFile(\"cidds_preds_\"+label)\n",
    "cfs = []\n",
    "for pred_tuple in preds_mem:\n",
    "    cfs.append(confusion_matrix(pred_tuple[0], pred_tuple[1]))"
   ]
  },
  {
   "cell_type": "code",
   "execution_count": 5,
   "metadata": {},
   "outputs": [
    {
     "name": "stdout",
     "output_type": "stream",
     "text": [
      "[[3.3174220e+05 2.0308000e+03]\n",
      " [4.4030000e+03 5.6328262e+06]]\n"
     ]
    }
   ],
   "source": [
    "cf = np.mean(cfs,axis=(0))\n",
    "print(cf)"
   ]
  },
  {
   "cell_type": "code",
   "execution_count": 20,
   "metadata": {},
   "outputs": [
    {
     "name": "stdout",
     "output_type": "stream",
     "text": [
      "2818595.4 19.2 1351.6 332421.4\n",
      "0.9995651549784192 \n",
      "\n",
      "0.9959505412361096 \n",
      "\n",
      "0.9999931881428556\n",
      "6.811857144286416e-06\n"
     ]
    }
   ],
   "source": [
    "from sklearn.metrics import accuracy_score\n",
    "from sklearn.metrics import recall_score\n",
    "paper1_acc = 0.9990\n",
    "paper1_rec = 0.999\n",
    "paper1_spec = 1-0.0001\n",
    "paper2_acc = 0.9705\n",
    "paper2_spec = 1-0.0021\n",
    "tp, fn, fp, tn = np.mean(cfs,axis=0).ravel()\n",
    "print(tn,fp,fn,tp)\n",
    "\n",
    "acc_scores = [accuracy_score(pred_tuple[0], pred_tuple[1]) for pred_tuple in preds]\n",
    "rec_score  = tp / (tp+fn)\n",
    "spec_score = tn / (tn+fp)\n",
    "print(np.mean(acc_scores), \"\\n\")\n",
    "print(rec_score, \"\\n\")\n",
    "print(spec_score)\n",
    "print(fp / (fp+tn))"
   ]
  },
  {
   "cell_type": "code",
   "execution_count": 8,
   "metadata": {},
   "outputs": [
    {
     "name": "stderr",
     "output_type": "stream",
     "text": [
      "/home/arjen/.local/lib/python3.6/site-packages/ipykernel_launcher.py:42: UserWarning: FixedFormatter should only be used together with FixedLocator\n"
     ]
    },
    {
     "data": {
      "image/png": "[encoded data removed]",
      "text/plain": [
       "<Figure size 504x432 with 1 Axes>"
      ]
     },
     "metadata": {
      "needs_background": "light"
     },
     "output_type": "display_data"
    }
   ],
   "source": [
    "import matplotlib.patches as mpatches\n",
    "#Colors\n",
    "clr_acc = 'royalblue'\n",
    "clr_rec = 'salmon'\n",
    "clr_spec = 'lightgreen'\n",
    "\n",
    "acc_patch = mpatches.Patch(color=clr_acc, label='accuracy')\n",
    "rec_patch = mpatches.Patch(color=clr_rec, label='recall')\n",
    "spec_patch = mpatches.Patch(color=clr_spec, label='specificity')\n",
    "\n",
    "labels = ['Abdulhammed et al.\\nRF (10 features)', 'Idhammad et al.\\nNB+RF (10 features)', 'Our work\\nRF (7 features)']\n",
    "x = np.arange(len(labels))*10\n",
    "width = 2.5  # the width of the bars\n",
    "pad_width = 3\n",
    "scores = [paper1_acc,paper1_rec,paper1_spec,paper2_acc,paper2_spec,np.mean(acc_scores),rec_score,spec_score]\n",
    "\n",
    "fig, ax = plt.subplots(figsize=(7,6))\n",
    "\n",
    "#Spawn bar(s) of group 1\n",
    "plt.bar(x[0]-pad_width, height=scores[0], width=width, color=clr_acc)\n",
    "plt.bar(x[0], height=scores[1], width=width, color=clr_rec)\n",
    "plt.bar(x[0]+pad_width, height=scores[2], width=width, color=clr_spec)\n",
    "\n",
    "#Spawn bar(s) of group 2\n",
    "plt.bar(x[1]-pad_width/2, height=scores[3], width=width, color=clr_acc)\n",
    "plt.bar(x[1]+pad_width/2, height=scores[4], width=width, color=clr_spec)\n",
    "\n",
    "#Spawn bar(s) of group 3\n",
    "plt.bar(x[2]-pad_width, height=scores[5], width=width, color=clr_acc)\n",
    "plt.bar(x[2], height=scores[6], width=width, color=clr_rec)\n",
    "plt.bar(x[2]+pad_width, height=scores[7], width=width, color=clr_spec)\n",
    "\n",
    "#Hide the right and top spines\n",
    "ax.spines['right'].set_visible(False)\n",
    "ax.spines['top'].set_visible(False)\n",
    "ax.spines['left'].set_visible(False)\n",
    "\n",
    "plt.tick_params(left = False)\n",
    "\n",
    "#Set plot details\n",
    "plt.rc('font', size=13)\n",
    "ax.set_xticklabels(labels)\n",
    "#plt.ylabel('Metric score')\n",
    "#plt.yticks(size='14')\n",
    "plt.ylim([0.8, 1])\n",
    "plt.xticks(size='14')\n",
    "ax.set_yticklabels([])\n",
    "plt.title(\"CIDDS-001 results comparison\", fontweight='bold',  pad=25)\n",
    "ax.set_xticks(x)\n",
    "ax.set_xticklabels(labels)\n",
    "add_value_labels(ax)\n",
    "#ax.legend(handles=[acc_patch,rec_patch,spec_patch],bbox_to_anchor=(1.05, 1), loc='upper left', borderaxespad=0.)\n",
    "ax.set_axisbelow(True)\n",
    "plt.grid(axis='y')\n",
    "fig.tight_layout()\n",
    "plt.savefig('CIDDS_binaryclass_bars.png',bbox_inches='tight')\n",
    "plt.show()"
   ]
  },
  {
   "cell_type": "code",
   "execution_count": 11,
   "metadata": {},
   "outputs": [
    {
     "name": "stdout",
     "output_type": "stream",
     "text": [
      "[[ 331882    1891]\n",
      " [   4745 5632485]]\n",
      "[[ 332979     794]\n",
      " [   3743 5633486]]\n",
      "[[ 331479    2294]\n",
      " [   4767 5632462]]\n",
      "[[ 331935    1838]\n",
      " [   4751 5632478]]\n",
      "[[ 330436    3337]\n",
      " [   4009 5633220]]\n",
      "mean\n",
      " [[ 331742.2    2030.8]\n",
      " [   4403.  5632826.2]]\n",
      "std. dev\n",
      " [[819.97838996 819.97838996]\n",
      " [438.49743443 438.34160195]]\n",
      "std. dev %\n",
      " [[ 0.24717337 40.37711197]\n",
      " [ 9.95906051  0.00778191]]\n"
     ]
    }
   ],
   "source": [
    "for cf in cfs:\n",
    "    print(cf)\n",
    "\n",
    "np.set_printoptions(suppress=True)\n",
    "print('mean\\n', np.mean(cfs,axis=0))\n",
    "print('std. dev\\n', np.std(cfs,axis=0))\n",
    "print('std. dev %\\n', np.divide(np.std(cfs,axis=0),np.mean(cfs,axis=0))*100)"
   ]
  },
  {
   "cell_type": "code",
   "execution_count": 34,
   "metadata": {},
   "outputs": [
    {
     "data": {
      "image/png": "[encoded data removed]",
      "text/plain": [
       "<Figure size 432x432 with 1 Axes>"
      ]
     },
     "metadata": {
      "needs_background": "light"
     },
     "output_type": "display_data"
    }
   ],
   "source": [
    "#Plot confusion matrix\n",
    "import seaborn as sns\n",
    "#labels = ['Benign','Malicious']\n",
    "\n",
    "#Standard heatmap\n",
    "cf_norm = cf/cf.sum(axis=1)[:,None]\n",
    "cf_percentages = [\"{0:.2%}\".format(value) for value in cf_norm.flatten()]\n",
    "cf_numbers = [abbrv_num(value) for value in cf.flatten()]\n",
    "cf_labels = ['{v1}\\n({v2})'.format(v1=v1, v2=v2) for v1,v2 in zip(cf_percentages,cf_numbers)]\n",
    "cf_labels = np.asarray(cf_labels).reshape(cf.shape)\n",
    "\n",
    "fig, ax = plt.subplots(figsize=(6,6))\n",
    "plt.rc('font', size=14)\n",
    "#plot_confusion_matrix(rf_clf, df_test, y_test, ax=ax, normalize='true',xticks_rotation=30)\n",
    "column_labels = sorted(y_test.unique())\n",
    "#column_labels = ['Malicious', 'Benign']\n",
    "column_labels = ['BruteForce', 'DoS', 'Benign', 'PingScan', 'PortScan']\n",
    "sns.heatmap(cf_norm, annot=cf_labels, fmt='',cmap='Blues',cbar=False, vmin=0.0, vmax=1.0, ax=ax, \\\n",
    "            xticklabels=column_labels, yticklabels=column_labels)\n",
    "plt.ylabel('True label')\n",
    "plt.xlabel('Predicted label')\n",
    "plt.yticks(rotation='0',size=12)\n",
    "plt.xticks(rotation='65',size=12)\n",
    "plt.title(\"CIDDS-001 mean multiclass classification matrix\")\n",
    "plt.savefig('CIDDS_multiclass_cf.png',bbox_inches='tight')\n",
    "plt.show()"
   ]
  },
  {
   "cell_type": "code",
   "execution_count": 17,
   "metadata": {},
   "outputs": [
    {
     "name": "stdout",
     "output_type": "stream",
     "text": [
      "Feature: BytesAsInt, Score: 0.32722\n",
      "Feature: Duration, Score: 0.26789\n",
      "Feature: mean_bytes, Score: 0.24856\n",
      "Feature: Packets, Score: 0.14413\n",
      "Feature: UDP, Score: 0.00498\n",
      "Feature: TCP, Score: 0.00486\n",
      "Feature: ICMP, Score: 0.00237\n"
     ]
    }
   ],
   "source": [
    "importance = rf_clf.feature_importances_\n",
    "# summarize feature importance\n",
    "for i,v in sorted(enumerate(importance),key=lambda x: x[1], reverse=True):\n",
    "    print('Feature: %s, Score: %.5f' % (features[i],v))"
   ]
  },
  {
   "cell_type": "markdown",
   "metadata": {},
   "source": [
    "## Binary importance\n",
    "Feature: mean_bytes, Score: 0.33674\n",
    "\n",
    "Feature: BytesAsInt, Score: 0.27816\n",
    "\n",
    "Feature: Duration, Score: 0.18937\n",
    "\n",
    "Feature: Packets, Score: 0.17305\n",
    "\n",
    "Feature: TCP, Score: 0.01338\n",
    "\n",
    "Feature: UDP, Score: 0.00510\n",
    "\n",
    "Feature: ICMP, Score: 0.00420"
   ]
  },
  {
   "cell_type": "markdown",
   "metadata": {},
   "source": [
    "[array([[ 331886,    1887],\n",
    "       [   4746, 5632484]]), array([[ 332979,     794],\n",
    "       [   3745, 5633484]]), array([[ 331478,    2295],\n",
    "       [   4764, 5632465]]), array([[ 331925,    1848],\n",
    "       [   4751, 5632478]]), array([[ 330436,    3337],\n",
    "       [   4010, 5633219]])]\n",
    "\n",
    "Mean\n",
    "\n",
    "(5, 2, 2)\n",
    "[[3.317408e+05 2.032200e+03]\n",
    " [4.403200e+03 5.632826e+06]]\n",
    "\n",
    "Std. Dev.\n",
    "\n",
    "[[819.72175767 819.72175767]\n",
    " [437.37553658 437.21893829]]\n",
    "\n"
   ]
  },
  {
   "cell_type": "code",
   "execution_count": 9,
   "metadata": {
    "scrolled": true
   },
   "outputs": [
    {
     "name": "stdout",
     "output_type": "stream",
     "text": [
      "TRAIN: 17913006 VAL: 5971002 TEST: 5971003\n",
      "Working on grid:  gini 1 0.7\n",
      "Finished building random forest\n",
      "Finished evaluating train set\n",
      "{gini,1.0,0.7} train: 0.996, val: 0.986\n",
      "Working on grid:  gini 1 0.8\n",
      "Finished building random forest\n",
      "Finished evaluating train set\n",
      "{gini,1.0,0.8} train: 0.996, val: 0.888\n",
      "Working on grid:  gini 1 0.9\n",
      "Finished building random forest\n",
      "Finished evaluating train set\n",
      "{gini,1.0,0.9} train: 0.996, val: 0.991\n",
      "Working on grid:  gini 1 1\n",
      "Finished building random forest\n",
      "Finished evaluating train set\n",
      "{gini,1.0,1.0} train: 0.500, val: 0.500\n",
      "Working on grid:  gini 5 0.7\n",
      "Finished building random forest\n",
      "Finished evaluating train set\n",
      "{gini,5.0,0.7} train: 0.996, val: 0.991\n",
      "Working on grid:  gini 5 0.8\n",
      "Finished building random forest\n",
      "Finished evaluating train set\n",
      "{gini,5.0,0.8} train: 0.996, val: 0.988\n",
      "Working on grid:  gini 5 0.9\n",
      "Finished building random forest\n",
      "Finished evaluating train set\n",
      "{gini,5.0,0.9} train: 0.996, val: 0.992\n",
      "Working on grid:  gini 5 1\n",
      "Finished building random forest\n",
      "Finished evaluating train set\n",
      "{gini,5.0,1.0} train: 0.500, val: 0.500\n",
      "Working on grid:  entropy 1 0.7\n",
      "Finished building random forest\n",
      "Finished evaluating train set\n",
      "{entropy,1.0,0.7} train: 0.996, val: 0.992\n",
      "Working on grid:  entropy 1 0.8\n",
      "Finished building random forest\n",
      "Finished evaluating train set\n",
      "{entropy,1.0,0.8} train: 0.996, val: 0.974\n",
      "Working on grid:  entropy 1 0.9\n",
      "Finished building random forest\n",
      "Finished evaluating train set\n",
      "{entropy,1.0,0.9} train: 0.996, val: 0.992\n",
      "Working on grid:  entropy 1 1\n",
      "Finished building random forest\n",
      "Finished evaluating train set\n",
      "{entropy,1.0,1.0} train: 0.500, val: 0.500\n",
      "Working on grid:  entropy 5 0.7\n",
      "Finished building random forest\n",
      "Finished evaluating train set\n",
      "{entropy,5.0,0.7} train: 0.996, val: 0.988\n",
      "Working on grid:  entropy 5 0.8\n",
      "Finished building random forest\n",
      "Finished evaluating train set\n",
      "{entropy,5.0,0.8} train: 0.996, val: 0.990\n",
      "Working on grid:  entropy 5 0.9\n",
      "Finished building random forest\n",
      "Finished evaluating train set\n",
      "{entropy,5.0,0.9} train: 0.996, val: 0.992\n",
      "Working on grid:  entropy 5 1\n",
      "Finished building random forest\n",
      "Finished evaluating train set\n",
      "{entropy,5.0,1.0} train: 0.500, val: 0.500\n",
      "TRAIN: 17913006 VAL: 5971003 TEST: 5971002\n",
      "Working on grid:  gini 1 0.7\n",
      "Finished building random forest\n",
      "Finished evaluating train set\n",
      "{gini,1.0,0.7} train: 0.997, val: 0.967\n",
      "Working on grid:  gini 1 0.8\n",
      "Finished building random forest\n",
      "Finished evaluating train set\n",
      "{gini,1.0,0.8} train: 0.997, val: 0.940\n",
      "Working on grid:  gini 1 0.9\n",
      "Finished building random forest\n",
      "Finished evaluating train set\n",
      "{gini,1.0,0.9} train: 0.997, val: 0.987\n",
      "Working on grid:  gini 1 1\n",
      "Finished building random forest\n",
      "Finished evaluating train set\n",
      "{gini,1.0,1.0} train: 0.500, val: 0.500\n",
      "Working on grid:  gini 5 0.7\n",
      "Finished building random forest\n",
      "Finished evaluating train set\n",
      "{gini,5.0,0.7} train: 0.997, val: 0.965\n",
      "Working on grid:  gini 5 0.8\n",
      "Finished building random forest\n",
      "Finished evaluating train set\n",
      "{gini,5.0,0.8} train: 0.997, val: 0.991\n",
      "Working on grid:  gini 5 0.9\n",
      "Finished building random forest\n",
      "Finished evaluating train set\n",
      "{gini,5.0,0.9} train: 0.997, val: 0.940\n",
      "Working on grid:  gini 5 1\n",
      "Finished building random forest\n",
      "Finished evaluating train set\n",
      "{gini,5.0,1.0} train: 0.500, val: 0.500\n",
      "Working on grid:  entropy 1 0.7\n",
      "Finished building random forest\n",
      "Finished evaluating train set\n",
      "{entropy,1.0,0.7} train: 0.994, val: 0.986\n",
      "Working on grid:  entropy 1 0.8\n",
      "Finished building random forest\n",
      "Finished evaluating train set\n",
      "{entropy,1.0,0.8} train: 0.997, val: 0.989\n",
      "Working on grid:  entropy 1 0.9\n",
      "Finished building random forest\n",
      "Finished evaluating train set\n",
      "{entropy,1.0,0.9} train: 0.994, val: 0.990\n",
      "Working on grid:  entropy 1 1\n",
      "Finished building random forest\n",
      "Finished evaluating train set\n",
      "{entropy,1.0,1.0} train: 0.500, val: 0.500\n",
      "Working on grid:  entropy 5 0.7\n",
      "Finished building random forest\n",
      "Finished evaluating train set\n",
      "{entropy,5.0,0.7} train: 0.997, val: 0.991\n",
      "Working on grid:  entropy 5 0.8\n",
      "Finished building random forest\n",
      "Finished evaluating train set\n",
      "{entropy,5.0,0.8} train: 0.997, val: 0.989\n",
      "Working on grid:  entropy 5 0.9\n",
      "Finished building random forest\n",
      "Finished evaluating train set\n",
      "{entropy,5.0,0.9} train: 0.997, val: 0.938\n",
      "Working on grid:  entropy 5 1\n",
      "Finished building random forest\n",
      "Finished evaluating train set\n",
      "{entropy,5.0,1.0} train: 0.500, val: 0.500\n",
      "TRAIN: 17913006 VAL: 5971003 TEST: 5971002\n",
      "Working on grid:  gini 1 0.7\n",
      "Finished building random forest\n",
      "Finished evaluating train set\n",
      "{gini,1.0,0.7} train: 0.996, val: 0.987\n",
      "Working on grid:  gini 1 0.8\n",
      "Finished building random forest\n",
      "Finished evaluating train set\n",
      "{gini,1.0,0.8} train: 0.993, val: 0.884\n",
      "Working on grid:  gini 1 0.9\n",
      "Finished building random forest\n",
      "Finished evaluating train set\n",
      "{gini,1.0,0.9} train: 0.996, val: 0.994\n",
      "Working on grid:  gini 1 1\n",
      "Finished building random forest\n",
      "Finished evaluating train set\n",
      "{gini,1.0,1.0} train: 0.500, val: 0.500\n",
      "Working on grid:  gini 5 0.7\n",
      "Finished building random forest\n",
      "Finished evaluating train set\n",
      "{gini,5.0,0.7} train: 0.996, val: 0.974\n",
      "Working on grid:  gini 5 0.8\n",
      "Finished building random forest\n",
      "Finished evaluating train set\n",
      "{gini,5.0,0.8} train: 0.996, val: 0.979\n",
      "Working on grid:  gini 5 0.9\n",
      "Finished building random forest\n",
      "Finished evaluating train set\n",
      "{gini,5.0,0.9} train: 0.996, val: 0.970\n",
      "Working on grid:  gini 5 1\n",
      "Finished building random forest\n",
      "Finished evaluating train set\n",
      "{gini,5.0,1.0} train: 0.500, val: 0.500\n",
      "Working on grid:  entropy 1 0.7\n",
      "Finished building random forest\n",
      "Finished evaluating train set\n",
      "{entropy,1.0,0.7} train: 0.996, val: 0.967\n",
      "Working on grid:  entropy 1 0.8\n",
      "Finished building random forest\n",
      "Finished evaluating train set\n",
      "{entropy,1.0,0.8} train: 0.996, val: 0.967\n",
      "Working on grid:  entropy 1 0.9\n",
      "Finished building random forest\n",
      "Finished evaluating train set\n",
      "{entropy,1.0,0.9} train: 0.996, val: 0.884\n",
      "Working on grid:  entropy 1 1\n",
      "Finished building random forest\n",
      "Finished evaluating train set\n",
      "{entropy,1.0,1.0} train: 0.500, val: 0.500\n",
      "Working on grid:  entropy 5 0.7\n",
      "Finished building random forest\n",
      "Finished evaluating train set\n",
      "{entropy,5.0,0.7} train: 0.996, val: 0.983\n",
      "Working on grid:  entropy 5 0.8\n",
      "Finished building random forest\n",
      "Finished evaluating train set\n",
      "{entropy,5.0,0.8} train: 0.996, val: 0.986\n",
      "Working on grid:  entropy 5 0.9\n",
      "Finished building random forest\n",
      "Finished evaluating train set\n",
      "{entropy,5.0,0.9} train: 0.996, val: 0.983\n",
      "Working on grid:  entropy 5 1\n",
      "Finished building random forest\n",
      "Finished evaluating train set\n",
      "{entropy,5.0,1.0} train: 0.500, val: 0.500\n",
      "TRAIN: 17913006 VAL: 5971003 TEST: 5971002\n",
      "Working on grid:  gini 1 0.7\n",
      "Finished building random forest\n",
      "Finished evaluating train set\n",
      "{gini,1.0,0.7} train: 0.996, val: 0.994\n",
      "Working on grid:  gini 1 0.8\n",
      "Finished building random forest\n",
      "Finished evaluating train set\n",
      "{gini,1.0,0.8} train: 0.996, val: 0.991\n",
      "Working on grid:  gini 1 0.9\n",
      "Finished building random forest\n",
      "Finished evaluating train set\n",
      "{gini,1.0,0.9} train: 0.996, val: 0.964\n",
      "Working on grid:  gini 1 1\n",
      "Finished building random forest\n",
      "Finished evaluating train set\n",
      "{gini,1.0,1.0} train: 0.500, val: 0.500\n",
      "Working on grid:  gini 5 0.7\n",
      "Finished building random forest\n",
      "Finished evaluating train set\n",
      "{gini,5.0,0.7} train: 0.996, val: 0.988\n",
      "Working on grid:  gini 5 0.8\n",
      "Finished building random forest\n",
      "Finished evaluating train set\n",
      "{gini,5.0,0.8} train: 0.996, val: 0.990\n",
      "Working on grid:  gini 5 0.9\n",
      "Finished building random forest\n",
      "Finished evaluating train set\n",
      "{gini,5.0,0.9} train: 0.996, val: 0.986\n",
      "Working on grid:  gini 5 1\n",
      "Finished building random forest\n",
      "Finished evaluating train set\n",
      "{gini,5.0,1.0} train: 0.500, val: 0.500\n",
      "Working on grid:  entropy 1 0.7\n",
      "Finished building random forest\n",
      "Finished evaluating train set\n",
      "{entropy,1.0,0.7} train: 0.996, val: 0.988\n",
      "Working on grid:  entropy 1 0.8\n",
      "Finished building random forest\n",
      "Finished evaluating train set\n",
      "{entropy,1.0,0.8} train: 0.996, val: 0.980\n",
      "Working on grid:  entropy 1 0.9\n",
      "Finished building random forest\n",
      "Finished evaluating train set\n",
      "{entropy,1.0,0.9} train: 0.996, val: 0.984\n",
      "Working on grid:  entropy 1 1\n",
      "Finished building random forest\n",
      "Finished evaluating train set\n",
      "{entropy,1.0,1.0} train: 0.500, val: 0.500\n",
      "Working on grid:  entropy 5 0.7\n"
     ]
    },
    {
     "name": "stdout",
     "output_type": "stream",
     "text": [
      "Finished building random forest\n",
      "Finished evaluating train set\n",
      "{entropy,5.0,0.7} train: 0.996, val: 0.972\n",
      "Working on grid:  entropy 5 0.8\n",
      "Finished building random forest\n",
      "Finished evaluating train set\n",
      "{entropy,5.0,0.8} train: 0.996, val: 0.987\n",
      "Working on grid:  entropy 5 0.9\n",
      "Finished building random forest\n",
      "Finished evaluating train set\n",
      "{entropy,5.0,0.9} train: 0.996, val: 0.985\n",
      "Working on grid:  entropy 5 1\n",
      "Finished building random forest\n",
      "Finished evaluating train set\n",
      "{entropy,5.0,1.0} train: 0.500, val: 0.500\n",
      "TRAIN: 17913006 VAL: 5971003 TEST: 5971002\n",
      "Working on grid:  gini 1 0.7\n",
      "Finished building random forest\n",
      "Finished evaluating train set\n",
      "{gini,1.0,0.7} train: 0.996, val: 1.000\n",
      "Working on grid:  gini 1 0.8\n",
      "Finished building random forest\n",
      "Finished evaluating train set\n",
      "{gini,1.0,0.8} train: 0.998, val: 1.000\n",
      "Working on grid:  gini 1 0.9\n",
      "Finished building random forest\n",
      "Finished evaluating train set\n",
      "{gini,1.0,0.9} train: 0.998, val: 1.000\n",
      "Working on grid:  gini 1 1\n",
      "Finished building random forest\n",
      "Finished evaluating train set\n",
      "{gini,1.0,1.0} train: 0.500, val: 0.500\n",
      "Working on grid:  gini 5 0.7\n",
      "Finished building random forest\n",
      "Finished evaluating train set\n",
      "{gini,5.0,0.7} train: 0.998, val: 1.000\n",
      "Working on grid:  gini 5 0.8\n",
      "Finished building random forest\n",
      "Finished evaluating train set\n",
      "{gini,5.0,0.8} train: 0.998, val: 1.000\n",
      "Working on grid:  gini 5 0.9\n",
      "Finished building random forest\n",
      "Finished evaluating train set\n",
      "{gini,5.0,0.9} train: 0.998, val: 1.000\n",
      "Working on grid:  gini 5 1\n",
      "Finished building random forest\n",
      "Finished evaluating train set\n",
      "{gini,5.0,1.0} train: 0.500, val: 0.500\n",
      "Working on grid:  entropy 1 0.7\n",
      "Finished building random forest\n",
      "Finished evaluating train set\n",
      "{entropy,1.0,0.7} train: 0.998, val: 1.000\n",
      "Working on grid:  entropy 1 0.8\n",
      "Finished building random forest\n",
      "Finished evaluating train set\n",
      "{entropy,1.0,0.8} train: 0.998, val: 1.000\n",
      "Working on grid:  entropy 1 0.9\n",
      "Finished building random forest\n",
      "Finished evaluating train set\n",
      "{entropy,1.0,0.9} train: 0.998, val: 1.000\n",
      "Working on grid:  entropy 1 1\n",
      "Finished building random forest\n",
      "Finished evaluating train set\n",
      "{entropy,1.0,1.0} train: 0.500, val: 0.500\n",
      "Working on grid:  entropy 5 0.7\n",
      "Finished building random forest\n",
      "Finished evaluating train set\n",
      "{entropy,5.0,0.7} train: 0.998, val: 1.000\n",
      "Working on grid:  entropy 5 0.8\n",
      "Finished building random forest\n",
      "Finished evaluating train set\n",
      "{entropy,5.0,0.8} train: 0.998, val: 1.000\n",
      "Working on grid:  entropy 5 0.9\n",
      "Finished building random forest\n",
      "Finished evaluating train set\n",
      "{entropy,5.0,0.9} train: 0.998, val: 1.000\n",
      "Working on grid:  entropy 5 1\n",
      "Finished building random forest\n",
      "Finished evaluating train set\n",
      "{entropy,5.0,1.0} train: 0.500, val: 0.500\n"
     ]
    }
   ],
   "source": [
    "import math\n",
    "import itertools\n",
    "from sklearn.ensemble import RandomForestClassifier\n",
    "from sklearn.metrics import confusion_matrix\n",
    "from sklearn.metrics import balanced_accuracy_score\n",
    "fold_train_bacc = []\n",
    "fold_val_bacc = []\n",
    "for (train_ext_idx, test_ext_idx), (train_int_idx, test_int_idx) in \\\n",
    "zip(skf.split(df_ext[features],df_ext['attackType']),skf.split(df_int[features], df_int['attackType'])):\n",
    "    #Split train into train/val\n",
    "    extsplit_idx = math.floor(len(train_ext_idx)*0.75)\n",
    "    intsplit_idx = math.floor(len(train_int_idx)*0.75)\n",
    "    val_ext_idx = train_ext_idx[extsplit_idx:]\n",
    "    val_int_idx = train_int_idx[intsplit_idx:]\n",
    "    train_ext_idx = train_ext_idx[:extsplit_idx]\n",
    "    train_int_idx = train_int_idx[:intsplit_idx]\n",
    "    print(\"TRAIN:\", (len(train_int_idx)+len(train_ext_idx)), \"VAL:\", (len(val_int_idx)+len(val_ext_idx)), \"TEST:\", (len(test_int_idx)+len(test_ext_idx)))\n",
    "    #Get train / val / test split data\n",
    "    X_train = pd.concat([df_ext[features].iloc[train_ext_idx,:],df_int[features].iloc[train_int_idx,:]], ignore_index=True)\n",
    "    X_val = pd.concat([df_ext[features].iloc[val_ext_idx,:],df_int[features].iloc[val_int_idx,:]], ignore_index=True)\n",
    "    X_test = pd.concat([df_ext[features].iloc[test_ext_idx,:],df_int[features].iloc[test_int_idx,:]], ignore_index=True)\n",
    "    y_train = pd.concat([df_ext[label].iloc[train_ext_idx],df_int[label].iloc[train_int_idx]], ignore_index=True)\n",
    "    y_val = pd.concat([df_ext[label].iloc[val_ext_idx],df_int[label].iloc[val_int_idx]], ignore_index=True)\n",
    "    y_test = pd.concat([df_ext[label].iloc[test_ext_idx],df_int[label].iloc[test_int_idx]], ignore_index=True)\n",
    "    #Apply Random Forest\n",
    "    measure_search = ['gini','entropy']\n",
    "    size_search = [1,5]\n",
    "    msamples_search = [0.7, 0.8, 0.9]\n",
    "    train_bacc_scores, val_bacc_scores = list(), list()\n",
    "    for (c, n, maxs) in [(c, n, maxs) for c in measure_search for n in size_search for maxs in msamples_search]:\n",
    "        print(\"Working on grid: \", c, n, maxs)\n",
    "        clf = RandomForestClassifier(n_estimators=n,min_samples_split=10,min_samples_leaf=5,max_samples=maxs,criterion=c,n_jobs=5)\n",
    "        clf.fit(X_train,y_train)\n",
    "        print(\"Finished building random forest\")\n",
    "        #evaluate on train\n",
    "        #ytrain_pred = clf.predict(X_train)\n",
    "        #train_bacc = balanced_accuracy_score(y_train,ytrain_pred)\n",
    "        #train_bacc_scores.append(train_bacc)\n",
    "        #print(\"Finished evaluating train set\")\n",
    "        #evaluate on val\n",
    "        yval_pred = clf.predict(X_val)\n",
    "        val_bacc = balanced_accuracy_score(y_val,yval_pred)\n",
    "        val_bacc_scores.append(val_bacc)\n",
    "        #Print progress\n",
    "        print('{%s,%.1f,%.1f} train: %.3f, val: %.3f' % (c, n, maxs, train_bacc, val_bacc))\n",
    "    #fold_train_bacc.append(train_bacc_scores)\n",
    "    fold_val_bacc.append(val_bacc_scores)"
   ]
  },
  {
   "cell_type": "code",
   "execution_count": 20,
   "metadata": {
    "scrolled": true
   },
   "outputs": [
    {
     "name": "stdout",
     "output_type": "stream",
     "text": [
      "5\n",
      "5\n"
     ]
    }
   ],
   "source": [
    "print(len(fold_train_bacc))\n",
    "print(len(fold_val_bacc))\n",
    "a = fold_train_bacc\n",
    "a = np.mean(a,axis=0)\n",
    "b = fold_val_bacc\n",
    "b = np.mean(b, axis=0)"
   ]
  },
  {
   "cell_type": "code",
   "execution_count": 14,
   "metadata": {},
   "outputs": [
    {
     "name": "stdout",
     "output_type": "stream",
     "text": [
      "[[[0.98662396 0.9406854  0.98710953 0.5       ]\n",
      "  [0.98338637 0.98939305 0.97754219 0.5       ]]\n",
      "\n",
      " [[0.98646053 0.98207834 0.96972056 0.5       ]\n",
      "  [0.98663282 0.99020413 0.97932739 0.5       ]]]\n"
     ]
    }
   ],
   "source": [
    "print(np.mean(fold_val_bacc, axis=0).reshape(2,2,4))"
   ]
  },
  {
   "cell_type": "code",
   "execution_count": 41,
   "metadata": {
    "scrolled": true
   },
   "outputs": [
    {
     "name": "stdout",
     "output_type": "stream",
     "text": [
      "[[0.9963092721181779, 0.9963057364456018, 0.996331889761331, 0.5, 0.9963212316834942, 0.9963257278302964, 0.9963296555762347, 0.5, 0.9963286046235402, 0.9963261025091966, 0.996329595257256, 0.5, 0.9963247244315535, 0.9963295047787877, 0.996330689134467, 0.5, 0.9963354393222118, 0.9963264168691179, 0.9963192248860084, 0.5, 0.9963312575353309, 0.9963254737893539, 0.9963374635141597, 0.5, 0.9963235099163847, 0.996335379003233, 0.9963343454450007, 0.5, 0.9963258786277435, 0.9963344359234689, 0.9963359949580484, 0.5], [0.9967421855899021, 0.9967280684296529, 0.9967460959413782, 0.5, 0.9967403121954013, 0.9967447480232245, 0.996740807512259, 0.5, 0.9967384991198791, 0.9967447480232245, 0.9967451528616141, 0.5, 0.9967409710747334, 0.9967414060726123, 0.9967448385016928, 0.5, 0.9967365816775839, 0.9967341839300135, 0.9967473707755259, 0.5, 0.9967428444692343, 0.9967484043337582, 0.9967488694911266, 0.5, 0.9967454370620461, 0.996747461253994, 0.9967470564156045, 0.5, 0.9967466817367043, 0.9967478660923836, 0.9967484646527369, 0.5], [0.9959151528397024, 0.9959130427987212, 0.9959195759024986, 0.5, 0.9959158894324756, 0.9959100790331665, 0.9959220049328361, 0.5, 0.9959126982793104, 0.9959198601029304, 0.9959208507366462, 0.5, 0.9959178231459553, 0.9959177628269764, 0.9959178533054447, 0.5, 0.9959249118855693, 0.9959174786265446, 0.9959245673661585, 0.5, 0.9959104502059093, 0.9959202951008095, 0.9959173452235597, 0.5, 0.9959193520210454, 0.995918813779671, 0.995921061853072, 0.5, 0.9959222288142893, 0.9959216604134253, 0.9959235036484368, 0.5], [0.9962469895717142, 0.9962475150480614, 0.996253703632428, 0.5, 0.9962464513303397, 0.996251020561148, 0.9962505124792629, 0.5, 0.9962509173176526, 0.9962501378003628, 0.9962527605526641, 0.5, 0.9962483548843301, 0.9962509173176526, 0.9962557579838655, 0.5, 0.9962417440671116, 0.9962552023480288, 0.9962570455830403, 0.5, 0.9962500171624051, 0.9962572265399767, 0.996259263496952, 0.5, 0.9962562533007233, 0.9962512316775739, 0.9962572265399767, 0.5, 0.9962542592682647, 0.9962579155787983, 0.9962562231412339, 0.5], [0.9977689894519728, 0.9977823085224993, 0.9977843318891259, 0.5, 0.9977783396849834, 0.9977816499786807, 0.9977715682947568, 0.5, 0.9977757180956711, 0.9977846460807518, 0.997779837736019, 0.5, 0.9977805264404039, 0.9977780556539237, 0.997783582863608, 0.5, 0.9977718824863828, 0.997779850321981, 0.997787013799571, 0.5, 0.9977719126469493, 0.9977856188161964, 0.9977833591536811, 0.5, 0.9977839573763669, 0.9977802424093443, 0.997784960272378, 0.5, 0.9977780858144901, 0.9977843620496922, 0.9977862346134867, 0.5]]\n",
      "\n",
      "\n",
      " [[0.9898942697524733, 0.9858359956873897, 0.9898927623122509, 0.5, 0.9890825814407849, 0.9907059580641615, 0.9898946047391893, 0.5, 0.9907061255575196, 0.9898944372458314, 0.9915176463758498, 0.5, 0.9898945209925103, 0.989082665187464, 0.9898941860057942, 0.5, 0.9890822464540688, 0.9874591210707293, 0.9874592048174082, 0.5, 0.9898943534991522, 0.9907058743174825, 0.9874590373240502, 0.5, 0.9882711443691337, 0.9898941022591152, 0.9898942697524733, 0.5, 0.9898946047391893, 0.9898943534991522, 0.9898943534991522, 0.5], [0.9915178139303937, 0.9858363307352356, 0.9890828327419938, 0.5, 0.9874595398652821, 0.9874594561186172, 0.9890829164886588, 0.5, 0.9890830002353238, 0.9882709769369755, 0.9882709769369755, 0.5, 0.9882711444303055, 0.9882711444303055, 0.9890828327419938, 0.5, 0.9915168089704137, 0.9614855976379212, 0.9915174789437338, 0.5, 0.9890829164886588, 0.9898941860670221, 0.9890824140086688, 0.5, 0.9890828327419938, 0.9890828327419938, 0.9907061256187053, 0.5, 0.9898945210536821, 0.9898943535603522, 0.9907058743787104, 0.5], [0.9728473078282626, 0.9728479778015826, 0.9728478940549176, 0.5, 0.9712249361648659, 0.9809637722118207, 0.979341986775079, 0.5, 0.9809654471451207, 0.9712240986982159, 0.9809650284117957, 0.5, 0.9793419030284141, 0.9874588698919622, 0.9696014757948244, 0.5, 0.9898932648537071, 0.9801531726067774, 0.981776716723484, 0.5, 0.9704134990931726, 0.9736592473799459, 0.9874585349053022, 0.5, 0.9882701394703255, 0.9801535075934373, 0.979341986775079, 0.5, 0.981776549230154, 0.9817766329768189, 0.981776967963479, 0.5], [0.9833966597335957, 0.9825855576485624, 0.9833960735069407, 0.5, 0.9882677945637055, 0.984208431791949, 0.9874547663053772, 0.5, 0.9858318084153256, 0.9833965759869308, 0.984208431791949, 0.5, 0.9882670408437206, 0.9858321434019857, 0.9866432454870189, 0.5, 0.9882667896037256, 0.9898899987337721, 0.9890788129020739, 0.5, 0.9833970784669207, 0.9842085992852789, 0.9898899987337721, 0.5, 0.984208431791949, 0.9850201201036373, 0.9874548500520423, 0.5, 0.9858317246686605, 0.9882667896037256, 0.9858320596553206, 0.5], [0.9995692498667303, 0.9995686636981975, 0.9995688311749212, 0.5, 0.9995684124831121, 0.9995688311749212, 0.9995683287447502, 0.5, 0.9995685799598357, 0.9995682450063884, 0.9995684962214739, 0.5, 0.9995684124831121, 0.9995689149132831, 0.9995685799598357, 0.5, 0.9995693336050921, 0.9995685799598357, 0.9995686636981975, 0.5, 0.9995686636981975, 0.9995685799598357, 0.9995693336050921, 0.5, 0.9995689149132831, 0.9995688311749212, 0.9995686636981975, 0.5, 0.9995688311749212, 0.999568998651645, 0.9995685799598357, 0.5]]\n"
     ]
    }
   ],
   "source": [
    "print(fold_train_bacc)\n",
    "print(\"\\n\\n\", fold_val_bacc)"
   ]
  },
  {
   "cell_type": "code",
   "execution_count": 28,
   "metadata": {
    "scrolled": false
   },
   "outputs": [
    {
     "name": "stdout",
     "output_type": "stream",
     "text": [
      "[[[0.99659652 0.99659533 0.99660712 0.5       ]\n",
      "  [0.99660044 0.99660265 0.99660291 0.5       ]\n",
      "  [0.99660129 0.9966051  0.99660564 0.5       ]\n",
      "  [0.99660248 0.99660353 0.99660654 0.5       ]]\n",
      "\n",
      " [[0.99660211 0.99660263 0.99660704 0.5       ]\n",
      "  [0.9966013  0.9966074  0.99660926 0.5       ]\n",
      "  [0.9966057  0.99660663 0.99660893 0.5       ]\n",
      "  [0.99660543 0.99660925 0.99661008 0.5       ]]]\n",
      "\n",
      "\n",
      " [[[0.98744506 0.98533491 0.98695768 0.5       ]\n",
      "  [0.98712065 0.98858129 0.98906852 0.5       ]\n",
      "  [0.98923099 0.98647087 0.98890612 0.5       ]\n",
      "  [0.9890686  0.99004275 0.98695806 0.5       ]]\n",
      "\n",
      " [[0.99166569 0.98371129 0.98988018 0.5       ]\n",
      "  [0.9864713  0.9876073  0.99069186 0.5       ]\n",
      "  [0.98988029 0.98874388 0.98939318 0.5       ]\n",
      "  [0.98939325 0.98988023 0.98955557 0.5       ]]]\n"
     ]
    }
   ],
   "source": [
    "print(a.reshape(2,4,4))\n",
    "print(\"\\n\\n\",b.reshape(2,4,4))\n",
    "a_resh = a.reshape(2,4,4)\n",
    "b_resh = b.reshape(2,4,4)\n",
    "#print(a.reshape(2,16))"
   ]
  },
  {
   "cell_type": "markdown",
   "metadata": {},
   "source": [
    "# N-grams experiment"
   ]
  },
  {
   "cell_type": "markdown",
   "metadata": {},
   "source": [
    "### Show amount of source IPs with more than 'threshold' flows"
   ]
  },
  {
   "cell_type": "code",
   "execution_count": 9,
   "metadata": {},
   "outputs": [
    {
     "name": "stdout",
     "output_type": "stream",
     "text": [
      "Index(['Date first seen', 'Duration', 'Proto', 'Src IP Addr', 'Src Pt',\n",
      "       'Dst IP Addr', 'Dst Pt', 'Packets', 'Bytes', 'Flows', 'Flags', 'Tos',\n",
      "       'class', 'attackType', 'attackID', 'attackDescription', 'BytesAsInt',\n",
      "       'ICMP', 'IGMP', 'TCP', 'UDP', 'mean_bytes'],\n",
      "      dtype='object')\n"
     ]
    }
   ],
   "source": [
    "print(df_int.columns)"
   ]
  },
  {
   "cell_type": "code",
   "execution_count": 12,
   "metadata": {},
   "outputs": [
    {
     "name": "stdout",
     "output_type": "stream",
     "text": [
      "192.168.220.15    2689683\n",
      "DNS               1959126\n",
      "192.168.220.16    1540082\n",
      "192.168.210.5     1215934\n",
      "192.168.200.8     1147514\n",
      "                   ...   \n",
      "15538_237               3\n",
      "11116_6                 3\n",
      "16862_24                3\n",
      "16326_230               3\n",
      "10250_224               3\n",
      "Name: Src IP Addr, Length: 15034, dtype: int64\n",
      "OPENSTACK_NET    67120\n",
      "EXT_SERVER       67120\n",
      "ATTACKER1         6150\n",
      "ATTACKER2         5494\n",
      "ATTACKER3          616\n",
      "Name: Src IP Addr, dtype: int64\n"
     ]
    }
   ],
   "source": [
    "threshold = 2\n",
    "vc_int = df_int['Src IP Addr'].value_counts()\n",
    "res_int = df_int[df_int['Src IP Addr'].isin(vc_int[vc_int>threshold].index)]['Src IP Addr'].value_counts()\n",
    "print(res_int)\n",
    "vc_ext = df_ext['Src IP Addr'].value_counts()\n",
    "res_ext = df_ext[df_ext['Src IP Addr'].isin(vc_ext[vc_ext>threshold].index)]['Src IP Addr'].value_counts()\n",
    "print(res_ext)"
   ]
  },
  {
   "cell_type": "markdown",
   "metadata": {},
   "source": [
    "## Transform interesting features to N-gram representation"
   ]
  },
  {
   "cell_type": "markdown",
   "metadata": {},
   "source": [
    "### df_int:"
   ]
  },
  {
   "cell_type": "code",
   "execution_count": 10,
   "metadata": {},
   "outputs": [
    {
     "name": "stderr",
     "output_type": "stream",
     "text": [
      "/home/arjen/.local/lib/python3.6/site-packages/pandas/core/indexing.py:1743: SettingWithCopyWarning: \n",
      "A value is trying to be set on a copy of a slice from a DataFrame.\n",
      "Try using .loc[row_indexer,col_indexer] = value instead\n",
      "\n",
      "See the caveats in the documentation: https://pandas.pydata.org/pandas-docs/stable/user_guide/indexing.html#returning-a-view-versus-a-copy\n",
      "  isetter(ilocs[0], value)\n"
     ]
    },
    {
     "name": "stdout",
     "output_type": "stream",
     "text": [
      "Progress: 15946/15946\r"
     ]
    }
   ],
   "source": [
    "#Per source IP, grab N-gram and transform numerical features into new\n",
    "#Done for bigrams and trigrams\n",
    "\n",
    "features = ['Duration', 'Packets', 'BytesAsInt', 'mean_bytes']\n",
    "\n",
    "#Create/reset columns for n_gram features\n",
    "for feature in features:\n",
    "    column_mean = 'ngram_' + feature + '_mean'\n",
    "    column_std = 'ngram_' + feature + '_std'\n",
    "    if column_mean not in df_int.columns:\n",
    "        df_int[column_mean] = np.nan\n",
    "    if column_std not in df_int.columns:\n",
    "        df_int[column_std] = np.nan\n",
    "\n",
    "#List of ngram features\n",
    "featurelist = df_int.filter(regex='^ngram', axis=1).columns\n",
    "#Window size 2 = bigrams, 3 = trigrams\n",
    "winsize = 3\n",
    "#Window type\n",
    "indexer = pd.api.indexers.FixedForwardWindowIndexer(window_size=winsize)\n",
    "for itr, (srcIP, _) in enumerate(res_int.iteritems()):\n",
    "    sub_df = df_int[df_int['Src IP Addr'] == srcIP]\n",
    "    for feature in features:\n",
    "        column_mean = 'ngram_' + feature + '_mean'\n",
    "        column_std = 'ngram_' + feature + '_std'\n",
    "        sub_df.loc[:,column_mean] = sub_df[feature].rolling(window=indexer, min_periods=winsize).mean()\n",
    "        sub_df.loc[:,column_std] = sub_df[feature].rolling(window=indexer, min_periods=winsize).std()\n",
    "    df_int.loc[:,featurelist] = df_int[featurelist].combine_first(sub_df[featurelist])\n",
    "    print('Progress: ' + str(itr+1) + '/' + str(len(res_int)), end='\\r')\n",
    "    \n",
    "    "
   ]
  },
  {
   "cell_type": "code",
   "execution_count": 11,
   "metadata": {},
   "outputs": [],
   "source": [
    "df_int_feather_path = \"/mnt/h/CIDDS/CIDDS-001/feather/trigram_feather\"\n",
    "df_int.reset_index().to_feather(df_int_feather_path)"
   ]
  },
  {
   "cell_type": "code",
   "execution_count": 8,
   "metadata": {},
   "outputs": [],
   "source": [
    "df_int_feather_path = \"/mnt/h/CIDDS/CIDDS-001/feather/trigram_feather\"\n",
    "df_int = pd.read_feather(df_int_feather_path)"
   ]
  },
  {
   "cell_type": "code",
   "execution_count": 9,
   "metadata": {},
   "outputs": [
    {
     "name": "stdout",
     "output_type": "stream",
     "text": [
      "(29708511, 31)\n",
      "(29674915, 31)\n"
     ]
    }
   ],
   "source": [
    "#Drop rows without ngram features\n",
    "print(df_int.shape)\n",
    "df_int.dropna(subset=df_int.filter(regex='^ngram', axis=1).columns, axis=0, how='any', inplace=True)\n",
    "print(df_int.shape)"
   ]
  },
  {
   "cell_type": "code",
   "execution_count": 10,
   "metadata": {},
   "outputs": [
    {
     "data": {
      "text/html": [
       "<div>\n",
       "<style scoped>\n",
       "    .dataframe tbody tr th:only-of-type {\n",
       "        vertical-align: middle;\n",
       "    }\n",
       "\n",
       "    .dataframe tbody tr th {\n",
       "        vertical-align: top;\n",
       "    }\n",
       "\n",
       "    .dataframe thead th {\n",
       "        text-align: right;\n",
       "    }\n",
       "</style>\n",
       "<table border=\"1\" class=\"dataframe\">\n",
       "  <thead>\n",
       "    <tr style=\"text-align: right;\">\n",
       "      <th></th>\n",
       "      <th>index</th>\n",
       "      <th>Date first seen</th>\n",
       "      <th>Duration</th>\n",
       "      <th>Proto</th>\n",
       "      <th>Src IP Addr</th>\n",
       "      <th>Src Pt</th>\n",
       "      <th>Dst IP Addr</th>\n",
       "      <th>Dst Pt</th>\n",
       "      <th>Packets</th>\n",
       "      <th>Bytes</th>\n",
       "      <th>...</th>\n",
       "      <th>UDP</th>\n",
       "      <th>mean_bytes</th>\n",
       "      <th>ngram_Duration_mean</th>\n",
       "      <th>ngram_Duration_std</th>\n",
       "      <th>ngram_Packets_mean</th>\n",
       "      <th>ngram_Packets_std</th>\n",
       "      <th>ngram_BytesAsInt_mean</th>\n",
       "      <th>ngram_BytesAsInt_std</th>\n",
       "      <th>ngram_mean_bytes_mean</th>\n",
       "      <th>ngram_mean_bytes_std</th>\n",
       "    </tr>\n",
       "  </thead>\n",
       "  <tbody>\n",
       "    <tr>\n",
       "      <th>0</th>\n",
       "      <td>0</td>\n",
       "      <td>2017-03-15 00:01:16.632</td>\n",
       "      <td>0.000</td>\n",
       "      <td>TCP</td>\n",
       "      <td>192.168.100.5</td>\n",
       "      <td>445</td>\n",
       "      <td>192.168.220.16</td>\n",
       "      <td>58844</td>\n",
       "      <td>1</td>\n",
       "      <td>108</td>\n",
       "      <td>...</td>\n",
       "      <td>0</td>\n",
       "      <td>108.000000</td>\n",
       "      <td>0.000000e+00</td>\n",
       "      <td>0.000000e+00</td>\n",
       "      <td>1.000000</td>\n",
       "      <td>0.000000</td>\n",
       "      <td>108.000000</td>\n",
       "      <td>0.000000</td>\n",
       "      <td>108.000000</td>\n",
       "      <td>0.000000</td>\n",
       "    </tr>\n",
       "    <tr>\n",
       "      <th>1</th>\n",
       "      <td>1</td>\n",
       "      <td>2017-03-15 00:01:16.552</td>\n",
       "      <td>0.000</td>\n",
       "      <td>TCP</td>\n",
       "      <td>192.168.100.5</td>\n",
       "      <td>445</td>\n",
       "      <td>192.168.220.15</td>\n",
       "      <td>48888</td>\n",
       "      <td>1</td>\n",
       "      <td>108</td>\n",
       "      <td>...</td>\n",
       "      <td>0</td>\n",
       "      <td>108.000000</td>\n",
       "      <td>0.000000e+00</td>\n",
       "      <td>0.000000e+00</td>\n",
       "      <td>1.000000</td>\n",
       "      <td>0.000000</td>\n",
       "      <td>95.333333</td>\n",
       "      <td>21.939310</td>\n",
       "      <td>95.333333</td>\n",
       "      <td>21.939310</td>\n",
       "    </tr>\n",
       "    <tr>\n",
       "      <th>2</th>\n",
       "      <td>2</td>\n",
       "      <td>2017-03-15 00:01:16.551</td>\n",
       "      <td>0.004</td>\n",
       "      <td>TCP</td>\n",
       "      <td>192.168.220.15</td>\n",
       "      <td>48888</td>\n",
       "      <td>192.168.100.5</td>\n",
       "      <td>445</td>\n",
       "      <td>2</td>\n",
       "      <td>174</td>\n",
       "      <td>...</td>\n",
       "      <td>0</td>\n",
       "      <td>87.000000</td>\n",
       "      <td>1.566667e-02</td>\n",
       "      <td>1.011599e-02</td>\n",
       "      <td>2.000000</td>\n",
       "      <td>0.000000</td>\n",
       "      <td>283.333333</td>\n",
       "      <td>94.685444</td>\n",
       "      <td>141.666667</td>\n",
       "      <td>47.342722</td>\n",
       "    </tr>\n",
       "    <tr>\n",
       "      <th>3</th>\n",
       "      <td>3</td>\n",
       "      <td>2017-03-15 00:01:16.631</td>\n",
       "      <td>0.004</td>\n",
       "      <td>TCP</td>\n",
       "      <td>192.168.220.16</td>\n",
       "      <td>58844</td>\n",
       "      <td>192.168.100.5</td>\n",
       "      <td>445</td>\n",
       "      <td>2</td>\n",
       "      <td>174</td>\n",
       "      <td>...</td>\n",
       "      <td>0</td>\n",
       "      <td>87.000000</td>\n",
       "      <td>2.666667e-03</td>\n",
       "      <td>2.309401e-03</td>\n",
       "      <td>1.666667</td>\n",
       "      <td>0.577350</td>\n",
       "      <td>140.333333</td>\n",
       "      <td>58.312377</td>\n",
       "      <td>82.333333</td>\n",
       "      <td>8.082904</td>\n",
       "    </tr>\n",
       "    <tr>\n",
       "      <th>4</th>\n",
       "      <td>4</td>\n",
       "      <td>2017-03-15 00:01:16.552</td>\n",
       "      <td>0.000</td>\n",
       "      <td>TCP</td>\n",
       "      <td>192.168.100.5</td>\n",
       "      <td>445</td>\n",
       "      <td>192.168.220.15</td>\n",
       "      <td>48888</td>\n",
       "      <td>1</td>\n",
       "      <td>108</td>\n",
       "      <td>...</td>\n",
       "      <td>0</td>\n",
       "      <td>108.000000</td>\n",
       "      <td>0.000000e+00</td>\n",
       "      <td>0.000000e+00</td>\n",
       "      <td>1.000000</td>\n",
       "      <td>0.000000</td>\n",
       "      <td>95.333333</td>\n",
       "      <td>21.939310</td>\n",
       "      <td>95.333333</td>\n",
       "      <td>21.939310</td>\n",
       "    </tr>\n",
       "    <tr>\n",
       "      <th>...</th>\n",
       "      <td>...</td>\n",
       "      <td>...</td>\n",
       "      <td>...</td>\n",
       "      <td>...</td>\n",
       "      <td>...</td>\n",
       "      <td>...</td>\n",
       "      <td>...</td>\n",
       "      <td>...</td>\n",
       "      <td>...</td>\n",
       "      <td>...</td>\n",
       "      <td>...</td>\n",
       "      <td>...</td>\n",
       "      <td>...</td>\n",
       "      <td>...</td>\n",
       "      <td>...</td>\n",
       "      <td>...</td>\n",
       "      <td>...</td>\n",
       "      <td>...</td>\n",
       "      <td>...</td>\n",
       "      <td>...</td>\n",
       "      <td>...</td>\n",
       "    </tr>\n",
       "    <tr>\n",
       "      <th>29708497</th>\n",
       "      <td>31287919</td>\n",
       "      <td>2017-04-18 23:59:26.292</td>\n",
       "      <td>0.000</td>\n",
       "      <td>UDP</td>\n",
       "      <td>DNS</td>\n",
       "      <td>53</td>\n",
       "      <td>192.168.200.8</td>\n",
       "      <td>50160</td>\n",
       "      <td>1</td>\n",
       "      <td>125</td>\n",
       "      <td>...</td>\n",
       "      <td>1</td>\n",
       "      <td>125.000000</td>\n",
       "      <td>9.309683e-16</td>\n",
       "      <td>5.772463e-08</td>\n",
       "      <td>1.000000</td>\n",
       "      <td>0.000000</td>\n",
       "      <td>127.000000</td>\n",
       "      <td>1.732051</td>\n",
       "      <td>127.000000</td>\n",
       "      <td>1.732051</td>\n",
       "    </tr>\n",
       "    <tr>\n",
       "      <th>29708499</th>\n",
       "      <td>31287921</td>\n",
       "      <td>2017-04-18 23:59:26.292</td>\n",
       "      <td>0.000</td>\n",
       "      <td>UDP</td>\n",
       "      <td>192.168.200.8</td>\n",
       "      <td>62426</td>\n",
       "      <td>DNS</td>\n",
       "      <td>53</td>\n",
       "      <td>1</td>\n",
       "      <td>75</td>\n",
       "      <td>...</td>\n",
       "      <td>1</td>\n",
       "      <td>75.000000</td>\n",
       "      <td>3.633333e-02</td>\n",
       "      <td>6.293118e-02</td>\n",
       "      <td>4.333333</td>\n",
       "      <td>5.773502</td>\n",
       "      <td>940.666667</td>\n",
       "      <td>1499.373335</td>\n",
       "      <td>130.969697</td>\n",
       "      <td>96.942359</td>\n",
       "    </tr>\n",
       "    <tr>\n",
       "      <th>29708500</th>\n",
       "      <td>31287922</td>\n",
       "      <td>2017-04-18 23:59:26.291</td>\n",
       "      <td>0.000</td>\n",
       "      <td>UDP</td>\n",
       "      <td>192.168.200.8</td>\n",
       "      <td>50160</td>\n",
       "      <td>DNS</td>\n",
       "      <td>53</td>\n",
       "      <td>1</td>\n",
       "      <td>75</td>\n",
       "      <td>...</td>\n",
       "      <td>1</td>\n",
       "      <td>75.000000</td>\n",
       "      <td>3.633333e-02</td>\n",
       "      <td>6.293118e-02</td>\n",
       "      <td>4.333333</td>\n",
       "      <td>5.773502</td>\n",
       "      <td>944.666667</td>\n",
       "      <td>1495.921253</td>\n",
       "      <td>134.969697</td>\n",
       "      <td>93.670617</td>\n",
       "    </tr>\n",
       "    <tr>\n",
       "      <th>29708501</th>\n",
       "      <td>31287923</td>\n",
       "      <td>2017-04-18 23:59:26.295</td>\n",
       "      <td>0.109</td>\n",
       "      <td>TCP</td>\n",
       "      <td>192.168.200.8</td>\n",
       "      <td>58431</td>\n",
       "      <td>10193_14</td>\n",
       "      <td>443</td>\n",
       "      <td>11</td>\n",
       "      <td>2672</td>\n",
       "      <td>...</td>\n",
       "      <td>0</td>\n",
       "      <td>242.909091</td>\n",
       "      <td>3.633333e-02</td>\n",
       "      <td>6.293118e-02</td>\n",
       "      <td>4.333333</td>\n",
       "      <td>5.773502</td>\n",
       "      <td>948.666667</td>\n",
       "      <td>1492.445107</td>\n",
       "      <td>138.969697</td>\n",
       "      <td>90.014156</td>\n",
       "    </tr>\n",
       "    <tr>\n",
       "      <th>29708508</th>\n",
       "      <td>31287930</td>\n",
       "      <td>2017-04-18 23:59:30.173</td>\n",
       "      <td>0.000</td>\n",
       "      <td>UDP</td>\n",
       "      <td>192.168.200.8</td>\n",
       "      <td>62120</td>\n",
       "      <td>DNS</td>\n",
       "      <td>53</td>\n",
       "      <td>1</td>\n",
       "      <td>87</td>\n",
       "      <td>...</td>\n",
       "      <td>1</td>\n",
       "      <td>87.000000</td>\n",
       "      <td>2.766667e-02</td>\n",
       "      <td>4.792007e-02</td>\n",
       "      <td>5.000000</td>\n",
       "      <td>6.928203</td>\n",
       "      <td>780.666667</td>\n",
       "      <td>1201.459278</td>\n",
       "      <td>113.589744</td>\n",
       "      <td>46.054787</td>\n",
       "    </tr>\n",
       "  </tbody>\n",
       "</table>\n",
       "<p>29674915 rows × 31 columns</p>\n",
       "</div>"
      ],
      "text/plain": [
       "             index          Date first seen  Duration Proto     Src IP Addr  \\\n",
       "0                0  2017-03-15 00:01:16.632     0.000   TCP   192.168.100.5   \n",
       "1                1  2017-03-15 00:01:16.552     0.000   TCP   192.168.100.5   \n",
       "2                2  2017-03-15 00:01:16.551     0.004   TCP  192.168.220.15   \n",
       "3                3  2017-03-15 00:01:16.631     0.004   TCP  192.168.220.16   \n",
       "4                4  2017-03-15 00:01:16.552     0.000   TCP   192.168.100.5   \n",
       "...            ...                      ...       ...   ...             ...   \n",
       "29708497  31287919  2017-04-18 23:59:26.292     0.000   UDP             DNS   \n",
       "29708499  31287921  2017-04-18 23:59:26.292     0.000   UDP   192.168.200.8   \n",
       "29708500  31287922  2017-04-18 23:59:26.291     0.000   UDP   192.168.200.8   \n",
       "29708501  31287923  2017-04-18 23:59:26.295     0.109   TCP   192.168.200.8   \n",
       "29708508  31287930  2017-04-18 23:59:30.173     0.000   UDP   192.168.200.8   \n",
       "\n",
       "          Src Pt     Dst IP Addr  Dst Pt  Packets Bytes  ...  UDP  mean_bytes  \\\n",
       "0            445  192.168.220.16   58844        1   108  ...    0  108.000000   \n",
       "1            445  192.168.220.15   48888        1   108  ...    0  108.000000   \n",
       "2          48888   192.168.100.5     445        2   174  ...    0   87.000000   \n",
       "3          58844   192.168.100.5     445        2   174  ...    0   87.000000   \n",
       "4            445  192.168.220.15   48888        1   108  ...    0  108.000000   \n",
       "...          ...             ...     ...      ...   ...  ...  ...         ...   \n",
       "29708497      53   192.168.200.8   50160        1   125  ...    1  125.000000   \n",
       "29708499   62426             DNS      53        1    75  ...    1   75.000000   \n",
       "29708500   50160             DNS      53        1    75  ...    1   75.000000   \n",
       "29708501   58431        10193_14     443       11  2672  ...    0  242.909091   \n",
       "29708508   62120             DNS      53        1    87  ...    1   87.000000   \n",
       "\n",
       "          ngram_Duration_mean ngram_Duration_std ngram_Packets_mean  \\\n",
       "0                0.000000e+00       0.000000e+00           1.000000   \n",
       "1                0.000000e+00       0.000000e+00           1.000000   \n",
       "2                1.566667e-02       1.011599e-02           2.000000   \n",
       "3                2.666667e-03       2.309401e-03           1.666667   \n",
       "4                0.000000e+00       0.000000e+00           1.000000   \n",
       "...                       ...                ...                ...   \n",
       "29708497         9.309683e-16       5.772463e-08           1.000000   \n",
       "29708499         3.633333e-02       6.293118e-02           4.333333   \n",
       "29708500         3.633333e-02       6.293118e-02           4.333333   \n",
       "29708501         3.633333e-02       6.293118e-02           4.333333   \n",
       "29708508         2.766667e-02       4.792007e-02           5.000000   \n",
       "\n",
       "         ngram_Packets_std ngram_BytesAsInt_mean  ngram_BytesAsInt_std  \\\n",
       "0                 0.000000            108.000000              0.000000   \n",
       "1                 0.000000             95.333333             21.939310   \n",
       "2                 0.000000            283.333333             94.685444   \n",
       "3                 0.577350            140.333333             58.312377   \n",
       "4                 0.000000             95.333333             21.939310   \n",
       "...                    ...                   ...                   ...   \n",
       "29708497          0.000000            127.000000              1.732051   \n",
       "29708499          5.773502            940.666667           1499.373335   \n",
       "29708500          5.773502            944.666667           1495.921253   \n",
       "29708501          5.773502            948.666667           1492.445107   \n",
       "29708508          6.928203            780.666667           1201.459278   \n",
       "\n",
       "          ngram_mean_bytes_mean  ngram_mean_bytes_std  \n",
       "0                    108.000000              0.000000  \n",
       "1                     95.333333             21.939310  \n",
       "2                    141.666667             47.342722  \n",
       "3                     82.333333              8.082904  \n",
       "4                     95.333333             21.939310  \n",
       "...                         ...                   ...  \n",
       "29708497             127.000000              1.732051  \n",
       "29708499             130.969697             96.942359  \n",
       "29708500             134.969697             93.670617  \n",
       "29708501             138.969697             90.014156  \n",
       "29708508             113.589744             46.054787  \n",
       "\n",
       "[29674915 rows x 31 columns]"
      ]
     },
     "execution_count": 10,
     "metadata": {},
     "output_type": "execute_result"
    }
   ],
   "source": [
    "df_int"
   ]
  },
  {
   "cell_type": "markdown",
   "metadata": {},
   "source": [
    "### df_ext:"
   ]
  },
  {
   "cell_type": "code",
   "execution_count": 13,
   "metadata": {},
   "outputs": [
    {
     "name": "stdout",
     "output_type": "stream",
     "text": [
      "Progress: 1/5\r",
      "Progress: 2/5\r",
      "Progress: 3/5\r",
      "Progress: 4/5\r",
      "Progress: 5/5\r"
     ]
    },
    {
     "name": "stderr",
     "output_type": "stream",
     "text": [
      "/home/arjen/.local/lib/python3.6/site-packages/pandas/core/indexing.py:1743: SettingWithCopyWarning: \n",
      "A value is trying to be set on a copy of a slice from a DataFrame.\n",
      "Try using .loc[row_indexer,col_indexer] = value instead\n",
      "\n",
      "See the caveats in the documentation: https://pandas.pydata.org/pandas-docs/stable/user_guide/indexing.html#returning-a-view-versus-a-copy\n",
      "  isetter(ilocs[0], value)\n"
     ]
    }
   ],
   "source": [
    "#Per source IP, grab N-gram and transform numerical features into new\n",
    "#Done for bigrams and trigrams\n",
    "\n",
    "features = ['Duration', 'Packets', 'BytesAsInt', 'mean_bytes']\n",
    "\n",
    "#Create/reset columns for n_gram features\n",
    "for feature in features:\n",
    "    column_mean = 'ngram_' + feature + '_mean'\n",
    "    column_std = 'ngram_' + feature + '_std'\n",
    "    if column_mean not in df_ext.columns:\n",
    "        df_ext[column_mean] = np.nan\n",
    "    if column_std not in df_ext.columns:\n",
    "        df_ext[column_std] = np.nan\n",
    "\n",
    "#List of ngram features\n",
    "featurelist = df_ext.filter(regex='^ngram', axis=1).columns\n",
    "#Window size 2 = bigrams, 3 = trigrams\n",
    "winsize = 3\n",
    "#Window type\n",
    "indexer = pd.api.indexers.FixedForwardWindowIndexer(window_size=winsize)\n",
    "for itr, (srcIP, _) in enumerate(res_ext.iteritems()):\n",
    "    sub_df = df_ext[df_ext['Src IP Addr'] == srcIP]\n",
    "    for feature in features:\n",
    "        column_mean = 'ngram_' + feature + '_mean'\n",
    "        column_std = 'ngram_' + feature + '_std'\n",
    "        sub_df.loc[:,column_mean] = sub_df[feature].rolling(window=indexer, min_periods=winsize).mean()\n",
    "        sub_df.loc[:,column_std] = sub_df[feature].rolling(window=indexer, min_periods=winsize).std()\n",
    "    df_ext.loc[:,featurelist] = df_ext[featurelist].combine_first(sub_df[featurelist])\n",
    "    print('Progress: ' + str(itr+1) + '/' + str(len(res_ext)), end='\\r')\n",
    "    \n",
    "    "
   ]
  },
  {
   "cell_type": "code",
   "execution_count": 14,
   "metadata": {},
   "outputs": [
    {
     "name": "stdout",
     "output_type": "stream",
     "text": [
      "(146500, 29)\n",
      "(146490, 29)\n"
     ]
    }
   ],
   "source": [
    "#Drop rows without ngram features\n",
    "print(df_ext.shape)\n",
    "df_ext.dropna(subset=df_ext.filter(regex='^ngram', axis=1).columns, axis=0, how='any', inplace=True)\n",
    "print(df_ext.shape)"
   ]
  },
  {
   "cell_type": "markdown",
   "metadata": {},
   "source": [
    "## Build Random Forest with ngram features"
   ]
  },
  {
   "cell_type": "code",
   "execution_count": 23,
   "metadata": {},
   "outputs": [],
   "source": [
    "#Compare ngram feature set with non-ngram feature set by uncommenting feature set to be tested\n",
    "features = df_int.filter(regex='^ngram', axis=1).columns\n",
    "#features = ['Duration','Packets','mean_bytes','BytesAsInt','ICMP','TCP','UDP']\n",
    "label = 'class' #'class' or 'attackType'\n",
    "skf = StratifiedKFold(n_splits=5)"
   ]
  },
  {
   "cell_type": "code",
   "execution_count": 24,
   "metadata": {
    "scrolled": true
   },
   "outputs": [
    {
     "name": "stdout",
     "output_type": "stream",
     "text": [
      "TRAIN: 12596105 TEST: 3149027\n"
     ]
    },
    {
     "name": "stderr",
     "output_type": "stream",
     "text": [
      "[Parallel(n_jobs=5)]: Using backend ThreadingBackend with 5 concurrent workers.\n"
     ]
    },
    {
     "name": "stdout",
     "output_type": "stream",
     "text": [
      "building tree 1 of 100\n",
      "building tree 2 of 100building tree 3 of 100\n",
      "building tree 4 of 100\n",
      "building tree 5 of 100\n",
      "\n",
      "building tree 6 of 100\n",
      "building tree 7 of 100\n",
      "building tree 8 of 100\n",
      "building tree 9 of 100\n",
      "building tree 10 of 100\n",
      "building tree 11 of 100\n",
      "building tree 12 of 100\n",
      "building tree 13 of 100\n"
     ]
    },
    {
     "name": "stderr",
     "output_type": "stream",
     "text": [
      "[Parallel(n_jobs=5)]: Done   8 tasks      | elapsed:   48.2s\n"
     ]
    },
    {
     "name": "stdout",
     "output_type": "stream",
     "text": [
      "building tree 14 of 100\n",
      "building tree 15 of 100\n",
      "building tree 16 of 100\n",
      "building tree 17 of 100\n",
      "building tree 18 of 100\n",
      "building tree 19 of 100building tree 20 of 100\n",
      "\n",
      "building tree 21 of 100\n",
      "building tree 22 of 100\n",
      "building tree 23 of 100\n",
      "building tree 24 of 100\n",
      "building tree 25 of 100\n",
      "building tree 26 of 100\n",
      "building tree 27 of 100\n",
      "building tree 28 of 100\n",
      "building tree 29 of 100\n",
      "building tree 30 of 100\n",
      "building tree 31 of 100\n",
      "building tree 32 of 100\n",
      "building tree 33 of 100\n",
      "building tree 34 of 100\n",
      "building tree 35 of 100\n",
      "building tree 36 of 100\n",
      "building tree 37 of 100\n",
      "building tree 38 of 100\n",
      "building tree 39 of 100\n",
      "building tree 40 of 100\n",
      "building tree 41 of 100\n",
      "building tree 42 of 100\n",
      "building tree 43 of 100\n",
      "building tree 44 of 100\n",
      "building tree 45 of 100\n",
      "building tree 46 of 100\n",
      "building tree 47 of 100\n",
      "building tree 48 of 100\n",
      "building tree 49 of 100\n",
      "building tree 50 of 100\n",
      "building tree 51 of 100\n",
      "building tree 52 of 100\n",
      "building tree 53 of 100\n",
      "building tree 54 of 100\n",
      "building tree 55 of 100\n",
      "building tree 56 of 100\n",
      "building tree 57 of 100\n",
      "building tree 58 of 100\n",
      "building tree 59 of 100building tree 60 of 100\n",
      "\n",
      "building tree 61 of 100\n",
      "building tree 62 of 100\n",
      "building tree 63 of 100\n",
      "building tree 64 of 100\n",
      "building tree 65 of 100\n",
      "building tree 66 of 100\n",
      "building tree 67 of 100\n"
     ]
    },
    {
     "name": "stderr",
     "output_type": "stream",
     "text": [
      "[Parallel(n_jobs=5)]: Done  62 tasks      | elapsed:  5.1min\n"
     ]
    },
    {
     "name": "stdout",
     "output_type": "stream",
     "text": [
      "building tree 68 of 100\n",
      "building tree 69 of 100\n",
      "building tree 70 of 100\n",
      "building tree 71 of 100\n",
      "building tree 72 of 100\n",
      "building tree 73 of 100\n",
      "building tree 74 of 100\n",
      "building tree 75 of 100\n",
      "building tree 76 of 100\n",
      "building tree 77 of 100\n",
      "building tree 78 of 100\n",
      "building tree 79 of 100\n",
      "building tree 80 of 100\n",
      "building tree 81 of 100\n",
      "building tree 82 of 100\n",
      "building tree 83 of 100\n",
      "building tree 84 of 100\n",
      "building tree 85 of 100\n",
      "building tree 86 of 100\n",
      "building tree 87 of 100\n",
      "building tree 88 of 100\n",
      "building tree 89 of 100\n",
      "building tree 90 of 100\n",
      "building tree 91 of 100\n",
      "building tree 92 of 100\n",
      "building tree 93 of 100\n",
      "building tree 94 of 100\n",
      "building tree 95 of 100\n",
      "building tree 96 of 100\n",
      "building tree 97 of 100\n",
      "building tree 98 of 100\n",
      "building tree 99 of 100\n",
      "building tree 100 of 100\n"
     ]
    },
    {
     "name": "stderr",
     "output_type": "stream",
     "text": [
      "[Parallel(n_jobs=5)]: Done 100 out of 100 | elapsed:  7.9min finished\n",
      "[Parallel(n_jobs=5)]: Using backend ThreadingBackend with 5 concurrent workers.\n",
      "[Parallel(n_jobs=5)]: Done   8 tasks      | elapsed:    0.8s\n",
      "[Parallel(n_jobs=5)]: Done  62 tasks      | elapsed:    4.0s\n",
      "[Parallel(n_jobs=5)]: Done 100 out of 100 | elapsed:    6.3s finished\n"
     ]
    },
    {
     "name": "stdout",
     "output_type": "stream",
     "text": [
      "TRAIN: 12596105 TEST: 3149027\n"
     ]
    },
    {
     "name": "stderr",
     "output_type": "stream",
     "text": [
      "[Parallel(n_jobs=5)]: Using backend ThreadingBackend with 5 concurrent workers.\n"
     ]
    },
    {
     "name": "stdout",
     "output_type": "stream",
     "text": [
      "building tree 1 of 100building tree 2 of 100building tree 3 of 100building tree 4 of 100building tree 5 of 100\n",
      "\n",
      "\n",
      "\n",
      "\n",
      "building tree 6 of 100\n",
      "building tree 7 of 100\n",
      "building tree 8 of 100\n",
      "building tree 9 of 100\n",
      "building tree 10 of 100\n",
      "building tree 11 of 100\n",
      "building tree 12 of 100\n",
      "building tree 13 of 100\n"
     ]
    },
    {
     "name": "stderr",
     "output_type": "stream",
     "text": [
      "[Parallel(n_jobs=5)]: Done   8 tasks      | elapsed:   49.2s\n"
     ]
    },
    {
     "name": "stdout",
     "output_type": "stream",
     "text": [
      "building tree 14 of 100\n",
      "building tree 15 of 100\n",
      "building tree 16 of 100\n",
      "building tree 17 of 100\n",
      "building tree 18 of 100\n",
      "building tree 19 of 100\n",
      "building tree 20 of 100\n",
      "building tree 21 of 100\n",
      "building tree 22 of 100\n",
      "building tree 23 of 100\n",
      "building tree 24 of 100\n",
      "building tree 25 of 100\n",
      "building tree 26 of 100\n",
      "building tree 27 of 100\n",
      "building tree 28 of 100\n",
      "building tree 29 of 100\n",
      "building tree 30 of 100\n",
      "building tree 31 of 100\n",
      "building tree 32 of 100\n",
      "building tree 33 of 100\n",
      "building tree 34 of 100\n",
      "building tree 35 of 100\n",
      "building tree 36 of 100\n",
      "building tree 37 of 100\n",
      "building tree 38 of 100\n",
      "building tree 39 of 100\n",
      "building tree 40 of 100\n",
      "building tree 41 of 100\n",
      "building tree 42 of 100building tree 43 of 100\n",
      "\n",
      "building tree 44 of 100\n",
      "building tree 45 of 100\n",
      "building tree 46 of 100\n",
      "building tree 47 of 100\n",
      "building tree 48 of 100\n",
      "building tree 49 of 100\n",
      "building tree 50 of 100\n",
      "building tree 51 of 100\n",
      "building tree 52 of 100\n",
      "building tree 53 of 100\n",
      "building tree 54 of 100\n",
      "building tree 55 of 100\n",
      "building tree 56 of 100\n",
      "building tree 57 of 100\n",
      "building tree 58 of 100\n",
      "building tree 59 of 100\n",
      "building tree 60 of 100\n",
      "building tree 61 of 100\n",
      "building tree 62 of 100\n",
      "building tree 63 of 100\n",
      "building tree 64 of 100\n",
      "building tree 65 of 100\n",
      "building tree 66 of 100\n",
      "building tree 67 of 100\n"
     ]
    },
    {
     "name": "stderr",
     "output_type": "stream",
     "text": [
      "[Parallel(n_jobs=5)]: Done  62 tasks      | elapsed:  5.2min\n"
     ]
    },
    {
     "name": "stdout",
     "output_type": "stream",
     "text": [
      "building tree 68 of 100\n",
      "building tree 69 of 100building tree 70 of 100\n",
      "\n",
      "building tree 71 of 100\n",
      "building tree 72 of 100\n",
      "building tree 73 of 100\n",
      "building tree 74 of 100\n",
      "building tree 75 of 100\n",
      "building tree 76 of 100\n",
      "building tree 77 of 100\n",
      "building tree 78 of 100\n",
      "building tree 79 of 100\n",
      "building tree 80 of 100\n",
      "building tree 81 of 100\n",
      "building tree 82 of 100\n",
      "building tree 83 of 100\n",
      "building tree 84 of 100\n",
      "building tree 85 of 100\n",
      "building tree 86 of 100\n",
      "building tree 87 of 100\n",
      "building tree 88 of 100\n",
      "building tree 89 of 100\n",
      "building tree 90 of 100\n",
      "building tree 91 of 100\n",
      "building tree 92 of 100\n",
      "building tree 93 of 100\n",
      "building tree 94 of 100\n",
      "building tree 95 of 100\n",
      "building tree 96 of 100\n",
      "building tree 97 of 100\n",
      "building tree 98 of 100\n",
      "building tree 99 of 100\n",
      "building tree 100 of 100\n"
     ]
    },
    {
     "name": "stderr",
     "output_type": "stream",
     "text": [
      "[Parallel(n_jobs=5)]: Done 100 out of 100 | elapsed:  8.0min finished\n",
      "[Parallel(n_jobs=5)]: Using backend ThreadingBackend with 5 concurrent workers.\n",
      "[Parallel(n_jobs=5)]: Done   8 tasks      | elapsed:    0.7s\n",
      "[Parallel(n_jobs=5)]: Done  62 tasks      | elapsed:    4.2s\n",
      "[Parallel(n_jobs=5)]: Done 100 out of 100 | elapsed:    6.4s finished\n"
     ]
    },
    {
     "name": "stdout",
     "output_type": "stream",
     "text": [
      "TRAIN: 12596106 TEST: 3149026\n"
     ]
    },
    {
     "name": "stderr",
     "output_type": "stream",
     "text": [
      "[Parallel(n_jobs=5)]: Using backend ThreadingBackend with 5 concurrent workers.\n"
     ]
    },
    {
     "name": "stdout",
     "output_type": "stream",
     "text": [
      "building tree 1 of 100\n",
      "building tree 2 of 100building tree 3 of 100\n",
      "building tree 4 of 100\n",
      "building tree 5 of 100\n",
      "\n",
      "building tree 6 of 100\n",
      "building tree 7 of 100\n",
      "building tree 8 of 100\n",
      "building tree 9 of 100\n",
      "building tree 10 of 100\n",
      "building tree 11 of 100\n",
      "building tree 12 of 100\n",
      "building tree 13 of 100\n",
      "building tree 14 of 100\n"
     ]
    },
    {
     "name": "stderr",
     "output_type": "stream",
     "text": [
      "[Parallel(n_jobs=5)]: Done   8 tasks      | elapsed:   50.2s\n"
     ]
    },
    {
     "name": "stdout",
     "output_type": "stream",
     "text": [
      "building tree 15 of 100\n",
      "building tree 16 of 100\n",
      "building tree 17 of 100\n",
      "building tree 18 of 100\n",
      "building tree 19 of 100\n",
      "building tree 20 of 100\n",
      "building tree 21 of 100\n",
      "building tree 22 of 100\n",
      "building tree 23 of 100\n",
      "building tree 24 of 100\n",
      "building tree 25 of 100\n",
      "building tree 26 of 100\n",
      "building tree 27 of 100\n",
      "building tree 28 of 100\n",
      "building tree 29 of 100\n",
      "building tree 30 of 100\n",
      "building tree 31 of 100\n",
      "building tree 32 of 100\n",
      "building tree 33 of 100\n",
      "building tree 34 of 100\n",
      "building tree 35 of 100\n",
      "building tree 36 of 100\n",
      "building tree 37 of 100\n",
      "building tree 38 of 100\n",
      "building tree 39 of 100\n",
      "building tree 40 of 100\n",
      "building tree 41 of 100\n",
      "building tree 42 of 100\n",
      "building tree 43 of 100\n",
      "building tree 44 of 100\n",
      "building tree 45 of 100\n",
      "building tree 46 of 100\n",
      "building tree 47 of 100\n",
      "building tree 48 of 100\n",
      "building tree 49 of 100\n",
      "building tree 50 of 100\n",
      "building tree 51 of 100\n",
      "building tree 52 of 100\n",
      "building tree 53 of 100\n",
      "building tree 54 of 100\n",
      "building tree 55 of 100\n",
      "building tree 56 of 100\n",
      "building tree 57 of 100\n",
      "building tree 58 of 100\n",
      "building tree 59 of 100\n",
      "building tree 60 of 100\n",
      "building tree 61 of 100\n",
      "building tree 62 of 100building tree 63 of 100\n",
      "\n",
      "building tree 64 of 100\n",
      "building tree 65 of 100\n",
      "building tree 66 of 100\n",
      "building tree 67 of 100\n"
     ]
    },
    {
     "name": "stderr",
     "output_type": "stream",
     "text": [
      "[Parallel(n_jobs=5)]: Done  62 tasks      | elapsed:  5.2min\n"
     ]
    },
    {
     "name": "stdout",
     "output_type": "stream",
     "text": [
      "building tree 68 of 100\n",
      "building tree 69 of 100\n",
      "building tree 70 of 100\n",
      "building tree 71 of 100\n",
      "building tree 72 of 100\n",
      "building tree 73 of 100\n",
      "building tree 74 of 100\n",
      "building tree 75 of 100\n",
      "building tree 76 of 100\n",
      "building tree 77 of 100\n",
      "building tree 78 of 100\n",
      "building tree 79 of 100\n",
      "building tree 80 of 100\n",
      "building tree 81 of 100\n",
      "building tree 82 of 100\n",
      "building tree 83 of 100\n",
      "building tree 84 of 100\n",
      "building tree 85 of 100\n",
      "building tree 86 of 100\n",
      "building tree 87 of 100\n",
      "building tree 88 of 100\n",
      "building tree 89 of 100\n",
      "building tree 90 of 100\n",
      "building tree 91 of 100\n",
      "building tree 92 of 100\n",
      "building tree 93 of 100\n",
      "building tree 94 of 100\n",
      "building tree 95 of 100\n",
      "building tree 96 of 100\n",
      "building tree 97 of 100\n",
      "building tree 98 of 100\n",
      "building tree 99 of 100\n",
      "building tree 100 of 100\n"
     ]
    },
    {
     "name": "stderr",
     "output_type": "stream",
     "text": [
      "[Parallel(n_jobs=5)]: Done 100 out of 100 | elapsed:  8.0min finished\n",
      "[Parallel(n_jobs=5)]: Using backend ThreadingBackend with 5 concurrent workers.\n",
      "[Parallel(n_jobs=5)]: Done   8 tasks      | elapsed:    0.7s\n",
      "[Parallel(n_jobs=5)]: Done  62 tasks      | elapsed:    4.0s\n",
      "[Parallel(n_jobs=5)]: Done 100 out of 100 | elapsed:    6.2s finished\n"
     ]
    },
    {
     "name": "stdout",
     "output_type": "stream",
     "text": [
      "TRAIN: 12596106 TEST: 3149026\n"
     ]
    },
    {
     "name": "stderr",
     "output_type": "stream",
     "text": [
      "[Parallel(n_jobs=5)]: Using backend ThreadingBackend with 5 concurrent workers.\n"
     ]
    },
    {
     "name": "stdout",
     "output_type": "stream",
     "text": [
      "building tree 1 of 100building tree 2 of 100building tree 3 of 100building tree 4 of 100building tree 5 of 100\n",
      "\n",
      "\n",
      "\n",
      "\n",
      "building tree 6 of 100\n",
      "building tree 7 of 100\n",
      "building tree 8 of 100\n",
      "building tree 9 of 100\n",
      "building tree 10 of 100\n",
      "building tree 11 of 100\n",
      "building tree 12 of 100\n"
     ]
    },
    {
     "name": "stderr",
     "output_type": "stream",
     "text": [
      "[Parallel(n_jobs=5)]: Done   8 tasks      | elapsed:   53.7s\n"
     ]
    },
    {
     "name": "stdout",
     "output_type": "stream",
     "text": [
      "building tree 13 of 100\n",
      "building tree 14 of 100\n",
      "building tree 15 of 100\n",
      "building tree 16 of 100\n",
      "building tree 17 of 100\n",
      "building tree 18 of 100\n",
      "building tree 19 of 100\n",
      "building tree 20 of 100\n",
      "building tree 21 of 100\n",
      "building tree 22 of 100\n",
      "building tree 23 of 100\n",
      "building tree 24 of 100\n",
      "building tree 25 of 100\n",
      "building tree 26 of 100\n",
      "building tree 27 of 100\n",
      "building tree 28 of 100\n",
      "building tree 29 of 100\n",
      "building tree 30 of 100\n",
      "building tree 31 of 100\n",
      "building tree 32 of 100\n",
      "building tree 33 of 100\n",
      "building tree 34 of 100\n",
      "building tree 35 of 100\n",
      "building tree 36 of 100\n",
      "building tree 37 of 100\n",
      "building tree 38 of 100\n",
      "building tree 39 of 100\n",
      "building tree 40 of 100\n",
      "building tree 41 of 100\n",
      "building tree 42 of 100\n",
      "building tree 43 of 100\n",
      "building tree 44 of 100\n",
      "building tree 45 of 100\n",
      "building tree 46 of 100\n",
      "building tree 47 of 100\n",
      "building tree 48 of 100\n",
      "building tree 49 of 100\n",
      "building tree 50 of 100\n",
      "building tree 51 of 100\n",
      "building tree 52 of 100\n",
      "building tree 53 of 100\n",
      "building tree 54 of 100\n",
      "building tree 55 of 100\n",
      "building tree 56 of 100\n",
      "building tree 57 of 100\n",
      "building tree 58 of 100\n",
      "building tree 59 of 100\n",
      "building tree 60 of 100\n",
      "building tree 61 of 100\n",
      "building tree 62 of 100\n",
      "building tree 63 of 100\n",
      "building tree 64 of 100\n",
      "building tree 65 of 100\n",
      "building tree 66 of 100\n",
      "building tree 67 of 100\n"
     ]
    },
    {
     "name": "stderr",
     "output_type": "stream",
     "text": [
      "[Parallel(n_jobs=5)]: Done  62 tasks      | elapsed:  5.3min\n"
     ]
    },
    {
     "name": "stdout",
     "output_type": "stream",
     "text": [
      "building tree 68 of 100\n",
      "building tree 69 of 100\n",
      "building tree 70 of 100\n",
      "building tree 71 of 100\n",
      "building tree 72 of 100\n",
      "building tree 73 of 100\n",
      "building tree 74 of 100\n",
      "building tree 75 of 100\n",
      "building tree 76 of 100\n",
      "building tree 77 of 100\n",
      "building tree 78 of 100\n",
      "building tree 79 of 100\n",
      "building tree 80 of 100\n",
      "building tree 81 of 100\n",
      "building tree 82 of 100\n",
      "building tree 83 of 100\n",
      "building tree 84 of 100\n",
      "building tree 85 of 100\n",
      "building tree 86 of 100\n",
      "building tree 87 of 100\n",
      "building tree 88 of 100\n",
      "building tree 89 of 100\n",
      "building tree 90 of 100\n",
      "building tree 91 of 100\n",
      "building tree 92 of 100\n",
      "building tree 93 of 100\n",
      "building tree 94 of 100\n",
      "building tree 95 of 100\n",
      "building tree 96 of 100\n",
      "building tree 97 of 100\n",
      "building tree 98 of 100\n",
      "building tree 99 of 100\n",
      "building tree 100 of 100\n"
     ]
    },
    {
     "name": "stderr",
     "output_type": "stream",
     "text": [
      "[Parallel(n_jobs=5)]: Done 100 out of 100 | elapsed:  8.2min finished\n",
      "[Parallel(n_jobs=5)]: Using backend ThreadingBackend with 5 concurrent workers.\n",
      "[Parallel(n_jobs=5)]: Done   8 tasks      | elapsed:    0.8s\n",
      "[Parallel(n_jobs=5)]: Done  62 tasks      | elapsed:    4.1s\n",
      "[Parallel(n_jobs=5)]: Done 100 out of 100 | elapsed:    6.6s finished\n"
     ]
    },
    {
     "name": "stdout",
     "output_type": "stream",
     "text": [
      "TRAIN: 12596106 TEST: 3149026\n"
     ]
    },
    {
     "name": "stderr",
     "output_type": "stream",
     "text": [
      "[Parallel(n_jobs=5)]: Using backend ThreadingBackend with 5 concurrent workers.\n"
     ]
    },
    {
     "name": "stdout",
     "output_type": "stream",
     "text": [
      "building tree 1 of 100building tree 2 of 100building tree 3 of 100building tree 4 of 100building tree 5 of 100\n",
      "\n",
      "\n",
      "\n",
      "\n",
      "building tree 6 of 100\n",
      "building tree 7 of 100building tree 8 of 100\n",
      "\n",
      "building tree 9 of 100\n",
      "building tree 10 of 100\n",
      "building tree 11 of 100\n",
      "building tree 12 of 100\n",
      "building tree 13 of 100\n"
     ]
    },
    {
     "name": "stderr",
     "output_type": "stream",
     "text": [
      "[Parallel(n_jobs=5)]: Done   8 tasks      | elapsed:   53.7s\n"
     ]
    },
    {
     "name": "stdout",
     "output_type": "stream",
     "text": [
      "building tree 14 of 100\n",
      "building tree 15 of 100\n",
      "building tree 16 of 100\n",
      "building tree 17 of 100\n",
      "building tree 18 of 100\n",
      "building tree 19 of 100\n",
      "building tree 20 of 100\n",
      "building tree 21 of 100\n",
      "building tree 22 of 100\n",
      "building tree 23 of 100\n",
      "building tree 24 of 100\n",
      "building tree 25 of 100\n",
      "building tree 26 of 100\n",
      "building tree 27 of 100\n",
      "building tree 28 of 100\n",
      "building tree 29 of 100\n",
      "building tree 30 of 100\n",
      "building tree 31 of 100\n",
      "building tree 32 of 100\n",
      "building tree 33 of 100\n",
      "building tree 34 of 100\n",
      "building tree 35 of 100\n",
      "building tree 36 of 100\n",
      "building tree 37 of 100\n",
      "building tree 38 of 100\n",
      "building tree 39 of 100\n",
      "building tree 40 of 100\n",
      "building tree 41 of 100\n",
      "building tree 42 of 100\n",
      "building tree 43 of 100\n",
      "building tree 44 of 100\n",
      "building tree 45 of 100\n",
      "building tree 46 of 100\n",
      "building tree 47 of 100\n",
      "building tree 48 of 100\n",
      "building tree 49 of 100\n",
      "building tree 50 of 100\n",
      "building tree 51 of 100\n",
      "building tree 52 of 100\n",
      "building tree 53 of 100\n",
      "building tree 54 of 100\n",
      "building tree 55 of 100\n",
      "building tree 56 of 100\n",
      "building tree 57 of 100\n",
      "building tree 58 of 100\n",
      "building tree 59 of 100\n",
      "building tree 60 of 100\n",
      "building tree 61 of 100\n",
      "building tree 62 of 100\n",
      "building tree 63 of 100\n",
      "building tree 64 of 100\n",
      "building tree 65 of 100\n",
      "building tree 66 of 100\n",
      "building tree 67 of 100\n",
      "building tree 68 of 100\n"
     ]
    },
    {
     "name": "stderr",
     "output_type": "stream",
     "text": [
      "[Parallel(n_jobs=5)]: Done  62 tasks      | elapsed:  5.3min\n"
     ]
    },
    {
     "name": "stdout",
     "output_type": "stream",
     "text": [
      "building tree 69 of 100\n",
      "building tree 70 of 100\n",
      "building tree 71 of 100\n",
      "building tree 72 of 100\n",
      "building tree 73 of 100\n",
      "building tree 74 of 100\n",
      "building tree 75 of 100\n",
      "building tree 76 of 100\n",
      "building tree 77 of 100\n",
      "building tree 78 of 100\n",
      "building tree 79 of 100\n",
      "building tree 80 of 100\n",
      "building tree 81 of 100\n",
      "building tree 82 of 100\n",
      "building tree 83 of 100\n",
      "building tree 84 of 100\n",
      "building tree 85 of 100\n",
      "building tree 86 of 100\n",
      "building tree 87 of 100\n",
      "building tree 88 of 100\n",
      "building tree 89 of 100\n",
      "building tree 90 of 100\n",
      "building tree 91 of 100\n",
      "building tree 92 of 100\n",
      "building tree 93 of 100\n",
      "building tree 94 of 100\n",
      "building tree 95 of 100\n",
      "building tree 96 of 100\n",
      "building tree 97 of 100\n",
      "building tree 98 of 100\n",
      "building tree 99 of 100\n",
      "building tree 100 of 100\n"
     ]
    },
    {
     "name": "stderr",
     "output_type": "stream",
     "text": [
      "[Parallel(n_jobs=5)]: Done 100 out of 100 | elapsed:  8.1min finished\n",
      "[Parallel(n_jobs=5)]: Using backend ThreadingBackend with 5 concurrent workers.\n",
      "[Parallel(n_jobs=5)]: Done   8 tasks      | elapsed:    0.7s\n",
      "[Parallel(n_jobs=5)]: Done  62 tasks      | elapsed:    4.0s\n",
      "[Parallel(n_jobs=5)]: Done 100 out of 100 | elapsed:    6.1s finished\n"
     ]
    }
   ],
   "source": [
    "import math\n",
    "from sklearn.ensemble import RandomForestClassifier\n",
    "from sklearn.metrics import confusion_matrix\n",
    "cfs = []\n",
    "preds = list()\n",
    "for (train_ext_idx, test_ext_idx), (train_int_idx, test_int_idx) in \\\n",
    "zip(skf.split(df_ext[features],df_ext['attackType']),skf.split(df_int[features], df_int['attackType'])):\n",
    "    print(\"TRAIN:\", (len(train_int_idx)+len(train_ext_idx)), \"TEST:\", (len(test_int_idx)+len(test_ext_idx)))\n",
    "    X_train = pd.concat([df_ext[features].iloc[train_ext_idx,:],df_int[features].iloc[train_int_idx,:]], ignore_index=True)\n",
    "    X_test = pd.concat([df_ext[features].iloc[test_ext_idx,:],df_int[features].iloc[test_int_idx,:]], ignore_index=True)\n",
    "    y_train = pd.concat([df_ext[label].iloc[train_ext_idx],df_int[label].iloc[train_int_idx]], ignore_index=True)\n",
    "    y_test = pd.concat([df_ext[label].iloc[test_ext_idx],df_int[label].iloc[test_int_idx]], ignore_index=True)\n",
    "    #Apply Random Forest\n",
    "    rf_clf = RandomForestClassifier(n_estimators=100,min_samples_split=10,min_samples_leaf=5,max_samples=0.8,criterion='gini',n_jobs=5, verbose=5)\n",
    "    rf_clf.fit(X_train,y_train)\n",
    "    y_pred = rf_clf.predict(X_test)\n",
    "    cfs.append(confusion_matrix(y_test, y_pred))\n",
    "    preds.append([y_test, y_pred])"
   ]
  },
  {
   "cell_type": "code",
   "execution_count": 22,
   "metadata": {},
   "outputs": [
    {
     "name": "stdout",
     "output_type": "stream",
     "text": [
      "Feature: ngram_BytesAsInt_mean, Score: 0.20894\n",
      "Feature: ngram_Packets_mean, Score: 0.19248\n",
      "Feature: ngram_mean_bytes_mean, Score: 0.16542\n",
      "Feature: ngram_Duration_mean, Score: 0.11323\n",
      "Feature: ngram_mean_bytes_std, Score: 0.10154\n",
      "Feature: ngram_BytesAsInt_std, Score: 0.10119\n",
      "Feature: ngram_Duration_std, Score: 0.09975\n",
      "Feature: ngram_Packets_std, Score: 0.01746\n"
     ]
    }
   ],
   "source": [
    "importance = rf_clf.feature_importances_\n",
    "# summarize feature importance\n",
    "for i,v in sorted(enumerate(importance),key=lambda x: x[1], reverse=True):\n",
    "    print('Feature: %s, Score: %.5f' % (features[i],v))"
   ]
  },
  {
   "cell_type": "markdown",
   "metadata": {},
   "source": [
    "## Ngram feature set results"
   ]
  },
  {
   "cell_type": "code",
   "execution_count": 26,
   "metadata": {},
   "outputs": [
    {
     "name": "stdout",
     "output_type": "stream",
     "text": [
      "[array([[ 325834,    7938],\n",
      "       [   9130, 2806125]]), array([[ 322836,   10936],\n",
      "       [  14606, 2800649]]), array([[ 324793,    8978],\n",
      "       [  32569, 2782686]]), array([[ 320841,   12931],\n",
      "       [    112, 2815142]]), array([[ 311153,   22619],\n",
      "       [     71, 2815183]])]\n",
      "(5, 2, 2)\n",
      "[[ 321091.4   12680.4]\n",
      " [  11297.6 2803957. ]]\n",
      "[[ 5254.94474186  5255.08563584]\n",
      " [11993.92057002 11993.5468482 ]]\n"
     ]
    }
   ],
   "source": [
    "print(cfs)\n",
    "print(np.shape(cfs))\n",
    "cf = np.mean(cfs,axis=(0))\n",
    "print(cf)\n",
    "print(np.std(cfs,axis=(0)))\n",
    "#objectToFile(preds, \"cidds_trigrams_preds_\"+label)"
   ]
  },
  {
   "cell_type": "code",
   "execution_count": 4,
   "metadata": {},
   "outputs": [],
   "source": [
    "from sklearn.metrics import classification_report, confusion_matrix\n",
    "label = 'class'\n",
    "preds_mem = objectFromFile(\"cidds_trigrams_preds_\"+label)\n",
    "cfs = []\n",
    "for pred_tuple in preds_mem:\n",
    "    cfs.append(confusion_matrix(pred_tuple[0], pred_tuple[1]))"
   ]
  },
  {
   "cell_type": "code",
   "execution_count": 20,
   "metadata": {},
   "outputs": [
    {
     "data": {
      "image/png": "[encoded data removed]",
      "text/plain": [
       "<Figure size 432x432 with 1 Axes>"
      ]
     },
     "metadata": {
      "needs_background": "light"
     },
     "output_type": "display_data"
    }
   ],
   "source": [
    "#Plot confusion matrix\n",
    "import seaborn as sns\n",
    "#labels = ['Benign','Malicious']\n",
    "\n",
    "#Standard heatmap\n",
    "cf_norm = cf/cf.sum(axis=1)[:,None]\n",
    "cf_percentages = [\"{0:.2%}\".format(value) for value in cf_norm.flatten()]\n",
    "cf_numbers = [abbrv_num(value) for value in cf.flatten()]\n",
    "cf_labels = ['{v1}\\n({v2})'.format(v1=v1, v2=v2) for v1,v2 in zip(cf_percentages,cf_numbers)]\n",
    "cf_labels = np.asarray(cf_labels).reshape(cf.shape)\n",
    "\n",
    "fig, ax = plt.subplots(figsize=(6,6))\n",
    "plt.rc('font', size=14)\n",
    "#plot_confusion_matrix(rf_clf, df_test, y_test, ax=ax, normalize='true',xticks_rotation=30)\n",
    "column_labels = sorted(y_test.unique())\n",
    "column_labels = ['Malicious', 'Benign']\n",
    "#column_labels = ['BruteForce', 'DoS', 'Benign', 'PingScan', 'PortScan']\n",
    "sns.heatmap(cf_norm, annot=cf_labels, fmt='',cmap='Blues',cbar=False, vmin=0.0, vmax=1.0, ax=ax, \\\n",
    "            xticklabels=column_labels, yticklabels=column_labels)\n",
    "plt.ylabel('True label')\n",
    "plt.xlabel('Predicted label')\n",
    "plt.yticks(rotation='0',size=12)\n",
    "plt.xticks(rotation='65',size=12)\n",
    "plt.title(\"CIDDS-001 mean binary classification matrix - Trigrams\")\n",
    "plt.savefig('CIDDS_binaryclass_trigrams_cf.png',bbox_inches='tight')\n",
    "plt.show()"
   ]
  },
  {
   "cell_type": "code",
   "execution_count": 27,
   "metadata": {},
   "outputs": [
    {
     "name": "stdout",
     "output_type": "stream",
     "text": [
      "321091.4 12680.4 11297.6 2803957.0\n",
      "Accuracy: 0.9923855829409579 \n",
      "\n",
      "Recall: 0.995987005935449 \n",
      "\n",
      "Specificity: 0.9620087736591287\n"
     ]
    }
   ],
   "source": [
    "from sklearn.metrics import accuracy_score\n",
    "from sklearn.metrics import recall_score\n",
    "tn, fp, fn, tp = np.mean(cfs,axis=0).ravel()\n",
    "print(tn,fp,fn,tp)\n",
    "\n",
    "acc_scores = [accuracy_score(pred_tuple[0], pred_tuple[1]) for pred_tuple in preds]\n",
    "rec_score  = tp / (tp+fn)\n",
    "spec_score = tn / (tn+fp)\n",
    "print('Accuracy: ' + str(np.mean(acc_scores)), \"\\n\")\n",
    "print('Recall: ' + str(rec_score), \"\\n\")\n",
    "print('Specificity: ' + str(spec_score))"
   ]
  },
  {
   "cell_type": "markdown",
   "metadata": {},
   "source": [
    "## Normal feature set results"
   ]
  },
  {
   "cell_type": "code",
   "execution_count": 23,
   "metadata": {},
   "outputs": [
    {
     "name": "stdout",
     "output_type": "stream",
     "text": [
      "[array([[ 331889,    1882],\n",
      "       [   4742, 5625768]]), array([[ 332983,     789],\n",
      "       [   3741, 5626768]]), array([[ 331478,    2294],\n",
      "       [   4747, 5625762]]), array([[ 331925,    1847],\n",
      "       [   4751, 5625758]]), array([[ 330437,    3335],\n",
      "       [   4022, 5626487]])]\n",
      "(5, 2, 2)\n",
      "[[3.3174240e+05 2.0294000e+03]\n",
      " [4.4006000e+03 5.6261086e+06]]\n",
      "[[820.71909933 820.75492079]\n",
      " [433.06747742 432.90996755]]\n"
     ]
    }
   ],
   "source": [
    "print(cfs)\n",
    "print(np.shape(cfs))\n",
    "cf = np.mean(cfs,axis=(0))\n",
    "print(cf)\n",
    "print(np.std(cfs,axis=(0)))\n",
    "objectToFile(preds, \"cidds_trigrams_normal_preds_\"+label)"
   ]
  },
  {
   "cell_type": "code",
   "execution_count": 7,
   "metadata": {},
   "outputs": [],
   "source": [
    "from sklearn.metrics import classification_report, confusion_matrix\n",
    "label = 'class'\n",
    "preds_mem = objectFromFile(\"cidds_trigrams_normal_preds_\"+label)\n",
    "cfs = []\n",
    "for pred_tuple in preds_mem:\n",
    "    cfs.append(confusion_matrix(pred_tuple[0], pred_tuple[1]))"
   ]
  },
  {
   "cell_type": "code",
   "execution_count": 24,
   "metadata": {},
   "outputs": [
    {
     "data": {
      "image/png": "[encoded data removed]",
      "text/plain": [
       "<Figure size 432x432 with 1 Axes>"
      ]
     },
     "metadata": {
      "needs_background": "light"
     },
     "output_type": "display_data"
    }
   ],
   "source": [
    "#Plot confusion matrix\n",
    "import seaborn as sns\n",
    "#labels = ['Benign','Malicious']\n",
    "\n",
    "#Standard heatmap\n",
    "cf_norm = cf/cf.sum(axis=1)[:,None]\n",
    "cf_percentages = [\"{0:.2%}\".format(value) for value in cf_norm.flatten()]\n",
    "cf_numbers = [abbrv_num(value) for value in cf.flatten()]\n",
    "cf_labels = ['{v1}\\n({v2})'.format(v1=v1, v2=v2) for v1,v2 in zip(cf_percentages,cf_numbers)]\n",
    "cf_labels = np.asarray(cf_labels).reshape(cf.shape)\n",
    "\n",
    "fig, ax = plt.subplots(figsize=(6,6))\n",
    "plt.rc('font', size=14)\n",
    "#plot_confusion_matrix(rf_clf, df_test, y_test, ax=ax, normalize='true',xticks_rotation=30)\n",
    "column_labels = sorted(y_test.unique())\n",
    "column_labels = ['Malicious', 'Benign']\n",
    "#column_labels = ['BruteForce', 'DoS', 'Benign', 'PingScan', 'PortScan']\n",
    "sns.heatmap(cf_norm, annot=cf_labels, fmt='',cmap='Blues',cbar=False, vmin=0.0, vmax=1.0, ax=ax, \\\n",
    "            xticklabels=column_labels, yticklabels=column_labels)\n",
    "plt.ylabel('True label')\n",
    "plt.xlabel('Predicted label')\n",
    "plt.yticks(rotation='0',size=12)\n",
    "plt.xticks(rotation='65',size=12)\n",
    "plt.title(\"CIDDS-001 mean binary classification matrix - Normal\")\n",
    "plt.savefig('CIDDS_binaryclass_trigrams_normal_cf.png',bbox_inches='tight')\n",
    "plt.show()"
   ]
  },
  {
   "cell_type": "code",
   "execution_count": 8,
   "metadata": {},
   "outputs": [
    {
     "name": "stdout",
     "output_type": "stream",
     "text": [
      "331742.4 2029.4 4400.6 5626108.6\n",
      "Accuracy: 0.998921915315526 \n",
      "\n",
      "Recall: 0.999218436584741 \n",
      "\n",
      "Specificity: 0.9939197978978451\n"
     ]
    }
   ],
   "source": [
    "from sklearn.metrics import accuracy_score\n",
    "from sklearn.metrics import recall_score\n",
    "tn, fp, fn, tp = np.mean(cfs,axis=0).ravel()\n",
    "print(tn,fp,fn,tp)\n",
    "\n",
    "acc_scores = [accuracy_score(pred_tuple[0], pred_tuple[1]) for pred_tuple in preds_mem]\n",
    "rec_score  = tp / (tp+fn)\n",
    "spec_score = tn / (tn+fp)\n",
    "print('Accuracy: ' + str(np.mean(acc_scores)), \"\\n\")\n",
    "print('Recall: ' + str(rec_score), \"\\n\")\n",
    "print('Specificity: ' + str(spec_score))"
   ]
  },
  {
   "cell_type": "markdown",
   "metadata": {},
   "source": [
    "Feature: BytesAsInt, Score: 0.30886\n",
    "\n",
    "Feature: mean_bytes, Score: 0.27141\n",
    "\n",
    "Feature: Duration, Score: 0.23921\n",
    "\n",
    "Feature: Packets, Score: 0.16979\n",
    "\n",
    "Feature: TCP, Score: 0.00435\n",
    "\n",
    "Feature: UDP, Score: 0.00421\n",
    "\n",
    "Feature: ICMP, Score: 0.00217"
   ]
  },
  {
   "cell_type": "markdown",
   "metadata": {},
   "source": [
    "## Barplot of own feature sets"
   ]
  },
  {
   "cell_type": "code",
   "execution_count": 14,
   "metadata": {},
   "outputs": [
    {
     "data": {
      "image/png": "[encoded data removed]",
      "text/plain": [
       "<Figure size 504x432 with 1 Axes>"
      ]
     },
     "metadata": {
      "needs_background": "light"
     },
     "output_type": "display_data"
    }
   ],
   "source": [
    "import matplotlib.patches as mpatches\n",
    "\n",
    "#Scores\n",
    "genset_acc = 0.999\n",
    "genset_rec = 0.994\n",
    "genset_spec = 0.999\n",
    "trigramset_acc = 0.993\n",
    "trigramset_rec = 0.995\n",
    "trigramset_spec = 0.960\n",
    "altset_acc = 0.998\n",
    "altset_rec = 0.999\n",
    "altset_spec = 0.994\n",
    "\n",
    "#Colors\n",
    "clr_acc = 'royalblue'\n",
    "clr_rec = 'salmon'\n",
    "clr_spec = 'lightgreen'\n",
    "\n",
    "acc_patch = mpatches.Patch(color=clr_acc, label='accuracy')\n",
    "rec_patch = mpatches.Patch(color=clr_rec, label='recall')\n",
    "spec_patch = mpatches.Patch(color=clr_spec, label='specificity')\n",
    "\n",
    "labels = ['General\\n (7 features)', 'Alternative\\n (4 features)', \\\n",
    "          'Trigram\\n (8 features)']\n",
    "\n",
    "x = np.arange(len(labels))*10\n",
    "width = 2.5  # the width of the bars\n",
    "pad_width = 3\n",
    "scores = [genset_acc,genset_rec,genset_spec,trigramset_acc,trigramset_rec,trigramset_spec,altset_acc,altset_rec,altset_spec]\n",
    "\n",
    "fig, ax = plt.subplots(figsize=(7,6))\n",
    "\n",
    "#Spawn bar(s) of group 1\n",
    "plt.bar(x[0]-pad_width, height=scores[0], width=width, color=clr_acc)\n",
    "plt.bar(x[0], height=scores[1], width=width, color=clr_rec)\n",
    "plt.bar(x[0]+pad_width, height=scores[2], width=width, color=clr_spec)\n",
    "\n",
    "#Spawn bar(s) of group 2\n",
    "plt.bar(x[1]-pad_width, height=scores[3], width=width, color=clr_acc)\n",
    "plt.bar(x[1], height=scores[4], width=width, color=clr_rec)\n",
    "plt.bar(x[1]+pad_width, height=scores[5], width=width, color=clr_spec)\n",
    "\n",
    "#Spawn bar(s) of group 3\n",
    "plt.bar(x[2]-pad_width, height=scores[6], width=width, color=clr_acc)\n",
    "plt.bar(x[2], height=scores[7], width=width, color=clr_rec)\n",
    "plt.bar(x[2]+pad_width, height=scores[8], width=width, color=clr_spec)\n",
    "\n",
    "#Hide the left, right and top spines\n",
    "ax.spines['right'].set_visible(False)\n",
    "ax.spines['top'].set_visible(False)\n",
    "ax.spines['left'].set_visible(True)\n",
    "\n",
    "plt.tick_params(left = False)\n",
    "\n",
    "#Set plot details\n",
    "plt.rc('font', size=13)\n",
    "plt.ylabel('Metric score')\n",
    "plt.yticks()\n",
    "#ax.set_yticklabels([])\n",
    "plt.ylim([0.8, 1])\n",
    "#ax.get_yaxis().set_visible(False)\n",
    "plt.xticks(size='14')\n",
    "plt.title(\"CIDDS-001 feature sets comparison\", fontweight='bold', pad=25)\n",
    "ax.set_xticks(x)\n",
    "ax.set_xticklabels(labels)\n",
    "add_value_labels(ax)\n",
    "#ax.legend(handles=[acc_patch,rec_patch,spec_patch],bbox_to_anchor=(1.05, 1), loc='upper left', borderaxespad=0.)\n",
    "ax.set_axisbelow(True)\n",
    "plt.grid(axis='y', color='grey')\n",
    "fig.tight_layout()\n",
    "plt.savefig('CIDDS_binaryclass_featuresets_bars.png',bbox_inches='tight')\n",
    "plt.show()"
   ]
  },
  {
   "cell_type": "code",
   "execution_count": null,
   "metadata": {},
   "outputs": [],
   "source": []
  }
 ],
 "metadata": {
  "kernelspec": {
   "display_name": "Python 3",
   "language": "python",
   "name": "python3"
  },
  "language_info": {
   "codemirror_mode": {
    "name": "ipython",
    "version": 3
   },
   "file_extension": ".py",
   "mimetype": "text/x-python",
   "name": "python",
   "nbconvert_exporter": "python",
   "pygments_lexer": "ipython3",
   "version": "3.6.9"
  }
 },
 "nbformat": 4,
 "nbformat_minor": 4
}
