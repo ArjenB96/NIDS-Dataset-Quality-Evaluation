{
 "cells": [
  {
   "cell_type": "code",
   "execution_count": 1,
   "metadata": {},
   "outputs": [
    {
     "name": "stdout",
     "output_type": "stream",
     "text": [
      "INFO: Pandarallel will run on 12 workers.\n",
      "INFO: Pandarallel will use Memory file system to transfer data between the main process and workers.\n"
     ]
    }
   ],
   "source": [
    "# Third Party Imports\n",
    "import glob\n",
    "import os\n",
    "import pandas as pd\n",
    "import matplotlib.pyplot as plt\n",
    "import numpy as np\n",
    "import pickle\n",
    "from sklearn.model_selection import train_test_split\n",
    "from sklearn.tree import DecisionTreeClassifier\n",
    "from exphelperfunctions import abbrv_num\n",
    "from exphelperfunctions import objectToFile\n",
    "from exphelperfunctions import objectFromFile\n",
    "from exphelperfunctions import add_value_labels"
   ]
  },
  {
   "cell_type": "markdown",
   "metadata": {},
   "source": [
    "# Load original datasets"
   ]
  },
  {
   "cell_type": "code",
   "execution_count": 3,
   "metadata": {},
   "outputs": [
    {
     "name": "stdout",
     "output_type": "stream",
     "text": [
      "Importing training data: starting with /mnt/h/CICIDS/DDoS2019/train/DrDoS_LDAP.csv\n",
      "Concatenating: /mnt/h/CICIDS/DDoS2019/train/DrDoS_MSSQL.csv\n",
      "Concatenating: /mnt/h/CICIDS/DDoS2019/train/DrDoS_NetBIOS.csv\n",
      "Concatenating: /mnt/h/CICIDS/DDoS2019/train/DrDoS_UDP.csv\n",
      "Concatenating: /mnt/h/CICIDS/DDoS2019/train/Syn.csv\n",
      "Concatenating: /mnt/h/CICIDS/DDoS2019/train/UDPLag.csv\n"
     ]
    }
   ],
   "source": [
    "#Open CICIDS2019 train\n",
    "columns = ['Flow Duration','Protocol','Total Length of Fwd Packets','Total Length of Bwd Packets', \\\n",
    "           'Fwd Packet Length Mean','Bwd Packet Length Mean','Total Fwd Packets','Total Backward Packets', \\\n",
    "           'Fwd IAT Mean','Bwd IAT Mean','Fwd IAT Std','Label', 'Timestamp', 'Flow Packets/s']\n",
    "\n",
    "ngramcolumns = ['Flow Duration', 'Timestamp','Source IP','Total Fwd Packets', 'Total Backward Packets', \\\n",
    "            'Total Length of Fwd Packets', 'Total Length of Bwd Packets', 'Fwd Packet Length Max', \\\n",
    "            'Fwd Packet Length Min', 'Bwd Packet Length Max', 'Bwd Packet Length Min', \\\n",
    "            'Flow Bytes/s', 'Flow Packets/s', 'Flow IAT Mean', 'Flow IAT Std', \\\n",
    "            'Flow IAT Max', 'Flow IAT Min', 'Label', 'Timestamp']\n",
    "\n",
    "dtypes = {'Flow Duration':np.int32,'Protocol': np.int8,'Total Length of Fwd Packets':np.int32,'Total Length of Bwd Packets':np.int32, \\\n",
    "          'Fwd Packet Length Mean':np.float32,'Bwd Packet Length Mean':np.float32,'Total Fwd Packets':np.int32, \\\n",
    "          'Total Backward Packets':np.int16,'Fwd IAT Mean':np.float32,'Bwd IAT Mean':np.float32, 'Fwd IAT Std': np.float32, \\\n",
    "          'Fwd Packet Length Max': np.int16, 'Fwd Packet Length Min': np.int16, 'Bwd Packet Length Max': np.int32, \\\n",
    "          'Bwd Packet Length Min': np.int16, 'Flow IAT Mean': np.float32, 'Flow IAT Std': np.float32, \\\n",
    "          'Flow IAT Max': np.int32, 'Flow IAT Min': np.int32, 'Label':object}\n",
    "\n",
    "dirpath_train = \"/mnt/h/CICIDS/DDoS2019/train/\"\n",
    "\n",
    "#Remove below attacks from train set as test set does not have them\n",
    "excludelabels = ['DrDoS_NTP', 'DrDoS_DNS', 'DrDoS_SNMP', 'DrDoS_SSDP', 'TFTP']\n",
    "filepaths_train = [dirpath_train+f for f in os.listdir(dirpath_train) \\\n",
    "                   if (f.endswith('.csv') and  not any(label in f for label in excludelabels))]\n",
    "\n",
    "\n",
    "print(\"Importing training data: starting with \" + filepaths_train[0])\n",
    "df_train = pd.read_csv(filepaths_train[0] ,sep=',',header=0, usecols=columns, dtype= dtypes, skipinitialspace=True)\n",
    "for filename in filepaths_train[1:]:\n",
    "    print(\"Concatenating: \" + filename)\n",
    "    df_train = pd.concat([df_train,pd.read_csv(filename, sep=',',header=0, usecols=columns, dtype= dtypes, skipinitialspace=True)],ignore_index=True)\n",
    "    \n",
    "df_train.sort_values(by='Timestamp', inplace=True)"
   ]
  },
  {
   "cell_type": "code",
   "execution_count": 4,
   "metadata": {},
   "outputs": [
    {
     "name": "stdout",
     "output_type": "stream",
     "text": [
      "Importing testing data: starting with /mnt/h/CICIDS/DDoS2019/test/LDAP.csv\n",
      "Concatenating: /mnt/h/CICIDS/DDoS2019/test/MSSQL.csv\n",
      "Concatenating: /mnt/h/CICIDS/DDoS2019/test/NetBIOS.csv\n",
      "Concatenating: /mnt/h/CICIDS/DDoS2019/test/Syn.csv\n",
      "Concatenating: /mnt/h/CICIDS/DDoS2019/test/UDP.csv\n",
      "Concatenating: /mnt/h/CICIDS/DDoS2019/test/UDPLag.csv\n"
     ]
    }
   ],
   "source": [
    "#Open CICIDS2019 test\n",
    "dirpath_test = \"/mnt/h/CICIDS/DDoS2019/test/\"\n",
    "ngramcolumns = ['Flow Duration', 'Timestamp','Source IP','Total Fwd Packets', 'Total Backward Packets', \\\n",
    "            'Total Length of Fwd Packets', 'Total Length of Bwd Packets', 'Fwd Packet Length Max', \\\n",
    "            'Fwd Packet Length Min', 'Bwd Packet Length Max', 'Bwd Packet Length Min', \\\n",
    "            'Flow Bytes/s', 'Flow Packets/s', 'Flow IAT Mean', 'Flow IAT Std', \\\n",
    "            'Flow IAT Max', 'Flow IAT Min', 'Label']\n",
    "\n",
    "dtypes = {'Flow Duration':np.int32,'Protocol': np.int8,'Total Length of Fwd Packets':np.int32,'Total Length of Bwd Packets':np.int32,'Fwd Packet Length Mean':np.float32,'Bwd Packet Length Mean':np.float32,'Total Fwd Packets':np.int32,'Total Backward Packets':np.int16,'Fwd IAT Mean':np.float32,'Bwd IAT Mean':np.float32, 'Fwd IAT Std': np.float32,'Label':object}\n",
    "\n",
    "#Remove below attack from test set as train set does not have it\n",
    "excludelabel = 'Portmap'\n",
    "filepaths_test = [dirpath_test+f for f in os.listdir(dirpath_test) if (f.endswith('.csv') and not excludelabel in f)]\n",
    "\n",
    "print(\"Importing testing data: starting with \" + filepaths_test[0])\n",
    "df_test = pd.read_csv(filepaths_test[0] ,sep=',',header=0, usecols=columns, dtype= dtypes, skipinitialspace=True)\n",
    "for filename in filepaths_test[1:]:\n",
    "    print(\"Concatenating: \" + filename)\n",
    "    df_test = pd.concat([df_test,pd.read_csv(filename, sep=',',header=0, usecols=columns, dtype= dtypes, skipinitialspace=True)],ignore_index=True)\n",
    "    \n",
    "df_test.sort_values(by='Timestamp', inplace=True)"
   ]
  },
  {
   "cell_type": "code",
   "execution_count": 5,
   "metadata": {},
   "outputs": [],
   "source": [
    "#Drop rows with infinity values of packet/s feature\n",
    "with pd.option_context('mode.use_inf_as_na', True):\n",
    "    df_train.dropna(subset=['Flow Packets/s'], how='all', inplace=True)\n",
    "    df_test.dropna(subset=['Flow Packets/s'], how='all', inplace=True)\n",
    "    \n",
    "#Drop WebDDoS attack label as test set does not have it but its also mixed in other files\n",
    "df_train.drop(index=df_train[df_train['Label'] == 'WebDDoS'].index, inplace=True)"
   ]
  },
  {
   "cell_type": "markdown",
   "metadata": {},
   "source": [
    "# Add binary label and fix test label"
   ]
  },
  {
   "cell_type": "code",
   "execution_count": 20,
   "metadata": {
    "scrolled": false
   },
   "outputs": [
    {
     "name": "stdout",
     "output_type": "stream",
     "text": [
      "Malicious    17948693\n",
      "Benign          53092\n",
      "Name: BinLabel, dtype: int64\n",
      "MSSQL      5212109\n",
      "Syn        4033589\n",
      "UDP        3645100\n",
      "NetBIOS    3260427\n",
      "LDAP       1795595\n",
      "BENIGN       53092\n",
      "UDP-lag       1873\n",
      "Name: Label, dtype: int64\n"
     ]
    }
   ],
   "source": [
    "df_train['BinLabel'] = np.where(df_train['Label'] == 'BENIGN', 'Benign','Malicious')\n",
    "print(df_train['BinLabel'].value_counts())\n",
    "print(df_train['Label'].value_counts())"
   ]
  },
  {
   "cell_type": "code",
   "execution_count": 21,
   "metadata": {},
   "outputs": [
    {
     "name": "stdout",
     "output_type": "stream",
     "text": [
      "Malicious    8570126\n",
      "Benign         32455\n",
      "Name: BinLabel, dtype: int64\n",
      "DrDoS_MSSQL      2458902\n",
      "DrDoS_NetBIOS    2252286\n",
      "DrDoS_UDP        1798872\n",
      "DrDoS_LDAP       1241093\n",
      "Syn               642981\n",
      "UDP-lag           175992\n",
      "BENIGN             32455\n",
      "Name: Label, dtype: int64\n"
     ]
    }
   ],
   "source": [
    "df_test['BinLabel'] = np.where(df_test['Label'] == 'BENIGN', 'Benign','Malicious')\n",
    "print(df_test['BinLabel'].value_counts())\n",
    "print(df_test['Label'].value_counts())"
   ]
  },
  {
   "cell_type": "markdown",
   "metadata": {},
   "source": [
    "# Data composition (before removing NaNs)\n",
    "\n",
    "## Training data\n",
    "Benign: 11,579 instances (0.07%)\n",
    "\n",
    "Malicious: 15,879,535 instances (99.93%)\n",
    "\n",
    "## Testing data\n",
    "Benign: 52,231 instances (0.26%)\n",
    "\n",
    "Malicious: 20,120,600 instances (99.74%)"
   ]
  },
  {
   "cell_type": "markdown",
   "metadata": {},
   "source": [
    "# One hot encoding"
   ]
  },
  {
   "cell_type": "code",
   "execution_count": 8,
   "metadata": {
    "scrolled": true
   },
   "outputs": [],
   "source": [
    "# One hot encoding for protocol\n",
    "ohe_df = pd.get_dummies(df_train['Protocol'], prefix=\"proto\")\n",
    "df_train = df_train.join(ohe_df)\n",
    "\n",
    "ohe_df = pd.get_dummies(df_test['Protocol'], prefix=\"proto\")\n",
    "df_test = df_test.join(ohe_df)"
   ]
  },
  {
   "cell_type": "markdown",
   "metadata": {},
   "source": [
    "# Combine datasets and select features"
   ]
  },
  {
   "cell_type": "code",
   "execution_count": 9,
   "metadata": {},
   "outputs": [],
   "source": [
    "#Get input columns and corresponding label vector\n",
    "#Use duration, protocol, src bytes&packets per flow, dst bytes&packets per flow, mean src/dst bytes per flow\n",
    "#features = df_train.drop(['id','proto','service','state','attack_cat','label'],axis=1)\n",
    "features = ['Flow Duration','proto_0','proto_6','proto_17','Total Length of Fwd Packets','Total Length of Bwd Packets','Fwd Packet Length Mean','Bwd Packet Length Mean','Total Fwd Packets','Total Backward Packets','Fwd IAT Mean','Bwd IAT Mean']\n",
    "\n",
    "#Switch train and test set from their site for better classification scores due to sample size during training\n",
    "label = 'BinLabel'\n",
    "y_train = df_test[label]\n",
    "y_test = df_train[label]\n",
    "df_temp = df_train.copy()\n",
    "df_train = df_test[features].copy()\n",
    "df_test = df_temp[features]\n",
    "df_temp = np.nan"
   ]
  },
  {
   "cell_type": "markdown",
   "metadata": {},
   "source": [
    "# Random Forest implementation"
   ]
  },
  {
   "cell_type": "code",
   "execution_count": 10,
   "metadata": {
    "scrolled": true
   },
   "outputs": [
    {
     "name": "stderr",
     "output_type": "stream",
     "text": [
      "[Parallel(n_jobs=5)]: Using backend ThreadingBackend with 5 concurrent workers.\n"
     ]
    },
    {
     "name": "stdout",
     "output_type": "stream",
     "text": [
      "building tree 1 of 100building tree 2 of 100building tree 3 of 100building tree 4 of 100building tree 5 of 100\n",
      "\n",
      "\n",
      "\n",
      "\n",
      "building tree 6 of 100\n",
      "building tree 7 of 100\n",
      "building tree 8 of 100building tree 9 of 100\n",
      "\n"
     ]
    },
    {
     "name": "stderr",
     "output_type": "stream",
     "text": [
      "[Parallel(n_jobs=5)]: Done   3 tasks      | elapsed:   22.0s\n"
     ]
    },
    {
     "name": "stdout",
     "output_type": "stream",
     "text": [
      "building tree 10 of 100\n",
      "building tree 11 of 100\n",
      "building tree 12 of 100\n",
      "building tree 13 of 100\n"
     ]
    },
    {
     "name": "stderr",
     "output_type": "stream",
     "text": [
      "[Parallel(n_jobs=5)]: Done   8 tasks      | elapsed:   42.0s\n"
     ]
    },
    {
     "name": "stdout",
     "output_type": "stream",
     "text": [
      "building tree 14 of 100\n",
      "building tree 15 of 100\n",
      "building tree 16 of 100\n",
      "building tree 17 of 100\n",
      "building tree 18 of 100\n",
      "building tree 19 of 100\n",
      "building tree 20 of 100\n"
     ]
    },
    {
     "name": "stderr",
     "output_type": "stream",
     "text": [
      "[Parallel(n_jobs=5)]: Done  15 tasks      | elapsed:  1.1min\n"
     ]
    },
    {
     "name": "stdout",
     "output_type": "stream",
     "text": [
      "building tree 21 of 100\n",
      "building tree 22 of 100\n",
      "building tree 23 of 100\n",
      "building tree 24 of 100\n",
      "building tree 25 of 100\n",
      "building tree 26 of 100\n",
      "building tree 27 of 100\n"
     ]
    },
    {
     "name": "stderr",
     "output_type": "stream",
     "text": [
      "[Parallel(n_jobs=5)]: Done  22 tasks      | elapsed:  1.5min\n"
     ]
    },
    {
     "name": "stdout",
     "output_type": "stream",
     "text": [
      "building tree 28 of 100\n",
      "building tree 29 of 100\n",
      "building tree 30 of 100\n",
      "building tree 31 of 100\n",
      "building tree 32 of 100\n",
      "building tree 33 of 100\n",
      "building tree 34 of 100\n",
      "building tree 35 of 100\n",
      "building tree 36 of 100\n"
     ]
    },
    {
     "name": "stderr",
     "output_type": "stream",
     "text": [
      "[Parallel(n_jobs=5)]: Done  31 tasks      | elapsed:  2.1min\n"
     ]
    },
    {
     "name": "stdout",
     "output_type": "stream",
     "text": [
      "building tree 37 of 100\n",
      "building tree 38 of 100\n",
      "building tree 39 of 100\n",
      "building tree 40 of 100\n",
      "building tree 41 of 100\n",
      "building tree 42 of 100\n",
      "building tree 43 of 100\n",
      "building tree 44 of 100\n",
      "building tree 45 of 100\n"
     ]
    },
    {
     "name": "stderr",
     "output_type": "stream",
     "text": [
      "[Parallel(n_jobs=5)]: Done  40 tasks      | elapsed:  2.7min\n"
     ]
    },
    {
     "name": "stdout",
     "output_type": "stream",
     "text": [
      "building tree 46 of 100\n",
      "building tree 47 of 100building tree 48 of 100\n",
      "\n",
      "building tree 49 of 100\n",
      "building tree 50 of 100\n",
      "building tree 51 of 100\n",
      "building tree 52 of 100\n",
      "building tree 53 of 100\n",
      "building tree 54 of 100\n",
      "building tree 55 of 100\n",
      "building tree 56 of 100\n"
     ]
    },
    {
     "name": "stderr",
     "output_type": "stream",
     "text": [
      "[Parallel(n_jobs=5)]: Done  51 tasks      | elapsed:  3.3min\n"
     ]
    },
    {
     "name": "stdout",
     "output_type": "stream",
     "text": [
      "building tree 57 of 100\n",
      "building tree 58 of 100\n",
      "building tree 59 of 100\n",
      "building tree 60 of 100\n",
      "building tree 61 of 100\n",
      "building tree 62 of 100\n",
      "building tree 63 of 100\n",
      "building tree 64 of 100\n",
      "building tree 65 of 100\n",
      "building tree 66 of 100\n",
      "building tree 67 of 100\n"
     ]
    },
    {
     "name": "stderr",
     "output_type": "stream",
     "text": [
      "[Parallel(n_jobs=5)]: Done  62 tasks      | elapsed:  3.9min\n"
     ]
    },
    {
     "name": "stdout",
     "output_type": "stream",
     "text": [
      "building tree 68 of 100\n",
      "building tree 69 of 100\n",
      "building tree 70 of 100\n",
      "building tree 71 of 100\n",
      "building tree 72 of 100\n",
      "building tree 73 of 100\n",
      "building tree 74 of 100\n",
      "building tree 75 of 100\n",
      "building tree 76 of 100\n",
      "building tree 77 of 100\n",
      "building tree 78 of 100\n",
      "building tree 79 of 100\n",
      "building tree 80 of 100\n"
     ]
    },
    {
     "name": "stderr",
     "output_type": "stream",
     "text": [
      "[Parallel(n_jobs=5)]: Done  75 tasks      | elapsed:  4.7min\n"
     ]
    },
    {
     "name": "stdout",
     "output_type": "stream",
     "text": [
      "building tree 81 of 100\n",
      "building tree 82 of 100\n",
      "building tree 83 of 100\n",
      "building tree 84 of 100\n",
      "building tree 85 of 100\n",
      "building tree 86 of 100\n",
      "building tree 87 of 100\n",
      "building tree 88 of 100\n",
      "building tree 89 of 100\n",
      "building tree 90 of 100\n",
      "building tree 91 of 100\n",
      "building tree 92 of 100\n",
      "building tree 93 of 100\n"
     ]
    },
    {
     "name": "stderr",
     "output_type": "stream",
     "text": [
      "[Parallel(n_jobs=5)]: Done  88 tasks      | elapsed:  5.5min\n"
     ]
    },
    {
     "name": "stdout",
     "output_type": "stream",
     "text": [
      "building tree 94 of 100\n",
      "building tree 95 of 100\n",
      "building tree 96 of 100\n",
      "building tree 97 of 100\n",
      "building tree 98 of 100\n",
      "building tree 99 of 100\n",
      "building tree 100 of 100\n"
     ]
    },
    {
     "name": "stderr",
     "output_type": "stream",
     "text": [
      "[Parallel(n_jobs=5)]: Done 100 out of 100 | elapsed:  6.2min finished\n",
      "[Parallel(n_jobs=5)]: Using backend ThreadingBackend with 5 concurrent workers.\n",
      "[Parallel(n_jobs=5)]: Done   3 tasks      | elapsed:    1.7s\n",
      "[Parallel(n_jobs=5)]: Done   8 tasks      | elapsed:    3.2s\n",
      "[Parallel(n_jobs=5)]: Done  15 tasks      | elapsed:    5.0s\n",
      "[Parallel(n_jobs=5)]: Done  22 tasks      | elapsed:    7.2s\n",
      "[Parallel(n_jobs=5)]: Done  31 tasks      | elapsed:    9.9s\n",
      "[Parallel(n_jobs=5)]: Done  40 tasks      | elapsed:   12.4s\n",
      "[Parallel(n_jobs=5)]: Done  51 tasks      | elapsed:   15.6s\n",
      "[Parallel(n_jobs=5)]: Done  62 tasks      | elapsed:   18.7s\n",
      "[Parallel(n_jobs=5)]: Done  75 tasks      | elapsed:   22.2s\n",
      "[Parallel(n_jobs=5)]: Done  88 tasks      | elapsed:   26.0s\n",
      "[Parallel(n_jobs=5)]: Done 100 out of 100 | elapsed:   29.3s finished\n",
      "[Parallel(n_jobs=5)]: Using backend ThreadingBackend with 5 concurrent workers.\n"
     ]
    },
    {
     "name": "stdout",
     "output_type": "stream",
     "text": [
      "building tree 1 of 100building tree 2 of 100building tree 3 of 100building tree 4 of 100building tree 5 of 100\n",
      "\n",
      "\n",
      "\n",
      "\n",
      "building tree 6 of 100\n",
      "building tree 7 of 100\n",
      "building tree 8 of 100\n"
     ]
    },
    {
     "name": "stderr",
     "output_type": "stream",
     "text": [
      "[Parallel(n_jobs=5)]: Done   3 tasks      | elapsed:   25.6s\n"
     ]
    },
    {
     "name": "stdout",
     "output_type": "stream",
     "text": [
      "building tree 9 of 100\n",
      "building tree 10 of 100\n",
      "building tree 11 of 100\n",
      "building tree 12 of 100\n",
      "building tree 13 of 100\n"
     ]
    },
    {
     "name": "stderr",
     "output_type": "stream",
     "text": [
      "[Parallel(n_jobs=5)]: Done   8 tasks      | elapsed:   44.0s\n"
     ]
    },
    {
     "name": "stdout",
     "output_type": "stream",
     "text": [
      "building tree 14 of 100\n",
      "building tree 15 of 100\n",
      "building tree 16 of 100\n",
      "building tree 17 of 100\n",
      "building tree 18 of 100\n",
      "building tree 19 of 100\n",
      "building tree 20 of 100\n"
     ]
    },
    {
     "name": "stderr",
     "output_type": "stream",
     "text": [
      "[Parallel(n_jobs=5)]: Done  15 tasks      | elapsed:  1.1min\n"
     ]
    },
    {
     "name": "stdout",
     "output_type": "stream",
     "text": [
      "building tree 21 of 100\n",
      "building tree 22 of 100\n",
      "building tree 23 of 100\n",
      "building tree 24 of 100\n",
      "building tree 25 of 100\n",
      "building tree 26 of 100\n",
      "building tree 27 of 100\n"
     ]
    },
    {
     "name": "stderr",
     "output_type": "stream",
     "text": [
      "[Parallel(n_jobs=5)]: Done  22 tasks      | elapsed:  1.6min\n"
     ]
    },
    {
     "name": "stdout",
     "output_type": "stream",
     "text": [
      "building tree 28 of 100\n",
      "building tree 29 of 100\n",
      "building tree 30 of 100\n",
      "building tree 31 of 100\n",
      "building tree 32 of 100\n",
      "building tree 33 of 100\n",
      "building tree 34 of 100\n",
      "building tree 35 of 100\n",
      "building tree 36 of 100\n"
     ]
    },
    {
     "name": "stderr",
     "output_type": "stream",
     "text": [
      "[Parallel(n_jobs=5)]: Done  31 tasks      | elapsed:  2.2min\n"
     ]
    },
    {
     "name": "stdout",
     "output_type": "stream",
     "text": [
      "building tree 37 of 100\n",
      "building tree 38 of 100\n",
      "building tree 39 of 100\n",
      "building tree 40 of 100\n",
      "building tree 41 of 100\n",
      "building tree 42 of 100\n",
      "building tree 43 of 100\n",
      "building tree 44 of 100\n",
      "building tree 45 of 100\n"
     ]
    },
    {
     "name": "stderr",
     "output_type": "stream",
     "text": [
      "[Parallel(n_jobs=5)]: Done  40 tasks      | elapsed:  2.6min\n"
     ]
    },
    {
     "name": "stdout",
     "output_type": "stream",
     "text": [
      "building tree 46 of 100\n",
      "building tree 47 of 100\n",
      "building tree 48 of 100\n",
      "building tree 49 of 100\n",
      "building tree 50 of 100\n",
      "building tree 51 of 100\n",
      "building tree 52 of 100\n",
      "building tree 53 of 100\n",
      "building tree 54 of 100\n",
      "building tree 55 of 100\n",
      "building tree 56 of 100\n"
     ]
    },
    {
     "name": "stderr",
     "output_type": "stream",
     "text": [
      "[Parallel(n_jobs=5)]: Done  51 tasks      | elapsed:  3.3min\n"
     ]
    },
    {
     "name": "stdout",
     "output_type": "stream",
     "text": [
      "building tree 57 of 100\n",
      "building tree 58 of 100\n",
      "building tree 59 of 100building tree 60 of 100\n",
      "\n",
      "building tree 61 of 100\n",
      "building tree 62 of 100\n",
      "building tree 63 of 100\n",
      "building tree 64 of 100\n",
      "building tree 65 of 100\n",
      "building tree 66 of 100\n",
      "building tree 67 of 100\n"
     ]
    },
    {
     "name": "stderr",
     "output_type": "stream",
     "text": [
      "[Parallel(n_jobs=5)]: Done  62 tasks      | elapsed:  4.0min\n"
     ]
    },
    {
     "name": "stdout",
     "output_type": "stream",
     "text": [
      "building tree 68 of 100\n",
      "building tree 69 of 100building tree 70 of 100\n",
      "\n",
      "building tree 71 of 100\n",
      "building tree 72 of 100\n",
      "building tree 73 of 100\n",
      "building tree 74 of 100\n",
      "building tree 75 of 100\n",
      "building tree 76 of 100\n",
      "building tree 77 of 100\n",
      "building tree 78 of 100\n",
      "building tree 79 of 100\n",
      "building tree 80 of 100\n"
     ]
    },
    {
     "name": "stderr",
     "output_type": "stream",
     "text": [
      "[Parallel(n_jobs=5)]: Done  75 tasks      | elapsed:  4.9min\n"
     ]
    },
    {
     "name": "stdout",
     "output_type": "stream",
     "text": [
      "building tree 81 of 100\n",
      "building tree 82 of 100\n",
      "building tree 83 of 100\n",
      "building tree 84 of 100\n",
      "building tree 85 of 100\n",
      "building tree 86 of 100\n",
      "building tree 87 of 100\n",
      "building tree 88 of 100\n",
      "building tree 89 of 100\n",
      "building tree 90 of 100\n",
      "building tree 91 of 100\n",
      "building tree 92 of 100\n",
      "building tree 93 of 100\n"
     ]
    },
    {
     "name": "stderr",
     "output_type": "stream",
     "text": [
      "[Parallel(n_jobs=5)]: Done  88 tasks      | elapsed:  5.7min\n"
     ]
    },
    {
     "name": "stdout",
     "output_type": "stream",
     "text": [
      "building tree 94 of 100\n",
      "building tree 95 of 100\n",
      "building tree 96 of 100\n",
      "building tree 97 of 100\n",
      "building tree 98 of 100\n",
      "building tree 99 of 100\n",
      "building tree 100 of 100\n"
     ]
    },
    {
     "name": "stderr",
     "output_type": "stream",
     "text": [
      "[Parallel(n_jobs=5)]: Done 100 out of 100 | elapsed:  6.4min finished\n",
      "[Parallel(n_jobs=5)]: Using backend ThreadingBackend with 5 concurrent workers.\n",
      "[Parallel(n_jobs=5)]: Done   3 tasks      | elapsed:    1.6s\n",
      "[Parallel(n_jobs=5)]: Done   8 tasks      | elapsed:    3.3s\n",
      "[Parallel(n_jobs=5)]: Done  15 tasks      | elapsed:    4.9s\n",
      "[Parallel(n_jobs=5)]: Done  22 tasks      | elapsed:    7.5s\n",
      "[Parallel(n_jobs=5)]: Done  31 tasks      | elapsed:    9.9s\n",
      "[Parallel(n_jobs=5)]: Done  40 tasks      | elapsed:   12.4s\n",
      "[Parallel(n_jobs=5)]: Done  51 tasks      | elapsed:   15.4s\n",
      "[Parallel(n_jobs=5)]: Done  62 tasks      | elapsed:   18.8s\n",
      "[Parallel(n_jobs=5)]: Done  75 tasks      | elapsed:   22.4s\n",
      "[Parallel(n_jobs=5)]: Done  88 tasks      | elapsed:   26.0s\n",
      "[Parallel(n_jobs=5)]: Done 100 out of 100 | elapsed:   29.3s finished\n",
      "[Parallel(n_jobs=5)]: Using backend ThreadingBackend with 5 concurrent workers.\n"
     ]
    },
    {
     "name": "stdout",
     "output_type": "stream",
     "text": [
      "building tree 1 of 100building tree 2 of 100building tree 3 of 100building tree 4 of 100\n",
      "\n",
      "building tree 5 of 100\n",
      "\n",
      "\n",
      "building tree 6 of 100\n",
      "building tree 7 of 100\n",
      "building tree 8 of 100\n"
     ]
    },
    {
     "name": "stderr",
     "output_type": "stream",
     "text": [
      "[Parallel(n_jobs=5)]: Done   3 tasks      | elapsed:   21.6s\n"
     ]
    },
    {
     "name": "stdout",
     "output_type": "stream",
     "text": [
      "building tree 9 of 100\n",
      "building tree 10 of 100\n",
      "building tree 11 of 100\n",
      "building tree 12 of 100\n",
      "building tree 13 of 100\n",
      "building tree 14 of 100\n"
     ]
    },
    {
     "name": "stderr",
     "output_type": "stream",
     "text": [
      "[Parallel(n_jobs=5)]: Done   8 tasks      | elapsed:   43.2s\n"
     ]
    },
    {
     "name": "stdout",
     "output_type": "stream",
     "text": [
      "building tree 15 of 100building tree 16 of 100\n",
      "\n",
      "building tree 17 of 100\n",
      "building tree 18 of 100\n",
      "building tree 19 of 100\n",
      "building tree 20 of 100\n"
     ]
    },
    {
     "name": "stderr",
     "output_type": "stream",
     "text": [
      "[Parallel(n_jobs=5)]: Done  15 tasks      | elapsed:  1.1min\n"
     ]
    },
    {
     "name": "stdout",
     "output_type": "stream",
     "text": [
      "building tree 21 of 100\n",
      "building tree 22 of 100\n",
      "building tree 23 of 100\n",
      "building tree 24 of 100\n",
      "building tree 25 of 100\n",
      "building tree 26 of 100\n",
      "building tree 27 of 100\n"
     ]
    },
    {
     "name": "stderr",
     "output_type": "stream",
     "text": [
      "[Parallel(n_jobs=5)]: Done  22 tasks      | elapsed:  1.6min\n"
     ]
    },
    {
     "name": "stdout",
     "output_type": "stream",
     "text": [
      "building tree 28 of 100\n",
      "building tree 29 of 100\n",
      "building tree 30 of 100\n",
      "building tree 31 of 100\n",
      "building tree 32 of 100\n",
      "building tree 33 of 100\n",
      "building tree 34 of 100\n",
      "building tree 35 of 100\n",
      "building tree 36 of 100\n"
     ]
    },
    {
     "name": "stderr",
     "output_type": "stream",
     "text": [
      "[Parallel(n_jobs=5)]: Done  31 tasks      | elapsed:  2.0min\n"
     ]
    },
    {
     "name": "stdout",
     "output_type": "stream",
     "text": [
      "building tree 37 of 100\n",
      "building tree 38 of 100\n",
      "building tree 39 of 100building tree 40 of 100\n",
      "\n",
      "building tree 41 of 100\n",
      "building tree 42 of 100\n",
      "building tree 43 of 100\n",
      "building tree 44 of 100\n"
     ]
    },
    {
     "name": "stderr",
     "output_type": "stream",
     "text": [
      "[Parallel(n_jobs=5)]: Done  40 tasks      | elapsed:  2.6min\n"
     ]
    },
    {
     "name": "stdout",
     "output_type": "stream",
     "text": [
      "building tree 45 of 100\n",
      "building tree 46 of 100\n",
      "building tree 47 of 100\n",
      "building tree 48 of 100\n",
      "building tree 49 of 100\n",
      "building tree 50 of 100\n",
      "building tree 51 of 100\n",
      "building tree 52 of 100\n",
      "building tree 53 of 100\n",
      "building tree 54 of 100\n",
      "building tree 55 of 100\n",
      "building tree 56 of 100\n"
     ]
    },
    {
     "name": "stderr",
     "output_type": "stream",
     "text": [
      "[Parallel(n_jobs=5)]: Done  51 tasks      | elapsed:  3.2min\n"
     ]
    },
    {
     "name": "stdout",
     "output_type": "stream",
     "text": [
      "building tree 57 of 100\n",
      "building tree 58 of 100\n",
      "building tree 59 of 100\n",
      "building tree 60 of 100\n",
      "building tree 61 of 100\n",
      "building tree 62 of 100\n",
      "building tree 63 of 100\n",
      "building tree 64 of 100\n",
      "building tree 65 of 100\n",
      "building tree 66 of 100\n",
      "building tree 67 of 100\n"
     ]
    },
    {
     "name": "stderr",
     "output_type": "stream",
     "text": [
      "[Parallel(n_jobs=5)]: Done  62 tasks      | elapsed:  3.9min\n"
     ]
    },
    {
     "name": "stdout",
     "output_type": "stream",
     "text": [
      "building tree 68 of 100\n",
      "building tree 69 of 100\n",
      "building tree 70 of 100\n",
      "building tree 71 of 100\n",
      "building tree 72 of 100\n",
      "building tree 73 of 100\n",
      "building tree 74 of 100\n",
      "building tree 75 of 100\n",
      "building tree 76 of 100\n",
      "building tree 77 of 100\n",
      "building tree 78 of 100\n",
      "building tree 79 of 100\n",
      "building tree 80 of 100\n"
     ]
    },
    {
     "name": "stderr",
     "output_type": "stream",
     "text": [
      "[Parallel(n_jobs=5)]: Done  75 tasks      | elapsed:  4.8min\n"
     ]
    },
    {
     "name": "stdout",
     "output_type": "stream",
     "text": [
      "building tree 81 of 100\n",
      "building tree 82 of 100\n",
      "building tree 83 of 100\n",
      "building tree 84 of 100\n",
      "building tree 85 of 100\n",
      "building tree 86 of 100\n",
      "building tree 87 of 100\n",
      "building tree 88 of 100\n",
      "building tree 89 of 100\n",
      "building tree 90 of 100\n",
      "building tree 91 of 100\n",
      "building tree 92 of 100\n",
      "building tree 93 of 100\n"
     ]
    },
    {
     "name": "stderr",
     "output_type": "stream",
     "text": [
      "[Parallel(n_jobs=5)]: Done  88 tasks      | elapsed:  5.5min\n"
     ]
    },
    {
     "name": "stdout",
     "output_type": "stream",
     "text": [
      "building tree 94 of 100\n",
      "building tree 95 of 100\n",
      "building tree 96 of 100\n",
      "building tree 97 of 100\n",
      "building tree 98 of 100\n",
      "building tree 99 of 100\n",
      "building tree 100 of 100\n"
     ]
    },
    {
     "name": "stderr",
     "output_type": "stream",
     "text": [
      "[Parallel(n_jobs=5)]: Done 100 out of 100 | elapsed:  6.2min finished\n",
      "[Parallel(n_jobs=5)]: Using backend ThreadingBackend with 5 concurrent workers.\n",
      "[Parallel(n_jobs=5)]: Done   3 tasks      | elapsed:    1.8s\n",
      "[Parallel(n_jobs=5)]: Done   8 tasks      | elapsed:    3.3s\n",
      "[Parallel(n_jobs=5)]: Done  15 tasks      | elapsed:    5.0s\n",
      "[Parallel(n_jobs=5)]: Done  22 tasks      | elapsed:    7.3s\n",
      "[Parallel(n_jobs=5)]: Done  31 tasks      | elapsed:   10.1s\n",
      "[Parallel(n_jobs=5)]: Done  40 tasks      | elapsed:   13.0s\n",
      "[Parallel(n_jobs=5)]: Done  51 tasks      | elapsed:   16.7s\n",
      "[Parallel(n_jobs=5)]: Done  62 tasks      | elapsed:   19.7s\n",
      "[Parallel(n_jobs=5)]: Done  75 tasks      | elapsed:   23.5s\n",
      "[Parallel(n_jobs=5)]: Done  88 tasks      | elapsed:   27.2s\n",
      "[Parallel(n_jobs=5)]: Done 100 out of 100 | elapsed:   30.8s finished\n",
      "[Parallel(n_jobs=5)]: Using backend ThreadingBackend with 5 concurrent workers.\n"
     ]
    },
    {
     "name": "stdout",
     "output_type": "stream",
     "text": [
      "building tree 1 of 100building tree 2 of 100building tree 3 of 100building tree 4 of 100building tree 5 of 100\n",
      "\n",
      "\n",
      "\n",
      "\n",
      "building tree 6 of 100\n",
      "building tree 7 of 100\n"
     ]
    },
    {
     "name": "stderr",
     "output_type": "stream",
     "text": [
      "[Parallel(n_jobs=5)]: Done   3 tasks      | elapsed:   23.7s\n"
     ]
    },
    {
     "name": "stdout",
     "output_type": "stream",
     "text": [
      "building tree 8 of 100\n",
      "building tree 9 of 100\n",
      "building tree 10 of 100\n",
      "building tree 11 of 100\n",
      "building tree 12 of 100\n",
      "building tree 13 of 100\n"
     ]
    },
    {
     "name": "stderr",
     "output_type": "stream",
     "text": [
      "[Parallel(n_jobs=5)]: Done   8 tasks      | elapsed:   42.1s\n"
     ]
    },
    {
     "name": "stdout",
     "output_type": "stream",
     "text": [
      "building tree 14 of 100\n",
      "building tree 15 of 100\n",
      "building tree 16 of 100\n",
      "building tree 17 of 100\n",
      "building tree 18 of 100\n",
      "building tree 19 of 100\n",
      "building tree 20 of 100\n"
     ]
    },
    {
     "name": "stderr",
     "output_type": "stream",
     "text": [
      "[Parallel(n_jobs=5)]: Done  15 tasks      | elapsed:  1.1min\n"
     ]
    },
    {
     "name": "stdout",
     "output_type": "stream",
     "text": [
      "building tree 21 of 100\n",
      "building tree 22 of 100\n",
      "building tree 23 of 100\n",
      "building tree 24 of 100\n",
      "building tree 25 of 100\n",
      "building tree 26 of 100\n",
      "building tree 27 of 100\n"
     ]
    },
    {
     "name": "stderr",
     "output_type": "stream",
     "text": [
      "[Parallel(n_jobs=5)]: Done  22 tasks      | elapsed:  1.6min\n"
     ]
    },
    {
     "name": "stdout",
     "output_type": "stream",
     "text": [
      "building tree 28 of 100\n",
      "building tree 29 of 100\n",
      "building tree 30 of 100\n",
      "building tree 31 of 100\n",
      "building tree 32 of 100\n",
      "building tree 33 of 100\n",
      "building tree 34 of 100\n",
      "building tree 35 of 100\n",
      "building tree 36 of 100\n"
     ]
    },
    {
     "name": "stderr",
     "output_type": "stream",
     "text": [
      "[Parallel(n_jobs=5)]: Done  31 tasks      | elapsed:  2.1min\n"
     ]
    },
    {
     "name": "stdout",
     "output_type": "stream",
     "text": [
      "building tree 37 of 100\n",
      "building tree 38 of 100\n",
      "building tree 39 of 100\n",
      "building tree 40 of 100\n",
      "building tree 41 of 100\n",
      "building tree 42 of 100\n",
      "building tree 43 of 100\n",
      "building tree 44 of 100\n",
      "building tree 45 of 100\n"
     ]
    },
    {
     "name": "stderr",
     "output_type": "stream",
     "text": [
      "[Parallel(n_jobs=5)]: Done  40 tasks      | elapsed:  2.7min\n"
     ]
    },
    {
     "name": "stdout",
     "output_type": "stream",
     "text": [
      "building tree 46 of 100\n",
      "building tree 47 of 100\n",
      "building tree 48 of 100\n",
      "building tree 49 of 100\n",
      "building tree 50 of 100\n",
      "building tree 51 of 100\n",
      "building tree 52 of 100\n",
      "building tree 53 of 100\n",
      "building tree 54 of 100\n",
      "building tree 55 of 100\n",
      "building tree 56 of 100\n"
     ]
    },
    {
     "name": "stderr",
     "output_type": "stream",
     "text": [
      "[Parallel(n_jobs=5)]: Done  51 tasks      | elapsed:  3.3min\n"
     ]
    },
    {
     "name": "stdout",
     "output_type": "stream",
     "text": [
      "building tree 57 of 100\n",
      "building tree 58 of 100\n",
      "building tree 59 of 100\n",
      "building tree 60 of 100\n",
      "building tree 61 of 100\n",
      "building tree 62 of 100\n",
      "building tree 63 of 100\n",
      "building tree 64 of 100\n",
      "building tree 65 of 100\n",
      "building tree 66 of 100\n",
      "building tree 67 of 100\n"
     ]
    },
    {
     "name": "stderr",
     "output_type": "stream",
     "text": [
      "[Parallel(n_jobs=5)]: Done  62 tasks      | elapsed:  4.0min\n"
     ]
    },
    {
     "name": "stdout",
     "output_type": "stream",
     "text": [
      "building tree 68 of 100\n",
      "building tree 69 of 100\n",
      "building tree 70 of 100\n",
      "building tree 71 of 100\n",
      "building tree 72 of 100\n",
      "building tree 73 of 100\n",
      "building tree 74 of 100\n",
      "building tree 75 of 100\n",
      "building tree 76 of 100\n",
      "building tree 77 of 100\n",
      "building tree 78 of 100\n",
      "building tree 79 of 100\n",
      "building tree 80 of 100building tree 81 of 100\n",
      "\n"
     ]
    },
    {
     "name": "stderr",
     "output_type": "stream",
     "text": [
      "[Parallel(n_jobs=5)]: Done  75 tasks      | elapsed:  4.8min\n"
     ]
    },
    {
     "name": "stdout",
     "output_type": "stream",
     "text": [
      "building tree 82 of 100\n",
      "building tree 83 of 100\n",
      "building tree 84 of 100\n",
      "building tree 85 of 100\n",
      "building tree 86 of 100\n",
      "building tree 87 of 100\n",
      "building tree 88 of 100\n",
      "building tree 89 of 100\n",
      "building tree 90 of 100\n",
      "building tree 91 of 100\n",
      "building tree 92 of 100\n",
      "building tree 93 of 100\n"
     ]
    },
    {
     "name": "stderr",
     "output_type": "stream",
     "text": [
      "[Parallel(n_jobs=5)]: Done  88 tasks      | elapsed:  5.6min\n"
     ]
    },
    {
     "name": "stdout",
     "output_type": "stream",
     "text": [
      "building tree 94 of 100\n",
      "building tree 95 of 100\n",
      "building tree 96 of 100\n",
      "building tree 97 of 100\n",
      "building tree 98 of 100\n",
      "building tree 99 of 100\n",
      "building tree 100 of 100\n"
     ]
    },
    {
     "name": "stderr",
     "output_type": "stream",
     "text": [
      "[Parallel(n_jobs=5)]: Done 100 out of 100 | elapsed:  6.3min finished\n",
      "[Parallel(n_jobs=5)]: Using backend ThreadingBackend with 5 concurrent workers.\n",
      "[Parallel(n_jobs=5)]: Done   3 tasks      | elapsed:    1.7s\n",
      "[Parallel(n_jobs=5)]: Done   8 tasks      | elapsed:    3.4s\n",
      "[Parallel(n_jobs=5)]: Done  15 tasks      | elapsed:    5.2s\n",
      "[Parallel(n_jobs=5)]: Done  22 tasks      | elapsed:    7.4s\n",
      "[Parallel(n_jobs=5)]: Done  31 tasks      | elapsed:   10.1s\n",
      "[Parallel(n_jobs=5)]: Done  40 tasks      | elapsed:   12.6s\n",
      "[Parallel(n_jobs=5)]: Done  51 tasks      | elapsed:   15.5s\n",
      "[Parallel(n_jobs=5)]: Done  62 tasks      | elapsed:   18.9s\n",
      "[Parallel(n_jobs=5)]: Done  75 tasks      | elapsed:   22.6s\n",
      "[Parallel(n_jobs=5)]: Done  88 tasks      | elapsed:   26.1s\n",
      "[Parallel(n_jobs=5)]: Done 100 out of 100 | elapsed:   29.3s finished\n",
      "[Parallel(n_jobs=5)]: Using backend ThreadingBackend with 5 concurrent workers.\n"
     ]
    },
    {
     "name": "stdout",
     "output_type": "stream",
     "text": [
      "building tree 1 of 100building tree 2 of 100building tree 3 of 100building tree 4 of 100building tree 5 of 100\n",
      "\n",
      "\n",
      "\n",
      "\n",
      "building tree 6 of 100\n",
      "building tree 7 of 100\n",
      "building tree 8 of 100\n"
     ]
    },
    {
     "name": "stderr",
     "output_type": "stream",
     "text": [
      "[Parallel(n_jobs=5)]: Done   3 tasks      | elapsed:   21.2s\n"
     ]
    },
    {
     "name": "stdout",
     "output_type": "stream",
     "text": [
      "building tree 9 of 100\n",
      "building tree 10 of 100\n",
      "building tree 11 of 100\n",
      "building tree 12 of 100\n"
     ]
    },
    {
     "name": "stderr",
     "output_type": "stream",
     "text": [
      "[Parallel(n_jobs=5)]: Done   8 tasks      | elapsed:   43.2s\n"
     ]
    },
    {
     "name": "stdout",
     "output_type": "stream",
     "text": [
      "building tree 13 of 100\n",
      "building tree 14 of 100\n",
      "building tree 15 of 100\n",
      "building tree 16 of 100\n",
      "building tree 17 of 100\n",
      "building tree 18 of 100\n",
      "building tree 19 of 100\n",
      "building tree 20 of 100\n"
     ]
    },
    {
     "name": "stderr",
     "output_type": "stream",
     "text": [
      "[Parallel(n_jobs=5)]: Done  15 tasks      | elapsed:  1.0min\n"
     ]
    },
    {
     "name": "stdout",
     "output_type": "stream",
     "text": [
      "building tree 21 of 100\n",
      "building tree 22 of 100\n",
      "building tree 23 of 100\n",
      "building tree 24 of 100\n",
      "building tree 25 of 100\n",
      "building tree 26 of 100\n",
      "building tree 27 of 100\n"
     ]
    },
    {
     "name": "stderr",
     "output_type": "stream",
     "text": [
      "[Parallel(n_jobs=5)]: Done  22 tasks      | elapsed:  1.5min\n"
     ]
    },
    {
     "name": "stdout",
     "output_type": "stream",
     "text": [
      "building tree 28 of 100\n",
      "building tree 29 of 100\n",
      "building tree 30 of 100\n",
      "building tree 31 of 100\n",
      "building tree 32 of 100\n",
      "building tree 33 of 100\n",
      "building tree 34 of 100\n",
      "building tree 35 of 100\n",
      "building tree 36 of 100\n",
      "building tree 37 of 100\n"
     ]
    },
    {
     "name": "stderr",
     "output_type": "stream",
     "text": [
      "[Parallel(n_jobs=5)]: Done  31 tasks      | elapsed:  2.1min\n"
     ]
    },
    {
     "name": "stdout",
     "output_type": "stream",
     "text": [
      "building tree 38 of 100\n",
      "building tree 39 of 100\n",
      "building tree 40 of 100\n",
      "building tree 41 of 100\n",
      "building tree 42 of 100\n",
      "building tree 43 of 100\n",
      "building tree 44 of 100\n",
      "building tree 45 of 100\n"
     ]
    },
    {
     "name": "stderr",
     "output_type": "stream",
     "text": [
      "[Parallel(n_jobs=5)]: Done  40 tasks      | elapsed:  2.6min\n"
     ]
    },
    {
     "name": "stdout",
     "output_type": "stream",
     "text": [
      "building tree 46 of 100\n",
      "building tree 47 of 100\n",
      "building tree 48 of 100\n",
      "building tree 49 of 100\n",
      "building tree 50 of 100\n",
      "building tree 51 of 100\n",
      "building tree 52 of 100\n",
      "building tree 53 of 100\n",
      "building tree 54 of 100\n",
      "building tree 55 of 100\n",
      "building tree 56 of 100\n"
     ]
    },
    {
     "name": "stderr",
     "output_type": "stream",
     "text": [
      "[Parallel(n_jobs=5)]: Done  51 tasks      | elapsed:  3.2min\n"
     ]
    },
    {
     "name": "stdout",
     "output_type": "stream",
     "text": [
      "building tree 57 of 100\n",
      "building tree 58 of 100\n",
      "building tree 59 of 100\n",
      "building tree 60 of 100\n",
      "building tree 61 of 100\n",
      "building tree 62 of 100\n",
      "building tree 63 of 100\n",
      "building tree 64 of 100\n",
      "building tree 65 of 100\n",
      "building tree 66 of 100\n",
      "building tree 67 of 100\n"
     ]
    },
    {
     "name": "stderr",
     "output_type": "stream",
     "text": [
      "[Parallel(n_jobs=5)]: Done  62 tasks      | elapsed:  4.0min\n"
     ]
    },
    {
     "name": "stdout",
     "output_type": "stream",
     "text": [
      "building tree 68 of 100\n",
      "building tree 69 of 100\n",
      "building tree 70 of 100\n",
      "building tree 71 of 100\n",
      "building tree 72 of 100\n",
      "building tree 73 of 100\n",
      "building tree 74 of 100\n",
      "building tree 75 of 100\n",
      "building tree 76 of 100\n",
      "building tree 77 of 100\n",
      "building tree 78 of 100\n",
      "building tree 79 of 100\n",
      "building tree 80 of 100\n"
     ]
    },
    {
     "name": "stderr",
     "output_type": "stream",
     "text": [
      "[Parallel(n_jobs=5)]: Done  75 tasks      | elapsed:  4.6min\n"
     ]
    },
    {
     "name": "stdout",
     "output_type": "stream",
     "text": [
      "building tree 81 of 100\n",
      "building tree 82 of 100\n",
      "building tree 83 of 100\n",
      "building tree 84 of 100\n",
      "building tree 85 of 100\n",
      "building tree 86 of 100\n",
      "building tree 87 of 100\n",
      "building tree 88 of 100\n",
      "building tree 89 of 100\n",
      "building tree 90 of 100\n",
      "building tree 91 of 100\n",
      "building tree 92 of 100\n",
      "building tree 93 of 100\n"
     ]
    },
    {
     "name": "stderr",
     "output_type": "stream",
     "text": [
      "[Parallel(n_jobs=5)]: Done  88 tasks      | elapsed:  5.4min\n"
     ]
    },
    {
     "name": "stdout",
     "output_type": "stream",
     "text": [
      "building tree 94 of 100\n",
      "building tree 95 of 100\n",
      "building tree 96 of 100\n",
      "building tree 97 of 100\n",
      "building tree 98 of 100\n",
      "building tree 99 of 100\n",
      "building tree 100 of 100\n"
     ]
    },
    {
     "name": "stderr",
     "output_type": "stream",
     "text": [
      "[Parallel(n_jobs=5)]: Done 100 out of 100 | elapsed:  6.1min finished\n",
      "[Parallel(n_jobs=5)]: Using backend ThreadingBackend with 5 concurrent workers.\n",
      "[Parallel(n_jobs=5)]: Done   3 tasks      | elapsed:    1.6s\n",
      "[Parallel(n_jobs=5)]: Done   8 tasks      | elapsed:    3.3s\n",
      "[Parallel(n_jobs=5)]: Done  15 tasks      | elapsed:    4.9s\n",
      "[Parallel(n_jobs=5)]: Done  22 tasks      | elapsed:    7.3s\n",
      "[Parallel(n_jobs=5)]: Done  31 tasks      | elapsed:   10.1s\n",
      "[Parallel(n_jobs=5)]: Done  40 tasks      | elapsed:   12.4s\n",
      "[Parallel(n_jobs=5)]: Done  51 tasks      | elapsed:   15.4s\n",
      "[Parallel(n_jobs=5)]: Done  62 tasks      | elapsed:   18.3s\n",
      "[Parallel(n_jobs=5)]: Done  75 tasks      | elapsed:   21.8s\n",
      "[Parallel(n_jobs=5)]: Done  88 tasks      | elapsed:   25.5s\n",
      "[Parallel(n_jobs=5)]: Done 100 out of 100 | elapsed:   28.5s finished\n"
     ]
    }
   ],
   "source": [
    "from sklearn.ensemble import RandomForestClassifier\n",
    "from sklearn.metrics import classification_report, confusion_matrix\n",
    "cfs = []\n",
    "preds = []\n",
    "for i in range(5):\n",
    "    rf_clf = RandomForestClassifier(n_estimators=100,min_samples_split=10,min_samples_leaf=5,max_samples=0.8,criterion='gini',n_jobs=5,verbose=10)\n",
    "    rf_clf.fit(df_train,y_train)\n",
    "    y_pred = rf_clf.predict(df_test)\n",
    "    cfs.append(confusion_matrix(y_test, y_pred))\n",
    "    preds.append([y_test, y_pred])"
   ]
  },
  {
   "cell_type": "code",
   "execution_count": 11,
   "metadata": {},
   "outputs": [
    {
     "name": "stdout",
     "output_type": "stream",
     "text": [
      "[array([[   11352,      105],\n",
      "       [ 1663578, 13641278]]), array([[   11417,       40],\n",
      "       [ 1636411, 13668445]]), array([[   11400,       57],\n",
      "       [ 1645465, 13659391]]), array([[   11375,       82],\n",
      "       [ 1645483, 13659373]]), array([[   11379,       78],\n",
      "       [ 1645465, 13659391]])]\n",
      "(5, 2, 2)\n",
      "[[1.13846000e+04 7.24000000e+01]\n",
      " [1.64728040e+06 1.36575756e+07]]\n",
      "[[  22.24050359   22.24050359]\n",
      " [8872.17699553 8872.17699553]]\n"
     ]
    }
   ],
   "source": [
    "print(cfs)\n",
    "print(np.shape(cfs))\n",
    "cf = np.mean(cfs,axis=(0))\n",
    "print(cf)\n",
    "print(np.std(cfs,axis=(0)))\n",
    "objectToFile(preds, \"ddos2019_preds_reduced_normal\"+label)"
   ]
  },
  {
   "cell_type": "markdown",
   "metadata": {},
   "source": [
    "### Or preload results from previous run"
   ]
  },
  {
   "cell_type": "code",
   "execution_count": 3,
   "metadata": {},
   "outputs": [],
   "source": [
    "#Load object from file\n",
    "from sklearn.metrics import confusion_matrix\n",
    "label='BinLabel'\n",
    "preds_mem = objectFromFile(\"ddos2019_preds_reduced_normal\"+label)\n",
    "cfs = []\n",
    "for pred_tuple in preds_mem:\n",
    "    cfs.append(confusion_matrix(pred_tuple[0], pred_tuple[1]))"
   ]
  },
  {
   "cell_type": "markdown",
   "metadata": {},
   "source": [
    "### Visualize results"
   ]
  },
  {
   "cell_type": "code",
   "execution_count": 3,
   "metadata": {},
   "outputs": [
    {
     "name": "stdout",
     "output_type": "stream",
     "text": [
      "0.962 \n",
      "\n",
      "0.962 \n",
      "\n",
      "0.972\n"
     ]
    }
   ],
   "source": [
    "from sklearn.metrics import accuracy_score\n",
    "from sklearn.metrics import recall_score\n",
    "paper1_acc = 0.99\n",
    "paper1_rec = 0.99\n",
    "paper1_spec = 0.99\n",
    "paper2_acc = 0.9993\n",
    "paper2_rec = 0.999\n",
    "paper2_spec = 0.999\n",
    "#tn, fp, fn, tp = np.mean(cfs,axis=0).ravel()\n",
    "#print(tn,fp,fn,tp)\n",
    "\n",
    "#acc_scores = [accuracy_score(pred_tuple[0], pred_tuple[1]) for pred_tuple in preds]\n",
    "#rec_score  = tp / (tp+fn)\n",
    "#spec_score = tn / (tn+fp)\n",
    "acc_scores = [0.962]\n",
    "rec_score = 0.962\n",
    "spec_score = 0.972\n",
    "print(np.mean(acc_scores), \"\\n\")\n",
    "print(rec_score, \"\\n\")\n",
    "print(spec_score)"
   ]
  },
  {
   "cell_type": "code",
   "execution_count": 6,
   "metadata": {},
   "outputs": [
    {
     "data": {
      "image/png": "[encoded data removed]",
      "text/plain": [
       "<Figure size 504x432 with 1 Axes>"
      ]
     },
     "metadata": {
      "needs_background": "light"
     },
     "output_type": "display_data"
    }
   ],
   "source": [
    "import matplotlib.patches as mpatches\n",
    "#Colors\n",
    "clr_acc = 'royalblue'\n",
    "clr_rec = 'salmon'\n",
    "clr_spec = 'lightgreen'\n",
    "\n",
    "acc_patch = mpatches.Patch(color=clr_acc, label='accuracy')\n",
    "rec_patch = mpatches.Patch(color=clr_rec, label='recall')\n",
    "spec_patch = mpatches.Patch(color=clr_spec, label='specificity')\n",
    "\n",
    "labels = ['Elsayed et al.\\nRNN (77 features)', 'Lucky et al. \\nDT (3 features)', 'Our work\\nRF (30 features)']\n",
    "x = np.arange(len(labels))*10\n",
    "width = 2.5  # the width of the bars\n",
    "pad_width = 3\n",
    "scores = [paper1_acc,paper1_rec,paper1_spec,paper2_acc,paper2_rec,paper2_spec,np.mean(acc_scores),rec_score,spec_score]\n",
    "\n",
    "fig, ax = plt.subplots(figsize=(7,6))\n",
    "\n",
    "#Spawn bar(s) of group 1\n",
    "plt.bar(x[0]-pad_width, height=scores[0], width=width, color=clr_acc)\n",
    "plt.bar(x[0], height=scores[1], width=width, color=clr_rec)\n",
    "plt.bar(x[0]+pad_width, height=scores[2], width=width, color=clr_spec)\n",
    "\n",
    "#Spawn bar(s) of group 2\n",
    "plt.bar(x[1]-pad_width, height=scores[3], width=width, color=clr_acc)\n",
    "plt.bar(x[1], height=scores[4], width=width, color=clr_rec)\n",
    "plt.bar(x[1]+pad_width, height=scores[5], width=width, color=clr_spec)\n",
    "\n",
    "#Spawn bar(s) of group 3\n",
    "plt.bar(x[2]-pad_width, height=scores[6], width=width, color=clr_acc)\n",
    "plt.bar(x[2], height=scores[7], width=width, color=clr_rec)\n",
    "plt.bar(x[2]+pad_width, height=scores[8], width=width, color=clr_spec)\n",
    "\n",
    "#Hide the left, right and top spines\n",
    "ax.spines['right'].set_visible(False)\n",
    "ax.spines['top'].set_visible(False)\n",
    "ax.spines['left'].set_visible(False)\n",
    "\n",
    "plt.tick_params(left = False)\n",
    "\n",
    "#Set plot details\n",
    "plt.rc('font', size=13)\n",
    "#plt.ylabel('Metric score')\n",
    "plt.yticks()\n",
    "ax.set_yticklabels([])\n",
    "#ax.get_yaxis().set_visible(False)\n",
    "plt.xticks(size='14')\n",
    "plt.ylim([0.8, 1])\n",
    "plt.title(\"CIC-DDoS2019 results comparison\", fontweight='bold', pad=25)\n",
    "ax.set_xticks(x)\n",
    "ax.set_xticklabels(labels)\n",
    "add_value_labels(ax)\n",
    "#ax.legend(handles=[acc_patch,rec_patch,spec_patch],bbox_to_anchor=(1.05, 1), loc='upper left', borderaxespad=0.)\n",
    "ax.set_axisbelow(True)\n",
    "plt.grid(axis='y', color='grey')\n",
    "fig.tight_layout()\n",
    "plt.savefig('ddos2019_binaryclass_reduced_bars.png',bbox_inches='tight')\n",
    "plt.show()"
   ]
  },
  {
   "cell_type": "code",
   "execution_count": 12,
   "metadata": {},
   "outputs": [
    {
     "name": "stdout",
     "output_type": "stream",
     "text": [
      "mean\n",
      " [[   11384.6       72.4]\n",
      " [ 1647280.4 13657575.6]]\n",
      "std. dev\n",
      " [[  22.24050359   22.24050359]\n",
      " [8872.17699553 8872.17699553]]\n",
      "std. dev %\n",
      " [[ 0.19535604 30.71892761]\n",
      " [ 0.53859543  0.06496158]]\n"
     ]
    }
   ],
   "source": [
    "np.set_printoptions(suppress=True)\n",
    "print('mean\\n', np.mean(cfs,axis=0))\n",
    "print('std. dev\\n', np.std(cfs,axis=0))\n",
    "print('std. dev %\\n', np.divide(np.std(cfs,axis=0),np.mean(cfs,axis=0))*100)"
   ]
  },
  {
   "cell_type": "code",
   "execution_count": 13,
   "metadata": {
    "scrolled": false
   },
   "outputs": [
    {
     "data": {
      "image/png": "[encoded data removed]",
      "text/plain": [
       "<Figure size 432x432 with 1 Axes>"
      ]
     },
     "metadata": {
      "needs_background": "light"
     },
     "output_type": "display_data"
    }
   ],
   "source": [
    "#Plot confusion matrix\n",
    "import seaborn as sns\n",
    "#labels = ['Benign','Malicious']\n",
    "\n",
    "#Standard heatmap\n",
    "cf_norm = cf/cf.sum(axis=1)[:,None]\n",
    "cf_percentages = [\"{0:.2%}\".format(value) for value in cf_norm.flatten()]\n",
    "cf_numbers = [abbrv_num(value) for value in cf.flatten()]\n",
    "cf_labels = ['{v1}\\n({v2})'.format(v1=v1, v2=v2) for v1,v2 in zip(cf_percentages,cf_numbers)]\n",
    "cf_labels = np.asarray(cf_labels).reshape(cf.shape)\n",
    "\n",
    "fig, ax = plt.subplots(figsize=(6, 6))\n",
    "plt.rc('font', size=14)\n",
    "#column_labels = sorted(y_test.unique())\n",
    "#column_labels[6] = 'Benign'\n",
    "column_labels = ['Benign', 'Malicious']\n",
    "sns.heatmap(cf_norm, annot=cf_labels, fmt='',cmap='Blues',cbar=False, vmin=0.0, vmax=1.0, ax=ax, xticklabels=column_labels, yticklabels=column_labels)\n",
    "plt.ylabel('True label')\n",
    "plt.xlabel('Predicted label')\n",
    "plt.yticks(rotation='0', size='12')\n",
    "plt.xticks(rotation='65', size='12')\n",
    "plt.title(\"CICIDS-DDoS2019 mean multiclass classification matrix\")\n",
    "plt.savefig('ddos2019_binaryclass_cf_reduced.png',bbox_inches='tight')\n",
    "plt.show()"
   ]
  },
  {
   "cell_type": "code",
   "execution_count": 14,
   "metadata": {},
   "outputs": [
    {
     "name": "stdout",
     "output_type": "stream",
     "text": [
      "['Flow Duration', 'proto_0', 'proto_6', 'proto_17', 'Total Length of Fwd Packets', 'Total Length of Bwd Packets', 'Fwd Packet Length Mean', 'Bwd Packet Length Mean', 'Total Fwd Packets', 'Total Backward Packets', 'Fwd IAT Mean', 'Bwd IAT Mean']\n",
      "[0.05142496 0.00310571 0.01284563 0.01087059 0.16057637 0.17294885\n",
      " 0.1707864  0.25728134 0.08805984 0.03080252 0.02494325 0.01635454]\n",
      "7\n",
      "Feature: Bwd Packet Length Mean, Score: 0.25728\n",
      "5\n",
      "Feature: Total Length of Bwd Packets, Score: 0.17295\n",
      "6\n",
      "Feature: Fwd Packet Length Mean, Score: 0.17079\n",
      "4\n",
      "Feature: Total Length of Fwd Packets, Score: 0.16058\n",
      "8\n",
      "Feature: Total Fwd Packets, Score: 0.08806\n",
      "0\n",
      "Feature: Flow Duration, Score: 0.05142\n",
      "9\n",
      "Feature: Total Backward Packets, Score: 0.03080\n",
      "10\n",
      "Feature: Fwd IAT Mean, Score: 0.02494\n",
      "11\n",
      "Feature: Bwd IAT Mean, Score: 0.01635\n",
      "2\n",
      "Feature: proto_6, Score: 0.01285\n",
      "3\n",
      "Feature: proto_17, Score: 0.01087\n",
      "1\n",
      "Feature: proto_0, Score: 0.00311\n"
     ]
    }
   ],
   "source": [
    "importance = rf_clf.feature_importances_\n",
    "print(features)\n",
    "print(importance)\n",
    "# summarize feature importance\n",
    "for i,v in sorted(enumerate(importance),key=lambda x: x[1], reverse=True):\n",
    "    print('Feature: %s, Score: %.5f' % (features[i],v))"
   ]
  },
  {
   "cell_type": "markdown",
   "metadata": {},
   "source": [
    "[array([[   57521,     3410],\n",
    "       [  600486, 50126860]]), array([[   57612,     3319],\n",
    "       [  600329, 50127017]]), array([[   57567,     3364],\n",
    "       [  600482, 50126864]]), array([[   57518,     3413],\n",
    "       [  600527, 50126819]]), array([[   57455,     3476],\n",
    "       [  600539, 50126807]])]\n",
    "\n",
    "Mean:\n",
    "(5, 2, 2)\n",
    "[[5.75346000e+04 3.39640000e+03]\n",
    " [6.00472600e+05 5.01268734e+07]]\n",
    " \n",
    " Std. Dev.:\n",
    "[[52.60646348 52.60646348]\n",
    " [75.17606002 75.17606002]]"
   ]
  },
  {
   "cell_type": "markdown",
   "metadata": {},
   "source": [
    "# N-grams experiment"
   ]
  },
  {
   "cell_type": "code",
   "execution_count": 4,
   "metadata": {
    "scrolled": true
   },
   "outputs": [
    {
     "name": "stdout",
     "output_type": "stream",
     "text": [
      "DrDoS_NTP\n",
      "481057\n",
      "BENIGN\n",
      "22745\n",
      "DrDoS_DNS\n",
      "2028404\n",
      "DrDoS_LDAP\n",
      "871972\n",
      "DrDoS_MSSQL\n",
      "1808997\n",
      "DrDoS_NetBIOS\n",
      "1637312\n",
      "DrDoS_SNMP\n",
      "2063948\n",
      "DrDoS_SSDP\n",
      "1044244\n",
      "DrDoS_UDP\n",
      "1253858\n",
      "UDP-lag\n",
      "146584\n",
      "WebDDoS\n",
      "176\n",
      "Syn\n",
      "632916\n",
      "TFTP\n",
      "8033032\n"
     ]
    }
   ],
   "source": [
    "#Retain 60% of each class in df_train for lower memory usage\n",
    "#Retain only 20% of the largest class\n",
    "percentage = 60\n",
    "for label in df_train['Label'].unique():\n",
    "    label_df = df_train.loc[df_train['Label'] == label]\n",
    "    if label is 'TFTP':\n",
    "        cutoff = round(len(label_df)/100*20)\n",
    "    else:\n",
    "        cutoff = round(len(label_df)/100*percentage)\n",
    "     \n",
    "    indices = label_df.iloc[cutoff:].index\n",
    "    print(label)\n",
    "    print(len(indices))\n",
    "    df_train.drop(index=indices, inplace=True)\n",
    "\n",
    "#Clear vars to save memory\n",
    "label_df = None\n",
    "indices = None"
   ]
  },
  {
   "cell_type": "markdown",
   "metadata": {},
   "source": [
    "### Show amount of source IPs with more than 'threshold' flows in train dataset"
   ]
  },
  {
   "cell_type": "code",
   "execution_count": 5,
   "metadata": {},
   "outputs": [
    {
     "name": "stdout",
     "output_type": "stream",
     "text": [
      "172.16.0.5        29994117\n",
      "192.168.50.1          9855\n",
      "192.168.50.7          9660\n",
      "192.168.50.6          9281\n",
      "192.168.50.8          8111\n",
      "                    ...   \n",
      "52.43.17.8               3\n",
      "107.178.246.49           3\n",
      "209.170.115.32           3\n",
      "34.203.79.136            3\n",
      "35.164.138.68            3\n",
      "Name: Source IP, Length: 296, dtype: int64\n"
     ]
    }
   ],
   "source": [
    "#Train dataset value counts per IP\n",
    "threshold = 2\n",
    "vc_tr = df_train['Source IP'].value_counts()\n",
    "res_tr = df_train[df_train['Source IP'].isin(vc_tr[vc_tr>threshold].index)]['Source IP'].value_counts()\n",
    "print(res_tr)"
   ]
  },
  {
   "cell_type": "markdown",
   "metadata": {},
   "source": [
    "## Transform df_train"
   ]
  },
  {
   "cell_type": "code",
   "execution_count": 6,
   "metadata": {},
   "outputs": [],
   "source": [
    "df_train.columns\n",
    "df_train.drop(['Timestamp','Label'], axis=1, inplace=True)"
   ]
  },
  {
   "cell_type": "code",
   "execution_count": 7,
   "metadata": {},
   "outputs": [
    {
     "name": "stdout",
     "output_type": "stream",
     "text": [
      "Progress: 15/15\r"
     ]
    }
   ],
   "source": [
    "#Per source IP, grab N-gram and transform numerical features into new\n",
    "#Done for bigrams and trigrams\n",
    "\n",
    "features = ['Flow Duration', 'Total Fwd Packets', 'Total Backward Packets', \\\n",
    "            'Total Length of Fwd Packets', 'Total Length of Bwd Packets', 'Fwd Packet Length Max', \\\n",
    "            'Fwd Packet Length Min', 'Bwd Packet Length Max', 'Bwd Packet Length Min', \\\n",
    "            'Flow Bytes/s', 'Flow Packets/s', 'Flow IAT Mean', 'Flow IAT Std', \\\n",
    "            'Flow IAT Max', 'Flow IAT Min']\n",
    "\n",
    "#Create/reset columns for n_gram features\n",
    "for feature in features:\n",
    "    column_mean = 'ngram_' + feature + '_mean'\n",
    "    column_std = 'ngram_' + feature + '_std'\n",
    "    if column_mean not in df_train.columns:\n",
    "        df_train[column_mean] = np.nan\n",
    "    if column_std not in df_train.columns:\n",
    "        df_train[column_std] = np.nan\n",
    "\n",
    "#List of ngram features\n",
    "featurelist = df_train.filter(regex='^ngram', axis=1).columns\n",
    "#Window size 2 = bigrams, 3 = trigrams\n",
    "winsize = 3\n",
    "#Window type\n",
    "indexer = pd.api.indexers.FixedForwardWindowIndexer(window_size=winsize)\n",
    "for itr, feature in enumerate(features): #Iterate over all features to be transformed\n",
    "    column_mean = 'ngram_' + feature + '_mean'\n",
    "    column_std = 'ngram_' + feature + '_std'\n",
    "    for (srcIP, _) in res_tr.iteritems(): #Iterate over all Source IP starting with most-occurring\n",
    "        sub_df = df_train[df_train['Source IP'] == srcIP]\n",
    "        sub_df.loc[:,column_mean] = sub_df[feature].rolling(window=indexer, min_periods=winsize).mean()\n",
    "        sub_df.loc[:,column_std] = sub_df[feature].rolling(window=indexer, min_periods=winsize).std()\n",
    "        df_train.loc[:,[column_mean, column_std]] = df_train[[column_mean, column_std]].combine_first(sub_df[[column_mean, column_std]])\n",
    "    df_train.drop(columns=feature)\n",
    "    print('Progress: ' + str(itr+1) + '/' + str(len(features)), end='\\r')\n",
    "    \n",
    "    "
   ]
  },
  {
   "cell_type": "code",
   "execution_count": 8,
   "metadata": {},
   "outputs": [],
   "source": [
    "df_train_feather_path = \"/mnt/h/CICIDS/DDoS2019/feather/trigram_train_feather\"\n",
    "df_train.reset_index().to_feather(df_train_feather_path)"
   ]
  },
  {
   "cell_type": "markdown",
   "metadata": {},
   "source": [
    "### Load df_train from memory and reduce memory footprint"
   ]
  },
  {
   "cell_type": "code",
   "execution_count": 3,
   "metadata": {},
   "outputs": [],
   "source": [
    "#Load df_train from memory and reduce memory footprint\n",
    "df_train_feather_path = \"/mnt/h/CICIDS/DDoS2019/feather/trigram_train_feather\"\n",
    "df_train = pd.read_feather(df_train_feather_path)"
   ]
  },
  {
   "cell_type": "code",
   "execution_count": 4,
   "metadata": {},
   "outputs": [
    {
     "data": {
      "text/html": [
       "<div>\n",
       "<style scoped>\n",
       "    .dataframe tbody tr th:only-of-type {\n",
       "        vertical-align: middle;\n",
       "    }\n",
       "\n",
       "    .dataframe tbody tr th {\n",
       "        vertical-align: top;\n",
       "    }\n",
       "\n",
       "    .dataframe thead th {\n",
       "        text-align: right;\n",
       "    }\n",
       "</style>\n",
       "<table border=\"1\" class=\"dataframe\">\n",
       "  <thead>\n",
       "    <tr style=\"text-align: right;\">\n",
       "      <th></th>\n",
       "      <th>index</th>\n",
       "      <th>Source IP</th>\n",
       "      <th>Timestamp</th>\n",
       "      <th>Flow Duration</th>\n",
       "      <th>Total Fwd Packets</th>\n",
       "      <th>Total Backward Packets</th>\n",
       "      <th>Total Length of Fwd Packets</th>\n",
       "      <th>Total Length of Bwd Packets</th>\n",
       "      <th>Fwd Packet Length Max</th>\n",
       "      <th>Fwd Packet Length Min</th>\n",
       "      <th>...</th>\n",
       "      <th>ngram_Flow Packets/s_mean</th>\n",
       "      <th>ngram_Flow Packets/s_std</th>\n",
       "      <th>ngram_Flow IAT Mean_mean</th>\n",
       "      <th>ngram_Flow IAT Mean_std</th>\n",
       "      <th>ngram_Flow IAT Std_mean</th>\n",
       "      <th>ngram_Flow IAT Std_std</th>\n",
       "      <th>ngram_Flow IAT Max_mean</th>\n",
       "      <th>ngram_Flow IAT Max_std</th>\n",
       "      <th>ngram_Flow IAT Min_mean</th>\n",
       "      <th>ngram_Flow IAT Min_std</th>\n",
       "    </tr>\n",
       "  </thead>\n",
       "  <tbody>\n",
       "    <tr>\n",
       "      <th>0</th>\n",
       "      <td>15875439</td>\n",
       "      <td>172.16.0.5</td>\n",
       "      <td>2018-12-01 09:17:11.183810</td>\n",
       "      <td>5220876</td>\n",
       "      <td>12</td>\n",
       "      <td>9</td>\n",
       "      <td>1928</td>\n",
       "      <td>4290</td>\n",
       "      <td>509</td>\n",
       "      <td>0</td>\n",
       "      <td>...</td>\n",
       "      <td>2.523537</td>\n",
       "      <td>1.781701e+00</td>\n",
       "      <td>9.087319e+05</td>\n",
       "      <td>1.039182e+06</td>\n",
       "      <td>2.538956e+06</td>\n",
       "      <td>2.274210e+06</td>\n",
       "      <td>7.551302e+06</td>\n",
       "      <td>4.410475e+06</td>\n",
       "      <td>1.666667</td>\n",
       "      <td>0.57735</td>\n",
       "    </tr>\n",
       "    <tr>\n",
       "      <th>1</th>\n",
       "      <td>15875440</td>\n",
       "      <td>172.16.0.5</td>\n",
       "      <td>2018-12-01 09:17:11.205636</td>\n",
       "      <td>12644252</td>\n",
       "      <td>5</td>\n",
       "      <td>2</td>\n",
       "      <td>0</td>\n",
       "      <td>0</td>\n",
       "      <td>0</td>\n",
       "      <td>0</td>\n",
       "      <td>...</td>\n",
       "      <td>10527.498555</td>\n",
       "      <td>1.823109e+04</td>\n",
       "      <td>8.217331e+05</td>\n",
       "      <td>1.127674e+06</td>\n",
       "      <td>2.166503e+06</td>\n",
       "      <td>2.678909e+06</td>\n",
       "      <td>5.883026e+06</td>\n",
       "      <td>6.367569e+06</td>\n",
       "      <td>2.000000</td>\n",
       "      <td>1.00000</td>\n",
       "    </tr>\n",
       "    <tr>\n",
       "      <th>2</th>\n",
       "      <td>15875441</td>\n",
       "      <td>65.55.163.78</td>\n",
       "      <td>2018-12-01 09:17:12.634569</td>\n",
       "      <td>3</td>\n",
       "      <td>2</td>\n",
       "      <td>0</td>\n",
       "      <td>0</td>\n",
       "      <td>0</td>\n",
       "      <td>0</td>\n",
       "      <td>0</td>\n",
       "      <td>...</td>\n",
       "      <td>777777.777778</td>\n",
       "      <td>1.924501e+05</td>\n",
       "      <td>2.666667e+00</td>\n",
       "      <td>5.773503e-01</td>\n",
       "      <td>0.000000e+00</td>\n",
       "      <td>0.000000e+00</td>\n",
       "      <td>2.666667e+00</td>\n",
       "      <td>5.773503e-01</td>\n",
       "      <td>2.666667</td>\n",
       "      <td>0.57735</td>\n",
       "    </tr>\n",
       "    <tr>\n",
       "      <th>3</th>\n",
       "      <td>15875442</td>\n",
       "      <td>65.55.163.78</td>\n",
       "      <td>2018-12-01 09:17:13.458370</td>\n",
       "      <td>3</td>\n",
       "      <td>2</td>\n",
       "      <td>0</td>\n",
       "      <td>0</td>\n",
       "      <td>0</td>\n",
       "      <td>0</td>\n",
       "      <td>0</td>\n",
       "      <td>...</td>\n",
       "      <td>888888.888889</td>\n",
       "      <td>1.924501e+05</td>\n",
       "      <td>2.333333e+00</td>\n",
       "      <td>5.773503e-01</td>\n",
       "      <td>0.000000e+00</td>\n",
       "      <td>0.000000e+00</td>\n",
       "      <td>2.333333e+00</td>\n",
       "      <td>5.773503e-01</td>\n",
       "      <td>2.333333</td>\n",
       "      <td>0.57735</td>\n",
       "    </tr>\n",
       "    <tr>\n",
       "      <th>4</th>\n",
       "      <td>15875443</td>\n",
       "      <td>192.168.50.253</td>\n",
       "      <td>2018-12-01 09:17:13.470913</td>\n",
       "      <td>114329232</td>\n",
       "      <td>52</td>\n",
       "      <td>0</td>\n",
       "      <td>0</td>\n",
       "      <td>0</td>\n",
       "      <td>0</td>\n",
       "      <td>0</td>\n",
       "      <td>...</td>\n",
       "      <td>0.455908</td>\n",
       "      <td>2.471571e-03</td>\n",
       "      <td>2.236478e+06</td>\n",
       "      <td>1.208971e+04</td>\n",
       "      <td>4.074551e+06</td>\n",
       "      <td>2.178121e+04</td>\n",
       "      <td>9.952134e+06</td>\n",
       "      <td>3.826251e+03</td>\n",
       "      <td>1.000000</td>\n",
       "      <td>0.00000</td>\n",
       "    </tr>\n",
       "    <tr>\n",
       "      <th>...</th>\n",
       "      <td>...</td>\n",
       "      <td>...</td>\n",
       "      <td>...</td>\n",
       "      <td>...</td>\n",
       "      <td>...</td>\n",
       "      <td>...</td>\n",
       "      <td>...</td>\n",
       "      <td>...</td>\n",
       "      <td>...</td>\n",
       "      <td>...</td>\n",
       "      <td>...</td>\n",
       "      <td>...</td>\n",
       "      <td>...</td>\n",
       "      <td>...</td>\n",
       "      <td>...</td>\n",
       "      <td>...</td>\n",
       "      <td>...</td>\n",
       "      <td>...</td>\n",
       "      <td>...</td>\n",
       "      <td>...</td>\n",
       "      <td>...</td>\n",
       "    </tr>\n",
       "    <tr>\n",
       "      <th>30037862</th>\n",
       "      <td>41637687</td>\n",
       "      <td>172.16.0.5</td>\n",
       "      <td>2018-12-01 13:48:51.421960</td>\n",
       "      <td>2998579</td>\n",
       "      <td>4</td>\n",
       "      <td>0</td>\n",
       "      <td>2064</td>\n",
       "      <td>0</td>\n",
       "      <td>516</td>\n",
       "      <td>516</td>\n",
       "      <td>...</td>\n",
       "      <td>666667.555174</td>\n",
       "      <td>1.154700e+06</td>\n",
       "      <td>6.669538e+05</td>\n",
       "      <td>5.775987e+05</td>\n",
       "      <td>1.155196e+06</td>\n",
       "      <td>1.000430e+06</td>\n",
       "      <td>2.000859e+06</td>\n",
       "      <td>1.732796e+06</td>\n",
       "      <td>1.000000</td>\n",
       "      <td>0.00000</td>\n",
       "    </tr>\n",
       "    <tr>\n",
       "      <th>30037863</th>\n",
       "      <td>41637688</td>\n",
       "      <td>172.16.0.5</td>\n",
       "      <td>2018-12-01 13:48:51.421962</td>\n",
       "      <td>1</td>\n",
       "      <td>2</td>\n",
       "      <td>0</td>\n",
       "      <td>1032</td>\n",
       "      <td>0</td>\n",
       "      <td>516</td>\n",
       "      <td>516</td>\n",
       "      <td>...</td>\n",
       "      <td>666667.554964</td>\n",
       "      <td>1.154700e+06</td>\n",
       "      <td>6.671118e+05</td>\n",
       "      <td>5.777353e+05</td>\n",
       "      <td>1.155470e+06</td>\n",
       "      <td>1.000667e+06</td>\n",
       "      <td>2.001333e+06</td>\n",
       "      <td>1.733206e+06</td>\n",
       "      <td>1.000000</td>\n",
       "      <td>0.00000</td>\n",
       "    </tr>\n",
       "    <tr>\n",
       "      <th>30037864</th>\n",
       "      <td>41637689</td>\n",
       "      <td>172.16.0.5</td>\n",
       "      <td>2018-12-01 13:48:51.422012</td>\n",
       "      <td>3004002</td>\n",
       "      <td>4</td>\n",
       "      <td>0</td>\n",
       "      <td>2064</td>\n",
       "      <td>0</td>\n",
       "      <td>516</td>\n",
       "      <td>516</td>\n",
       "      <td>...</td>\n",
       "      <td>1.332869</td>\n",
       "      <td>0.000000e+00</td>\n",
       "      <td>1.000349e+06</td>\n",
       "      <td>8.652063e+02</td>\n",
       "      <td>1.732654e+06</td>\n",
       "      <td>1.498230e+03</td>\n",
       "      <td>3.001045e+06</td>\n",
       "      <td>2.595234e+03</td>\n",
       "      <td>0.666667</td>\n",
       "      <td>0.57735</td>\n",
       "    </tr>\n",
       "    <tr>\n",
       "      <th>30037865</th>\n",
       "      <td>41637690</td>\n",
       "      <td>172.16.0.5</td>\n",
       "      <td>2018-12-01 13:48:51.422014</td>\n",
       "      <td>3000001</td>\n",
       "      <td>4</td>\n",
       "      <td>0</td>\n",
       "      <td>2064</td>\n",
       "      <td>0</td>\n",
       "      <td>516</td>\n",
       "      <td>516</td>\n",
       "      <td>...</td>\n",
       "      <td>NaN</td>\n",
       "      <td>NaN</td>\n",
       "      <td>NaN</td>\n",
       "      <td>NaN</td>\n",
       "      <td>NaN</td>\n",
       "      <td>NaN</td>\n",
       "      <td>NaN</td>\n",
       "      <td>NaN</td>\n",
       "      <td>NaN</td>\n",
       "      <td>NaN</td>\n",
       "    </tr>\n",
       "    <tr>\n",
       "      <th>30037866</th>\n",
       "      <td>41637691</td>\n",
       "      <td>172.16.0.5</td>\n",
       "      <td>2018-12-01 13:48:51.422092</td>\n",
       "      <td>2999137</td>\n",
       "      <td>4</td>\n",
       "      <td>0</td>\n",
       "      <td>2064</td>\n",
       "      <td>0</td>\n",
       "      <td>516</td>\n",
       "      <td>516</td>\n",
       "      <td>...</td>\n",
       "      <td>NaN</td>\n",
       "      <td>NaN</td>\n",
       "      <td>NaN</td>\n",
       "      <td>NaN</td>\n",
       "      <td>NaN</td>\n",
       "      <td>NaN</td>\n",
       "      <td>NaN</td>\n",
       "      <td>NaN</td>\n",
       "      <td>NaN</td>\n",
       "      <td>NaN</td>\n",
       "    </tr>\n",
       "  </tbody>\n",
       "</table>\n",
       "<p>30037867 rows × 49 columns</p>\n",
       "</div>"
      ],
      "text/plain": [
       "             index       Source IP                   Timestamp  Flow Duration  \\\n",
       "0         15875439      172.16.0.5  2018-12-01 09:17:11.183810        5220876   \n",
       "1         15875440      172.16.0.5  2018-12-01 09:17:11.205636       12644252   \n",
       "2         15875441    65.55.163.78  2018-12-01 09:17:12.634569              3   \n",
       "3         15875442    65.55.163.78  2018-12-01 09:17:13.458370              3   \n",
       "4         15875443  192.168.50.253  2018-12-01 09:17:13.470913      114329232   \n",
       "...            ...             ...                         ...            ...   \n",
       "30037862  41637687      172.16.0.5  2018-12-01 13:48:51.421960        2998579   \n",
       "30037863  41637688      172.16.0.5  2018-12-01 13:48:51.421962              1   \n",
       "30037864  41637689      172.16.0.5  2018-12-01 13:48:51.422012        3004002   \n",
       "30037865  41637690      172.16.0.5  2018-12-01 13:48:51.422014        3000001   \n",
       "30037866  41637691      172.16.0.5  2018-12-01 13:48:51.422092        2999137   \n",
       "\n",
       "          Total Fwd Packets  Total Backward Packets  \\\n",
       "0                        12                       9   \n",
       "1                         5                       2   \n",
       "2                         2                       0   \n",
       "3                         2                       0   \n",
       "4                        52                       0   \n",
       "...                     ...                     ...   \n",
       "30037862                  4                       0   \n",
       "30037863                  2                       0   \n",
       "30037864                  4                       0   \n",
       "30037865                  4                       0   \n",
       "30037866                  4                       0   \n",
       "\n",
       "          Total Length of Fwd Packets  Total Length of Bwd Packets  \\\n",
       "0                                1928                         4290   \n",
       "1                                   0                            0   \n",
       "2                                   0                            0   \n",
       "3                                   0                            0   \n",
       "4                                   0                            0   \n",
       "...                               ...                          ...   \n",
       "30037862                         2064                            0   \n",
       "30037863                         1032                            0   \n",
       "30037864                         2064                            0   \n",
       "30037865                         2064                            0   \n",
       "30037866                         2064                            0   \n",
       "\n",
       "          Fwd Packet Length Max  Fwd Packet Length Min  ...  \\\n",
       "0                           509                      0  ...   \n",
       "1                             0                      0  ...   \n",
       "2                             0                      0  ...   \n",
       "3                             0                      0  ...   \n",
       "4                             0                      0  ...   \n",
       "...                         ...                    ...  ...   \n",
       "30037862                    516                    516  ...   \n",
       "30037863                    516                    516  ...   \n",
       "30037864                    516                    516  ...   \n",
       "30037865                    516                    516  ...   \n",
       "30037866                    516                    516  ...   \n",
       "\n",
       "          ngram_Flow Packets/s_mean  ngram_Flow Packets/s_std  \\\n",
       "0                          2.523537              1.781701e+00   \n",
       "1                      10527.498555              1.823109e+04   \n",
       "2                     777777.777778              1.924501e+05   \n",
       "3                     888888.888889              1.924501e+05   \n",
       "4                          0.455908              2.471571e-03   \n",
       "...                             ...                       ...   \n",
       "30037862              666667.555174              1.154700e+06   \n",
       "30037863              666667.554964              1.154700e+06   \n",
       "30037864                   1.332869              0.000000e+00   \n",
       "30037865                        NaN                       NaN   \n",
       "30037866                        NaN                       NaN   \n",
       "\n",
       "          ngram_Flow IAT Mean_mean  ngram_Flow IAT Mean_std  \\\n",
       "0                     9.087319e+05             1.039182e+06   \n",
       "1                     8.217331e+05             1.127674e+06   \n",
       "2                     2.666667e+00             5.773503e-01   \n",
       "3                     2.333333e+00             5.773503e-01   \n",
       "4                     2.236478e+06             1.208971e+04   \n",
       "...                            ...                      ...   \n",
       "30037862              6.669538e+05             5.775987e+05   \n",
       "30037863              6.671118e+05             5.777353e+05   \n",
       "30037864              1.000349e+06             8.652063e+02   \n",
       "30037865                       NaN                      NaN   \n",
       "30037866                       NaN                      NaN   \n",
       "\n",
       "          ngram_Flow IAT Std_mean  ngram_Flow IAT Std_std  \\\n",
       "0                    2.538956e+06            2.274210e+06   \n",
       "1                    2.166503e+06            2.678909e+06   \n",
       "2                    0.000000e+00            0.000000e+00   \n",
       "3                    0.000000e+00            0.000000e+00   \n",
       "4                    4.074551e+06            2.178121e+04   \n",
       "...                           ...                     ...   \n",
       "30037862             1.155196e+06            1.000430e+06   \n",
       "30037863             1.155470e+06            1.000667e+06   \n",
       "30037864             1.732654e+06            1.498230e+03   \n",
       "30037865                      NaN                     NaN   \n",
       "30037866                      NaN                     NaN   \n",
       "\n",
       "          ngram_Flow IAT Max_mean  ngram_Flow IAT Max_std  \\\n",
       "0                    7.551302e+06            4.410475e+06   \n",
       "1                    5.883026e+06            6.367569e+06   \n",
       "2                    2.666667e+00            5.773503e-01   \n",
       "3                    2.333333e+00            5.773503e-01   \n",
       "4                    9.952134e+06            3.826251e+03   \n",
       "...                           ...                     ...   \n",
       "30037862             2.000859e+06            1.732796e+06   \n",
       "30037863             2.001333e+06            1.733206e+06   \n",
       "30037864             3.001045e+06            2.595234e+03   \n",
       "30037865                      NaN                     NaN   \n",
       "30037866                      NaN                     NaN   \n",
       "\n",
       "         ngram_Flow IAT Min_mean  ngram_Flow IAT Min_std  \n",
       "0                       1.666667                 0.57735  \n",
       "1                       2.000000                 1.00000  \n",
       "2                       2.666667                 0.57735  \n",
       "3                       2.333333                 0.57735  \n",
       "4                       1.000000                 0.00000  \n",
       "...                          ...                     ...  \n",
       "30037862                1.000000                 0.00000  \n",
       "30037863                1.000000                 0.00000  \n",
       "30037864                0.666667                 0.57735  \n",
       "30037865                     NaN                     NaN  \n",
       "30037866                     NaN                     NaN  \n",
       "\n",
       "[30037867 rows x 49 columns]"
      ]
     },
     "execution_count": 4,
     "metadata": {},
     "output_type": "execute_result"
    }
   ],
   "source": [
    "df_train"
   ]
  },
  {
   "cell_type": "code",
   "execution_count": 7,
   "metadata": {},
   "outputs": [
    {
     "name": "stdout",
     "output_type": "stream",
     "text": [
      "(27533980, 49)\n"
     ]
    }
   ],
   "source": [
    "#Drop cols without/with ngram features\n",
    "ngramcols = df_train.filter(regex='^ngram', axis=1).columns\n",
    "normalcols = ['Flow Duration', 'Total Fwd Packets', 'Total Backward Packets', \\\n",
    "            'Total Length of Fwd Packets', 'Total Length of Bwd Packets', 'Fwd Packet Length Max', \\\n",
    "            'Fwd Packet Length Min', 'Bwd Packet Length Max', 'Bwd Packet Length Min', \\\n",
    "            'Flow Bytes/s', 'Flow Packets/s', 'Flow IAT Mean', 'Flow IAT Std', \\\n",
    "            'Flow IAT Max', 'Flow IAT Min']\n",
    "df_train.dropna(subset=ngramcols, axis=0, how='any', inplace=True)\n",
    "print(df_train.shape)"
   ]
  },
  {
   "cell_type": "code",
   "execution_count": 8,
   "metadata": {},
   "outputs": [],
   "source": [
    "df_train.set_index('index', inplace=True)\n",
    "#Throw away original/ngram features + socket information to save memory\n",
    "socket_columns = ['Source IP', 'Timestamp']\n",
    "\n",
    "df_train.drop(columns=ngramcols, inplace=True)\n",
    "df_train.drop(columns=socket_columns, inplace=True)"
   ]
  },
  {
   "cell_type": "code",
   "execution_count": 9,
   "metadata": {},
   "outputs": [
    {
     "name": "stdout",
     "output_type": "stream",
     "text": [
      "Index(['Flow Duration', 'Total Fwd Packets', 'Total Backward Packets',\n",
      "       'Total Length of Fwd Packets', 'Total Length of Bwd Packets',\n",
      "       'Fwd Packet Length Max', 'Fwd Packet Length Min',\n",
      "       'Bwd Packet Length Max', 'Bwd Packet Length Min', 'Flow Bytes/s',\n",
      "       'Flow Packets/s', 'Flow IAT Mean', 'Flow IAT Std', 'Flow IAT Max',\n",
      "       'Flow IAT Min', 'Label'],\n",
      "      dtype='object')\n"
     ]
    },
    {
     "data": {
      "text/html": [
       "<div>\n",
       "<style scoped>\n",
       "    .dataframe tbody tr th:only-of-type {\n",
       "        vertical-align: middle;\n",
       "    }\n",
       "\n",
       "    .dataframe tbody tr th {\n",
       "        vertical-align: top;\n",
       "    }\n",
       "\n",
       "    .dataframe thead th {\n",
       "        text-align: right;\n",
       "    }\n",
       "</style>\n",
       "<table border=\"1\" class=\"dataframe\">\n",
       "  <thead>\n",
       "    <tr style=\"text-align: right;\">\n",
       "      <th></th>\n",
       "      <th>Flow Duration</th>\n",
       "      <th>Total Fwd Packets</th>\n",
       "      <th>Total Backward Packets</th>\n",
       "      <th>Total Length of Fwd Packets</th>\n",
       "      <th>Total Length of Bwd Packets</th>\n",
       "      <th>Fwd Packet Length Max</th>\n",
       "      <th>Fwd Packet Length Min</th>\n",
       "      <th>Bwd Packet Length Max</th>\n",
       "      <th>Bwd Packet Length Min</th>\n",
       "      <th>Flow Bytes/s</th>\n",
       "      <th>Flow Packets/s</th>\n",
       "      <th>Flow IAT Mean</th>\n",
       "      <th>Flow IAT Std</th>\n",
       "      <th>Flow IAT Max</th>\n",
       "      <th>Flow IAT Min</th>\n",
       "      <th>Label</th>\n",
       "    </tr>\n",
       "    <tr>\n",
       "      <th>index</th>\n",
       "      <th></th>\n",
       "      <th></th>\n",
       "      <th></th>\n",
       "      <th></th>\n",
       "      <th></th>\n",
       "      <th></th>\n",
       "      <th></th>\n",
       "      <th></th>\n",
       "      <th></th>\n",
       "      <th></th>\n",
       "      <th></th>\n",
       "      <th></th>\n",
       "      <th></th>\n",
       "      <th></th>\n",
       "      <th></th>\n",
       "      <th></th>\n",
       "    </tr>\n",
       "  </thead>\n",
       "  <tbody>\n",
       "    <tr>\n",
       "      <th>15875439</th>\n",
       "      <td>5220876</td>\n",
       "      <td>12</td>\n",
       "      <td>9</td>\n",
       "      <td>1928</td>\n",
       "      <td>4290</td>\n",
       "      <td>509</td>\n",
       "      <td>0</td>\n",
       "      <td>1073</td>\n",
       "      <td>0</td>\n",
       "      <td>1.190988e+03</td>\n",
       "      <td>4.022313e+00</td>\n",
       "      <td>2.610438e+05</td>\n",
       "      <td>1117421.500</td>\n",
       "      <td>5004919</td>\n",
       "      <td>2</td>\n",
       "      <td>DrDoS_NTP</td>\n",
       "    </tr>\n",
       "    <tr>\n",
       "      <th>15875440</th>\n",
       "      <td>12644252</td>\n",
       "      <td>5</td>\n",
       "      <td>2</td>\n",
       "      <td>0</td>\n",
       "      <td>0</td>\n",
       "      <td>0</td>\n",
       "      <td>0</td>\n",
       "      <td>0</td>\n",
       "      <td>0</td>\n",
       "      <td>0.000000e+00</td>\n",
       "      <td>5.536112e-01</td>\n",
       "      <td>2.107375e+06</td>\n",
       "      <td>5161910.000</td>\n",
       "      <td>12644080</td>\n",
       "      <td>1</td>\n",
       "      <td>DrDoS_NTP</td>\n",
       "    </tr>\n",
       "    <tr>\n",
       "      <th>15875441</th>\n",
       "      <td>3</td>\n",
       "      <td>2</td>\n",
       "      <td>0</td>\n",
       "      <td>0</td>\n",
       "      <td>0</td>\n",
       "      <td>0</td>\n",
       "      <td>0</td>\n",
       "      <td>0</td>\n",
       "      <td>0</td>\n",
       "      <td>0.000000e+00</td>\n",
       "      <td>6.666667e+05</td>\n",
       "      <td>3.000000e+00</td>\n",
       "      <td>0.000</td>\n",
       "      <td>3</td>\n",
       "      <td>3</td>\n",
       "      <td>BENIGN</td>\n",
       "    </tr>\n",
       "    <tr>\n",
       "      <th>15875442</th>\n",
       "      <td>3</td>\n",
       "      <td>2</td>\n",
       "      <td>0</td>\n",
       "      <td>0</td>\n",
       "      <td>0</td>\n",
       "      <td>0</td>\n",
       "      <td>0</td>\n",
       "      <td>0</td>\n",
       "      <td>0</td>\n",
       "      <td>0.000000e+00</td>\n",
       "      <td>6.666667e+05</td>\n",
       "      <td>3.000000e+00</td>\n",
       "      <td>0.000</td>\n",
       "      <td>3</td>\n",
       "      <td>3</td>\n",
       "      <td>BENIGN</td>\n",
       "    </tr>\n",
       "    <tr>\n",
       "      <th>15875443</th>\n",
       "      <td>114329232</td>\n",
       "      <td>52</td>\n",
       "      <td>0</td>\n",
       "      <td>0</td>\n",
       "      <td>0</td>\n",
       "      <td>0</td>\n",
       "      <td>0</td>\n",
       "      <td>0</td>\n",
       "      <td>0</td>\n",
       "      <td>0.000000e+00</td>\n",
       "      <td>4.548268e-01</td>\n",
       "      <td>2.241750e+06</td>\n",
       "      <td>4083247.500</td>\n",
       "      <td>9950741</td>\n",
       "      <td>1</td>\n",
       "      <td>BENIGN</td>\n",
       "    </tr>\n",
       "    <tr>\n",
       "      <th>...</th>\n",
       "      <td>...</td>\n",
       "      <td>...</td>\n",
       "      <td>...</td>\n",
       "      <td>...</td>\n",
       "      <td>...</td>\n",
       "      <td>...</td>\n",
       "      <td>...</td>\n",
       "      <td>...</td>\n",
       "      <td>...</td>\n",
       "      <td>...</td>\n",
       "      <td>...</td>\n",
       "      <td>...</td>\n",
       "      <td>...</td>\n",
       "      <td>...</td>\n",
       "      <td>...</td>\n",
       "      <td>...</td>\n",
       "    </tr>\n",
       "    <tr>\n",
       "      <th>41637685</th>\n",
       "      <td>2999990</td>\n",
       "      <td>4</td>\n",
       "      <td>0</td>\n",
       "      <td>2064</td>\n",
       "      <td>0</td>\n",
       "      <td>516</td>\n",
       "      <td>516</td>\n",
       "      <td>0</td>\n",
       "      <td>0</td>\n",
       "      <td>6.880023e+02</td>\n",
       "      <td>1.333338e+00</td>\n",
       "      <td>9.999967e+05</td>\n",
       "      <td>1732042.375</td>\n",
       "      <td>2999987</td>\n",
       "      <td>1</td>\n",
       "      <td>TFTP</td>\n",
       "    </tr>\n",
       "    <tr>\n",
       "      <th>41637686</th>\n",
       "      <td>1</td>\n",
       "      <td>2</td>\n",
       "      <td>0</td>\n",
       "      <td>1032</td>\n",
       "      <td>0</td>\n",
       "      <td>516</td>\n",
       "      <td>516</td>\n",
       "      <td>0</td>\n",
       "      <td>0</td>\n",
       "      <td>1.032000e+09</td>\n",
       "      <td>2.000000e+06</td>\n",
       "      <td>1.000000e+00</td>\n",
       "      <td>0.000</td>\n",
       "      <td>1</td>\n",
       "      <td>1</td>\n",
       "      <td>TFTP</td>\n",
       "    </tr>\n",
       "    <tr>\n",
       "      <th>41637687</th>\n",
       "      <td>2998579</td>\n",
       "      <td>4</td>\n",
       "      <td>0</td>\n",
       "      <td>2064</td>\n",
       "      <td>0</td>\n",
       "      <td>516</td>\n",
       "      <td>516</td>\n",
       "      <td>0</td>\n",
       "      <td>0</td>\n",
       "      <td>6.883260e+02</td>\n",
       "      <td>1.333965e+00</td>\n",
       "      <td>9.995263e+05</td>\n",
       "      <td>1731228.625</td>\n",
       "      <td>2998577</td>\n",
       "      <td>1</td>\n",
       "      <td>TFTP</td>\n",
       "    </tr>\n",
       "    <tr>\n",
       "      <th>41637688</th>\n",
       "      <td>1</td>\n",
       "      <td>2</td>\n",
       "      <td>0</td>\n",
       "      <td>1032</td>\n",
       "      <td>0</td>\n",
       "      <td>516</td>\n",
       "      <td>516</td>\n",
       "      <td>0</td>\n",
       "      <td>0</td>\n",
       "      <td>1.032000e+09</td>\n",
       "      <td>2.000000e+06</td>\n",
       "      <td>1.000000e+00</td>\n",
       "      <td>0.000</td>\n",
       "      <td>1</td>\n",
       "      <td>1</td>\n",
       "      <td>TFTP</td>\n",
       "    </tr>\n",
       "    <tr>\n",
       "      <th>41637689</th>\n",
       "      <td>3004002</td>\n",
       "      <td>4</td>\n",
       "      <td>0</td>\n",
       "      <td>2064</td>\n",
       "      <td>0</td>\n",
       "      <td>516</td>\n",
       "      <td>516</td>\n",
       "      <td>0</td>\n",
       "      <td>0</td>\n",
       "      <td>6.870834e+02</td>\n",
       "      <td>1.331557e+00</td>\n",
       "      <td>1.001334e+06</td>\n",
       "      <td>1734359.625</td>\n",
       "      <td>3004000</td>\n",
       "      <td>1</td>\n",
       "      <td>TFTP</td>\n",
       "    </tr>\n",
       "  </tbody>\n",
       "</table>\n",
       "<p>27533980 rows × 16 columns</p>\n",
       "</div>"
      ],
      "text/plain": [
       "          Flow Duration  Total Fwd Packets  Total Backward Packets  \\\n",
       "index                                                                \n",
       "15875439        5220876                 12                       9   \n",
       "15875440       12644252                  5                       2   \n",
       "15875441              3                  2                       0   \n",
       "15875442              3                  2                       0   \n",
       "15875443      114329232                 52                       0   \n",
       "...                 ...                ...                     ...   \n",
       "41637685        2999990                  4                       0   \n",
       "41637686              1                  2                       0   \n",
       "41637687        2998579                  4                       0   \n",
       "41637688              1                  2                       0   \n",
       "41637689        3004002                  4                       0   \n",
       "\n",
       "          Total Length of Fwd Packets  Total Length of Bwd Packets  \\\n",
       "index                                                                \n",
       "15875439                         1928                         4290   \n",
       "15875440                            0                            0   \n",
       "15875441                            0                            0   \n",
       "15875442                            0                            0   \n",
       "15875443                            0                            0   \n",
       "...                               ...                          ...   \n",
       "41637685                         2064                            0   \n",
       "41637686                         1032                            0   \n",
       "41637687                         2064                            0   \n",
       "41637688                         1032                            0   \n",
       "41637689                         2064                            0   \n",
       "\n",
       "          Fwd Packet Length Max  Fwd Packet Length Min  Bwd Packet Length Max  \\\n",
       "index                                                                           \n",
       "15875439                    509                      0                   1073   \n",
       "15875440                      0                      0                      0   \n",
       "15875441                      0                      0                      0   \n",
       "15875442                      0                      0                      0   \n",
       "15875443                      0                      0                      0   \n",
       "...                         ...                    ...                    ...   \n",
       "41637685                    516                    516                      0   \n",
       "41637686                    516                    516                      0   \n",
       "41637687                    516                    516                      0   \n",
       "41637688                    516                    516                      0   \n",
       "41637689                    516                    516                      0   \n",
       "\n",
       "          Bwd Packet Length Min  Flow Bytes/s  Flow Packets/s  Flow IAT Mean  \\\n",
       "index                                                                          \n",
       "15875439                      0  1.190988e+03    4.022313e+00   2.610438e+05   \n",
       "15875440                      0  0.000000e+00    5.536112e-01   2.107375e+06   \n",
       "15875441                      0  0.000000e+00    6.666667e+05   3.000000e+00   \n",
       "15875442                      0  0.000000e+00    6.666667e+05   3.000000e+00   \n",
       "15875443                      0  0.000000e+00    4.548268e-01   2.241750e+06   \n",
       "...                         ...           ...             ...            ...   \n",
       "41637685                      0  6.880023e+02    1.333338e+00   9.999967e+05   \n",
       "41637686                      0  1.032000e+09    2.000000e+06   1.000000e+00   \n",
       "41637687                      0  6.883260e+02    1.333965e+00   9.995263e+05   \n",
       "41637688                      0  1.032000e+09    2.000000e+06   1.000000e+00   \n",
       "41637689                      0  6.870834e+02    1.331557e+00   1.001334e+06   \n",
       "\n",
       "          Flow IAT Std  Flow IAT Max  Flow IAT Min      Label  \n",
       "index                                                          \n",
       "15875439   1117421.500       5004919             2  DrDoS_NTP  \n",
       "15875440   5161910.000      12644080             1  DrDoS_NTP  \n",
       "15875441         0.000             3             3     BENIGN  \n",
       "15875442         0.000             3             3     BENIGN  \n",
       "15875443   4083247.500       9950741             1     BENIGN  \n",
       "...                ...           ...           ...        ...  \n",
       "41637685   1732042.375       2999987             1       TFTP  \n",
       "41637686         0.000             1             1       TFTP  \n",
       "41637687   1731228.625       2998577             1       TFTP  \n",
       "41637688         0.000             1             1       TFTP  \n",
       "41637689   1734359.625       3004000             1       TFTP  \n",
       "\n",
       "[27533980 rows x 16 columns]"
      ]
     },
     "execution_count": 9,
     "metadata": {},
     "output_type": "execute_result"
    }
   ],
   "source": [
    "print(df_train.columns)\n",
    "df_train"
   ]
  },
  {
   "cell_type": "code",
   "execution_count": 34,
   "metadata": {},
   "outputs": [],
   "source": [
    "df_train_feather_path = \"/mnt/h/CICIDS/DDoS2019/feather/trigram_train_feather_reduced\"\n",
    "df_train.reset_index().to_feather(df_train_feather_path)"
   ]
  },
  {
   "cell_type": "markdown",
   "metadata": {},
   "source": [
    "### Show amount of source IPs with more than 'threshold' flows in test dataset"
   ]
  },
  {
   "cell_type": "code",
   "execution_count": null,
   "metadata": {},
   "outputs": [],
   "source": [
    "#Test dataset value counts per IP\n",
    "threshold = 2\n",
    "vc_te = df_test['Source IP'].value_counts()\n",
    "res_te = df_test[df_test['Source IP'].isin(vc_te[vc_te>threshold].index)]['Source IP'].value_counts()\n",
    "print(res_te)"
   ]
  },
  {
   "cell_type": "markdown",
   "metadata": {},
   "source": [
    "## Transform df_test"
   ]
  },
  {
   "cell_type": "code",
   "execution_count": 7,
   "metadata": {},
   "outputs": [
    {
     "name": "stdout",
     "output_type": "stream",
     "text": [
      "Progress: 601/601\r"
     ]
    }
   ],
   "source": [
    "#Per source IP, grab N-gram and transform numerical features into new\n",
    "#Done for bigrams and trigrams\n",
    "\n",
    "features = ['Flow Duration', 'Total Fwd Packets', 'Total Backward Packets', \\\n",
    "            'Total Length of Fwd Packets', 'Total Length of Bwd Packets', 'Fwd Packet Length Max', \\\n",
    "            'Fwd Packet Length Min', 'Bwd Packet Length Max', 'Bwd Packet Length Min', \\\n",
    "            'Flow Bytes/s', 'Flow Packets/s', 'Flow IAT Mean', 'Flow IAT Std', \\\n",
    "            'Flow IAT Max', 'Flow IAT Min']\n",
    "\n",
    "#Create/reset columns for n_gram features\n",
    "for feature in features:\n",
    "    column_mean = 'ngram_' + feature + '_mean'\n",
    "    column_std = 'ngram_' + feature + '_std'\n",
    "    if column_mean not in df_test.columns:\n",
    "        df_test[column_mean] = np.nan\n",
    "    if column_std not in df_test.columns:\n",
    "        df_test[column_std] = np.nan\n",
    "\n",
    "#List of ngram features\n",
    "featurelist = df_test.filter(regex='^ngram', axis=1).columns\n",
    "#Window size 2 = bigrams, 3 = trigrams\n",
    "winsize = 3\n",
    "#Window type\n",
    "indexer = pd.api.indexers.FixedForwardWindowIndexer(window_size=winsize)\n",
    "for itr, (srcIP, _) in enumerate(res_te.iteritems()):\n",
    "    sub_df = df_test[df_test['Source IP'] == srcIP]\n",
    "    for feature in features:\n",
    "        column_mean = 'ngram_' + feature + '_mean'\n",
    "        column_std = 'ngram_' + feature + '_std'\n",
    "        sub_df.loc[:,column_mean] = sub_df[feature].rolling(window=indexer, min_periods=winsize).mean()\n",
    "        sub_df.loc[:,column_std] = sub_df[feature].rolling(window=indexer, min_periods=winsize).std()\n",
    "    df_test.loc[:,featurelist] = df_test[featurelist].combine_first(sub_df[featurelist])\n",
    "    print('Progress: ' + str(itr+1) + '/' + str(len(res_te)), end='\\r')\n",
    "    \n",
    "    "
   ]
  },
  {
   "cell_type": "code",
   "execution_count": 8,
   "metadata": {},
   "outputs": [
    {
     "name": "stdout",
     "output_type": "stream",
     "text": [
      "(18161176, 49)\n",
      "Index(['ngram_Flow Duration_mean', 'ngram_Flow Duration_std',\n",
      "       'ngram_Total Fwd Packets_mean', 'ngram_Total Fwd Packets_std',\n",
      "       'ngram_Total Backward Packets_mean', 'ngram_Total Backward Packets_std',\n",
      "       'ngram_Total Length of Fwd Packets_mean',\n",
      "       'ngram_Total Length of Fwd Packets_std',\n",
      "       'ngram_Total Length of Bwd Packets_mean',\n",
      "       'ngram_Total Length of Bwd Packets_std',\n",
      "       'ngram_Fwd Packet Length Max_mean', 'ngram_Fwd Packet Length Max_std',\n",
      "       'ngram_Fwd Packet Length Min_mean', 'ngram_Fwd Packet Length Min_std',\n",
      "       'ngram_Bwd Packet Length Max_mean', 'ngram_Bwd Packet Length Max_std',\n",
      "       'ngram_Bwd Packet Length Min_mean', 'ngram_Bwd Packet Length Min_std',\n",
      "       'ngram_Flow Bytes/s_mean', 'ngram_Flow Bytes/s_std',\n",
      "       'ngram_Flow Packets/s_mean', 'ngram_Flow Packets/s_std',\n",
      "       'ngram_Flow IAT Mean_mean', 'ngram_Flow IAT Mean_std',\n",
      "       'ngram_Flow IAT Std_mean', 'ngram_Flow IAT Std_std',\n",
      "       'ngram_Flow IAT Max_mean', 'ngram_Flow IAT Max_std',\n",
      "       'ngram_Flow IAT Min_mean', 'ngram_Flow IAT Min_std'],\n",
      "      dtype='object')\n"
     ]
    }
   ],
   "source": [
    "#Drop rows without ngram features\n",
    "df_test.dropna(subset=df_test.filter(regex='^ngram', axis=1).columns, axis=0, how='any', inplace=True)\n",
    "print(df_test.shape)\n",
    "print(df_test.filter(regex='^ngram', axis=1).columns)"
   ]
  },
  {
   "cell_type": "code",
   "execution_count": 10,
   "metadata": {},
   "outputs": [],
   "source": [
    "df_test_feather_path = \"/mnt/h/CICIDS/DDoS2019/feather/trigram_test_feather\"\n",
    "df_test.reset_index().to_feather(df_test_feather_path)"
   ]
  },
  {
   "cell_type": "markdown",
   "metadata": {},
   "source": [
    "### Load df_test from memory and reduce memory footprint"
   ]
  },
  {
   "cell_type": "code",
   "execution_count": 10,
   "metadata": {},
   "outputs": [],
   "source": [
    "#Load df_test from memory and reduce memory footprint\n",
    "df_test_feather_path = \"/mnt/h/CICIDS/DDoS2019/feather/trigram_test_feather\"\n",
    "df_test = pd.read_feather(df_test_feather_path)"
   ]
  },
  {
   "cell_type": "code",
   "execution_count": 11,
   "metadata": {},
   "outputs": [
    {
     "name": "stdout",
     "output_type": "stream",
     "text": [
      "(18161176, 50)\n"
     ]
    }
   ],
   "source": [
    "#Drop cols without/with ngram features\n",
    "ngramcols = df_test.filter(regex='^ngram', axis=1).columns\n",
    "normalcols = ['Flow Duration', 'Total Fwd Packets', 'Total Backward Packets', \\\n",
    "            'Total Length of Fwd Packets', 'Total Length of Bwd Packets', 'Fwd Packet Length Max', \\\n",
    "            'Fwd Packet Length Min', 'Bwd Packet Length Max', 'Bwd Packet Length Min', \\\n",
    "            'Flow Bytes/s', 'Flow Packets/s', 'Flow IAT Mean', 'Flow IAT Std', \\\n",
    "            'Flow IAT Max', 'Flow IAT Min']\n",
    "df_test.dropna(subset=ngramcols, axis=0, how='any', inplace=True)\n",
    "print(df_test.shape)"
   ]
  },
  {
   "cell_type": "code",
   "execution_count": 12,
   "metadata": {},
   "outputs": [],
   "source": [
    "df_test.set_index('index', inplace=True)\n",
    "#Throw away original/ngram features + socket information to save memory\n",
    "socket_columns = ['Source IP', 'Timestamp']\n",
    "\n",
    "df_test.drop(columns=ngramcols, inplace=True)\n",
    "df_test.drop(columns=socket_columns, inplace=True)"
   ]
  },
  {
   "cell_type": "code",
   "execution_count": 33,
   "metadata": {},
   "outputs": [],
   "source": [
    "df_test_feather_path = \"/mnt/h/CICIDS/DDoS2019/feather/trigram_test_feather_reduced\"\n",
    "df_test.reset_index().to_feather(df_test_feather_path)"
   ]
  },
  {
   "cell_type": "markdown",
   "metadata": {},
   "source": [
    "### Load train and test datasets and train Random Forest  classifier"
   ]
  },
  {
   "cell_type": "code",
   "execution_count": 3,
   "metadata": {},
   "outputs": [],
   "source": [
    "#Load df_train from memory and reduce memory footprint\n",
    "df_train_feather_path = \"/mnt/h/CICIDS/DDoS2019/feather/trigram_train_feather_reduced\"\n",
    "df_test_feather_path = \"/mnt/h/CICIDS/DDoS2019/feather/trigram_test_feather_reduced\"\n",
    "df_train = pd.read_feather(df_train_feather_path)\n",
    "df_test = pd.read_feather(df_test_feather_path)"
   ]
  },
  {
   "cell_type": "code",
   "execution_count": 4,
   "metadata": {},
   "outputs": [],
   "source": [
    "#Fix index, throw away multiclass label\n",
    "df_train.set_index('index', inplace=True)\n",
    "df_test.set_index('index', inplace=True)\n",
    "#df_train.drop(columns=['Label'], inplace=True)\n",
    "#df_test.drop(columns=['Label'], inplace=True)"
   ]
  },
  {
   "cell_type": "code",
   "execution_count": 14,
   "metadata": {},
   "outputs": [
    {
     "data": {
      "text/html": [
       "<div>\n",
       "<style scoped>\n",
       "    .dataframe tbody tr th:only-of-type {\n",
       "        vertical-align: middle;\n",
       "    }\n",
       "\n",
       "    .dataframe tbody tr th {\n",
       "        vertical-align: top;\n",
       "    }\n",
       "\n",
       "    .dataframe thead th {\n",
       "        text-align: right;\n",
       "    }\n",
       "</style>\n",
       "<table border=\"1\" class=\"dataframe\">\n",
       "  <thead>\n",
       "    <tr style=\"text-align: right;\">\n",
       "      <th></th>\n",
       "      <th>Flow Duration</th>\n",
       "      <th>Total Fwd Packets</th>\n",
       "      <th>Total Backward Packets</th>\n",
       "      <th>Total Length of Fwd Packets</th>\n",
       "      <th>Total Length of Bwd Packets</th>\n",
       "      <th>Fwd Packet Length Max</th>\n",
       "      <th>Fwd Packet Length Min</th>\n",
       "      <th>Bwd Packet Length Max</th>\n",
       "      <th>Bwd Packet Length Min</th>\n",
       "      <th>Flow Bytes/s</th>\n",
       "      <th>Flow Packets/s</th>\n",
       "      <th>Flow IAT Mean</th>\n",
       "      <th>Flow IAT Std</th>\n",
       "      <th>Flow IAT Max</th>\n",
       "      <th>Flow IAT Min</th>\n",
       "      <th>Label</th>\n",
       "    </tr>\n",
       "    <tr>\n",
       "      <th>index</th>\n",
       "      <th></th>\n",
       "      <th></th>\n",
       "      <th></th>\n",
       "      <th></th>\n",
       "      <th></th>\n",
       "      <th></th>\n",
       "      <th></th>\n",
       "      <th></th>\n",
       "      <th></th>\n",
       "      <th></th>\n",
       "      <th></th>\n",
       "      <th></th>\n",
       "      <th></th>\n",
       "      <th></th>\n",
       "      <th></th>\n",
       "      <th></th>\n",
       "    </tr>\n",
       "  </thead>\n",
       "  <tbody>\n",
       "    <tr>\n",
       "      <th>15875439</th>\n",
       "      <td>5220876</td>\n",
       "      <td>12</td>\n",
       "      <td>9</td>\n",
       "      <td>1928</td>\n",
       "      <td>4290</td>\n",
       "      <td>509</td>\n",
       "      <td>0</td>\n",
       "      <td>1073</td>\n",
       "      <td>0</td>\n",
       "      <td>1.190988e+03</td>\n",
       "      <td>4.022313e+00</td>\n",
       "      <td>2.610438e+05</td>\n",
       "      <td>1117421.500</td>\n",
       "      <td>5004919</td>\n",
       "      <td>2</td>\n",
       "      <td>DrDoS_NTP</td>\n",
       "    </tr>\n",
       "    <tr>\n",
       "      <th>15875440</th>\n",
       "      <td>12644252</td>\n",
       "      <td>5</td>\n",
       "      <td>2</td>\n",
       "      <td>0</td>\n",
       "      <td>0</td>\n",
       "      <td>0</td>\n",
       "      <td>0</td>\n",
       "      <td>0</td>\n",
       "      <td>0</td>\n",
       "      <td>0.000000e+00</td>\n",
       "      <td>5.536112e-01</td>\n",
       "      <td>2.107375e+06</td>\n",
       "      <td>5161910.000</td>\n",
       "      <td>12644080</td>\n",
       "      <td>1</td>\n",
       "      <td>DrDoS_NTP</td>\n",
       "    </tr>\n",
       "    <tr>\n",
       "      <th>15875441</th>\n",
       "      <td>3</td>\n",
       "      <td>2</td>\n",
       "      <td>0</td>\n",
       "      <td>0</td>\n",
       "      <td>0</td>\n",
       "      <td>0</td>\n",
       "      <td>0</td>\n",
       "      <td>0</td>\n",
       "      <td>0</td>\n",
       "      <td>0.000000e+00</td>\n",
       "      <td>6.666667e+05</td>\n",
       "      <td>3.000000e+00</td>\n",
       "      <td>0.000</td>\n",
       "      <td>3</td>\n",
       "      <td>3</td>\n",
       "      <td>BENIGN</td>\n",
       "    </tr>\n",
       "    <tr>\n",
       "      <th>15875442</th>\n",
       "      <td>3</td>\n",
       "      <td>2</td>\n",
       "      <td>0</td>\n",
       "      <td>0</td>\n",
       "      <td>0</td>\n",
       "      <td>0</td>\n",
       "      <td>0</td>\n",
       "      <td>0</td>\n",
       "      <td>0</td>\n",
       "      <td>0.000000e+00</td>\n",
       "      <td>6.666667e+05</td>\n",
       "      <td>3.000000e+00</td>\n",
       "      <td>0.000</td>\n",
       "      <td>3</td>\n",
       "      <td>3</td>\n",
       "      <td>BENIGN</td>\n",
       "    </tr>\n",
       "    <tr>\n",
       "      <th>15875443</th>\n",
       "      <td>114329232</td>\n",
       "      <td>52</td>\n",
       "      <td>0</td>\n",
       "      <td>0</td>\n",
       "      <td>0</td>\n",
       "      <td>0</td>\n",
       "      <td>0</td>\n",
       "      <td>0</td>\n",
       "      <td>0</td>\n",
       "      <td>0.000000e+00</td>\n",
       "      <td>4.548268e-01</td>\n",
       "      <td>2.241750e+06</td>\n",
       "      <td>4083247.500</td>\n",
       "      <td>9950741</td>\n",
       "      <td>1</td>\n",
       "      <td>BENIGN</td>\n",
       "    </tr>\n",
       "    <tr>\n",
       "      <th>...</th>\n",
       "      <td>...</td>\n",
       "      <td>...</td>\n",
       "      <td>...</td>\n",
       "      <td>...</td>\n",
       "      <td>...</td>\n",
       "      <td>...</td>\n",
       "      <td>...</td>\n",
       "      <td>...</td>\n",
       "      <td>...</td>\n",
       "      <td>...</td>\n",
       "      <td>...</td>\n",
       "      <td>...</td>\n",
       "      <td>...</td>\n",
       "      <td>...</td>\n",
       "      <td>...</td>\n",
       "      <td>...</td>\n",
       "    </tr>\n",
       "    <tr>\n",
       "      <th>41637685</th>\n",
       "      <td>2999990</td>\n",
       "      <td>4</td>\n",
       "      <td>0</td>\n",
       "      <td>2064</td>\n",
       "      <td>0</td>\n",
       "      <td>516</td>\n",
       "      <td>516</td>\n",
       "      <td>0</td>\n",
       "      <td>0</td>\n",
       "      <td>6.880023e+02</td>\n",
       "      <td>1.333338e+00</td>\n",
       "      <td>9.999967e+05</td>\n",
       "      <td>1732042.375</td>\n",
       "      <td>2999987</td>\n",
       "      <td>1</td>\n",
       "      <td>TFTP</td>\n",
       "    </tr>\n",
       "    <tr>\n",
       "      <th>41637686</th>\n",
       "      <td>1</td>\n",
       "      <td>2</td>\n",
       "      <td>0</td>\n",
       "      <td>1032</td>\n",
       "      <td>0</td>\n",
       "      <td>516</td>\n",
       "      <td>516</td>\n",
       "      <td>0</td>\n",
       "      <td>0</td>\n",
       "      <td>1.032000e+09</td>\n",
       "      <td>2.000000e+06</td>\n",
       "      <td>1.000000e+00</td>\n",
       "      <td>0.000</td>\n",
       "      <td>1</td>\n",
       "      <td>1</td>\n",
       "      <td>TFTP</td>\n",
       "    </tr>\n",
       "    <tr>\n",
       "      <th>41637687</th>\n",
       "      <td>2998579</td>\n",
       "      <td>4</td>\n",
       "      <td>0</td>\n",
       "      <td>2064</td>\n",
       "      <td>0</td>\n",
       "      <td>516</td>\n",
       "      <td>516</td>\n",
       "      <td>0</td>\n",
       "      <td>0</td>\n",
       "      <td>6.883260e+02</td>\n",
       "      <td>1.333965e+00</td>\n",
       "      <td>9.995263e+05</td>\n",
       "      <td>1731228.625</td>\n",
       "      <td>2998577</td>\n",
       "      <td>1</td>\n",
       "      <td>TFTP</td>\n",
       "    </tr>\n",
       "    <tr>\n",
       "      <th>41637688</th>\n",
       "      <td>1</td>\n",
       "      <td>2</td>\n",
       "      <td>0</td>\n",
       "      <td>1032</td>\n",
       "      <td>0</td>\n",
       "      <td>516</td>\n",
       "      <td>516</td>\n",
       "      <td>0</td>\n",
       "      <td>0</td>\n",
       "      <td>1.032000e+09</td>\n",
       "      <td>2.000000e+06</td>\n",
       "      <td>1.000000e+00</td>\n",
       "      <td>0.000</td>\n",
       "      <td>1</td>\n",
       "      <td>1</td>\n",
       "      <td>TFTP</td>\n",
       "    </tr>\n",
       "    <tr>\n",
       "      <th>41637689</th>\n",
       "      <td>3004002</td>\n",
       "      <td>4</td>\n",
       "      <td>0</td>\n",
       "      <td>2064</td>\n",
       "      <td>0</td>\n",
       "      <td>516</td>\n",
       "      <td>516</td>\n",
       "      <td>0</td>\n",
       "      <td>0</td>\n",
       "      <td>6.870834e+02</td>\n",
       "      <td>1.331557e+00</td>\n",
       "      <td>1.001334e+06</td>\n",
       "      <td>1734359.625</td>\n",
       "      <td>3004000</td>\n",
       "      <td>1</td>\n",
       "      <td>TFTP</td>\n",
       "    </tr>\n",
       "  </tbody>\n",
       "</table>\n",
       "<p>27533980 rows × 16 columns</p>\n",
       "</div>"
      ],
      "text/plain": [
       "          Flow Duration  Total Fwd Packets  Total Backward Packets  \\\n",
       "index                                                                \n",
       "15875439        5220876                 12                       9   \n",
       "15875440       12644252                  5                       2   \n",
       "15875441              3                  2                       0   \n",
       "15875442              3                  2                       0   \n",
       "15875443      114329232                 52                       0   \n",
       "...                 ...                ...                     ...   \n",
       "41637685        2999990                  4                       0   \n",
       "41637686              1                  2                       0   \n",
       "41637687        2998579                  4                       0   \n",
       "41637688              1                  2                       0   \n",
       "41637689        3004002                  4                       0   \n",
       "\n",
       "          Total Length of Fwd Packets  Total Length of Bwd Packets  \\\n",
       "index                                                                \n",
       "15875439                         1928                         4290   \n",
       "15875440                            0                            0   \n",
       "15875441                            0                            0   \n",
       "15875442                            0                            0   \n",
       "15875443                            0                            0   \n",
       "...                               ...                          ...   \n",
       "41637685                         2064                            0   \n",
       "41637686                         1032                            0   \n",
       "41637687                         2064                            0   \n",
       "41637688                         1032                            0   \n",
       "41637689                         2064                            0   \n",
       "\n",
       "          Fwd Packet Length Max  Fwd Packet Length Min  Bwd Packet Length Max  \\\n",
       "index                                                                           \n",
       "15875439                    509                      0                   1073   \n",
       "15875440                      0                      0                      0   \n",
       "15875441                      0                      0                      0   \n",
       "15875442                      0                      0                      0   \n",
       "15875443                      0                      0                      0   \n",
       "...                         ...                    ...                    ...   \n",
       "41637685                    516                    516                      0   \n",
       "41637686                    516                    516                      0   \n",
       "41637687                    516                    516                      0   \n",
       "41637688                    516                    516                      0   \n",
       "41637689                    516                    516                      0   \n",
       "\n",
       "          Bwd Packet Length Min  Flow Bytes/s  Flow Packets/s  Flow IAT Mean  \\\n",
       "index                                                                          \n",
       "15875439                      0  1.190988e+03    4.022313e+00   2.610438e+05   \n",
       "15875440                      0  0.000000e+00    5.536112e-01   2.107375e+06   \n",
       "15875441                      0  0.000000e+00    6.666667e+05   3.000000e+00   \n",
       "15875442                      0  0.000000e+00    6.666667e+05   3.000000e+00   \n",
       "15875443                      0  0.000000e+00    4.548268e-01   2.241750e+06   \n",
       "...                         ...           ...             ...            ...   \n",
       "41637685                      0  6.880023e+02    1.333338e+00   9.999967e+05   \n",
       "41637686                      0  1.032000e+09    2.000000e+06   1.000000e+00   \n",
       "41637687                      0  6.883260e+02    1.333965e+00   9.995263e+05   \n",
       "41637688                      0  1.032000e+09    2.000000e+06   1.000000e+00   \n",
       "41637689                      0  6.870834e+02    1.331557e+00   1.001334e+06   \n",
       "\n",
       "          Flow IAT Std  Flow IAT Max  Flow IAT Min      Label  \n",
       "index                                                          \n",
       "15875439   1117421.500       5004919             2  DrDoS_NTP  \n",
       "15875440   5161910.000      12644080             1  DrDoS_NTP  \n",
       "15875441         0.000             3             3     BENIGN  \n",
       "15875442         0.000             3             3     BENIGN  \n",
       "15875443   4083247.500       9950741             1     BENIGN  \n",
       "...                ...           ...           ...        ...  \n",
       "41637685   1732042.375       2999987             1       TFTP  \n",
       "41637686         0.000             1             1       TFTP  \n",
       "41637687   1731228.625       2998577             1       TFTP  \n",
       "41637688         0.000             1             1       TFTP  \n",
       "41637689   1734359.625       3004000             1       TFTP  \n",
       "\n",
       "[27533980 rows x 16 columns]"
      ]
     },
     "execution_count": 14,
     "metadata": {},
     "output_type": "execute_result"
    }
   ],
   "source": [
    "df_train"
   ]
  },
  {
   "cell_type": "code",
   "execution_count": 15,
   "metadata": {},
   "outputs": [
    {
     "data": {
      "text/html": [
       "<div>\n",
       "<style scoped>\n",
       "    .dataframe tbody tr th:only-of-type {\n",
       "        vertical-align: middle;\n",
       "    }\n",
       "\n",
       "    .dataframe tbody tr th {\n",
       "        vertical-align: top;\n",
       "    }\n",
       "\n",
       "    .dataframe thead th {\n",
       "        text-align: right;\n",
       "    }\n",
       "</style>\n",
       "<table border=\"1\" class=\"dataframe\">\n",
       "  <thead>\n",
       "    <tr style=\"text-align: right;\">\n",
       "      <th></th>\n",
       "      <th>Flow Duration</th>\n",
       "      <th>Total Fwd Packets</th>\n",
       "      <th>Total Backward Packets</th>\n",
       "      <th>Total Length of Fwd Packets</th>\n",
       "      <th>Total Length of Bwd Packets</th>\n",
       "      <th>Fwd Packet Length Max</th>\n",
       "      <th>Fwd Packet Length Min</th>\n",
       "      <th>Bwd Packet Length Max</th>\n",
       "      <th>Bwd Packet Length Min</th>\n",
       "      <th>Flow Bytes/s</th>\n",
       "      <th>Flow Packets/s</th>\n",
       "      <th>Flow IAT Mean</th>\n",
       "      <th>Flow IAT Std</th>\n",
       "      <th>Flow IAT Max</th>\n",
       "      <th>Flow IAT Min</th>\n",
       "      <th>Label</th>\n",
       "      <th>BinLabel</th>\n",
       "    </tr>\n",
       "    <tr>\n",
       "      <th>index</th>\n",
       "      <th></th>\n",
       "      <th></th>\n",
       "      <th></th>\n",
       "      <th></th>\n",
       "      <th></th>\n",
       "      <th></th>\n",
       "      <th></th>\n",
       "      <th></th>\n",
       "      <th></th>\n",
       "      <th></th>\n",
       "      <th></th>\n",
       "      <th></th>\n",
       "      <th></th>\n",
       "      <th></th>\n",
       "      <th></th>\n",
       "      <th></th>\n",
       "      <th></th>\n",
       "    </tr>\n",
       "  </thead>\n",
       "  <tbody>\n",
       "    <tr>\n",
       "      <th>11344919</th>\n",
       "      <td>114456999</td>\n",
       "      <td>45</td>\n",
       "      <td>0</td>\n",
       "      <td>0</td>\n",
       "      <td>0</td>\n",
       "      <td>0.0</td>\n",
       "      <td>0.0</td>\n",
       "      <td>0.0</td>\n",
       "      <td>0.0</td>\n",
       "      <td>0.000000</td>\n",
       "      <td>0.393161</td>\n",
       "      <td>2.601295e+06</td>\n",
       "      <td>4.295632e+06</td>\n",
       "      <td>10001143.0</td>\n",
       "      <td>1.0</td>\n",
       "      <td>BENIGN</td>\n",
       "      <td>Benign</td>\n",
       "    </tr>\n",
       "    <tr>\n",
       "      <th>11344920</th>\n",
       "      <td>114347504</td>\n",
       "      <td>56</td>\n",
       "      <td>0</td>\n",
       "      <td>0</td>\n",
       "      <td>0</td>\n",
       "      <td>0.0</td>\n",
       "      <td>0.0</td>\n",
       "      <td>0.0</td>\n",
       "      <td>0.0</td>\n",
       "      <td>0.000000</td>\n",
       "      <td>0.489735</td>\n",
       "      <td>2.079046e+06</td>\n",
       "      <td>3.956754e+06</td>\n",
       "      <td>9978130.0</td>\n",
       "      <td>0.0</td>\n",
       "      <td>BENIGN</td>\n",
       "      <td>Benign</td>\n",
       "    </tr>\n",
       "    <tr>\n",
       "      <th>11344921</th>\n",
       "      <td>36435473</td>\n",
       "      <td>6</td>\n",
       "      <td>2</td>\n",
       "      <td>116</td>\n",
       "      <td>92</td>\n",
       "      <td>46.0</td>\n",
       "      <td>6.0</td>\n",
       "      <td>46.0</td>\n",
       "      <td>46.0</td>\n",
       "      <td>5.708722</td>\n",
       "      <td>0.219566</td>\n",
       "      <td>5.205068e+06</td>\n",
       "      <td>1.374380e+07</td>\n",
       "      <td>36373056.0</td>\n",
       "      <td>1.0</td>\n",
       "      <td>BENIGN</td>\n",
       "      <td>Benign</td>\n",
       "    </tr>\n",
       "    <tr>\n",
       "      <th>11344922</th>\n",
       "      <td>36434705</td>\n",
       "      <td>6</td>\n",
       "      <td>2</td>\n",
       "      <td>116</td>\n",
       "      <td>92</td>\n",
       "      <td>46.0</td>\n",
       "      <td>6.0</td>\n",
       "      <td>46.0</td>\n",
       "      <td>46.0</td>\n",
       "      <td>5.708843</td>\n",
       "      <td>0.219571</td>\n",
       "      <td>5.204958e+06</td>\n",
       "      <td>1.374351e+07</td>\n",
       "      <td>36372291.0</td>\n",
       "      <td>1.0</td>\n",
       "      <td>BENIGN</td>\n",
       "      <td>Benign</td>\n",
       "    </tr>\n",
       "    <tr>\n",
       "      <th>11344923</th>\n",
       "      <td>36434626</td>\n",
       "      <td>6</td>\n",
       "      <td>2</td>\n",
       "      <td>116</td>\n",
       "      <td>92</td>\n",
       "      <td>46.0</td>\n",
       "      <td>6.0</td>\n",
       "      <td>46.0</td>\n",
       "      <td>46.0</td>\n",
       "      <td>5.708855</td>\n",
       "      <td>0.219571</td>\n",
       "      <td>5.204947e+06</td>\n",
       "      <td>1.374348e+07</td>\n",
       "      <td>36372216.0</td>\n",
       "      <td>1.0</td>\n",
       "      <td>BENIGN</td>\n",
       "      <td>Benign</td>\n",
       "    </tr>\n",
       "    <tr>\n",
       "      <th>...</th>\n",
       "      <td>...</td>\n",
       "      <td>...</td>\n",
       "      <td>...</td>\n",
       "      <td>...</td>\n",
       "      <td>...</td>\n",
       "      <td>...</td>\n",
       "      <td>...</td>\n",
       "      <td>...</td>\n",
       "      <td>...</td>\n",
       "      <td>...</td>\n",
       "      <td>...</td>\n",
       "      <td>...</td>\n",
       "      <td>...</td>\n",
       "      <td>...</td>\n",
       "      <td>...</td>\n",
       "      <td>...</td>\n",
       "      <td>...</td>\n",
       "    </tr>\n",
       "    <tr>\n",
       "      <th>12049183</th>\n",
       "      <td>115945</td>\n",
       "      <td>2</td>\n",
       "      <td>2</td>\n",
       "      <td>90</td>\n",
       "      <td>224</td>\n",
       "      <td>45.0</td>\n",
       "      <td>45.0</td>\n",
       "      <td>112.0</td>\n",
       "      <td>112.0</td>\n",
       "      <td>2708.180603</td>\n",
       "      <td>34.499116</td>\n",
       "      <td>3.864833e+04</td>\n",
       "      <td>6.693655e+04</td>\n",
       "      <td>115940.0</td>\n",
       "      <td>2.0</td>\n",
       "      <td>BENIGN</td>\n",
       "      <td>Benign</td>\n",
       "    </tr>\n",
       "    <tr>\n",
       "      <th>12049184</th>\n",
       "      <td>9012862</td>\n",
       "      <td>6</td>\n",
       "      <td>0</td>\n",
       "      <td>0</td>\n",
       "      <td>0</td>\n",
       "      <td>0.0</td>\n",
       "      <td>0.0</td>\n",
       "      <td>0.0</td>\n",
       "      <td>0.0</td>\n",
       "      <td>0.000000</td>\n",
       "      <td>0.665715</td>\n",
       "      <td>1.802572e+06</td>\n",
       "      <td>2.684831e+06</td>\n",
       "      <td>6000389.0</td>\n",
       "      <td>2.0</td>\n",
       "      <td>BENIGN</td>\n",
       "      <td>Benign</td>\n",
       "    </tr>\n",
       "    <tr>\n",
       "      <th>12049185</th>\n",
       "      <td>540751</td>\n",
       "      <td>4</td>\n",
       "      <td>2</td>\n",
       "      <td>24</td>\n",
       "      <td>12</td>\n",
       "      <td>6.0</td>\n",
       "      <td>6.0</td>\n",
       "      <td>6.0</td>\n",
       "      <td>6.0</td>\n",
       "      <td>66.574079</td>\n",
       "      <td>11.095680</td>\n",
       "      <td>1.081502e+05</td>\n",
       "      <td>2.417066e+05</td>\n",
       "      <td>540528.0</td>\n",
       "      <td>2.0</td>\n",
       "      <td>Syn</td>\n",
       "      <td>Malicious</td>\n",
       "    </tr>\n",
       "    <tr>\n",
       "      <th>12049187</th>\n",
       "      <td>11049376</td>\n",
       "      <td>33</td>\n",
       "      <td>40</td>\n",
       "      <td>2918</td>\n",
       "      <td>4482</td>\n",
       "      <td>648.0</td>\n",
       "      <td>0.0</td>\n",
       "      <td>976.0</td>\n",
       "      <td>0.0</td>\n",
       "      <td>669.721077</td>\n",
       "      <td>6.606708</td>\n",
       "      <td>1.534636e+05</td>\n",
       "      <td>3.587299e+05</td>\n",
       "      <td>1942609.0</td>\n",
       "      <td>2.0</td>\n",
       "      <td>Syn</td>\n",
       "      <td>Malicious</td>\n",
       "    </tr>\n",
       "    <tr>\n",
       "      <th>12049190</th>\n",
       "      <td>1276</td>\n",
       "      <td>1</td>\n",
       "      <td>1</td>\n",
       "      <td>0</td>\n",
       "      <td>0</td>\n",
       "      <td>0.0</td>\n",
       "      <td>0.0</td>\n",
       "      <td>0.0</td>\n",
       "      <td>0.0</td>\n",
       "      <td>0.000000</td>\n",
       "      <td>1567.398119</td>\n",
       "      <td>1.276000e+03</td>\n",
       "      <td>0.000000e+00</td>\n",
       "      <td>1276.0</td>\n",
       "      <td>1276.0</td>\n",
       "      <td>Syn</td>\n",
       "      <td>Malicious</td>\n",
       "    </tr>\n",
       "  </tbody>\n",
       "</table>\n",
       "<p>18161176 rows × 17 columns</p>\n",
       "</div>"
      ],
      "text/plain": [
       "          Flow Duration  Total Fwd Packets  Total Backward Packets  \\\n",
       "index                                                                \n",
       "11344919      114456999                 45                       0   \n",
       "11344920      114347504                 56                       0   \n",
       "11344921       36435473                  6                       2   \n",
       "11344922       36434705                  6                       2   \n",
       "11344923       36434626                  6                       2   \n",
       "...                 ...                ...                     ...   \n",
       "12049183         115945                  2                       2   \n",
       "12049184        9012862                  6                       0   \n",
       "12049185         540751                  4                       2   \n",
       "12049187       11049376                 33                      40   \n",
       "12049190           1276                  1                       1   \n",
       "\n",
       "          Total Length of Fwd Packets  Total Length of Bwd Packets  \\\n",
       "index                                                                \n",
       "11344919                            0                            0   \n",
       "11344920                            0                            0   \n",
       "11344921                          116                           92   \n",
       "11344922                          116                           92   \n",
       "11344923                          116                           92   \n",
       "...                               ...                          ...   \n",
       "12049183                           90                          224   \n",
       "12049184                            0                            0   \n",
       "12049185                           24                           12   \n",
       "12049187                         2918                         4482   \n",
       "12049190                            0                            0   \n",
       "\n",
       "          Fwd Packet Length Max  Fwd Packet Length Min  Bwd Packet Length Max  \\\n",
       "index                                                                           \n",
       "11344919                    0.0                    0.0                    0.0   \n",
       "11344920                    0.0                    0.0                    0.0   \n",
       "11344921                   46.0                    6.0                   46.0   \n",
       "11344922                   46.0                    6.0                   46.0   \n",
       "11344923                   46.0                    6.0                   46.0   \n",
       "...                         ...                    ...                    ...   \n",
       "12049183                   45.0                   45.0                  112.0   \n",
       "12049184                    0.0                    0.0                    0.0   \n",
       "12049185                    6.0                    6.0                    6.0   \n",
       "12049187                  648.0                    0.0                  976.0   \n",
       "12049190                    0.0                    0.0                    0.0   \n",
       "\n",
       "          Bwd Packet Length Min  Flow Bytes/s  Flow Packets/s  Flow IAT Mean  \\\n",
       "index                                                                          \n",
       "11344919                    0.0      0.000000        0.393161   2.601295e+06   \n",
       "11344920                    0.0      0.000000        0.489735   2.079046e+06   \n",
       "11344921                   46.0      5.708722        0.219566   5.205068e+06   \n",
       "11344922                   46.0      5.708843        0.219571   5.204958e+06   \n",
       "11344923                   46.0      5.708855        0.219571   5.204947e+06   \n",
       "...                         ...           ...             ...            ...   \n",
       "12049183                  112.0   2708.180603       34.499116   3.864833e+04   \n",
       "12049184                    0.0      0.000000        0.665715   1.802572e+06   \n",
       "12049185                    6.0     66.574079       11.095680   1.081502e+05   \n",
       "12049187                    0.0    669.721077        6.606708   1.534636e+05   \n",
       "12049190                    0.0      0.000000     1567.398119   1.276000e+03   \n",
       "\n",
       "          Flow IAT Std  Flow IAT Max  Flow IAT Min   Label   BinLabel  \n",
       "index                                                                  \n",
       "11344919  4.295632e+06    10001143.0           1.0  BENIGN     Benign  \n",
       "11344920  3.956754e+06     9978130.0           0.0  BENIGN     Benign  \n",
       "11344921  1.374380e+07    36373056.0           1.0  BENIGN     Benign  \n",
       "11344922  1.374351e+07    36372291.0           1.0  BENIGN     Benign  \n",
       "11344923  1.374348e+07    36372216.0           1.0  BENIGN     Benign  \n",
       "...                ...           ...           ...     ...        ...  \n",
       "12049183  6.693655e+04      115940.0           2.0  BENIGN     Benign  \n",
       "12049184  2.684831e+06     6000389.0           2.0  BENIGN     Benign  \n",
       "12049185  2.417066e+05      540528.0           2.0     Syn  Malicious  \n",
       "12049187  3.587299e+05     1942609.0           2.0     Syn  Malicious  \n",
       "12049190  0.000000e+00        1276.0        1276.0     Syn  Malicious  \n",
       "\n",
       "[18161176 rows x 17 columns]"
      ]
     },
     "execution_count": 15,
     "metadata": {},
     "output_type": "execute_result"
    }
   ],
   "source": [
    "df_test"
   ]
  },
  {
   "cell_type": "code",
   "execution_count": 16,
   "metadata": {},
   "outputs": [
    {
     "name": "stdout",
     "output_type": "stream",
     "text": [
      "['DrDoS_NTP' 'BENIGN' 'DrDoS_DNS' 'DrDoS_LDAP' 'DrDoS_MSSQL'\n",
      " 'DrDoS_NetBIOS' 'DrDoS_SNMP' 'DrDoS_SSDP' 'DrDoS_UDP' 'UDP-lag' 'WebDDoS'\n",
      " 'Syn' 'TFTP']\n",
      "['BENIGN' 'Portmap' 'NetBIOS' 'LDAP' 'MSSQL' 'UDP' 'UDP-lag' 'Syn']\n"
     ]
    }
   ],
   "source": [
    "# If dataframe classes should intersect in train and test set, apply below\n",
    "excludelabels = ['DrDoS_NTP', 'DrDoS_DNS', 'DrDoS_SNMP', 'DrDoS_SSDP', 'TFTP', 'Portmap', 'WebDDoS']\n",
    "print(df_train['Label'].unique())\n",
    "print(df_test['Label'].unique())\n",
    "df_train.drop(df_train[df_train['Label'].isin(excludelabels)].index, inplace=True)\n",
    "df_test.drop(df_test[df_test['Label'].isin(excludelabels)].index, inplace=True)"
   ]
  },
  {
   "cell_type": "code",
   "execution_count": 17,
   "metadata": {},
   "outputs": [
    {
     "name": "stdout",
     "output_type": "stream",
     "text": [
      "['BENIGN' 'DrDoS_LDAP' 'DrDoS_MSSQL' 'DrDoS_NetBIOS' 'DrDoS_UDP' 'UDP-lag'\n",
      " 'Syn']\n",
      "['BENIGN' 'NetBIOS' 'LDAP' 'MSSQL' 'UDP' 'UDP-lag' 'Syn']\n"
     ]
    }
   ],
   "source": [
    "print(df_train['Label'].unique())\n",
    "print(df_test['Label'].unique())\n",
    "#Switch train and test set according to general feature set results\n",
    "df_temp = df_train.copy()\n",
    "df_train = df_test.copy()\n",
    "df_test = df_temp.copy()\n",
    "df_temp = np.nan"
   ]
  },
  {
   "cell_type": "code",
   "execution_count": 18,
   "metadata": {},
   "outputs": [],
   "source": [
    "# Compare ngram feature set to alternative feature set\n",
    "#features = df_train.filter(regex='^ngram', axis=1).columns\n",
    "features = ['Flow Duration', 'Total Fwd Packets', 'Total Backward Packets', \\\n",
    "            'Total Length of Fwd Packets', 'Total Length of Bwd Packets', 'Fwd Packet Length Max', \\\n",
    "            'Fwd Packet Length Min', 'Bwd Packet Length Max', 'Bwd Packet Length Min', \\\n",
    "            'Flow Bytes/s', 'Flow Packets/s', 'Flow IAT Mean', 'Flow IAT Std', \\\n",
    "            'Flow IAT Max', 'Flow IAT Min']\n",
    "\n",
    "label = 'BinLabel'"
   ]
  },
  {
   "cell_type": "code",
   "execution_count": 22,
   "metadata": {},
   "outputs": [
    {
     "name": "stderr",
     "output_type": "stream",
     "text": [
      "[Parallel(n_jobs=5)]: Using backend ThreadingBackend with 5 concurrent workers.\n"
     ]
    },
    {
     "name": "stdout",
     "output_type": "stream",
     "text": [
      "building tree 1 of 100building tree 2 of 100building tree 3 of 100building tree 4 of 100\n",
      "\n",
      "building tree 5 of 100\n",
      "\n",
      "\n",
      "building tree 6 of 100\n",
      "building tree 7 of 100\n",
      "building tree 8 of 100\n"
     ]
    },
    {
     "name": "stderr",
     "output_type": "stream",
     "text": [
      "[Parallel(n_jobs=5)]: Done   3 tasks      | elapsed:   25.1s\n"
     ]
    },
    {
     "name": "stdout",
     "output_type": "stream",
     "text": [
      "building tree 9 of 100\n",
      "building tree 10 of 100\n",
      "building tree 11 of 100\n",
      "building tree 12 of 100\n",
      "building tree 13 of 100\n"
     ]
    },
    {
     "name": "stderr",
     "output_type": "stream",
     "text": [
      "[Parallel(n_jobs=5)]: Done   8 tasks      | elapsed:   46.7s\n"
     ]
    },
    {
     "name": "stdout",
     "output_type": "stream",
     "text": [
      "building tree 14 of 100\n",
      "building tree 15 of 100\n",
      "building tree 16 of 100\n",
      "building tree 17 of 100\n",
      "building tree 18 of 100\n",
      "building tree 19 of 100\n",
      "building tree 20 of 100\n"
     ]
    },
    {
     "name": "stderr",
     "output_type": "stream",
     "text": [
      "[Parallel(n_jobs=5)]: Done  15 tasks      | elapsed:  1.4min\n"
     ]
    },
    {
     "name": "stdout",
     "output_type": "stream",
     "text": [
      "building tree 21 of 100\n",
      "building tree 22 of 100\n",
      "building tree 23 of 100\n",
      "building tree 24 of 100\n",
      "building tree 25 of 100\n",
      "building tree 26 of 100\n",
      "building tree 27 of 100\n"
     ]
    },
    {
     "name": "stderr",
     "output_type": "stream",
     "text": [
      "[Parallel(n_jobs=5)]: Done  22 tasks      | elapsed:  1.8min\n"
     ]
    },
    {
     "name": "stdout",
     "output_type": "stream",
     "text": [
      "building tree 28 of 100\n",
      "building tree 29 of 100\n",
      "building tree 30 of 100\n",
      "building tree 31 of 100\n",
      "building tree 32 of 100\n",
      "building tree 33 of 100\n",
      "building tree 34 of 100\n",
      "building tree 35 of 100\n",
      "building tree 36 of 100\n"
     ]
    },
    {
     "name": "stderr",
     "output_type": "stream",
     "text": [
      "[Parallel(n_jobs=5)]: Done  31 tasks      | elapsed:  2.5min\n"
     ]
    },
    {
     "name": "stdout",
     "output_type": "stream",
     "text": [
      "building tree 37 of 100\n",
      "building tree 38 of 100\n",
      "building tree 39 of 100\n",
      "building tree 40 of 100\n",
      "building tree 41 of 100\n",
      "building tree 42 of 100\n",
      "building tree 43 of 100\n",
      "building tree 44 of 100\n",
      "building tree 45 of 100\n"
     ]
    },
    {
     "name": "stderr",
     "output_type": "stream",
     "text": [
      "[Parallel(n_jobs=5)]: Done  40 tasks      | elapsed:  3.3min\n"
     ]
    },
    {
     "name": "stdout",
     "output_type": "stream",
     "text": [
      "building tree 46 of 100\n",
      "building tree 47 of 100\n",
      "building tree 48 of 100\n",
      "building tree 49 of 100\n",
      "building tree 50 of 100\n",
      "building tree 51 of 100\n",
      "building tree 52 of 100\n",
      "building tree 53 of 100\n",
      "building tree 54 of 100\n",
      "building tree 55 of 100\n",
      "building tree 56 of 100\n"
     ]
    },
    {
     "name": "stderr",
     "output_type": "stream",
     "text": [
      "[Parallel(n_jobs=5)]: Done  51 tasks      | elapsed:  4.1min\n"
     ]
    },
    {
     "name": "stdout",
     "output_type": "stream",
     "text": [
      "building tree 57 of 100\n",
      "building tree 58 of 100\n",
      "building tree 59 of 100\n",
      "building tree 60 of 100\n",
      "building tree 61 of 100\n",
      "building tree 62 of 100\n",
      "building tree 63 of 100\n",
      "building tree 64 of 100\n",
      "building tree 65 of 100\n",
      "building tree 66 of 100\n",
      "building tree 67 of 100\n"
     ]
    },
    {
     "name": "stderr",
     "output_type": "stream",
     "text": [
      "[Parallel(n_jobs=5)]: Done  62 tasks      | elapsed:  4.8min\n"
     ]
    },
    {
     "name": "stdout",
     "output_type": "stream",
     "text": [
      "building tree 68 of 100\n",
      "building tree 69 of 100\n",
      "building tree 70 of 100\n",
      "building tree 71 of 100\n",
      "building tree 72 of 100\n",
      "building tree 73 of 100\n",
      "building tree 74 of 100\n",
      "building tree 75 of 100\n",
      "building tree 76 of 100\n",
      "building tree 77 of 100\n",
      "building tree 78 of 100\n",
      "building tree 79 of 100\n",
      "building tree 80 of 100\n"
     ]
    },
    {
     "name": "stderr",
     "output_type": "stream",
     "text": [
      "[Parallel(n_jobs=5)]: Done  75 tasks      | elapsed:  5.9min\n"
     ]
    },
    {
     "name": "stdout",
     "output_type": "stream",
     "text": [
      "building tree 81 of 100\n",
      "building tree 82 of 100\n",
      "building tree 83 of 100\n",
      "building tree 84 of 100\n",
      "building tree 85 of 100\n",
      "building tree 86 of 100\n",
      "building tree 87 of 100\n",
      "building tree 88 of 100\n",
      "building tree 89 of 100\n",
      "building tree 90 of 100\n",
      "building tree 91 of 100\n",
      "building tree 92 of 100\n",
      "building tree 93 of 100\n"
     ]
    },
    {
     "name": "stderr",
     "output_type": "stream",
     "text": [
      "[Parallel(n_jobs=5)]: Done  88 tasks      | elapsed:  6.7min\n"
     ]
    },
    {
     "name": "stdout",
     "output_type": "stream",
     "text": [
      "building tree 94 of 100\n",
      "building tree 95 of 100\n",
      "building tree 96 of 100\n",
      "building tree 97 of 100\n",
      "building tree 98 of 100\n",
      "building tree 99 of 100\n",
      "building tree 100 of 100\n"
     ]
    },
    {
     "name": "stderr",
     "output_type": "stream",
     "text": [
      "[Parallel(n_jobs=5)]: Done 100 out of 100 | elapsed:  7.6min finished\n",
      "[Parallel(n_jobs=5)]: Using backend ThreadingBackend with 5 concurrent workers.\n",
      "[Parallel(n_jobs=5)]: Done   3 tasks      | elapsed:    0.9s\n",
      "[Parallel(n_jobs=5)]: Done   8 tasks      | elapsed:    1.8s\n",
      "[Parallel(n_jobs=5)]: Done  15 tasks      | elapsed:    2.8s\n",
      "[Parallel(n_jobs=5)]: Done  22 tasks      | elapsed:    4.2s\n",
      "[Parallel(n_jobs=5)]: Done  31 tasks      | elapsed:    5.7s\n",
      "[Parallel(n_jobs=5)]: Done  40 tasks      | elapsed:    7.1s\n",
      "[Parallel(n_jobs=5)]: Done  51 tasks      | elapsed:    9.0s\n",
      "[Parallel(n_jobs=5)]: Done  62 tasks      | elapsed:   10.8s\n",
      "[Parallel(n_jobs=5)]: Done  75 tasks      | elapsed:   12.7s\n",
      "[Parallel(n_jobs=5)]: Done  88 tasks      | elapsed:   14.8s\n",
      "[Parallel(n_jobs=5)]: Done 100 out of 100 | elapsed:   16.6s finished\n",
      "[Parallel(n_jobs=5)]: Using backend ThreadingBackend with 5 concurrent workers.\n"
     ]
    },
    {
     "name": "stdout",
     "output_type": "stream",
     "text": [
      "building tree 1 of 100building tree 2 of 100building tree 3 of 100\n",
      "\n",
      "building tree 4 of 100\n",
      "\n",
      "building tree 5 of 100\n",
      "building tree 6 of 100\n",
      "building tree 7 of 100\n",
      "building tree 8 of 100\n"
     ]
    },
    {
     "name": "stderr",
     "output_type": "stream",
     "text": [
      "[Parallel(n_jobs=5)]: Done   3 tasks      | elapsed:   26.4s\n"
     ]
    },
    {
     "name": "stdout",
     "output_type": "stream",
     "text": [
      "building tree 9 of 100\n",
      "building tree 10 of 100\n",
      "building tree 11 of 100\n",
      "building tree 12 of 100\n",
      "building tree 13 of 100\n"
     ]
    },
    {
     "name": "stderr",
     "output_type": "stream",
     "text": [
      "[Parallel(n_jobs=5)]: Done   8 tasks      | elapsed:   52.0s\n"
     ]
    },
    {
     "name": "stdout",
     "output_type": "stream",
     "text": [
      "building tree 14 of 100\n",
      "building tree 15 of 100\n",
      "building tree 16 of 100\n",
      "building tree 17 of 100\n",
      "building tree 18 of 100\n",
      "building tree 19 of 100\n",
      "building tree 20 of 100\n"
     ]
    },
    {
     "name": "stderr",
     "output_type": "stream",
     "text": [
      "[Parallel(n_jobs=5)]: Done  15 tasks      | elapsed:  1.3min\n"
     ]
    },
    {
     "name": "stdout",
     "output_type": "stream",
     "text": [
      "building tree 21 of 100\n",
      "building tree 22 of 100\n",
      "building tree 23 of 100\n",
      "building tree 24 of 100\n",
      "building tree 25 of 100\n",
      "building tree 26 of 100\n",
      "building tree 27 of 100\n"
     ]
    },
    {
     "name": "stderr",
     "output_type": "stream",
     "text": [
      "[Parallel(n_jobs=5)]: Done  22 tasks      | elapsed:  2.0min\n"
     ]
    },
    {
     "name": "stdout",
     "output_type": "stream",
     "text": [
      "building tree 28 of 100\n",
      "building tree 29 of 100\n",
      "building tree 30 of 100\n",
      "building tree 31 of 100\n",
      "building tree 32 of 100\n",
      "building tree 33 of 100\n",
      "building tree 34 of 100\n",
      "building tree 35 of 100\n"
     ]
    },
    {
     "name": "stderr",
     "output_type": "stream",
     "text": [
      "[Parallel(n_jobs=5)]: Done  31 tasks      | elapsed:  2.4min\n"
     ]
    },
    {
     "name": "stdout",
     "output_type": "stream",
     "text": [
      "building tree 36 of 100\n",
      "building tree 37 of 100\n",
      "building tree 38 of 100\n",
      "building tree 39 of 100\n",
      "building tree 40 of 100\n",
      "building tree 41 of 100\n",
      "building tree 42 of 100\n",
      "building tree 43 of 100\n",
      "building tree 44 of 100\n",
      "building tree 45 of 100\n"
     ]
    },
    {
     "name": "stderr",
     "output_type": "stream",
     "text": [
      "[Parallel(n_jobs=5)]: Done  40 tasks      | elapsed:  3.2min\n"
     ]
    },
    {
     "name": "stdout",
     "output_type": "stream",
     "text": [
      "building tree 46 of 100\n",
      "building tree 47 of 100\n",
      "building tree 48 of 100\n",
      "building tree 49 of 100\n",
      "building tree 50 of 100\n",
      "building tree 51 of 100\n",
      "building tree 52 of 100\n",
      "building tree 53 of 100\n",
      "building tree 54 of 100\n",
      "building tree 55 of 100\n",
      "building tree 56 of 100\n"
     ]
    },
    {
     "name": "stderr",
     "output_type": "stream",
     "text": [
      "[Parallel(n_jobs=5)]: Done  51 tasks      | elapsed:  4.0min\n"
     ]
    },
    {
     "name": "stdout",
     "output_type": "stream",
     "text": [
      "building tree 57 of 100\n",
      "building tree 58 of 100\n",
      "building tree 59 of 100\n",
      "building tree 60 of 100\n",
      "building tree 61 of 100\n",
      "building tree 62 of 100\n",
      "building tree 63 of 100\n",
      "building tree 64 of 100\n",
      "building tree 65 of 100\n",
      "building tree 66 of 100\n",
      "building tree 67 of 100\n"
     ]
    },
    {
     "name": "stderr",
     "output_type": "stream",
     "text": [
      "[Parallel(n_jobs=5)]: Done  62 tasks      | elapsed:  4.9min\n"
     ]
    },
    {
     "name": "stdout",
     "output_type": "stream",
     "text": [
      "building tree 68 of 100\n",
      "building tree 69 of 100\n",
      "building tree 70 of 100\n",
      "building tree 71 of 100\n",
      "building tree 72 of 100\n",
      "building tree 73 of 100\n",
      "building tree 74 of 100\n",
      "building tree 75 of 100\n",
      "building tree 76 of 100\n",
      "building tree 77 of 100\n",
      "building tree 78 of 100\n",
      "building tree 79 of 100\n",
      "building tree 80 of 100\n"
     ]
    },
    {
     "name": "stderr",
     "output_type": "stream",
     "text": [
      "[Parallel(n_jobs=5)]: Done  75 tasks      | elapsed:  5.9min\n"
     ]
    },
    {
     "name": "stdout",
     "output_type": "stream",
     "text": [
      "building tree 81 of 100\n",
      "building tree 82 of 100\n",
      "building tree 83 of 100\n",
      "building tree 84 of 100\n",
      "building tree 85 of 100\n",
      "building tree 86 of 100\n",
      "building tree 87 of 100\n",
      "building tree 88 of 100\n",
      "building tree 89 of 100\n",
      "building tree 90 of 100\n",
      "building tree 91 of 100\n",
      "building tree 92 of 100\n",
      "building tree 93 of 100\n"
     ]
    },
    {
     "name": "stderr",
     "output_type": "stream",
     "text": [
      "[Parallel(n_jobs=5)]: Done  88 tasks      | elapsed:  6.7min\n"
     ]
    },
    {
     "name": "stdout",
     "output_type": "stream",
     "text": [
      "building tree 94 of 100\n",
      "building tree 95 of 100\n",
      "building tree 96 of 100\n",
      "building tree 97 of 100\n",
      "building tree 98 of 100\n",
      "building tree 99 of 100\n",
      "building tree 100 of 100\n"
     ]
    },
    {
     "name": "stderr",
     "output_type": "stream",
     "text": [
      "[Parallel(n_jobs=5)]: Done 100 out of 100 | elapsed:  7.5min finished\n",
      "[Parallel(n_jobs=5)]: Using backend ThreadingBackend with 5 concurrent workers.\n",
      "[Parallel(n_jobs=5)]: Done   3 tasks      | elapsed:    1.0s\n",
      "[Parallel(n_jobs=5)]: Done   8 tasks      | elapsed:    1.8s\n",
      "[Parallel(n_jobs=5)]: Done  15 tasks      | elapsed:    2.8s\n",
      "[Parallel(n_jobs=5)]: Done  22 tasks      | elapsed:    4.2s\n",
      "[Parallel(n_jobs=5)]: Done  31 tasks      | elapsed:    5.8s\n",
      "[Parallel(n_jobs=5)]: Done  40 tasks      | elapsed:    7.1s\n",
      "[Parallel(n_jobs=5)]: Done  51 tasks      | elapsed:    9.0s\n",
      "[Parallel(n_jobs=5)]: Done  62 tasks      | elapsed:   10.8s\n",
      "[Parallel(n_jobs=5)]: Done  75 tasks      | elapsed:   12.9s\n",
      "[Parallel(n_jobs=5)]: Done  88 tasks      | elapsed:   14.9s\n",
      "[Parallel(n_jobs=5)]: Done 100 out of 100 | elapsed:   16.8s finished\n",
      "[Parallel(n_jobs=5)]: Using backend ThreadingBackend with 5 concurrent workers.\n"
     ]
    },
    {
     "name": "stdout",
     "output_type": "stream",
     "text": [
      "building tree 1 of 100building tree 2 of 100building tree 3 of 100\n",
      "\n",
      "building tree 4 of 100\n",
      "\n",
      "building tree 5 of 100\n",
      "building tree 6 of 100\n",
      "building tree 7 of 100\n",
      "building tree 8 of 100\n"
     ]
    },
    {
     "name": "stderr",
     "output_type": "stream",
     "text": [
      "[Parallel(n_jobs=5)]: Done   3 tasks      | elapsed:   26.3s\n"
     ]
    },
    {
     "name": "stdout",
     "output_type": "stream",
     "text": [
      "building tree 9 of 100\n",
      "building tree 10 of 100\n",
      "building tree 11 of 100building tree 12 of 100\n",
      "\n",
      "building tree 13 of 100\n"
     ]
    },
    {
     "name": "stderr",
     "output_type": "stream",
     "text": [
      "[Parallel(n_jobs=5)]: Done   8 tasks      | elapsed:   54.0s\n"
     ]
    },
    {
     "name": "stdout",
     "output_type": "stream",
     "text": [
      "building tree 14 of 100\n",
      "building tree 15 of 100\n",
      "building tree 16 of 100\n",
      "building tree 17 of 100\n",
      "building tree 18 of 100\n",
      "building tree 19 of 100\n",
      "building tree 20 of 100\n"
     ]
    },
    {
     "name": "stderr",
     "output_type": "stream",
     "text": [
      "[Parallel(n_jobs=5)]: Done  15 tasks      | elapsed:  1.4min\n"
     ]
    },
    {
     "name": "stdout",
     "output_type": "stream",
     "text": [
      "building tree 21 of 100\n",
      "building tree 22 of 100\n",
      "building tree 23 of 100\n",
      "building tree 24 of 100\n",
      "building tree 25 of 100\n",
      "building tree 26 of 100\n",
      "building tree 27 of 100\n"
     ]
    },
    {
     "name": "stderr",
     "output_type": "stream",
     "text": [
      "[Parallel(n_jobs=5)]: Done  22 tasks      | elapsed:  1.9min\n"
     ]
    },
    {
     "name": "stdout",
     "output_type": "stream",
     "text": [
      "building tree 28 of 100\n",
      "building tree 29 of 100\n",
      "building tree 30 of 100\n",
      "building tree 31 of 100\n",
      "building tree 32 of 100\n",
      "building tree 33 of 100\n",
      "building tree 34 of 100\n",
      "building tree 35 of 100\n",
      "building tree 36 of 100\n"
     ]
    },
    {
     "name": "stderr",
     "output_type": "stream",
     "text": [
      "[Parallel(n_jobs=5)]: Done  31 tasks      | elapsed:  2.5min\n"
     ]
    },
    {
     "name": "stdout",
     "output_type": "stream",
     "text": [
      "building tree 37 of 100\n",
      "building tree 38 of 100\n",
      "building tree 39 of 100\n",
      "building tree 40 of 100\n",
      "building tree 41 of 100\n",
      "building tree 42 of 100\n",
      "building tree 43 of 100\n",
      "building tree 44 of 100\n",
      "building tree 45 of 100\n"
     ]
    },
    {
     "name": "stderr",
     "output_type": "stream",
     "text": [
      "[Parallel(n_jobs=5)]: Done  40 tasks      | elapsed:  3.1min\n"
     ]
    },
    {
     "name": "stdout",
     "output_type": "stream",
     "text": [
      "building tree 46 of 100\n",
      "building tree 47 of 100\n",
      "building tree 48 of 100\n",
      "building tree 49 of 100\n",
      "building tree 50 of 100\n",
      "building tree 51 of 100\n",
      "building tree 52 of 100\n",
      "building tree 53 of 100\n",
      "building tree 54 of 100\n",
      "building tree 55 of 100\n",
      "building tree 56 of 100\n"
     ]
    },
    {
     "name": "stderr",
     "output_type": "stream",
     "text": [
      "[Parallel(n_jobs=5)]: Done  51 tasks      | elapsed:  3.9min\n"
     ]
    },
    {
     "name": "stdout",
     "output_type": "stream",
     "text": [
      "building tree 57 of 100\n",
      "building tree 58 of 100\n",
      "building tree 59 of 100\n",
      "building tree 60 of 100\n",
      "building tree 61 of 100\n",
      "building tree 62 of 100\n",
      "building tree 63 of 100\n",
      "building tree 64 of 100\n",
      "building tree 65 of 100\n",
      "building tree 66 of 100\n",
      "building tree 67 of 100\n"
     ]
    },
    {
     "name": "stderr",
     "output_type": "stream",
     "text": [
      "[Parallel(n_jobs=5)]: Done  62 tasks      | elapsed:  4.7min\n"
     ]
    },
    {
     "name": "stdout",
     "output_type": "stream",
     "text": [
      "building tree 68 of 100\n",
      "building tree 69 of 100\n",
      "building tree 70 of 100\n",
      "building tree 71 of 100\n",
      "building tree 72 of 100\n",
      "building tree 73 of 100\n",
      "building tree 74 of 100\n",
      "building tree 75 of 100\n",
      "building tree 76 of 100\n",
      "building tree 77 of 100\n",
      "building tree 78 of 100\n",
      "building tree 79 of 100\n",
      "building tree 80 of 100\n"
     ]
    },
    {
     "name": "stderr",
     "output_type": "stream",
     "text": [
      "[Parallel(n_jobs=5)]: Done  75 tasks      | elapsed:  5.7min\n"
     ]
    },
    {
     "name": "stdout",
     "output_type": "stream",
     "text": [
      "building tree 81 of 100\n",
      "building tree 82 of 100\n",
      "building tree 83 of 100\n",
      "building tree 84 of 100\n",
      "building tree 85 of 100\n",
      "building tree 86 of 100\n",
      "building tree 87 of 100\n",
      "building tree 88 of 100\n",
      "building tree 89 of 100\n",
      "building tree 90 of 100\n",
      "building tree 91 of 100\n",
      "building tree 92 of 100\n",
      "building tree 93 of 100\n"
     ]
    },
    {
     "name": "stderr",
     "output_type": "stream",
     "text": [
      "[Parallel(n_jobs=5)]: Done  88 tasks      | elapsed:  6.7min\n"
     ]
    },
    {
     "name": "stdout",
     "output_type": "stream",
     "text": [
      "building tree 94 of 100\n",
      "building tree 95 of 100\n",
      "building tree 96 of 100\n",
      "building tree 97 of 100\n",
      "building tree 98 of 100\n",
      "building tree 99 of 100\n",
      "building tree 100 of 100\n"
     ]
    },
    {
     "name": "stderr",
     "output_type": "stream",
     "text": [
      "[Parallel(n_jobs=5)]: Done 100 out of 100 | elapsed:  7.5min finished\n",
      "[Parallel(n_jobs=5)]: Using backend ThreadingBackend with 5 concurrent workers.\n",
      "[Parallel(n_jobs=5)]: Done   3 tasks      | elapsed:    0.9s\n",
      "[Parallel(n_jobs=5)]: Done   8 tasks      | elapsed:    1.9s\n",
      "[Parallel(n_jobs=5)]: Done  15 tasks      | elapsed:    2.8s\n",
      "[Parallel(n_jobs=5)]: Done  22 tasks      | elapsed:    4.1s\n",
      "[Parallel(n_jobs=5)]: Done  31 tasks      | elapsed:    5.5s\n",
      "[Parallel(n_jobs=5)]: Done  40 tasks      | elapsed:    6.8s\n",
      "[Parallel(n_jobs=5)]: Done  51 tasks      | elapsed:    8.8s\n",
      "[Parallel(n_jobs=5)]: Done  62 tasks      | elapsed:   10.5s\n",
      "[Parallel(n_jobs=5)]: Done  75 tasks      | elapsed:   12.8s\n",
      "[Parallel(n_jobs=5)]: Done  88 tasks      | elapsed:   14.9s\n",
      "[Parallel(n_jobs=5)]: Done 100 out of 100 | elapsed:   16.7s finished\n",
      "[Parallel(n_jobs=5)]: Using backend ThreadingBackend with 5 concurrent workers.\n"
     ]
    },
    {
     "name": "stdout",
     "output_type": "stream",
     "text": [
      "building tree 1 of 100building tree 2 of 100building tree 3 of 100building tree 4 of 100building tree 5 of 100\n",
      "\n",
      "\n",
      "\n",
      "\n",
      "building tree 6 of 100\n",
      "building tree 7 of 100\n",
      "building tree 8 of 100\n"
     ]
    },
    {
     "name": "stderr",
     "output_type": "stream",
     "text": [
      "[Parallel(n_jobs=5)]: Done   3 tasks      | elapsed:   30.4s\n"
     ]
    },
    {
     "name": "stdout",
     "output_type": "stream",
     "text": [
      "building tree 9 of 100\n",
      "building tree 10 of 100\n",
      "building tree 11 of 100\n",
      "building tree 12 of 100\n",
      "building tree 13 of 100\n"
     ]
    },
    {
     "name": "stderr",
     "output_type": "stream",
     "text": [
      "[Parallel(n_jobs=5)]: Done   8 tasks      | elapsed:   53.3s\n"
     ]
    },
    {
     "name": "stdout",
     "output_type": "stream",
     "text": [
      "building tree 14 of 100\n",
      "building tree 15 of 100\n",
      "building tree 16 of 100\n",
      "building tree 17 of 100\n",
      "building tree 18 of 100\n",
      "building tree 19 of 100\n",
      "building tree 20 of 100\n"
     ]
    },
    {
     "name": "stderr",
     "output_type": "stream",
     "text": [
      "[Parallel(n_jobs=5)]: Done  15 tasks      | elapsed:  1.4min\n"
     ]
    },
    {
     "name": "stdout",
     "output_type": "stream",
     "text": [
      "building tree 21 of 100\n",
      "building tree 22 of 100\n",
      "building tree 23 of 100\n",
      "building tree 24 of 100\n",
      "building tree 25 of 100\n",
      "building tree 26 of 100\n",
      "building tree 27 of 100\n"
     ]
    },
    {
     "name": "stderr",
     "output_type": "stream",
     "text": [
      "[Parallel(n_jobs=5)]: Done  22 tasks      | elapsed:  1.9min\n"
     ]
    },
    {
     "name": "stdout",
     "output_type": "stream",
     "text": [
      "building tree 28 of 100\n",
      "building tree 29 of 100\n",
      "building tree 30 of 100\n",
      "building tree 31 of 100\n",
      "building tree 32 of 100\n",
      "building tree 33 of 100\n",
      "building tree 34 of 100\n",
      "building tree 35 of 100\n",
      "building tree 36 of 100\n"
     ]
    },
    {
     "name": "stderr",
     "output_type": "stream",
     "text": [
      "[Parallel(n_jobs=5)]: Done  31 tasks      | elapsed:  2.7min\n"
     ]
    },
    {
     "name": "stdout",
     "output_type": "stream",
     "text": [
      "building tree 37 of 100\n",
      "building tree 38 of 100\n",
      "building tree 39 of 100\n",
      "building tree 40 of 100\n",
      "building tree 41 of 100\n",
      "building tree 42 of 100\n",
      "building tree 43 of 100\n",
      "building tree 44 of 100\n",
      "building tree 45 of 100\n"
     ]
    },
    {
     "name": "stderr",
     "output_type": "stream",
     "text": [
      "[Parallel(n_jobs=5)]: Done  40 tasks      | elapsed:  3.4min\n"
     ]
    },
    {
     "name": "stdout",
     "output_type": "stream",
     "text": [
      "building tree 46 of 100\n",
      "building tree 47 of 100\n",
      "building tree 48 of 100\n",
      "building tree 49 of 100\n",
      "building tree 50 of 100\n",
      "building tree 51 of 100\n",
      "building tree 52 of 100\n",
      "building tree 53 of 100\n",
      "building tree 54 of 100\n",
      "building tree 55 of 100\n",
      "building tree 56 of 100\n"
     ]
    },
    {
     "name": "stderr",
     "output_type": "stream",
     "text": [
      "[Parallel(n_jobs=5)]: Done  51 tasks      | elapsed:  4.3min\n"
     ]
    },
    {
     "name": "stdout",
     "output_type": "stream",
     "text": [
      "building tree 57 of 100\n",
      "building tree 58 of 100\n",
      "building tree 59 of 100\n",
      "building tree 60 of 100\n",
      "building tree 61 of 100\n",
      "building tree 62 of 100\n",
      "building tree 63 of 100\n",
      "building tree 64 of 100\n",
      "building tree 65 of 100\n",
      "building tree 66 of 100\n",
      "building tree 67 of 100\n"
     ]
    },
    {
     "name": "stderr",
     "output_type": "stream",
     "text": [
      "[Parallel(n_jobs=5)]: Done  62 tasks      | elapsed:  5.3min\n"
     ]
    },
    {
     "name": "stdout",
     "output_type": "stream",
     "text": [
      "building tree 68 of 100\n",
      "building tree 69 of 100\n",
      "building tree 70 of 100\n",
      "building tree 71 of 100\n",
      "building tree 72 of 100\n",
      "building tree 73 of 100\n",
      "building tree 74 of 100\n",
      "building tree 75 of 100\n",
      "building tree 76 of 100\n",
      "building tree 77 of 100\n",
      "building tree 78 of 100\n",
      "building tree 79 of 100\n",
      "building tree 80 of 100\n"
     ]
    },
    {
     "name": "stderr",
     "output_type": "stream",
     "text": [
      "[Parallel(n_jobs=5)]: Done  75 tasks      | elapsed:  6.3min\n"
     ]
    },
    {
     "name": "stdout",
     "output_type": "stream",
     "text": [
      "building tree 81 of 100\n",
      "building tree 82 of 100\n",
      "building tree 83 of 100\n",
      "building tree 84 of 100\n",
      "building tree 85 of 100\n",
      "building tree 86 of 100\n",
      "building tree 87 of 100\n",
      "building tree 88 of 100\n",
      "building tree 89 of 100\n",
      "building tree 90 of 100\n",
      "building tree 91 of 100\n",
      "building tree 92 of 100\n",
      "building tree 93 of 100\n"
     ]
    },
    {
     "name": "stderr",
     "output_type": "stream",
     "text": [
      "[Parallel(n_jobs=5)]: Done  88 tasks      | elapsed:  7.4min\n"
     ]
    },
    {
     "name": "stdout",
     "output_type": "stream",
     "text": [
      "building tree 94 of 100\n",
      "building tree 95 of 100\n",
      "building tree 96 of 100\n",
      "building tree 97 of 100\n",
      "building tree 98 of 100\n",
      "building tree 99 of 100\n",
      "building tree 100 of 100\n"
     ]
    },
    {
     "name": "stderr",
     "output_type": "stream",
     "text": [
      "[Parallel(n_jobs=5)]: Done 100 out of 100 | elapsed:  8.3min finished\n",
      "[Parallel(n_jobs=5)]: Using backend ThreadingBackend with 5 concurrent workers.\n",
      "[Parallel(n_jobs=5)]: Done   3 tasks      | elapsed:    1.0s\n",
      "[Parallel(n_jobs=5)]: Done   8 tasks      | elapsed:    2.0s\n",
      "[Parallel(n_jobs=5)]: Done  15 tasks      | elapsed:    3.0s\n",
      "[Parallel(n_jobs=5)]: Done  22 tasks      | elapsed:    4.4s\n",
      "[Parallel(n_jobs=5)]: Done  31 tasks      | elapsed:    6.2s\n",
      "[Parallel(n_jobs=5)]: Done  40 tasks      | elapsed:    7.5s\n",
      "[Parallel(n_jobs=5)]: Done  51 tasks      | elapsed:    9.6s\n",
      "[Parallel(n_jobs=5)]: Done  62 tasks      | elapsed:   11.5s\n",
      "[Parallel(n_jobs=5)]: Done  75 tasks      | elapsed:   13.5s\n",
      "[Parallel(n_jobs=5)]: Done  88 tasks      | elapsed:   16.0s\n",
      "[Parallel(n_jobs=5)]: Done 100 out of 100 | elapsed:   17.7s finished\n",
      "[Parallel(n_jobs=5)]: Using backend ThreadingBackend with 5 concurrent workers.\n"
     ]
    },
    {
     "name": "stdout",
     "output_type": "stream",
     "text": [
      "building tree 1 of 100building tree 2 of 100building tree 3 of 100building tree 4 of 100building tree 5 of 100\n",
      "\n",
      "\n",
      "\n",
      "\n",
      "building tree 6 of 100\n",
      "building tree 7 of 100\n",
      "building tree 8 of 100\n"
     ]
    },
    {
     "name": "stderr",
     "output_type": "stream",
     "text": [
      "[Parallel(n_jobs=5)]: Done   3 tasks      | elapsed:   29.1s\n"
     ]
    },
    {
     "name": "stdout",
     "output_type": "stream",
     "text": [
      "building tree 9 of 100\n",
      "building tree 10 of 100\n",
      "building tree 11 of 100\n",
      "building tree 12 of 100\n",
      "building tree 13 of 100\n",
      "building tree 14 of 100\n"
     ]
    },
    {
     "name": "stderr",
     "output_type": "stream",
     "text": [
      "[Parallel(n_jobs=5)]: Done   8 tasks      | elapsed:   52.5s\n"
     ]
    },
    {
     "name": "stdout",
     "output_type": "stream",
     "text": [
      "building tree 15 of 100\n",
      "building tree 16 of 100\n",
      "building tree 17 of 100\n",
      "building tree 18 of 100\n",
      "building tree 19 of 100\n",
      "building tree 20 of 100\n"
     ]
    },
    {
     "name": "stderr",
     "output_type": "stream",
     "text": [
      "[Parallel(n_jobs=5)]: Done  15 tasks      | elapsed:  1.4min\n"
     ]
    },
    {
     "name": "stdout",
     "output_type": "stream",
     "text": [
      "building tree 21 of 100\n",
      "building tree 22 of 100\n",
      "building tree 23 of 100\n",
      "building tree 24 of 100\n",
      "building tree 25 of 100\n",
      "building tree 26 of 100\n",
      "building tree 27 of 100\n"
     ]
    },
    {
     "name": "stderr",
     "output_type": "stream",
     "text": [
      "[Parallel(n_jobs=5)]: Done  22 tasks      | elapsed:  2.0min\n"
     ]
    },
    {
     "name": "stdout",
     "output_type": "stream",
     "text": [
      "building tree 28 of 100\n",
      "building tree 29 of 100\n",
      "building tree 30 of 100\n",
      "building tree 31 of 100\n",
      "building tree 32 of 100\n",
      "building tree 33 of 100\n",
      "building tree 34 of 100\n",
      "building tree 35 of 100\n",
      "building tree 36 of 100\n"
     ]
    },
    {
     "name": "stderr",
     "output_type": "stream",
     "text": [
      "[Parallel(n_jobs=5)]: Done  31 tasks      | elapsed:  2.6min\n"
     ]
    },
    {
     "name": "stdout",
     "output_type": "stream",
     "text": [
      "building tree 37 of 100\n",
      "building tree 38 of 100\n",
      "building tree 39 of 100\n",
      "building tree 40 of 100\n",
      "building tree 41 of 100\n",
      "building tree 42 of 100\n",
      "building tree 43 of 100\n",
      "building tree 44 of 100\n",
      "building tree 45 of 100\n"
     ]
    },
    {
     "name": "stderr",
     "output_type": "stream",
     "text": [
      "[Parallel(n_jobs=5)]: Done  40 tasks      | elapsed:  3.4min\n"
     ]
    },
    {
     "name": "stdout",
     "output_type": "stream",
     "text": [
      "building tree 46 of 100\n",
      "building tree 47 of 100\n",
      "building tree 48 of 100\n",
      "building tree 49 of 100\n",
      "building tree 50 of 100\n",
      "building tree 51 of 100\n",
      "building tree 52 of 100\n",
      "building tree 53 of 100\n",
      "building tree 54 of 100\n",
      "building tree 55 of 100\n",
      "building tree 56 of 100\n"
     ]
    },
    {
     "name": "stderr",
     "output_type": "stream",
     "text": [
      "[Parallel(n_jobs=5)]: Done  51 tasks      | elapsed:  4.4min\n"
     ]
    },
    {
     "name": "stdout",
     "output_type": "stream",
     "text": [
      "building tree 57 of 100\n",
      "building tree 58 of 100\n",
      "building tree 59 of 100\n",
      "building tree 60 of 100\n",
      "building tree 61 of 100\n",
      "building tree 62 of 100\n",
      "building tree 63 of 100\n",
      "building tree 64 of 100\n",
      "building tree 65 of 100\n",
      "building tree 66 of 100\n",
      "building tree 67 of 100\n"
     ]
    },
    {
     "name": "stderr",
     "output_type": "stream",
     "text": [
      "[Parallel(n_jobs=5)]: Done  62 tasks      | elapsed:  5.3min\n"
     ]
    },
    {
     "name": "stdout",
     "output_type": "stream",
     "text": [
      "building tree 68 of 100\n",
      "building tree 69 of 100\n",
      "building tree 70 of 100\n",
      "building tree 71 of 100\n",
      "building tree 72 of 100\n",
      "building tree 73 of 100\n",
      "building tree 74 of 100\n",
      "building tree 75 of 100\n",
      "building tree 76 of 100\n",
      "building tree 77 of 100\n",
      "building tree 78 of 100\n",
      "building tree 79 of 100\n",
      "building tree 80 of 100\n"
     ]
    },
    {
     "name": "stderr",
     "output_type": "stream",
     "text": [
      "[Parallel(n_jobs=5)]: Done  75 tasks      | elapsed:  6.2min\n"
     ]
    },
    {
     "name": "stdout",
     "output_type": "stream",
     "text": [
      "building tree 81 of 100\n",
      "building tree 82 of 100\n",
      "building tree 83 of 100\n",
      "building tree 84 of 100\n",
      "building tree 85 of 100\n",
      "building tree 86 of 100\n",
      "building tree 87 of 100\n",
      "building tree 88 of 100\n",
      "building tree 89 of 100\n",
      "building tree 90 of 100\n",
      "building tree 91 of 100\n",
      "building tree 92 of 100\n",
      "building tree 93 of 100\n"
     ]
    },
    {
     "name": "stderr",
     "output_type": "stream",
     "text": [
      "[Parallel(n_jobs=5)]: Done  88 tasks      | elapsed:  7.3min\n"
     ]
    },
    {
     "name": "stdout",
     "output_type": "stream",
     "text": [
      "building tree 94 of 100\n",
      "building tree 95 of 100\n",
      "building tree 96 of 100\n",
      "building tree 97 of 100\n",
      "building tree 98 of 100\n",
      "building tree 99 of 100\n",
      "building tree 100 of 100\n"
     ]
    },
    {
     "name": "stderr",
     "output_type": "stream",
     "text": [
      "[Parallel(n_jobs=5)]: Done 100 out of 100 | elapsed:  8.1min finished\n",
      "[Parallel(n_jobs=5)]: Using backend ThreadingBackend with 5 concurrent workers.\n",
      "[Parallel(n_jobs=5)]: Done   3 tasks      | elapsed:    1.0s\n",
      "[Parallel(n_jobs=5)]: Done   8 tasks      | elapsed:    2.0s\n",
      "[Parallel(n_jobs=5)]: Done  15 tasks      | elapsed:    3.0s\n",
      "[Parallel(n_jobs=5)]: Done  22 tasks      | elapsed:    4.2s\n",
      "[Parallel(n_jobs=5)]: Done  31 tasks      | elapsed:    5.6s\n",
      "[Parallel(n_jobs=5)]: Done  40 tasks      | elapsed:    7.0s\n",
      "[Parallel(n_jobs=5)]: Done  51 tasks      | elapsed:    8.8s\n",
      "[Parallel(n_jobs=5)]: Done  62 tasks      | elapsed:   10.7s\n",
      "[Parallel(n_jobs=5)]: Done  75 tasks      | elapsed:   12.6s\n",
      "[Parallel(n_jobs=5)]: Done  88 tasks      | elapsed:   14.8s\n",
      "[Parallel(n_jobs=5)]: Done 100 out of 100 | elapsed:   16.5s finished\n"
     ]
    }
   ],
   "source": [
    "from sklearn.ensemble import RandomForestClassifier\n",
    "from sklearn.metrics import classification_report, confusion_matrix\n",
    "cfs = []\n",
    "preds = []\n",
    "for i in range(5):\n",
    "    rf_clf = RandomForestClassifier(n_estimators=100,min_samples_split=10,min_samples_leaf=5,max_samples=0.8,criterion='gini',n_jobs=5,verbose=10)\n",
    "    rf_clf.fit(df_train[features],df_train[label])\n",
    "    y_pred = rf_clf.predict(df_test[features])\n",
    "    cfs.append(confusion_matrix(df_test[label], y_pred))\n",
    "    preds.append([df_test[label], y_pred])"
   ]
  },
  {
   "cell_type": "markdown",
   "metadata": {},
   "source": [
    "## Ngrams results"
   ]
  },
  {
   "cell_type": "code",
   "execution_count": 12,
   "metadata": {},
   "outputs": [
    {
     "name": "stdout",
     "output_type": "stream",
     "text": [
      "[array([[  32339,     116],\n",
      "       [1078201, 7491925]]), array([[  32359,      96],\n",
      "       [1109228, 7460898]]), array([[  32348,     107],\n",
      "       [1105337, 7464789]]), array([[  32351,     104],\n",
      "       [1110460, 7459666]]), array([[  32357,      98],\n",
      "       [1070700, 7499426]])]\n",
      "(5, 2, 2)\n",
      "[[  32350.8     104.2]\n",
      " [1094785.2 7475340.8]]\n",
      "[[    7.11055553     7.11055553]\n",
      " [16856.84940195 16856.84940195]]\n",
      "std. dev %\n",
      " [[0.02197954 6.82394965]\n",
      " [1.53974034 0.22549941]]\n"
     ]
    }
   ],
   "source": [
    "np.set_printoptions(suppress=True)\n",
    "print(cfs)\n",
    "print(np.shape(cfs))\n",
    "cf = np.mean(cfs,axis=(0))\n",
    "print(cf)\n",
    "print(np.std(cfs,axis=(0)))\n",
    "print('std. dev %\\n', np.divide(np.std(cfs,axis=0),np.mean(cfs,axis=0))*100)\n",
    "objectToFile(preds, \"ddos2019_ngrams_preds_reduced_\"+label)"
   ]
  },
  {
   "cell_type": "markdown",
   "metadata": {},
   "source": [
    "### Read in ngrams preds if needed"
   ]
  },
  {
   "cell_type": "code",
   "execution_count": 3,
   "metadata": {},
   "outputs": [],
   "source": [
    "from sklearn.metrics import classification_report, confusion_matrix\n",
    "label = 'BinLabel'\n",
    "preds_mem = objectFromFile(\"ddos2019_ngrams_preds_reduced_\"+label)\n",
    "cfs = []\n",
    "for pred_tuple in preds_mem:\n",
    "    cfs.append(confusion_matrix(pred_tuple[0], pred_tuple[1]))"
   ]
  },
  {
   "cell_type": "code",
   "execution_count": 4,
   "metadata": {},
   "outputs": [],
   "source": [
    "np.set_printoptions(suppress=True)\n",
    "cf = np.mean(cfs,axis=(0))"
   ]
  },
  {
   "cell_type": "code",
   "execution_count": 6,
   "metadata": {},
   "outputs": [
    {
     "data": {
      "image/png": "[encoded data removed]",
      "text/plain": [
       "<Figure size 432x432 with 1 Axes>"
      ]
     },
     "metadata": {
      "needs_background": "light"
     },
     "output_type": "display_data"
    }
   ],
   "source": [
    "#Plot confusion matrix\n",
    "import seaborn as sns\n",
    "#labels = ['Benign','Malicious']\n",
    "\n",
    "#Standard heatmap\n",
    "cf_norm = cf/cf.sum(axis=1)[:,None]\n",
    "cf_percentages = [\"{0:.2%}\".format(value) for value in cf_norm.flatten()]\n",
    "cf_numbers = [abbrv_num(value) for value in cf.flatten()]\n",
    "cf_labels = ['{v1}\\n({v2})'.format(v1=v1, v2=v2) for v1,v2 in zip(cf_percentages,cf_numbers)]\n",
    "cf_labels = np.asarray(cf_labels).reshape(cf.shape)\n",
    "\n",
    "fig, ax = plt.subplots(figsize=(6, 6))\n",
    "plt.rc('font', size=14)\n",
    "#column_labels = sorted(df_test[label].unique())\n",
    "#column_labels[6] = 'Benign'\n",
    "column_labels = ['Benign', 'Malicious']\n",
    "sns.heatmap(cf_norm, annot=cf_labels, fmt='',cmap='Blues',cbar=False, vmin=0.0, vmax=1.0, ax=ax, xticklabels=column_labels, yticklabels=column_labels)\n",
    "plt.ylabel('True label')\n",
    "plt.xlabel('Predicted label')\n",
    "plt.yticks(rotation='0', size='12')\n",
    "plt.xticks(rotation='65', size='12')\n",
    "plt.title(\"CICIDS-DDoS2019 mean binary classification matrix - Trigrams\")\n",
    "#plt.savefig('ddos2019_binaryclass_cf_trigrams_reduced.png',bbox_inches='tight')\n",
    "plt.show()"
   ]
  },
  {
   "cell_type": "code",
   "execution_count": 8,
   "metadata": {},
   "outputs": [
    {
     "name": "stdout",
     "output_type": "stream",
     "text": [
      "32350.8 104.2 1094785.2 7475340.8\n",
      "Accuracy: 0.8727254762262628 \n",
      "\n",
      "Recall: 0.8722556471165068 \n",
      "\n",
      "Specificity: 0.9967894007086735\n",
      "0.0032105992913264523\n"
     ]
    }
   ],
   "source": [
    "from sklearn.metrics import accuracy_score\n",
    "from sklearn.metrics import recall_score\n",
    "tn, fp, fn, tp = np.mean(cfs,axis=0).ravel()\n",
    "print(tn,fp,fn,tp)\n",
    "\n",
    "acc_scores = [accuracy_score(pred_tuple[0], pred_tuple[1]) for pred_tuple in preds_mem]\n",
    "rec_score  = tp / (tp+fn)\n",
    "spec_score = tn / (tn+fp)\n",
    "print('Accuracy: ' + str(np.mean(acc_scores)), \"\\n\")\n",
    "print('Recall: ' + str(rec_score), \"\\n\")\n",
    "print('Specificity: ' + str(spec_score))"
   ]
  },
  {
   "cell_type": "code",
   "execution_count": 35,
   "metadata": {
    "scrolled": true
   },
   "outputs": [
    {
     "name": "stdout",
     "output_type": "stream",
     "text": [
      "Feature: ngram_Bwd Packet Length Max_mean, Score: 0.17347\n",
      "Feature: ngram_Total Backward Packets_std, Score: 0.11545\n",
      "Feature: ngram_Bwd Packet Length Max_std, Score: 0.09821\n",
      "Feature: ngram_Total Length of Bwd Packets_mean, Score: 0.08741\n",
      "Feature: ngram_Fwd Packet Length Min_mean, Score: 0.07771\n",
      "Feature: ngram_Bwd Packet Length Min_mean, Score: 0.06124\n",
      "Feature: ngram_Total Length of Bwd Packets_std, Score: 0.05852\n",
      "Feature: ngram_Total Length of Fwd Packets_mean, Score: 0.05624\n",
      "Feature: ngram_Bwd Packet Length Min_std, Score: 0.04448\n",
      "Feature: ngram_Total Fwd Packets_mean, Score: 0.03906\n",
      "Feature: ngram_Fwd Packet Length Max_mean, Score: 0.02764\n",
      "Feature: ngram_Flow Bytes/s_mean, Score: 0.02334\n",
      "Feature: ngram_Total Backward Packets_mean, Score: 0.01281\n",
      "Feature: ngram_Fwd Packet Length Min_std, Score: 0.01237\n",
      "Feature: ngram_Flow Duration_std, Score: 0.01128\n",
      "Feature: ngram_Total Length of Fwd Packets_std, Score: 0.01051\n",
      "Feature: ngram_Fwd Packet Length Max_std, Score: 0.01011\n",
      "Feature: ngram_Flow IAT Min_mean, Score: 0.00995\n",
      "Feature: ngram_Flow Bytes/s_std, Score: 0.00932\n",
      "Feature: ngram_Flow Packets/s_mean, Score: 0.00869\n",
      "Feature: ngram_Flow IAT Max_std, Score: 0.00758\n",
      "Feature: ngram_Flow Duration_mean, Score: 0.00672\n",
      "Feature: ngram_Flow IAT Min_std, Score: 0.00621\n",
      "Feature: ngram_Flow IAT Std_mean, Score: 0.00618\n",
      "Feature: ngram_Flow Packets/s_std, Score: 0.00576\n",
      "Feature: ngram_Total Fwd Packets_std, Score: 0.00538\n",
      "Feature: ngram_Flow IAT Max_mean, Score: 0.00420\n",
      "Feature: ngram_Flow IAT Std_std, Score: 0.00370\n",
      "Feature: ngram_Flow IAT Mean_std, Score: 0.00335\n",
      "Feature: ngram_Flow IAT Mean_mean, Score: 0.00310\n"
     ]
    }
   ],
   "source": [
    "importance = rf_clf.feature_importances_\n",
    "# summarize feature importance\n",
    "for i,v in sorted(enumerate(importance),key=lambda x: x[1], reverse=True):\n",
    "    print('Feature: %s, Score: %.5f' % (features[i],v))"
   ]
  },
  {
   "cell_type": "markdown",
   "metadata": {},
   "source": [
    "## Alternative features results"
   ]
  },
  {
   "cell_type": "code",
   "execution_count": 23,
   "metadata": {},
   "outputs": [
    {
     "name": "stdout",
     "output_type": "stream",
     "text": [
      "[array([[  31550,     905],\n",
      "       [ 324435, 8245691]]), array([[  31544,     911],\n",
      "       [ 321441, 8248685]]), array([[  31555,     900],\n",
      "       [ 325328, 8244798]]), array([[  31515,     940],\n",
      "       [ 322482, 8247644]]), array([[  31544,     911],\n",
      "       [ 323829, 8246297]])]\n",
      "(5, 2, 2)\n",
      "[[  31541.6     913.4]\n",
      " [ 323503.  8246623. ]]\n",
      "[[  13.92264343   13.92264343]\n",
      " [1385.62693392 1385.62693392]]\n",
      "std. dev %\n",
      " [[0.04414057 1.52426576]\n",
      " [0.42831966 0.01680236]]\n"
     ]
    }
   ],
   "source": [
    "np.set_printoptions(suppress=True)\n",
    "print(cfs)\n",
    "print(np.shape(cfs))\n",
    "cf = np.mean(cfs,axis=(0))\n",
    "print(cf)\n",
    "print(np.std(cfs,axis=(0)))\n",
    "print('std. dev %\\n', np.divide(np.std(cfs,axis=0),np.mean(cfs,axis=0))*100)\n",
    "objectToFile(preds, \"ddos2019_alternative_preds_reduced_\"+label)"
   ]
  },
  {
   "cell_type": "code",
   "execution_count": 24,
   "metadata": {},
   "outputs": [
    {
     "data": {
      "image/png": "[encoded data removed]",
      "text/plain": [
       "<Figure size 432x432 with 1 Axes>"
      ]
     },
     "metadata": {
      "needs_background": "light"
     },
     "output_type": "display_data"
    }
   ],
   "source": [
    "#Plot confusion matrix\n",
    "import seaborn as sns\n",
    "#labels = ['Benign','Malicious']\n",
    "\n",
    "#Standard heatmap\n",
    "cf_norm = cf/cf.sum(axis=1)[:,None]\n",
    "cf_percentages = [\"{0:.2%}\".format(value) for value in cf_norm.flatten()]\n",
    "cf_numbers = [abbrv_num(value) for value in cf.flatten()]\n",
    "cf_labels = ['{v1}\\n({v2})'.format(v1=v1, v2=v2) for v1,v2 in zip(cf_percentages,cf_numbers)]\n",
    "cf_labels = np.asarray(cf_labels).reshape(cf.shape)\n",
    "\n",
    "fig, ax = plt.subplots(figsize=(6, 6))\n",
    "plt.rc('font', size=14)\n",
    "column_labels = sorted(df_test[label].unique())\n",
    "#column_labels[6] = 'Benign'\n",
    "column_labels = ['Benign', 'Malicious']\n",
    "sns.heatmap(cf_norm, annot=cf_labels, fmt='',cmap='Blues',cbar=False, vmin=0.0, vmax=1.0, ax=ax, xticklabels=column_labels, yticklabels=column_labels)\n",
    "plt.ylabel('True label')\n",
    "plt.xlabel('Predicted label')\n",
    "plt.yticks(rotation='0', size='12')\n",
    "plt.xticks(rotation='65', size='12')\n",
    "plt.title(\"CICIDS-DDoS2019 mean binary classification matrix - Alternative\")\n",
    "plt.savefig('ddos2019_binaryclass_cf_alternative_reduced.png',bbox_inches='tight')\n",
    "plt.show()"
   ]
  },
  {
   "cell_type": "code",
   "execution_count": 27,
   "metadata": {},
   "outputs": [
    {
     "name": "stdout",
     "output_type": "stream",
     "text": [
      "31541.6 913.4 323503.0 8246623.0\n",
      "Accuracy: 0.9622884806315686 \n",
      "\n",
      "Recall: 0.9622522469331256 \n",
      "\n",
      "Specificity: 0.9718564165767986\n",
      "0.028143583423201356\n"
     ]
    }
   ],
   "source": [
    "from sklearn.metrics import accuracy_score\n",
    "from sklearn.metrics import recall_score\n",
    "tn, fp, fn, tp = np.mean(cfs,axis=0).ravel()\n",
    "print(tn,fp,fn,tp)\n",
    "\n",
    "acc_scores = [accuracy_score(pred_tuple[0], pred_tuple[1]) for pred_tuple in preds]\n",
    "rec_score  = tp / (tp+fn)\n",
    "spec_score = tn / (tn+fp)\n",
    "print('Accuracy: ' + str(np.mean(acc_scores)), \"\\n\")\n",
    "print('Recall: ' + str(rec_score), \"\\n\")\n",
    "print('Specificity: ' + str(spec_score))"
   ]
  },
  {
   "cell_type": "code",
   "execution_count": 25,
   "metadata": {},
   "outputs": [
    {
     "name": "stdout",
     "output_type": "stream",
     "text": [
      "Feature: Bwd Packet Length Max, Score: 0.20926\n",
      "Feature: Fwd Packet Length Min, Score: 0.15905\n",
      "Feature: Total Length of Bwd Packets, Score: 0.15752\n",
      "Feature: Total Length of Fwd Packets, Score: 0.11179\n",
      "Feature: Bwd Packet Length Min, Score: 0.07860\n",
      "Feature: Total Fwd Packets, Score: 0.07568\n",
      "Feature: Fwd Packet Length Max, Score: 0.05490\n",
      "Feature: Flow Bytes/s, Score: 0.03904\n",
      "Feature: Flow Duration, Score: 0.02438\n",
      "Feature: Total Backward Packets, Score: 0.02056\n",
      "Feature: Flow IAT Max, Score: 0.01773\n",
      "Feature: Flow IAT Std, Score: 0.01425\n",
      "Feature: Flow IAT Mean, Score: 0.01309\n",
      "Feature: Flow Packets/s, Score: 0.01269\n",
      "Feature: Flow IAT Min, Score: 0.01146\n"
     ]
    }
   ],
   "source": [
    "importance = rf_clf.feature_importances_\n",
    "# summarize feature importance\n",
    "for i,v in sorted(enumerate(importance),key=lambda x: x[1], reverse=True):\n",
    "    print('Feature: %s, Score: %.5f' % (features[i],v))"
   ]
  },
  {
   "cell_type": "markdown",
   "metadata": {},
   "source": [
    "## Barplot of own feature sets"
   ]
  },
  {
   "cell_type": "code",
   "execution_count": 7,
   "metadata": {},
   "outputs": [
    {
     "data": {
      "image/png": "[encoded data removed]",
      "text/plain": [
       "<Figure size 504x432 with 1 Axes>"
      ]
     },
     "metadata": {
      "needs_background": "light"
     },
     "output_type": "display_data"
    }
   ],
   "source": [
    "import matplotlib.patches as mpatches\n",
    "\n",
    "#Scores\n",
    "genset_acc = 0.892\n",
    "genset_rec = 0.892\n",
    "genset_spec = 0.994\n",
    "trigramset_acc = 0.873\n",
    "trigramset_rec = 0.872\n",
    "trigramset_spec = 0.997\n",
    "altset_acc = 0.962\n",
    "altset_rec = 0.962\n",
    "altset_spec = 0.972\n",
    "\n",
    "#Colors\n",
    "clr_acc = 'royalblue'\n",
    "clr_rec = 'salmon'\n",
    "clr_spec = 'lightgreen'\n",
    "\n",
    "acc_patch = mpatches.Patch(color=clr_acc, label='accuracy')\n",
    "rec_patch = mpatches.Patch(color=clr_rec, label='recall')\n",
    "spec_patch = mpatches.Patch(color=clr_spec, label='specificity')\n",
    "\n",
    "labels = ['General\\n (12 features)', 'Alternative\\n (15 features)', \\\n",
    "          'Trigram\\n (30 features)']\n",
    "\n",
    "x = np.arange(len(labels))*10\n",
    "width = 2.5  # the width of the bars\n",
    "pad_width = 3\n",
    "scores = [genset_acc,genset_rec,genset_spec,trigramset_acc,trigramset_rec,trigramset_spec,altset_acc,altset_rec,altset_spec]\n",
    "\n",
    "fig, ax = plt.subplots(figsize=(7,6))\n",
    "\n",
    "#Spawn bar(s) of group 1\n",
    "plt.bar(x[0]-pad_width, height=scores[0], width=width, color=clr_acc)\n",
    "plt.bar(x[0], height=scores[1], width=width, color=clr_rec)\n",
    "plt.bar(x[0]+pad_width, height=scores[2], width=width, color=clr_spec)\n",
    "\n",
    "#Spawn bar(s) of group 2\n",
    "plt.bar(x[1]-pad_width, height=scores[3], width=width, color=clr_acc)\n",
    "plt.bar(x[1], height=scores[4], width=width, color=clr_rec)\n",
    "plt.bar(x[1]+pad_width, height=scores[5], width=width, color=clr_spec)\n",
    "\n",
    "#Spawn bar(s) of group 3\n",
    "plt.bar(x[2]-pad_width, height=scores[6], width=width, color=clr_acc)\n",
    "plt.bar(x[2], height=scores[7], width=width, color=clr_rec)\n",
    "plt.bar(x[2]+pad_width, height=scores[8], width=width, color=clr_spec)\n",
    "\n",
    "#Hide the left, right and top spines\n",
    "ax.spines['right'].set_visible(False)\n",
    "ax.spines['top'].set_visible(False)\n",
    "ax.spines['left'].set_visible(True)\n",
    "\n",
    "plt.tick_params(left = False)\n",
    "\n",
    "#Set plot details\n",
    "plt.rc('font', size=13)\n",
    "plt.ylabel('Metric score')\n",
    "plt.yticks()\n",
    "#ax.set_yticklabels([])\n",
    "plt.ylim([0.8, 1])\n",
    "#ax.get_yaxis().set_visible(False)\n",
    "plt.xticks(size='14')\n",
    "plt.title(\"CIC-DDoS2019 feature sets comparison\", fontweight='bold', pad=25)\n",
    "ax.set_xticks(x)\n",
    "ax.set_xticklabels(labels)\n",
    "add_value_labels(ax)\n",
    "#ax.legend(handles=[acc_patch,rec_patch,spec_patch], loc='lower right', borderaxespad=0.)\n",
    "ax.set_axisbelow(True)\n",
    "plt.grid(axis='y', color='grey')\n",
    "fig.tight_layout()\n",
    "plt.savefig('ddos2019_binaryclass_reduced_featuresets_bars.png',bbox_inches='tight')\n",
    "plt.show()"
   ]
  },
  {
   "cell_type": "code",
   "execution_count": null,
   "metadata": {},
   "outputs": [],
   "source": []
  }
 ],
 "metadata": {
  "kernelspec": {
   "display_name": "Python 3",
   "language": "python",
   "name": "python3"
  },
  "language_info": {
   "codemirror_mode": {
    "name": "ipython",
    "version": 3
   },
   "file_extension": ".py",
   "mimetype": "text/x-python",
   "name": "python",
   "nbconvert_exporter": "python",
   "pygments_lexer": "ipython3",
   "version": "3.6.9"
  }
 },
 "nbformat": 4,
 "nbformat_minor": 4
}
