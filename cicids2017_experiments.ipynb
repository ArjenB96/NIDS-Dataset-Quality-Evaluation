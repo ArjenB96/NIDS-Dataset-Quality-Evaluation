{
 "cells": [
  {
   "cell_type": "code",
   "execution_count": 1,
   "metadata": {},
   "outputs": [],
   "source": [
    "# Third Party Imports\n",
    "import glob\n",
    "import pandas as pd\n",
    "import matplotlib.pyplot as plt\n",
    "#import seaborn as sns\n",
    "import numpy as np\n",
    "from sklearn.model_selection import StratifiedKFold\n",
    "from sklearn.tree import DecisionTreeClassifier\n",
    "import os\n",
    "import pickle\n",
    "from exphelperfunctions import abbrv_num\n",
    "from exphelperfunctions import objectToFile\n",
    "from exphelperfunctions import objectFromFile\n",
    "from exphelperfunctions import add_value_labels"
   ]
  },
  {
   "cell_type": "markdown",
   "metadata": {},
   "source": [
    "## Load original data"
   ]
  },
  {
   "cell_type": "code",
   "execution_count": 3,
   "metadata": {},
   "outputs": [],
   "source": [
    "dirpath = \"/mnt/h/CICIDS/2017/\"\n",
    "filepaths = [dirpath+f for f in os.listdir(dirpath) if f.endswith('.csv')]"
   ]
  },
  {
   "cell_type": "code",
   "execution_count": 4,
   "metadata": {},
   "outputs": [
    {
     "name": "stdout",
     "output_type": "stream",
     "text": [
      "['/mnt/h/CICIDS/2017/Friday-WorkingHours-Afternoon-DDos.pcap_ISCX.csv', '/mnt/h/CICIDS/2017/Friday-WorkingHours-Afternoon-PortScan.pcap_ISCX.csv', '/mnt/h/CICIDS/2017/Friday-WorkingHours-Morning.pcap_ISCX.csv', '/mnt/h/CICIDS/2017/Monday-WorkingHours.pcap_ISCX.csv', '/mnt/h/CICIDS/2017/Thursday-WorkingHours-Afternoon-Infilteration.pcap_ISCX.csv', '/mnt/h/CICIDS/2017/Thursday-WorkingHours-Morning-WebAttacks.pcap_ISCX.csv', '/mnt/h/CICIDS/2017/Tuesday-WorkingHours.pcap_ISCX.csv', '/mnt/h/CICIDS/2017/Wednesday-workingHours.pcap_ISCX.csv']\n"
     ]
    },
    {
     "name": "stderr",
     "output_type": "stream",
     "text": [
      "/home/arjen/.local/lib/python3.6/site-packages/ipykernel_launcher.py:4: DtypeWarning: Columns (0,1,3,6,84) have mixed types.Specify dtype option on import or set low_memory=False.\n",
      "  after removing the cwd from sys.path.\n"
     ]
    }
   ],
   "source": [
    "#Open CICIDS2017\n",
    "print(filepaths)\n",
    "\n",
    "df = pd.concat(map(lambda file: pd.read_csv(file, sep=',',header=0,skipinitialspace=True, encoding='cp1252'), filepaths), ignore_index=True)\n",
    "df = df.dropna()\n",
    "df = df.reset_index(drop=True)"
   ]
  },
  {
   "cell_type": "code",
   "execution_count": 5,
   "metadata": {},
   "outputs": [],
   "source": [
    "df.sort_values(by='Timestamp', inplace=True)"
   ]
  },
  {
   "cell_type": "code",
   "execution_count": 6,
   "metadata": {},
   "outputs": [
    {
     "name": "stdout",
     "output_type": "stream",
     "text": [
      "Index(['Flow ID', 'Source IP', 'Source Port', 'Destination IP',\n",
      "       'Destination Port', 'Protocol', 'Timestamp', 'Flow Duration',\n",
      "       'Total Fwd Packets', 'Total Backward Packets',\n",
      "       'Total Length of Fwd Packets', 'Total Length of Bwd Packets',\n",
      "       'Fwd Packet Length Max', 'Fwd Packet Length Min',\n",
      "       'Fwd Packet Length Mean', 'Fwd Packet Length Std',\n",
      "       'Bwd Packet Length Max', 'Bwd Packet Length Min',\n",
      "       'Bwd Packet Length Mean', 'Bwd Packet Length Std', 'Flow Bytes/s',\n",
      "       'Flow Packets/s', 'Flow IAT Mean', 'Flow IAT Std', 'Flow IAT Max',\n",
      "       'Flow IAT Min', 'Fwd IAT Total', 'Fwd IAT Mean', 'Fwd IAT Std',\n",
      "       'Fwd IAT Max', 'Fwd IAT Min', 'Bwd IAT Total', 'Bwd IAT Mean',\n",
      "       'Bwd IAT Std', 'Bwd IAT Max', 'Bwd IAT Min', 'Fwd PSH Flags',\n",
      "       'Bwd PSH Flags', 'Fwd URG Flags', 'Bwd URG Flags', 'Fwd Header Length',\n",
      "       'Bwd Header Length', 'Fwd Packets/s', 'Bwd Packets/s',\n",
      "       'Min Packet Length', 'Max Packet Length', 'Packet Length Mean',\n",
      "       'Packet Length Std', 'Packet Length Variance', 'FIN Flag Count',\n",
      "       'SYN Flag Count', 'RST Flag Count', 'PSH Flag Count', 'ACK Flag Count',\n",
      "       'URG Flag Count', 'CWE Flag Count', 'ECE Flag Count', 'Down/Up Ratio',\n",
      "       'Average Packet Size', 'Avg Fwd Segment Size', 'Avg Bwd Segment Size',\n",
      "       'Fwd Header Length.1', 'Fwd Avg Bytes/Bulk', 'Fwd Avg Packets/Bulk',\n",
      "       'Fwd Avg Bulk Rate', 'Bwd Avg Bytes/Bulk', 'Bwd Avg Packets/Bulk',\n",
      "       'Bwd Avg Bulk Rate', 'Subflow Fwd Packets', 'Subflow Fwd Bytes',\n",
      "       'Subflow Bwd Packets', 'Subflow Bwd Bytes', 'Init_Win_bytes_forward',\n",
      "       'Init_Win_bytes_backward', 'act_data_pkt_fwd', 'min_seg_size_forward',\n",
      "       'Active Mean', 'Active Std', 'Active Max', 'Active Min', 'Idle Mean',\n",
      "       'Idle Std', 'Idle Max', 'Idle Min', 'Label'],\n",
      "      dtype='object')\n",
      "['BENIGN' 'FTP-Patator' 'SSH-Patator' 'DoS slowloris' 'DoS Slowhttptest'\n",
      " 'DoS Hulk' 'DoS GoldenEye' 'Heartbleed' 'Web Attack – Brute Force'\n",
      " 'Web Attack – XSS' 'Web Attack – Sql Injection' 'Infiltration' 'Bot'\n",
      " 'PortScan' 'DDoS']\n"
     ]
    }
   ],
   "source": [
    "print(df.columns)\n",
    "print(df['Label'].unique())"
   ]
  },
  {
   "cell_type": "code",
   "execution_count": 7,
   "metadata": {
    "scrolled": false
   },
   "outputs": [
    {
     "name": "stdout",
     "output_type": "stream",
     "text": [
      "Benign       2272688\n",
      "Malicious     556697\n",
      "Name: BinLabel, dtype: int64\n",
      "BENIGN                        2272688\n",
      "DoS Hulk                       230124\n",
      "PortScan                       158930\n",
      "DDoS                           128027\n",
      "DoS GoldenEye                   10293\n",
      "FTP-Patator                      7938\n",
      "SSH-Patator                      5897\n",
      "DoS slowloris                    5796\n",
      "DoS Slowhttptest                 5499\n",
      "Bot                              1966\n",
      "Web Attack – Brute Force         1507\n",
      "Web Attack – XSS                  652\n",
      "Infiltration                       36\n",
      "Web Attack – Sql Injection         21\n",
      "Heartbleed                         11\n",
      "Name: Label, dtype: int64\n"
     ]
    }
   ],
   "source": [
    "#Add binary label\n",
    "\n",
    "df['BinLabel'] = np.where(df['Label'] == 'BENIGN', 'Benign','Malicious')\n",
    "print(df['BinLabel'].value_counts())\n",
    "print(df['Label'].value_counts())"
   ]
  },
  {
   "cell_type": "markdown",
   "metadata": {},
   "source": [
    "## Data composition\n",
    "Total: 2,829,385 instances\n",
    "\n",
    "Normal: 2,272,688 instances (80.3%)\n",
    "\n",
    "Malicious: 556,697 instances (19.7%)"
   ]
  },
  {
   "cell_type": "markdown",
   "metadata": {},
   "source": [
    "## One hot encoding"
   ]
  },
  {
   "cell_type": "code",
   "execution_count": 8,
   "metadata": {},
   "outputs": [
    {
     "name": "stdout",
     "output_type": "stream",
     "text": [
      "6.0     1828196\n",
      "17.0     999493\n",
      "0.0        1696\n",
      "Name: Protocol, dtype: int64\n"
     ]
    }
   ],
   "source": [
    "print(df['Protocol'].value_counts())"
   ]
  },
  {
   "cell_type": "code",
   "execution_count": 9,
   "metadata": {},
   "outputs": [],
   "source": [
    "# One hot encoding for protocol\n",
    "ohe_df = pd.get_dummies(df['Protocol'], prefix=\"proto\")\n",
    "df = df.join(ohe_df)"
   ]
  },
  {
   "cell_type": "code",
   "execution_count": 10,
   "metadata": {},
   "outputs": [
    {
     "name": "stdout",
     "output_type": "stream",
     "text": [
      "Index(['Flow ID', 'Source IP', 'Source Port', 'Destination IP',\n",
      "       'Destination Port', 'Protocol', 'Timestamp', 'Flow Duration',\n",
      "       'Total Fwd Packets', 'Total Backward Packets',\n",
      "       'Total Length of Fwd Packets', 'Total Length of Bwd Packets',\n",
      "       'Fwd Packet Length Max', 'Fwd Packet Length Min',\n",
      "       'Fwd Packet Length Mean', 'Fwd Packet Length Std',\n",
      "       'Bwd Packet Length Max', 'Bwd Packet Length Min',\n",
      "       'Bwd Packet Length Mean', 'Bwd Packet Length Std', 'Flow Bytes/s',\n",
      "       'Flow Packets/s', 'Flow IAT Mean', 'Flow IAT Std', 'Flow IAT Max',\n",
      "       'Flow IAT Min', 'Fwd IAT Total', 'Fwd IAT Mean', 'Fwd IAT Std',\n",
      "       'Fwd IAT Max', 'Fwd IAT Min', 'Bwd IAT Total', 'Bwd IAT Mean',\n",
      "       'Bwd IAT Std', 'Bwd IAT Max', 'Bwd IAT Min', 'Fwd PSH Flags',\n",
      "       'Bwd PSH Flags', 'Fwd URG Flags', 'Bwd URG Flags', 'Fwd Header Length',\n",
      "       'Bwd Header Length', 'Fwd Packets/s', 'Bwd Packets/s',\n",
      "       'Min Packet Length', 'Max Packet Length', 'Packet Length Mean',\n",
      "       'Packet Length Std', 'Packet Length Variance', 'FIN Flag Count',\n",
      "       'SYN Flag Count', 'RST Flag Count', 'PSH Flag Count', 'ACK Flag Count',\n",
      "       'URG Flag Count', 'CWE Flag Count', 'ECE Flag Count', 'Down/Up Ratio',\n",
      "       'Average Packet Size', 'Avg Fwd Segment Size', 'Avg Bwd Segment Size',\n",
      "       'Fwd Header Length.1', 'Fwd Avg Bytes/Bulk', 'Fwd Avg Packets/Bulk',\n",
      "       'Fwd Avg Bulk Rate', 'Bwd Avg Bytes/Bulk', 'Bwd Avg Packets/Bulk',\n",
      "       'Bwd Avg Bulk Rate', 'Subflow Fwd Packets', 'Subflow Fwd Bytes',\n",
      "       'Subflow Bwd Packets', 'Subflow Bwd Bytes', 'Init_Win_bytes_forward',\n",
      "       'Init_Win_bytes_backward', 'act_data_pkt_fwd', 'min_seg_size_forward',\n",
      "       'Active Mean', 'Active Std', 'Active Max', 'Active Min', 'Idle Mean',\n",
      "       'Idle Std', 'Idle Max', 'Idle Min', 'Label', 'BinLabel', 'proto_0.0',\n",
      "       'proto_6.0', 'proto_17.0'],\n",
      "      dtype='object')\n"
     ]
    }
   ],
   "source": [
    "print(df.columns)"
   ]
  },
  {
   "cell_type": "markdown",
   "metadata": {},
   "source": [
    "# Random Forest: Select features and split data"
   ]
  },
  {
   "cell_type": "code",
   "execution_count": 12,
   "metadata": {},
   "outputs": [],
   "source": [
    "#Get input columns and corresponding label vector\n",
    "#Use duration, protocol, src bytes&packets per flow, dst bytes&packets per flow, mean src/dst bytes per flow, mean IAT src/dst per flow\n",
    "#features = ['Flow Duration','proto_0.0','proto_6.0','proto_17.0','Total Length of Fwd Packets','Total Length of Bwd Packets','Fwd Packet Length Mean','Bwd Packet Length Mean','Total Fwd Packets','Total Backward Packets','Fwd IAT Mean','Bwd IAT Mean']\n",
    "#ullah features to confirm their results\n",
    "features = ['Source Port', 'Destination Port', 'Bwd Packet Length Max', 'Bwd Packet Length Min', 'Bwd Packet Length Std', 'Flow IAT Mean', 'Flow IAT Std', 'Flow IAT Min', 'Fwd IAT Min', 'Bwd Packets/s', 'Min Packet Length', 'Max Packet Length', 'Init_Win_bytes_forward', 'act_data_pkt_fwd']\n",
    "label = 'BinLabel'\n",
    "skf = StratifiedKFold(n_splits=5)"
   ]
  },
  {
   "cell_type": "code",
   "execution_count": 13,
   "metadata": {
    "scrolled": true
   },
   "outputs": [
    {
     "name": "stdout",
     "output_type": "stream",
     "text": [
      "TRAIN: 2263508 TEST: 565877\n"
     ]
    },
    {
     "name": "stderr",
     "output_type": "stream",
     "text": [
      "[Parallel(n_jobs=5)]: Using backend ThreadingBackend with 5 concurrent workers.\n"
     ]
    },
    {
     "name": "stdout",
     "output_type": "stream",
     "text": [
      "building tree 1 of 100building tree 2 of 100building tree 3 of 100building tree 4 of 100building tree 5 of 100\n",
      "\n",
      "\n",
      "\n",
      "\n",
      "building tree 6 of 100\n",
      "building tree 7 of 100\n",
      "building tree 8 of 100\n",
      "building tree 9 of 100\n",
      "building tree 10 of 100\n",
      "building tree 11 of 100\n",
      "building tree 12 of 100\n",
      "building tree 13 of 100\n",
      "building tree 14 of 100\n"
     ]
    },
    {
     "name": "stderr",
     "output_type": "stream",
     "text": [
      "[Parallel(n_jobs=5)]: Done   8 tasks      | elapsed:    5.3s\n"
     ]
    },
    {
     "name": "stdout",
     "output_type": "stream",
     "text": [
      "building tree 15 of 100\n",
      "building tree 16 of 100\n",
      "building tree 17 of 100\n",
      "building tree 18 of 100\n",
      "building tree 19 of 100\n",
      "building tree 20 of 100\n",
      "building tree 21 of 100\n",
      "building tree 22 of 100\n",
      "building tree 23 of 100\n",
      "building tree 24 of 100\n",
      "building tree 25 of 100\n",
      "building tree 26 of 100\n",
      "building tree 27 of 100\n"
     ]
    },
    {
     "name": "stderr",
     "output_type": "stream",
     "text": [
      "[Parallel(n_jobs=5)]: Done  22 tasks      | elapsed:   12.4s\n"
     ]
    },
    {
     "name": "stdout",
     "output_type": "stream",
     "text": [
      "building tree 28 of 100\n",
      "building tree 29 of 100\n",
      "building tree 30 of 100\n",
      "building tree 31 of 100\n",
      "building tree 32 of 100\n",
      "building tree 33 of 100\n",
      "building tree 34 of 100\n",
      "building tree 35 of 100\n",
      "building tree 36 of 100\n",
      "building tree 37 of 100\n",
      "building tree 38 of 100\n",
      "building tree 39 of 100\n",
      "building tree 40 of 100\n",
      "building tree 41 of 100\n",
      "building tree 42 of 100\n",
      "building tree 43 of 100\n",
      "building tree 44 of 100\n",
      "building tree 45 of 100\n"
     ]
    },
    {
     "name": "stderr",
     "output_type": "stream",
     "text": [
      "[Parallel(n_jobs=5)]: Done  40 tasks      | elapsed:   21.7s\n"
     ]
    },
    {
     "name": "stdout",
     "output_type": "stream",
     "text": [
      "building tree 46 of 100\n",
      "building tree 47 of 100\n",
      "building tree 48 of 100\n",
      "building tree 49 of 100\n",
      "building tree 50 of 100\n",
      "building tree 51 of 100\n",
      "building tree 52 of 100\n",
      "building tree 53 of 100\n",
      "building tree 54 of 100\n",
      "building tree 55 of 100\n",
      "building tree 56 of 100\n",
      "building tree 57 of 100\n",
      "building tree 58 of 100\n",
      "building tree 59 of 100\n",
      "building tree 60 of 100\n",
      "building tree 61 of 100\n",
      "building tree 62 of 100\n",
      "building tree 63 of 100\n",
      "building tree 64 of 100\n",
      "building tree 65 of 100\n",
      "building tree 66 of 100\n",
      "building tree 67 of 100\n"
     ]
    },
    {
     "name": "stderr",
     "output_type": "stream",
     "text": [
      "[Parallel(n_jobs=5)]: Done  62 tasks      | elapsed:   32.5s\n"
     ]
    },
    {
     "name": "stdout",
     "output_type": "stream",
     "text": [
      "building tree 68 of 100\n",
      "building tree 69 of 100\n",
      "building tree 70 of 100\n",
      "building tree 71 of 100\n",
      "building tree 72 of 100\n",
      "building tree 73 of 100\n",
      "building tree 74 of 100\n",
      "building tree 75 of 100\n",
      "building tree 76 of 100\n",
      "building tree 77 of 100\n",
      "building tree 78 of 100\n",
      "building tree 79 of 100\n",
      "building tree 80 of 100\n",
      "building tree 81 of 100\n",
      "building tree 82 of 100\n",
      "building tree 83 of 100\n",
      "building tree 84 of 100\n",
      "building tree 85 of 100\n",
      "building tree 86 of 100\n",
      "building tree 87 of 100\n",
      "building tree 88 of 100\n",
      "building tree 89 of 100\n",
      "building tree 90 of 100\n",
      "building tree 91 of 100\n",
      "building tree 92 of 100\n",
      "building tree 93 of 100\n"
     ]
    },
    {
     "name": "stderr",
     "output_type": "stream",
     "text": [
      "[Parallel(n_jobs=5)]: Done  88 tasks      | elapsed:   45.1s\n"
     ]
    },
    {
     "name": "stdout",
     "output_type": "stream",
     "text": [
      "building tree 94 of 100\n",
      "building tree 95 of 100\n",
      "building tree 96 of 100\n",
      "building tree 97 of 100\n",
      "building tree 98 of 100\n",
      "building tree 99 of 100\n",
      "building tree 100 of 100\n"
     ]
    },
    {
     "name": "stderr",
     "output_type": "stream",
     "text": [
      "[Parallel(n_jobs=5)]: Done 100 out of 100 | elapsed:   50.7s finished\n",
      "[Parallel(n_jobs=5)]: Using backend ThreadingBackend with 5 concurrent workers.\n",
      "[Parallel(n_jobs=5)]: Done   8 tasks      | elapsed:    0.1s\n",
      "[Parallel(n_jobs=5)]: Done  22 tasks      | elapsed:    0.1s\n",
      "[Parallel(n_jobs=5)]: Done  40 tasks      | elapsed:    0.2s\n",
      "[Parallel(n_jobs=5)]: Done  62 tasks      | elapsed:    0.3s\n",
      "[Parallel(n_jobs=5)]: Done  88 tasks      | elapsed:    0.5s\n",
      "[Parallel(n_jobs=5)]: Done 100 out of 100 | elapsed:    0.5s finished\n"
     ]
    },
    {
     "name": "stdout",
     "output_type": "stream",
     "text": [
      "TRAIN: 2263508 TEST: 565877\n"
     ]
    },
    {
     "name": "stderr",
     "output_type": "stream",
     "text": [
      "[Parallel(n_jobs=5)]: Using backend ThreadingBackend with 5 concurrent workers.\n"
     ]
    },
    {
     "name": "stdout",
     "output_type": "stream",
     "text": [
      "building tree 1 of 100building tree 2 of 100building tree 3 of 100building tree 4 of 100building tree 5 of 100\n",
      "\n",
      "\n",
      "\n",
      "\n",
      "building tree 6 of 100\n",
      "building tree 7 of 100\n",
      "building tree 8 of 100\n",
      "building tree 9 of 100\n",
      "building tree 10 of 100\n",
      "building tree 11 of 100\n",
      "building tree 12 of 100\n",
      "building tree 13 of 100\n"
     ]
    },
    {
     "name": "stderr",
     "output_type": "stream",
     "text": [
      "[Parallel(n_jobs=5)]: Done   8 tasks      | elapsed:    5.6s\n"
     ]
    },
    {
     "name": "stdout",
     "output_type": "stream",
     "text": [
      "building tree 14 of 100\n",
      "building tree 15 of 100\n",
      "building tree 16 of 100\n",
      "building tree 17 of 100\n",
      "building tree 18 of 100\n",
      "building tree 19 of 100\n",
      "building tree 20 of 100\n",
      "building tree 21 of 100\n",
      "building tree 22 of 100\n",
      "building tree 23 of 100\n",
      "building tree 24 of 100\n",
      "building tree 25 of 100\n",
      "building tree 26 of 100\n",
      "building tree 27 of 100\n",
      "building tree 28 of 100\n"
     ]
    },
    {
     "name": "stderr",
     "output_type": "stream",
     "text": [
      "[Parallel(n_jobs=5)]: Done  22 tasks      | elapsed:   13.0s\n"
     ]
    },
    {
     "name": "stdout",
     "output_type": "stream",
     "text": [
      "building tree 29 of 100\n",
      "building tree 30 of 100\n",
      "building tree 31 of 100\n",
      "building tree 32 of 100\n",
      "building tree 33 of 100\n",
      "building tree 34 of 100\n",
      "building tree 35 of 100\n",
      "building tree 36 of 100\n",
      "building tree 37 of 100\n",
      "building tree 38 of 100\n",
      "building tree 39 of 100\n",
      "building tree 40 of 100\n",
      "building tree 41 of 100\n",
      "building tree 42 of 100\n",
      "building tree 43 of 100\n",
      "building tree 44 of 100\n",
      "building tree 45 of 100\n",
      "building tree 46 of 100\n"
     ]
    },
    {
     "name": "stderr",
     "output_type": "stream",
     "text": [
      "[Parallel(n_jobs=5)]: Done  40 tasks      | elapsed:   21.9s\n"
     ]
    },
    {
     "name": "stdout",
     "output_type": "stream",
     "text": [
      "building tree 47 of 100\n",
      "building tree 48 of 100\n",
      "building tree 49 of 100\n",
      "building tree 50 of 100\n",
      "building tree 51 of 100\n",
      "building tree 52 of 100\n",
      "building tree 53 of 100\n",
      "building tree 54 of 100\n",
      "building tree 55 of 100\n",
      "building tree 56 of 100\n",
      "building tree 57 of 100\n",
      "building tree 58 of 100\n",
      "building tree 59 of 100\n",
      "building tree 60 of 100\n",
      "building tree 61 of 100\n",
      "building tree 62 of 100\n",
      "building tree 63 of 100\n",
      "building tree 64 of 100\n",
      "building tree 65 of 100\n",
      "building tree 66 of 100\n",
      "building tree 67 of 100\n"
     ]
    },
    {
     "name": "stderr",
     "output_type": "stream",
     "text": [
      "[Parallel(n_jobs=5)]: Done  62 tasks      | elapsed:   32.5s\n"
     ]
    },
    {
     "name": "stdout",
     "output_type": "stream",
     "text": [
      "building tree 68 of 100\n",
      "building tree 69 of 100\n",
      "building tree 70 of 100\n",
      "building tree 71 of 100\n",
      "building tree 72 of 100\n",
      "building tree 73 of 100\n",
      "building tree 74 of 100\n",
      "building tree 75 of 100\n",
      "building tree 76 of 100\n",
      "building tree 77 of 100\n",
      "building tree 78 of 100\n",
      "building tree 79 of 100\n",
      "building tree 80 of 100\n",
      "building tree 81 of 100\n",
      "building tree 82 of 100\n",
      "building tree 83 of 100\n",
      "building tree 84 of 100\n",
      "building tree 85 of 100\n",
      "building tree 86 of 100\n",
      "building tree 87 of 100\n",
      "building tree 88 of 100\n",
      "building tree 89 of 100\n",
      "building tree 90 of 100\n",
      "building tree 91 of 100\n",
      "building tree 92 of 100\n",
      "building tree 93 of 100\n"
     ]
    },
    {
     "name": "stderr",
     "output_type": "stream",
     "text": [
      "[Parallel(n_jobs=5)]: Done  88 tasks      | elapsed:   46.4s\n"
     ]
    },
    {
     "name": "stdout",
     "output_type": "stream",
     "text": [
      "building tree 94 of 100\n",
      "building tree 95 of 100\n",
      "building tree 96 of 100\n",
      "building tree 97 of 100\n",
      "building tree 98 of 100\n",
      "building tree 99 of 100\n",
      "building tree 100 of 100\n"
     ]
    },
    {
     "name": "stderr",
     "output_type": "stream",
     "text": [
      "[Parallel(n_jobs=5)]: Done 100 out of 100 | elapsed:   51.9s finished\n",
      "[Parallel(n_jobs=5)]: Using backend ThreadingBackend with 5 concurrent workers.\n",
      "[Parallel(n_jobs=5)]: Done   8 tasks      | elapsed:    0.1s\n",
      "[Parallel(n_jobs=5)]: Done  22 tasks      | elapsed:    0.1s\n",
      "[Parallel(n_jobs=5)]: Done  40 tasks      | elapsed:    0.2s\n",
      "[Parallel(n_jobs=5)]: Done  62 tasks      | elapsed:    0.3s\n",
      "[Parallel(n_jobs=5)]: Done  88 tasks      | elapsed:    0.5s\n",
      "[Parallel(n_jobs=5)]: Done 100 out of 100 | elapsed:    0.5s finished\n"
     ]
    },
    {
     "name": "stdout",
     "output_type": "stream",
     "text": [
      "TRAIN: 2263508 TEST: 565877\n"
     ]
    },
    {
     "name": "stderr",
     "output_type": "stream",
     "text": [
      "[Parallel(n_jobs=5)]: Using backend ThreadingBackend with 5 concurrent workers.\n"
     ]
    },
    {
     "name": "stdout",
     "output_type": "stream",
     "text": [
      "building tree 1 of 100building tree 2 of 100building tree 3 of 100building tree 4 of 100building tree 5 of 100\n",
      "\n",
      "\n",
      "\n",
      "\n",
      "building tree 6 of 100\n",
      "building tree 7 of 100\n",
      "building tree 8 of 100\n",
      "building tree 9 of 100\n",
      "building tree 10 of 100\n",
      "building tree 11 of 100\n",
      "building tree 12 of 100\n",
      "building tree 13 of 100\n",
      "building tree 14 of 100\n"
     ]
    },
    {
     "name": "stderr",
     "output_type": "stream",
     "text": [
      "[Parallel(n_jobs=5)]: Done   8 tasks      | elapsed:    5.2s\n"
     ]
    },
    {
     "name": "stdout",
     "output_type": "stream",
     "text": [
      "building tree 15 of 100\n",
      "building tree 16 of 100\n",
      "building tree 17 of 100\n",
      "building tree 18 of 100\n",
      "building tree 19 of 100\n",
      "building tree 20 of 100\n",
      "building tree 21 of 100\n",
      "building tree 22 of 100\n",
      "building tree 23 of 100\n",
      "building tree 24 of 100\n",
      "building tree 25 of 100\n",
      "building tree 26 of 100\n",
      "building tree 27 of 100\n"
     ]
    },
    {
     "name": "stderr",
     "output_type": "stream",
     "text": [
      "[Parallel(n_jobs=5)]: Done  22 tasks      | elapsed:   12.6s\n"
     ]
    },
    {
     "name": "stdout",
     "output_type": "stream",
     "text": [
      "building tree 28 of 100\n",
      "building tree 29 of 100\n",
      "building tree 30 of 100\n",
      "building tree 31 of 100\n",
      "building tree 32 of 100\n",
      "building tree 33 of 100\n",
      "building tree 34 of 100\n",
      "building tree 35 of 100\n",
      "building tree 36 of 100\n",
      "building tree 37 of 100\n",
      "building tree 38 of 100\n",
      "building tree 39 of 100\n",
      "building tree 40 of 100\n",
      "building tree 41 of 100\n",
      "building tree 42 of 100\n",
      "building tree 43 of 100\n",
      "building tree 44 of 100\n",
      "building tree 45 of 100\n"
     ]
    },
    {
     "name": "stderr",
     "output_type": "stream",
     "text": [
      "[Parallel(n_jobs=5)]: Done  40 tasks      | elapsed:   21.9s\n"
     ]
    },
    {
     "name": "stdout",
     "output_type": "stream",
     "text": [
      "building tree 46 of 100\n",
      "building tree 47 of 100\n",
      "building tree 48 of 100\n",
      "building tree 49 of 100\n",
      "building tree 50 of 100\n",
      "building tree 51 of 100\n",
      "building tree 52 of 100\n",
      "building tree 53 of 100\n",
      "building tree 54 of 100\n",
      "building tree 55 of 100\n",
      "building tree 56 of 100\n",
      "building tree 57 of 100\n",
      "building tree 58 of 100\n",
      "building tree 59 of 100\n",
      "building tree 60 of 100\n",
      "building tree 61 of 100\n",
      "building tree 62 of 100\n",
      "building tree 63 of 100\n",
      "building tree 64 of 100\n",
      "building tree 65 of 100\n",
      "building tree 66 of 100\n",
      "building tree 67 of 100\n"
     ]
    },
    {
     "name": "stderr",
     "output_type": "stream",
     "text": [
      "[Parallel(n_jobs=5)]: Done  62 tasks      | elapsed:   33.0s\n"
     ]
    },
    {
     "name": "stdout",
     "output_type": "stream",
     "text": [
      "building tree 68 of 100\n",
      "building tree 69 of 100\n",
      "building tree 70 of 100\n",
      "building tree 71 of 100\n",
      "building tree 72 of 100\n",
      "building tree 73 of 100\n",
      "building tree 74 of 100\n",
      "building tree 75 of 100\n",
      "building tree 76 of 100\n",
      "building tree 77 of 100\n",
      "building tree 78 of 100\n",
      "building tree 79 of 100\n",
      "building tree 80 of 100\n",
      "building tree 81 of 100\n",
      "building tree 82 of 100\n",
      "building tree 83 of 100\n",
      "building tree 84 of 100\n",
      "building tree 85 of 100\n",
      "building tree 86 of 100\n",
      "building tree 87 of 100\n",
      "building tree 88 of 100\n",
      "building tree 89 of 100\n",
      "building tree 90 of 100\n",
      "building tree 91 of 100\n",
      "building tree 92 of 100\n",
      "building tree 93 of 100\n"
     ]
    },
    {
     "name": "stderr",
     "output_type": "stream",
     "text": [
      "[Parallel(n_jobs=5)]: Done  88 tasks      | elapsed:   46.3s\n"
     ]
    },
    {
     "name": "stdout",
     "output_type": "stream",
     "text": [
      "building tree 94 of 100\n",
      "building tree 95 of 100\n",
      "building tree 96 of 100\n",
      "building tree 97 of 100\n",
      "building tree 98 of 100\n",
      "building tree 99 of 100\n",
      "building tree 100 of 100\n"
     ]
    },
    {
     "name": "stderr",
     "output_type": "stream",
     "text": [
      "[Parallel(n_jobs=5)]: Done 100 out of 100 | elapsed:   52.2s finished\n",
      "[Parallel(n_jobs=5)]: Using backend ThreadingBackend with 5 concurrent workers.\n",
      "[Parallel(n_jobs=5)]: Done   8 tasks      | elapsed:    0.1s\n",
      "[Parallel(n_jobs=5)]: Done  22 tasks      | elapsed:    0.1s\n",
      "[Parallel(n_jobs=5)]: Done  40 tasks      | elapsed:    0.2s\n",
      "[Parallel(n_jobs=5)]: Done  62 tasks      | elapsed:    0.3s\n",
      "[Parallel(n_jobs=5)]: Done  88 tasks      | elapsed:    0.5s\n",
      "[Parallel(n_jobs=5)]: Done 100 out of 100 | elapsed:    0.5s finished\n"
     ]
    },
    {
     "name": "stdout",
     "output_type": "stream",
     "text": [
      "TRAIN: 2263508 TEST: 565877\n"
     ]
    },
    {
     "name": "stderr",
     "output_type": "stream",
     "text": [
      "[Parallel(n_jobs=5)]: Using backend ThreadingBackend with 5 concurrent workers.\n"
     ]
    },
    {
     "name": "stdout",
     "output_type": "stream",
     "text": [
      "building tree 1 of 100building tree 2 of 100building tree 3 of 100building tree 4 of 100building tree 5 of 100\n",
      "\n",
      "\n",
      "\n",
      "\n",
      "building tree 6 of 100\n",
      "building tree 7 of 100\n",
      "building tree 8 of 100\n",
      "building tree 9 of 100\n",
      "building tree 10 of 100\n",
      "building tree 11 of 100\n",
      "building tree 12 of 100\n",
      "building tree 13 of 100\n"
     ]
    },
    {
     "name": "stderr",
     "output_type": "stream",
     "text": [
      "[Parallel(n_jobs=5)]: Done   8 tasks      | elapsed:    6.1s\n"
     ]
    },
    {
     "name": "stdout",
     "output_type": "stream",
     "text": [
      "building tree 14 of 100\n",
      "building tree 15 of 100\n",
      "building tree 16 of 100\n",
      "building tree 17 of 100\n",
      "building tree 18 of 100\n",
      "building tree 19 of 100\n",
      "building tree 20 of 100\n",
      "building tree 21 of 100\n",
      "building tree 22 of 100\n",
      "building tree 23 of 100\n",
      "building tree 24 of 100\n",
      "building tree 25 of 100\n",
      "building tree 26 of 100\n",
      "building tree 27 of 100\n",
      "building tree 28 of 100\n"
     ]
    },
    {
     "name": "stderr",
     "output_type": "stream",
     "text": [
      "[Parallel(n_jobs=5)]: Done  22 tasks      | elapsed:   14.2s\n"
     ]
    },
    {
     "name": "stdout",
     "output_type": "stream",
     "text": [
      "building tree 29 of 100\n",
      "building tree 30 of 100\n",
      "building tree 31 of 100\n",
      "building tree 32 of 100\n",
      "building tree 33 of 100\n",
      "building tree 34 of 100\n",
      "building tree 35 of 100\n",
      "building tree 36 of 100\n",
      "building tree 37 of 100\n",
      "building tree 38 of 100\n",
      "building tree 39 of 100\n",
      "building tree 40 of 100\n",
      "building tree 41 of 100\n",
      "building tree 42 of 100\n",
      "building tree 43 of 100\n",
      "building tree 44 of 100\n",
      "building tree 45 of 100\n"
     ]
    },
    {
     "name": "stderr",
     "output_type": "stream",
     "text": [
      "[Parallel(n_jobs=5)]: Done  40 tasks      | elapsed:   23.0s\n"
     ]
    },
    {
     "name": "stdout",
     "output_type": "stream",
     "text": [
      "building tree 46 of 100\n",
      "building tree 47 of 100\n",
      "building tree 48 of 100\n",
      "building tree 49 of 100\n",
      "building tree 50 of 100\n",
      "building tree 51 of 100\n",
      "building tree 52 of 100\n",
      "building tree 53 of 100\n",
      "building tree 54 of 100\n",
      "building tree 55 of 100\n",
      "building tree 56 of 100\n",
      "building tree 57 of 100\n",
      "building tree 58 of 100\n",
      "building tree 59 of 100\n",
      "building tree 60 of 100\n",
      "building tree 61 of 100\n",
      "building tree 62 of 100\n",
      "building tree 63 of 100\n",
      "building tree 64 of 100\n",
      "building tree 65 of 100\n",
      "building tree 66 of 100\n",
      "building tree 67 of 100\n"
     ]
    },
    {
     "name": "stderr",
     "output_type": "stream",
     "text": [
      "[Parallel(n_jobs=5)]: Done  62 tasks      | elapsed:   35.6s\n"
     ]
    },
    {
     "name": "stdout",
     "output_type": "stream",
     "text": [
      "building tree 68 of 100\n",
      "building tree 69 of 100\n",
      "building tree 70 of 100\n",
      "building tree 71 of 100\n",
      "building tree 72 of 100\n",
      "building tree 73 of 100\n",
      "building tree 74 of 100\n",
      "building tree 75 of 100\n",
      "building tree 76 of 100\n",
      "building tree 77 of 100\n",
      "building tree 78 of 100\n",
      "building tree 79 of 100\n",
      "building tree 80 of 100\n",
      "building tree 81 of 100\n",
      "building tree 82 of 100\n",
      "building tree 83 of 100\n",
      "building tree 84 of 100\n",
      "building tree 85 of 100\n",
      "building tree 86 of 100\n",
      "building tree 87 of 100\n",
      "building tree 88 of 100\n",
      "building tree 89 of 100\n",
      "building tree 90 of 100\n",
      "building tree 91 of 100\n",
      "building tree 92 of 100\n",
      "building tree 93 of 100\n"
     ]
    },
    {
     "name": "stderr",
     "output_type": "stream",
     "text": [
      "[Parallel(n_jobs=5)]: Done  88 tasks      | elapsed:   49.2s\n"
     ]
    },
    {
     "name": "stdout",
     "output_type": "stream",
     "text": [
      "building tree 94 of 100\n",
      "building tree 95 of 100\n",
      "building tree 96 of 100\n",
      "building tree 97 of 100\n",
      "building tree 98 of 100\n",
      "building tree 99 of 100\n",
      "building tree 100 of 100\n"
     ]
    },
    {
     "name": "stderr",
     "output_type": "stream",
     "text": [
      "[Parallel(n_jobs=5)]: Done 100 out of 100 | elapsed:   55.5s finished\n",
      "[Parallel(n_jobs=5)]: Using backend ThreadingBackend with 5 concurrent workers.\n",
      "[Parallel(n_jobs=5)]: Done   8 tasks      | elapsed:    0.0s\n",
      "[Parallel(n_jobs=5)]: Done  22 tasks      | elapsed:    0.1s\n",
      "[Parallel(n_jobs=5)]: Done  40 tasks      | elapsed:    0.2s\n",
      "[Parallel(n_jobs=5)]: Done  62 tasks      | elapsed:    0.4s\n",
      "[Parallel(n_jobs=5)]: Done  88 tasks      | elapsed:    0.5s\n",
      "[Parallel(n_jobs=5)]: Done 100 out of 100 | elapsed:    0.5s finished\n"
     ]
    },
    {
     "name": "stdout",
     "output_type": "stream",
     "text": [
      "TRAIN: 2263508 TEST: 565877\n"
     ]
    },
    {
     "name": "stderr",
     "output_type": "stream",
     "text": [
      "[Parallel(n_jobs=5)]: Using backend ThreadingBackend with 5 concurrent workers.\n"
     ]
    },
    {
     "name": "stdout",
     "output_type": "stream",
     "text": [
      "building tree 1 of 100building tree 2 of 100building tree 3 of 100building tree 4 of 100\n",
      "\n",
      "building tree 5 of 100\n",
      "\n",
      "\n",
      "building tree 6 of 100\n",
      "building tree 7 of 100\n",
      "building tree 8 of 100\n",
      "building tree 9 of 100\n",
      "building tree 10 of 100\n",
      "building tree 11 of 100\n",
      "building tree 12 of 100\n",
      "building tree 13 of 100\n"
     ]
    },
    {
     "name": "stderr",
     "output_type": "stream",
     "text": [
      "[Parallel(n_jobs=5)]: Done   8 tasks      | elapsed:    5.2s\n"
     ]
    },
    {
     "name": "stdout",
     "output_type": "stream",
     "text": [
      "building tree 14 of 100\n",
      "building tree 15 of 100\n",
      "building tree 16 of 100\n",
      "building tree 17 of 100\n",
      "building tree 18 of 100\n",
      "building tree 19 of 100\n",
      "building tree 20 of 100\n",
      "building tree 21 of 100\n",
      "building tree 22 of 100\n",
      "building tree 23 of 100\n",
      "building tree 24 of 100\n",
      "building tree 25 of 100\n",
      "building tree 26 of 100\n",
      "building tree 27 of 100\n",
      "building tree 28 of 100\n"
     ]
    },
    {
     "name": "stderr",
     "output_type": "stream",
     "text": [
      "[Parallel(n_jobs=5)]: Done  22 tasks      | elapsed:   12.9s\n"
     ]
    },
    {
     "name": "stdout",
     "output_type": "stream",
     "text": [
      "building tree 29 of 100\n",
      "building tree 30 of 100\n",
      "building tree 31 of 100\n",
      "building tree 32 of 100\n",
      "building tree 33 of 100\n",
      "building tree 34 of 100\n",
      "building tree 35 of 100\n",
      "building tree 36 of 100\n",
      "building tree 37 of 100\n",
      "building tree 38 of 100\n",
      "building tree 39 of 100\n",
      "building tree 40 of 100\n",
      "building tree 41 of 100\n",
      "building tree 42 of 100\n",
      "building tree 43 of 100\n",
      "building tree 44 of 100\n",
      "building tree 45 of 100\n"
     ]
    },
    {
     "name": "stderr",
     "output_type": "stream",
     "text": [
      "[Parallel(n_jobs=5)]: Done  40 tasks      | elapsed:   20.6s\n"
     ]
    },
    {
     "name": "stdout",
     "output_type": "stream",
     "text": [
      "building tree 46 of 100\n",
      "building tree 47 of 100\n",
      "building tree 48 of 100\n",
      "building tree 49 of 100\n",
      "building tree 50 of 100\n",
      "building tree 51 of 100\n",
      "building tree 52 of 100\n",
      "building tree 53 of 100\n",
      "building tree 54 of 100\n",
      "building tree 55 of 100\n",
      "building tree 56 of 100\n",
      "building tree 57 of 100\n",
      "building tree 58 of 100\n",
      "building tree 59 of 100\n",
      "building tree 60 of 100\n",
      "building tree 61 of 100\n",
      "building tree 62 of 100\n",
      "building tree 63 of 100\n",
      "building tree 64 of 100\n",
      "building tree 65 of 100\n",
      "building tree 66 of 100\n",
      "building tree 67 of 100\n"
     ]
    },
    {
     "name": "stderr",
     "output_type": "stream",
     "text": [
      "[Parallel(n_jobs=5)]: Done  62 tasks      | elapsed:   32.2s\n"
     ]
    },
    {
     "name": "stdout",
     "output_type": "stream",
     "text": [
      "building tree 68 of 100\n",
      "building tree 69 of 100\n",
      "building tree 70 of 100\n",
      "building tree 71 of 100\n",
      "building tree 72 of 100\n",
      "building tree 73 of 100\n",
      "building tree 74 of 100\n",
      "building tree 75 of 100\n",
      "building tree 76 of 100\n",
      "building tree 77 of 100\n",
      "building tree 78 of 100\n",
      "building tree 79 of 100\n",
      "building tree 80 of 100\n",
      "building tree 81 of 100\n",
      "building tree 82 of 100\n",
      "building tree 83 of 100\n",
      "building tree 84 of 100\n",
      "building tree 85 of 100\n",
      "building tree 86 of 100\n",
      "building tree 87 of 100\n",
      "building tree 88 of 100\n",
      "building tree 89 of 100\n",
      "building tree 90 of 100\n",
      "building tree 91 of 100\n",
      "building tree 92 of 100\n",
      "building tree 93 of 100\n",
      "building tree 94 of 100\n",
      "building tree 95 of 100\n"
     ]
    },
    {
     "name": "stderr",
     "output_type": "stream",
     "text": [
      "[Parallel(n_jobs=5)]: Done  88 tasks      | elapsed:   46.7s\n"
     ]
    },
    {
     "name": "stdout",
     "output_type": "stream",
     "text": [
      "building tree 96 of 100\n",
      "building tree 97 of 100\n",
      "building tree 98 of 100\n",
      "building tree 99 of 100\n",
      "building tree 100 of 100\n"
     ]
    },
    {
     "name": "stderr",
     "output_type": "stream",
     "text": [
      "[Parallel(n_jobs=5)]: Done 100 out of 100 | elapsed:   51.9s finished\n",
      "[Parallel(n_jobs=5)]: Using backend ThreadingBackend with 5 concurrent workers.\n",
      "[Parallel(n_jobs=5)]: Done   8 tasks      | elapsed:    0.0s\n",
      "[Parallel(n_jobs=5)]: Done  22 tasks      | elapsed:    0.1s\n",
      "[Parallel(n_jobs=5)]: Done  40 tasks      | elapsed:    0.2s\n",
      "[Parallel(n_jobs=5)]: Done  62 tasks      | elapsed:    0.3s\n",
      "[Parallel(n_jobs=5)]: Done  88 tasks      | elapsed:    0.5s\n",
      "[Parallel(n_jobs=5)]: Done 100 out of 100 | elapsed:    0.5s finished\n"
     ]
    }
   ],
   "source": [
    "from sklearn.ensemble import RandomForestClassifier\n",
    "from sklearn.metrics import confusion_matrix\n",
    "cfs = []\n",
    "preds = []\n",
    "for train_idxs, test_idxs in skf.split(df[features], df['Label']):\n",
    "    print(\"TRAIN:\", (len(train_idxs)), \"TEST:\", (len(test_idxs)))\n",
    "    X_train = df[features].iloc[train_idxs,:]\n",
    "    X_test = df[features].iloc[test_idxs,:]\n",
    "    y_train = df[label].iloc[train_idxs]\n",
    "    y_test = df[label].iloc[test_idxs]\n",
    "    #Apply Random Forest\n",
    "    rf_clf = RandomForestClassifier(n_estimators=100,min_samples_split=10,min_samples_leaf=5,max_samples=0.8,criterion='gini',n_jobs=5, verbose=9)\n",
    "    rf_clf.fit(X_train,y_train)\n",
    "    y_pred = rf_clf.predict(X_test)\n",
    "    cfs.append(confusion_matrix(y_test, y_pred))\n",
    "    preds.append([y_test, y_pred])"
   ]
  },
  {
   "cell_type": "code",
   "execution_count": 14,
   "metadata": {},
   "outputs": [
    {
     "name": "stdout",
     "output_type": "stream",
     "text": [
      "[array([[454359,    179],\n",
      "       [   329, 111010]]), array([[453925,    613],\n",
      "       [   122, 111217]]), array([[454393,    145],\n",
      "       [   768, 110571]]), array([[453301,   1236],\n",
      "       [   134, 111206]]), array([[453658,    879],\n",
      "       [  1343, 109997]])]\n",
      "[[453927.2    610.4]\n",
      " [   539.2 110800.2]]\n",
      "[[416.65832525 416.22859104]\n",
      " [464.94533012 464.77409566]]\n"
     ]
    }
   ],
   "source": [
    "print(cfs)\n",
    "cf = np.mean(cfs,axis=(0))\n",
    "cf_std = np.std(cfs,axis=0)\n",
    "print(cf)\n",
    "print(cf_std)\n",
    "#objectToFile(preds, \"cicids2017_preds_\"+label)"
   ]
  },
  {
   "cell_type": "code",
   "execution_count": 15,
   "metadata": {},
   "outputs": [
    {
     "name": "stdout",
     "output_type": "stream",
     "text": [
      "std. dev %\n",
      " [[ 1.01442512 82.33815251]\n",
      " [60.31586267  3.57215347]]\n"
     ]
    }
   ],
   "source": [
    "print('std. dev %\\n', np.divide(np.std(cfs,axis=0),np.mean(cfs,axis=0))*100)"
   ]
  },
  {
   "cell_type": "code",
   "execution_count": 3,
   "metadata": {},
   "outputs": [],
   "source": [
    "#Load object from file\n",
    "from sklearn.metrics import confusion_matrix\n",
    "label='BinLabel'\n",
    "preds_mem = objectFromFile(\"cicids2017_preds_\"+label)\n",
    "cfs = []\n",
    "for pred_tuple in preds_mem:\n",
    "    cfs.append(confusion_matrix(pred_tuple[0], pred_tuple[1]))"
   ]
  },
  {
   "cell_type": "code",
   "execution_count": 4,
   "metadata": {},
   "outputs": [
    {
     "name": "stdout",
     "output_type": "stream",
     "text": [
      "[[449006.    5531.6]\n",
      " [  6225.6 105113.8]]\n"
     ]
    }
   ],
   "source": [
    "cf = np.mean(cfs,axis=(0))\n",
    "print(cf)"
   ]
  },
  {
   "cell_type": "code",
   "execution_count": 15,
   "metadata": {},
   "outputs": [
    {
     "name": "stdout",
     "output_type": "stream",
     "text": [
      "0.9979684631112414 \n",
      "\n",
      "0.991 \n",
      "\n",
      "0.999\n"
     ]
    }
   ],
   "source": [
    "from sklearn.metrics import accuracy_score\n",
    "from sklearn.metrics import recall_score\n",
    "paper1_acc = 0.999\n",
    "paper2_acc = 1.0\n",
    "paper2_rec = 1.0\n",
    "paper2_spec = 1.0\n",
    "#tn, fp, fn, tp = np.mean(cfs,axis=0).ravel()\n",
    "#print(tn,fp,fn,tp)\n",
    "\n",
    "acc_scores = [accuracy_score(pred_tuple[0], pred_tuple[1]) for pred_tuple in preds]\n",
    "#rec_score  = tp / (tp+fn)\n",
    "#spec_score = tn / (tn+fp)\n",
    "#acc_scores = [0.997]\n",
    "rec_score = 0.991\n",
    "spec_score = 0.999\n",
    "print(np.mean(acc_scores), \"\\n\")\n",
    "print(rec_score, \"\\n\")\n",
    "print(spec_score)"
   ]
  },
  {
   "cell_type": "code",
   "execution_count": 11,
   "metadata": {},
   "outputs": [
    {
     "name": "stderr",
     "output_type": "stream",
     "text": [
      "/home/arjen/.local/lib/python3.6/site-packages/ipykernel_launcher.py:41: UserWarning: FixedFormatter should only be used together with FixedLocator\n"
     ]
    },
    {
     "data": {
      "image/png": "[encoded data removed]",
      "text/plain": [
       "<Figure size 504x432 with 1 Axes>"
      ]
     },
     "metadata": {
      "needs_background": "light"
     },
     "output_type": "display_data"
    }
   ],
   "source": [
    "import matplotlib.patches as mpatches\n",
    "#Colors\n",
    "clr_acc = 'royalblue'\n",
    "clr_rec = 'salmon'\n",
    "clr_spec = 'lightgreen'\n",
    "\n",
    "acc_patch = mpatches.Patch(color=clr_acc, label='accuracy')\n",
    "rec_patch = mpatches.Patch(color=clr_rec, label='recall')\n",
    "spec_patch = mpatches.Patch(color=clr_spec, label='specificity')\n",
    "\n",
    "labels = ['Faker et al.\\nGBT (21 features)', 'Ullah et al.\\nDT+RF (14 features)', 'Our work\\nRF (30 features)']\n",
    "x = np.arange(len(labels))*10\n",
    "width = 2.5  # the width of the bars\n",
    "pad_width = 3\n",
    "scores = [paper1_acc,paper2_acc,paper2_rec,paper2_spec,np.mean(acc_scores),rec_score,spec_score]\n",
    "\n",
    "fig, ax = plt.subplots(figsize=(7,6))\n",
    "\n",
    "#Spawn bar(s) of group 1\n",
    "plt.bar(x[0], height=scores[0], width=width, color=clr_acc)\n",
    "\n",
    "#Spawn bar(s) of group 2\n",
    "plt.bar(x[1]-pad_width, height=scores[1], width=width, color=clr_acc)\n",
    "plt.bar(x[1], height=scores[2], width=width, color=clr_rec)\n",
    "plt.bar(x[1]+pad_width, height=scores[3], width=width, color=clr_spec)\n",
    "\n",
    "#Spawn bar(s) of group 3\n",
    "plt.bar(x[2]-pad_width, height=scores[4], width=width, color=clr_acc)\n",
    "plt.bar(x[2], height=scores[5], width=width, color=clr_rec)\n",
    "plt.bar(x[2]+pad_width, height=scores[6], width=width, color=clr_spec)\n",
    "\n",
    "#Hide the right and top spines\n",
    "ax.spines['right'].set_visible(False)\n",
    "ax.spines['top'].set_visible(False)\n",
    "ax.spines['left'].set_visible(False)\n",
    "\n",
    "plt.tick_params(left = False)\n",
    "\n",
    "#Set plot details\n",
    "plt.rc('font', size=13)\n",
    "ax.set_xticklabels(labels)\n",
    "#plt.ylabel('Metric score')\n",
    "#plt.yticks(size='14')\n",
    "plt.xticks(size='14')\n",
    "plt.ylim([0.8, 1])\n",
    "ax.set_yticklabels([])\n",
    "plt.title(\"CICIDS2017 results comparison\", fontweight='bold',  pad=25)\n",
    "ax.set_xticks(x)\n",
    "ax.set_xticklabels(labels)\n",
    "add_value_labels(ax)\n",
    "ax.legend(handles=[acc_patch,rec_patch,spec_patch], loc='lower right', borderaxespad=0.)\n",
    "ax.set_axisbelow(True)\n",
    "plt.grid(axis='y')\n",
    "fig.tight_layout()\n",
    "plt.savefig('cicids2017_binaryclass_bars.png',bbox_inches='tight')\n",
    "plt.show()"
   ]
  },
  {
   "cell_type": "code",
   "execution_count": 22,
   "metadata": {
    "scrolled": false
   },
   "outputs": [
    {
     "data": {
      "image/png": "[encoded data removed]",
      "text/plain": [
       "<Figure size 576x576 with 1 Axes>"
      ]
     },
     "metadata": {
      "needs_background": "light"
     },
     "output_type": "display_data"
    }
   ],
   "source": [
    "#Plot confusion matrix\n",
    "import seaborn as sns\n",
    "#labels = ['Benign','Malicious']\n",
    "\n",
    "#Standard heatmap\n",
    "cf_norm = cf/cf.sum(axis=1)[:,None]\n",
    "cf_percentages = [\"{0:.2%}\".format(value) for value in cf_norm.flatten()]\n",
    "cf_numbers = [abbrv_num(value) for value in cf.flatten()]\n",
    "cf_labels = ['{v1}\\n({v2})'.format(v1=v1, v2=v2) for v1,v2 in zip(cf_percentages,cf_numbers)]\n",
    "cf_labels = np.asarray(cf_labels).reshape(cf.shape)\n",
    "\n",
    "fig, ax = plt.subplots(figsize=(6, 6))\n",
    "plt.rc('font', size=14)\n",
    "column_labels = sorted(y_test.unique())\n",
    "sns.heatmap(cf_norm, annot=cf_labels, fmt='',cmap='Blues',cbar=False, vmin=0.0, vmax=1.0, ax=ax, xticklabels=column_labels, yticklabels=column_labels)\n",
    "plt.ylabel('True label')\n",
    "plt.xlabel('Predicted label')\n",
    "plt.yticks(rotation='0', size='12')\n",
    "plt.xticks(rotation='65', size='12')\n",
    "plt.title(\"CICIDS2017 mean binary classification matrix\")\n",
    "plt.savefig('cicids2017_binaryclass_cf.png',bbox_inches='tight')\n",
    "plt.show()"
   ]
  },
  {
   "cell_type": "code",
   "execution_count": 29,
   "metadata": {},
   "outputs": [
    {
     "name": "stdout",
     "output_type": "stream",
     "text": [
      "Feature: Bwd Packet Length Mean, Score: 0.20128\n",
      "Feature: Total Length of Bwd Packets, Score: 0.15678\n",
      "Feature: Total Length of Fwd Packets, Score: 0.14350\n",
      "Feature: Fwd Packet Length Mean, Score: 0.09847\n",
      "Feature: Total Backward Packets, Score: 0.07127\n",
      "Feature: Fwd IAT Mean, Score: 0.06978\n",
      "Feature: proto_6.0, Score: 0.06395\n",
      "Feature: Total Fwd Packets, Score: 0.06379\n",
      "Feature: Flow Duration, Score: 0.06044\n",
      "Feature: proto_17.0, Score: 0.04380\n",
      "Feature: Bwd IAT Mean, Score: 0.02656\n",
      "Feature: proto_0.0, Score: 0.00038\n"
     ]
    }
   ],
   "source": [
    "importance = rf_clf.feature_importances_\n",
    "# summarize feature importance\n",
    "for i,v in sorted(enumerate(importance),key=lambda x: x[1], reverse=True):\n",
    "    print('Feature: %s, Score: %.5f' % (features[i],v))"
   ]
  },
  {
   "cell_type": "code",
   "execution_count": 47,
   "metadata": {},
   "outputs": [
    {
     "name": "stdout",
     "output_type": "stream",
     "text": [
      ">100.0, train: 0.979, test: 0.976\n",
      ">200.0, train: 0.979, test: 0.976\n",
      ">300.0, train: 0.979, test: 0.976\n",
      ">400.0, train: 0.979, test: 0.976\n",
      ">500.0, train: 0.979, test: 0.976\n"
     ]
    }
   ],
   "source": [
    "#Depth hyper parameter check\n",
    "from sklearn.ensemble import RandomForestClassifier\n",
    "from sklearn.metrics import balanced_accuracy_score\n",
    "from sklearn.metrics import recall_score\n",
    "train_scores, test_scores, train_bacc_scores, test_bacc_scores = list(), list(), list(), list()\n",
    "#Split in train and test set\n",
    "#X_train, X_test, y_train, y_test = train_test_split(X, y, test_size=0.30, shuffle=False)\n",
    "depth_values = range(100, 600, 100)\n",
    "for d in depth_values:\n",
    "    #Make model\n",
    "    clf = RandomForestClassifier(n_estimators=d,min_samples_split=10,min_samples_leaf=5,max_samples=0.7,criterion='entropy',n_jobs=4)\n",
    "    #Fit on training split\n",
    "    clf.fit(X_train,y_train)\n",
    "    #evaluate on train\n",
    "    ytrain_pred = clf.predict(X_train)\n",
    "    train_bacc = balanced_accuracy_score(y_train,ytrain_pred)\n",
    "    train_rec = recall_score(y_train,ytrain_pred, average='weighted')\n",
    "    train_bacc_scores.append(train_bacc)\n",
    "    train_scores.append(train_rec)\n",
    "    #evaluate on test\n",
    "    ytest_pred = clf.predict(X_test)\n",
    "    test_bacc = balanced_accuracy_score(y_test,ytest_pred)\n",
    "    test_rec = recall_score(y_test,ytest_pred,average='weighted')\n",
    "    test_bacc_scores.append(test_bacc)\n",
    "    test_scores.append(test_rec)\n",
    "    #Print progress\n",
    "    print('>%.1f, train: %.3f, test: %.3f' % (d, train_bacc, test_bacc))\n"
   ]
  },
  {
   "cell_type": "markdown",
   "metadata": {},
   "source": [
    "5-fold binary test results:\n",
    "\n",
    "[array([[450308,   4230],\n",
    "       [   427, 110912]]), array([[449702,   4836],\n",
    "       [   257, 111082]]), array([[447660,   6878],\n",
    "       [ 29521,  81818]]), array([[447815,   6722],\n",
    "       [ 10480, 100860]]), array([[453386,   1151],\n",
    "       [ 27591,  83749]])]\n",
    "\n",
    "Mean:\n",
    "\n",
    "[[449774.2   4763.4]\n",
    " [ 13655.2  97684.2]]\n",
    " \n",
    "Std. Dev:\n",
    " \n",
    "[[ 2080.55573345  2080.71464646]\n",
    " [12731.92102395 12731.75199884]]"
   ]
  },
  {
   "cell_type": "code",
   "execution_count": 17,
   "metadata": {
    "scrolled": true
   },
   "outputs": [
    {
     "name": "stdout",
     "output_type": "stream",
     "text": [
      "TRAIN: 1697631 VAL: 565877 TEST: 565877\n",
      "Working on grid:  gini 1 0.7\n",
      "Finished building random forest\n",
      "{gini,1.0,0.7} val: 0.811\n",
      "Working on grid:  gini 1 0.8\n",
      "Finished building random forest\n",
      "{gini,1.0,0.8} val: 0.814\n",
      "Working on grid:  gini 1 0.9\n",
      "Finished building random forest\n",
      "{gini,1.0,0.9} val: 0.805\n",
      "Working on grid:  gini 5 0.7\n",
      "Finished building random forest\n",
      "{gini,5.0,0.7} val: 0.812\n",
      "Working on grid:  gini 5 0.8\n",
      "Finished building random forest\n",
      "{gini,5.0,0.8} val: 0.804\n",
      "Working on grid:  gini 5 0.9\n",
      "Finished building random forest\n",
      "{gini,5.0,0.9} val: 0.810\n",
      "Working on grid:  gini 10 0.7\n",
      "Finished building random forest\n",
      "{gini,10.0,0.7} val: 0.801\n",
      "Working on grid:  gini 10 0.8\n",
      "Finished building random forest\n",
      "{gini,10.0,0.8} val: 0.811\n",
      "Working on grid:  gini 10 0.9\n",
      "Finished building random forest\n",
      "{gini,10.0,0.9} val: 0.810\n",
      "Working on grid:  gini 25 0.7\n",
      "Finished building random forest\n",
      "{gini,25.0,0.7} val: 0.807\n",
      "Working on grid:  gini 25 0.8\n",
      "Finished building random forest\n",
      "{gini,25.0,0.8} val: 0.806\n",
      "Working on grid:  gini 25 0.9\n",
      "Finished building random forest\n",
      "{gini,25.0,0.9} val: 0.808\n",
      "Working on grid:  gini 50 0.7\n",
      "Finished building random forest\n",
      "{gini,50.0,0.7} val: 0.809\n",
      "Working on grid:  gini 50 0.8\n",
      "Finished building random forest\n",
      "{gini,50.0,0.8} val: 0.807\n",
      "Working on grid:  gini 50 0.9\n",
      "Finished building random forest\n",
      "{gini,50.0,0.9} val: 0.806\n",
      "Working on grid:  gini 100 0.7\n",
      "Finished building random forest\n",
      "{gini,100.0,0.7} val: 0.809\n",
      "Working on grid:  gini 100 0.8\n",
      "Finished building random forest\n",
      "{gini,100.0,0.8} val: 0.812\n",
      "Working on grid:  gini 100 0.9\n",
      "Finished building random forest\n",
      "{gini,100.0,0.9} val: 0.807\n",
      "Working on grid:  entropy 1 0.7\n",
      "Finished building random forest\n",
      "{entropy,1.0,0.7} val: 0.799\n",
      "Working on grid:  entropy 1 0.8\n",
      "Finished building random forest\n",
      "{entropy,1.0,0.8} val: 0.796\n",
      "Working on grid:  entropy 1 0.9\n",
      "Finished building random forest\n",
      "{entropy,1.0,0.9} val: 0.795\n",
      "Working on grid:  entropy 5 0.7\n",
      "Finished building random forest\n",
      "{entropy,5.0,0.7} val: 0.807\n",
      "Working on grid:  entropy 5 0.8\n",
      "Finished building random forest\n",
      "{entropy,5.0,0.8} val: 0.802\n",
      "Working on grid:  entropy 5 0.9\n",
      "Finished building random forest\n",
      "{entropy,5.0,0.9} val: 0.797\n",
      "Working on grid:  entropy 10 0.7\n",
      "Finished building random forest\n",
      "{entropy,10.0,0.7} val: 0.805\n",
      "Working on grid:  entropy 10 0.8\n",
      "Finished building random forest\n",
      "{entropy,10.0,0.8} val: 0.805\n",
      "Working on grid:  entropy 10 0.9\n",
      "Finished building random forest\n",
      "{entropy,10.0,0.9} val: 0.805\n",
      "Working on grid:  entropy 25 0.7\n",
      "Finished building random forest\n",
      "{entropy,25.0,0.7} val: 0.804\n",
      "Working on grid:  entropy 25 0.8\n",
      "Finished building random forest\n",
      "{entropy,25.0,0.8} val: 0.804\n",
      "Working on grid:  entropy 25 0.9\n",
      "Finished building random forest\n",
      "{entropy,25.0,0.9} val: 0.809\n",
      "Working on grid:  entropy 50 0.7\n",
      "Finished building random forest\n",
      "{entropy,50.0,0.7} val: 0.804\n",
      "Working on grid:  entropy 50 0.8\n",
      "Finished building random forest\n",
      "{entropy,50.0,0.8} val: 0.805\n",
      "Working on grid:  entropy 50 0.9\n",
      "Finished building random forest\n",
      "{entropy,50.0,0.9} val: 0.804\n",
      "Working on grid:  entropy 100 0.7\n",
      "Finished building random forest\n",
      "{entropy,100.0,0.7} val: 0.807\n",
      "Working on grid:  entropy 100 0.8\n",
      "Finished building random forest\n",
      "{entropy,100.0,0.8} val: 0.805\n",
      "Working on grid:  entropy 100 0.9\n",
      "Finished building random forest\n",
      "{entropy,100.0,0.9} val: 0.807\n",
      "TRAIN: 1697631 VAL: 565877 TEST: 565877\n",
      "Working on grid:  gini 1 0.7\n",
      "Finished building random forest\n",
      "{gini,1.0,0.7} val: 0.830\n",
      "Working on grid:  gini 1 0.8\n",
      "Finished building random forest\n",
      "{gini,1.0,0.8} val: 0.819\n",
      "Working on grid:  gini 1 0.9\n",
      "Finished building random forest\n",
      "{gini,1.0,0.9} val: 0.824\n",
      "Working on grid:  gini 5 0.7\n",
      "Finished building random forest\n",
      "{gini,5.0,0.7} val: 0.828\n",
      "Working on grid:  gini 5 0.8\n",
      "Finished building random forest\n",
      "{gini,5.0,0.8} val: 0.828\n",
      "Working on grid:  gini 5 0.9\n",
      "Finished building random forest\n",
      "{gini,5.0,0.9} val: 0.818\n",
      "Working on grid:  gini 10 0.7\n",
      "Finished building random forest\n",
      "{gini,10.0,0.7} val: 0.829\n",
      "Working on grid:  gini 10 0.8\n",
      "Finished building random forest\n",
      "{gini,10.0,0.8} val: 0.829\n",
      "Working on grid:  gini 10 0.9\n",
      "Finished building random forest\n",
      "{gini,10.0,0.9} val: 0.829\n",
      "Working on grid:  gini 25 0.7\n",
      "Finished building random forest\n",
      "{gini,25.0,0.7} val: 0.828\n",
      "Working on grid:  gini 25 0.8\n",
      "Finished building random forest\n",
      "{gini,25.0,0.8} val: 0.828\n",
      "Working on grid:  gini 25 0.9\n",
      "Finished building random forest\n",
      "{gini,25.0,0.9} val: 0.828\n",
      "Working on grid:  gini 50 0.7\n",
      "Finished building random forest\n",
      "{gini,50.0,0.7} val: 0.828\n",
      "Working on grid:  gini 50 0.8\n",
      "Finished building random forest\n",
      "{gini,50.0,0.8} val: 0.828\n",
      "Working on grid:  gini 50 0.9\n",
      "Finished building random forest\n",
      "{gini,50.0,0.9} val: 0.828\n",
      "Working on grid:  gini 100 0.7\n",
      "Finished building random forest\n",
      "{gini,100.0,0.7} val: 0.828\n",
      "Working on grid:  gini 100 0.8\n",
      "Finished building random forest\n",
      "{gini,100.0,0.8} val: 0.828\n",
      "Working on grid:  gini 100 0.9\n",
      "Finished building random forest\n",
      "{gini,100.0,0.9} val: 0.829\n",
      "Working on grid:  entropy 1 0.7\n",
      "Finished building random forest\n",
      "{entropy,1.0,0.7} val: 0.832\n",
      "Working on grid:  entropy 1 0.8\n",
      "Finished building random forest\n",
      "{entropy,1.0,0.8} val: 0.826\n",
      "Working on grid:  entropy 1 0.9\n",
      "Finished building random forest\n",
      "{entropy,1.0,0.9} val: 0.825\n",
      "Working on grid:  entropy 5 0.7\n",
      "Finished building random forest\n",
      "{entropy,5.0,0.7} val: 0.831\n",
      "Working on grid:  entropy 5 0.8\n",
      "Finished building random forest\n",
      "{entropy,5.0,0.8} val: 0.830\n",
      "Working on grid:  entropy 5 0.9\n",
      "Finished building random forest\n",
      "{entropy,5.0,0.9} val: 0.825\n",
      "Working on grid:  entropy 10 0.7\n",
      "Finished building random forest\n",
      "{entropy,10.0,0.7} val: 0.828\n",
      "Working on grid:  entropy 10 0.8\n",
      "Finished building random forest\n",
      "{entropy,10.0,0.8} val: 0.829\n",
      "Working on grid:  entropy 10 0.9\n",
      "Finished building random forest\n",
      "{entropy,10.0,0.9} val: 0.820\n",
      "Working on grid:  entropy 25 0.7\n",
      "Finished building random forest\n",
      "{entropy,25.0,0.7} val: 0.828\n",
      "Working on grid:  entropy 25 0.8\n",
      "Finished building random forest\n",
      "{entropy,25.0,0.8} val: 0.829\n",
      "Working on grid:  entropy 25 0.9\n",
      "Finished building random forest\n",
      "{entropy,25.0,0.9} val: 0.828\n",
      "Working on grid:  entropy 50 0.7\n",
      "Finished building random forest\n",
      "{entropy,50.0,0.7} val: 0.828\n",
      "Working on grid:  entropy 50 0.8\n",
      "Finished building random forest\n",
      "{entropy,50.0,0.8} val: 0.828\n",
      "Working on grid:  entropy 50 0.9\n",
      "Finished building random forest\n",
      "{entropy,50.0,0.9} val: 0.828\n",
      "Working on grid:  entropy 100 0.7\n",
      "Finished building random forest\n",
      "{entropy,100.0,0.7} val: 0.827\n",
      "Working on grid:  entropy 100 0.8\n",
      "Finished building random forest\n",
      "{entropy,100.0,0.8} val: 0.829\n",
      "Working on grid:  entropy 100 0.9\n",
      "Finished building random forest\n",
      "{entropy,100.0,0.9} val: 0.828\n",
      "TRAIN: 1697631 VAL: 565877 TEST: 565877\n",
      "Working on grid:  gini 1 0.7\n",
      "Finished building random forest\n",
      "{gini,1.0,0.7} val: 0.822\n",
      "Working on grid:  gini 1 0.8\n",
      "Finished building random forest\n",
      "{gini,1.0,0.8} val: 0.817\n",
      "Working on grid:  gini 1 0.9\n",
      "Finished building random forest\n",
      "{gini,1.0,0.9} val: 0.830\n",
      "Working on grid:  gini 5 0.7\n",
      "Finished building random forest\n",
      "{gini,5.0,0.7} val: 0.819\n",
      "Working on grid:  gini 5 0.8\n",
      "Finished building random forest\n",
      "{gini,5.0,0.8} val: 0.827\n",
      "Working on grid:  gini 5 0.9\n",
      "Finished building random forest\n",
      "{gini,5.0,0.9} val: 0.831\n",
      "Working on grid:  gini 10 0.7\n",
      "Finished building random forest\n",
      "{gini,10.0,0.7} val: 0.832\n",
      "Working on grid:  gini 10 0.8\n",
      "Finished building random forest\n",
      "{gini,10.0,0.8} val: 0.827\n",
      "Working on grid:  gini 10 0.9\n",
      "Finished building random forest\n",
      "{gini,10.0,0.9} val: 0.826\n",
      "Working on grid:  gini 25 0.7\n",
      "Finished building random forest\n",
      "{gini,25.0,0.7} val: 0.830\n",
      "Working on grid:  gini 25 0.8\n",
      "Finished building random forest\n",
      "{gini,25.0,0.8} val: 0.830\n",
      "Working on grid:  gini 25 0.9\n",
      "Finished building random forest\n",
      "{gini,25.0,0.9} val: 0.829\n",
      "Working on grid:  gini 50 0.7\n",
      "Finished building random forest\n",
      "{gini,50.0,0.7} val: 0.828\n",
      "Working on grid:  gini 50 0.8\n",
      "Finished building random forest\n",
      "{gini,50.0,0.8} val: 0.829\n",
      "Working on grid:  gini 50 0.9\n",
      "Finished building random forest\n",
      "{gini,50.0,0.9} val: 0.828\n",
      "Working on grid:  gini 100 0.7\n",
      "Finished building random forest\n",
      "{gini,100.0,0.7} val: 0.829\n",
      "Working on grid:  gini 100 0.8\n",
      "Finished building random forest\n"
     ]
    },
    {
     "name": "stdout",
     "output_type": "stream",
     "text": [
      "{gini,100.0,0.8} val: 0.828\n",
      "Working on grid:  gini 100 0.9\n",
      "Finished building random forest\n",
      "{gini,100.0,0.9} val: 0.828\n",
      "Working on grid:  entropy 1 0.7\n",
      "Finished building random forest\n",
      "{entropy,1.0,0.7} val: 0.706\n",
      "Working on grid:  entropy 1 0.8\n",
      "Finished building random forest\n",
      "{entropy,1.0,0.8} val: 0.823\n",
      "Working on grid:  entropy 1 0.9\n",
      "Finished building random forest\n",
      "{entropy,1.0,0.9} val: 0.668\n",
      "Working on grid:  entropy 5 0.7\n",
      "Finished building random forest\n",
      "{entropy,5.0,0.7} val: 0.832\n",
      "Working on grid:  entropy 5 0.8\n",
      "Finished building random forest\n",
      "{entropy,5.0,0.8} val: 0.823\n",
      "Working on grid:  entropy 5 0.9\n",
      "Finished building random forest\n",
      "{entropy,5.0,0.9} val: 0.828\n",
      "Working on grid:  entropy 10 0.7\n",
      "Finished building random forest\n",
      "{entropy,10.0,0.7} val: 0.823\n",
      "Working on grid:  entropy 10 0.8\n",
      "Finished building random forest\n",
      "{entropy,10.0,0.8} val: 0.831\n",
      "Working on grid:  entropy 10 0.9\n",
      "Finished building random forest\n",
      "{entropy,10.0,0.9} val: 0.825\n",
      "Working on grid:  entropy 25 0.7\n",
      "Finished building random forest\n",
      "{entropy,25.0,0.7} val: 0.828\n",
      "Working on grid:  entropy 25 0.8\n",
      "Finished building random forest\n",
      "{entropy,25.0,0.8} val: 0.828\n",
      "Working on grid:  entropy 25 0.9\n",
      "Finished building random forest\n",
      "{entropy,25.0,0.9} val: 0.827\n",
      "Working on grid:  entropy 50 0.7\n",
      "Finished building random forest\n",
      "{entropy,50.0,0.7} val: 0.827\n",
      "Working on grid:  entropy 50 0.8\n",
      "Finished building random forest\n",
      "{entropy,50.0,0.8} val: 0.829\n",
      "Working on grid:  entropy 50 0.9\n",
      "Finished building random forest\n",
      "{entropy,50.0,0.9} val: 0.830\n",
      "Working on grid:  entropy 100 0.7\n",
      "Finished building random forest\n",
      "{entropy,100.0,0.7} val: 0.829\n",
      "Working on grid:  entropy 100 0.8\n",
      "Finished building random forest\n",
      "{entropy,100.0,0.8} val: 0.828\n",
      "Working on grid:  entropy 100 0.9\n",
      "Finished building random forest\n",
      "{entropy,100.0,0.9} val: 0.829\n",
      "TRAIN: 1697631 VAL: 565877 TEST: 565877\n",
      "Working on grid:  gini 1 0.7\n",
      "Finished building random forest\n",
      "{gini,1.0,0.7} val: 0.777\n",
      "Working on grid:  gini 1 0.8\n",
      "Finished building random forest\n",
      "{gini,1.0,0.8} val: 0.839\n",
      "Working on grid:  gini 1 0.9\n",
      "Finished building random forest\n",
      "{gini,1.0,0.9} val: 0.700\n",
      "Working on grid:  gini 5 0.7\n",
      "Finished building random forest\n",
      "{gini,5.0,0.7} val: 0.840\n",
      "Working on grid:  gini 5 0.8\n",
      "Finished building random forest\n",
      "{gini,5.0,0.8} val: 0.838\n",
      "Working on grid:  gini 5 0.9\n",
      "Finished building random forest\n",
      "{gini,5.0,0.9} val: 0.833\n",
      "Working on grid:  gini 10 0.7\n",
      "Finished building random forest\n",
      "{gini,10.0,0.7} val: 0.838\n",
      "Working on grid:  gini 10 0.8\n",
      "Finished building random forest\n",
      "{gini,10.0,0.8} val: 0.839\n",
      "Working on grid:  gini 10 0.9\n",
      "Finished building random forest\n",
      "{gini,10.0,0.9} val: 0.839\n",
      "Working on grid:  gini 25 0.7\n",
      "Finished building random forest\n",
      "{gini,25.0,0.7} val: 0.839\n",
      "Working on grid:  gini 25 0.8\n",
      "Finished building random forest\n",
      "{gini,25.0,0.8} val: 0.837\n",
      "Working on grid:  gini 25 0.9\n",
      "Finished building random forest\n",
      "{gini,25.0,0.9} val: 0.838\n",
      "Working on grid:  gini 50 0.7\n",
      "Finished building random forest\n",
      "{gini,50.0,0.7} val: 0.835\n",
      "Working on grid:  gini 50 0.8\n",
      "Finished building random forest\n",
      "{gini,50.0,0.8} val: 0.839\n",
      "Working on grid:  gini 50 0.9\n",
      "Finished building random forest\n",
      "{gini,50.0,0.9} val: 0.836\n",
      "Working on grid:  gini 100 0.7\n",
      "Finished building random forest\n",
      "{gini,100.0,0.7} val: 0.839\n",
      "Working on grid:  gini 100 0.8\n",
      "Finished building random forest\n",
      "{gini,100.0,0.8} val: 0.838\n",
      "Working on grid:  gini 100 0.9\n",
      "Finished building random forest\n",
      "{gini,100.0,0.9} val: 0.837\n",
      "Working on grid:  entropy 1 0.7\n",
      "Finished building random forest\n",
      "{entropy,1.0,0.7} val: 0.827\n",
      "Working on grid:  entropy 1 0.8\n",
      "Finished building random forest\n",
      "{entropy,1.0,0.8} val: 0.834\n",
      "Working on grid:  entropy 1 0.9\n",
      "Finished building random forest\n",
      "{entropy,1.0,0.9} val: 0.833\n",
      "Working on grid:  entropy 5 0.7\n",
      "Finished building random forest\n",
      "{entropy,5.0,0.7} val: 0.823\n",
      "Working on grid:  entropy 5 0.8\n",
      "Finished building random forest\n",
      "{entropy,5.0,0.8} val: 0.837\n",
      "Working on grid:  entropy 5 0.9\n",
      "Finished building random forest\n",
      "{entropy,5.0,0.9} val: 0.844\n",
      "Working on grid:  entropy 10 0.7\n",
      "Finished building random forest\n",
      "{entropy,10.0,0.7} val: 0.839\n",
      "Working on grid:  entropy 10 0.8\n",
      "Finished building random forest\n",
      "{entropy,10.0,0.8} val: 0.836\n",
      "Working on grid:  entropy 10 0.9\n",
      "Finished building random forest\n",
      "{entropy,10.0,0.9} val: 0.835\n",
      "Working on grid:  entropy 25 0.7\n",
      "Finished building random forest\n",
      "{entropy,25.0,0.7} val: 0.838\n",
      "Working on grid:  entropy 25 0.8\n",
      "Finished building random forest\n",
      "{entropy,25.0,0.8} val: 0.833\n",
      "Working on grid:  entropy 25 0.9\n",
      "Finished building random forest\n",
      "{entropy,25.0,0.9} val: 0.836\n",
      "Working on grid:  entropy 50 0.7\n",
      "Finished building random forest\n",
      "{entropy,50.0,0.7} val: 0.839\n",
      "Working on grid:  entropy 50 0.8\n",
      "Finished building random forest\n",
      "{entropy,50.0,0.8} val: 0.838\n",
      "Working on grid:  entropy 50 0.9\n",
      "Finished building random forest\n",
      "{entropy,50.0,0.9} val: 0.838\n",
      "Working on grid:  entropy 100 0.7\n",
      "Finished building random forest\n",
      "{entropy,100.0,0.7} val: 0.839\n",
      "Working on grid:  entropy 100 0.8\n",
      "Finished building random forest\n",
      "{entropy,100.0,0.8} val: 0.839\n",
      "Working on grid:  entropy 100 0.9\n",
      "Finished building random forest\n",
      "{entropy,100.0,0.9} val: 0.838\n",
      "TRAIN: 1697631 VAL: 565877 TEST: 565877\n",
      "Working on grid:  gini 1 0.7\n",
      "Finished building random forest\n",
      "{gini,1.0,0.7} val: 0.614\n",
      "Working on grid:  gini 1 0.8\n",
      "Finished building random forest\n",
      "{gini,1.0,0.8} val: 0.812\n",
      "Working on grid:  gini 1 0.9\n",
      "Finished building random forest\n",
      "{gini,1.0,0.9} val: 0.499\n",
      "Working on grid:  gini 5 0.7\n",
      "Finished building random forest\n",
      "{gini,5.0,0.7} val: 0.558\n",
      "Working on grid:  gini 5 0.8\n",
      "Finished building random forest\n",
      "{gini,5.0,0.8} val: 0.506\n",
      "Working on grid:  gini 5 0.9\n",
      "Finished building random forest\n",
      "{gini,5.0,0.9} val: 0.502\n",
      "Working on grid:  gini 10 0.7\n",
      "Finished building random forest\n",
      "{gini,10.0,0.7} val: 0.500\n",
      "Working on grid:  gini 10 0.8\n",
      "Finished building random forest\n",
      "{gini,10.0,0.8} val: 0.500\n",
      "Working on grid:  gini 10 0.9\n",
      "Finished building random forest\n",
      "{gini,10.0,0.9} val: 0.500\n",
      "Working on grid:  gini 25 0.7\n",
      "Finished building random forest\n",
      "{gini,25.0,0.7} val: 0.500\n",
      "Working on grid:  gini 25 0.8\n",
      "Finished building random forest\n",
      "{gini,25.0,0.8} val: 0.502\n",
      "Working on grid:  gini 25 0.9\n",
      "Finished building random forest\n",
      "{gini,25.0,0.9} val: 0.502\n",
      "Working on grid:  gini 50 0.7\n",
      "Finished building random forest\n",
      "{gini,50.0,0.7} val: 0.502\n",
      "Working on grid:  gini 50 0.8\n",
      "Finished building random forest\n",
      "{gini,50.0,0.8} val: 0.500\n",
      "Working on grid:  gini 50 0.9\n",
      "Finished building random forest\n",
      "{gini,50.0,0.9} val: 0.500\n",
      "Working on grid:  gini 100 0.7\n",
      "Finished building random forest\n",
      "{gini,100.0,0.7} val: 0.500\n",
      "Working on grid:  gini 100 0.8\n",
      "Finished building random forest\n",
      "{gini,100.0,0.8} val: 0.502\n",
      "Working on grid:  gini 100 0.9\n",
      "Finished building random forest\n",
      "{gini,100.0,0.9} val: 0.502\n",
      "Working on grid:  entropy 1 0.7\n",
      "Finished building random forest\n",
      "{entropy,1.0,0.7} val: 0.500\n",
      "Working on grid:  entropy 1 0.8\n",
      "Finished building random forest\n",
      "{entropy,1.0,0.8} val: 0.696\n",
      "Working on grid:  entropy 1 0.9\n",
      "Finished building random forest\n",
      "{entropy,1.0,0.9} val: 0.568\n",
      "Working on grid:  entropy 5 0.7\n",
      "Finished building random forest\n",
      "{entropy,5.0,0.7} val: 0.500\n",
      "Working on grid:  entropy 5 0.8\n",
      "Finished building random forest\n",
      "{entropy,5.0,0.8} val: 0.501\n",
      "Working on grid:  entropy 5 0.9\n",
      "Finished building random forest\n",
      "{entropy,5.0,0.9} val: 0.500\n",
      "Working on grid:  entropy 10 0.7\n",
      "Finished building random forest\n",
      "{entropy,10.0,0.7} val: 0.500\n",
      "Working on grid:  entropy 10 0.8\n",
      "Finished building random forest\n",
      "{entropy,10.0,0.8} val: 0.500\n",
      "Working on grid:  entropy 10 0.9\n",
      "Finished building random forest\n",
      "{entropy,10.0,0.9} val: 0.500\n",
      "Working on grid:  entropy 25 0.7\n",
      "Finished building random forest\n",
      "{entropy,25.0,0.7} val: 0.502\n",
      "Working on grid:  entropy 25 0.8\n",
      "Finished building random forest\n",
      "{entropy,25.0,0.8} val: 0.500\n",
      "Working on grid:  entropy 25 0.9\n",
      "Finished building random forest\n",
      "{entropy,25.0,0.9} val: 0.500\n",
      "Working on grid:  entropy 50 0.7\n",
      "Finished building random forest\n",
      "{entropy,50.0,0.7} val: 0.500\n",
      "Working on grid:  entropy 50 0.8\n",
      "Finished building random forest\n",
      "{entropy,50.0,0.8} val: 0.500\n",
      "Working on grid:  entropy 50 0.9\n",
      "Finished building random forest\n",
      "{entropy,50.0,0.9} val: 0.500\n",
      "Working on grid:  entropy 100 0.7\n"
     ]
    },
    {
     "name": "stdout",
     "output_type": "stream",
     "text": [
      "Finished building random forest\n",
      "{entropy,100.0,0.7} val: 0.500\n",
      "Working on grid:  entropy 100 0.8\n",
      "Finished building random forest\n",
      "{entropy,100.0,0.8} val: 0.500\n",
      "Working on grid:  entropy 100 0.9\n",
      "Finished building random forest\n",
      "{entropy,100.0,0.9} val: 0.500\n"
     ]
    }
   ],
   "source": [
    "import itertools\n",
    "import math\n",
    "from sklearn.ensemble import RandomForestClassifier\n",
    "from sklearn.metrics import confusion_matrix\n",
    "from sklearn.metrics import balanced_accuracy_score\n",
    "fold_val_bacc = []\n",
    "for train_idx, test_idx in skf.split(df[features], df['Label']):\n",
    "    #Split train into train/val\n",
    "    split_idx = math.floor(len(train_idx)*0.75)\n",
    "    val_idx = train_idx[split_idx:]\n",
    "    train_idx = train_idx[:split_idx]\n",
    "    print(\"TRAIN:\", len(train_idx), \"VAL:\", len(val_idx), \"TEST:\", len(test_idx))\n",
    "    #Get train / val / test split data\n",
    "    X_train = df[features].iloc[train_idx,:]\n",
    "    X_val = df[features].iloc[val_idx,:]\n",
    "    X_test = df[features].iloc[test_idx,:]\n",
    "    y_train = df[label].iloc[train_idx]\n",
    "    y_val = df[label].iloc[val_idx]\n",
    "    y_test = df[label].iloc[test_idx]\n",
    "    #Apply Random Forest\n",
    "    measure_search = ['gini','entropy']\n",
    "    size_search = [1,5,10,25,50,100]\n",
    "    msamples_search = [0.7, 0.8, 0.9]\n",
    "    val_bacc_scores = list()\n",
    "    for (c, n, maxs) in [(c, n, maxs) for c in measure_search for n in size_search for maxs in msamples_search]:\n",
    "        print(\"Working on grid: \", c, n, maxs)\n",
    "        clf = RandomForestClassifier(n_estimators=n,min_samples_split=10,min_samples_leaf=5,max_samples=maxs,criterion=c,n_jobs=5)\n",
    "        clf.fit(X_train,y_train)\n",
    "        print(\"Finished building random forest\")\n",
    "        #evaluate on val\n",
    "        yval_pred = clf.predict(X_val)\n",
    "        val_bacc = balanced_accuracy_score(y_val,yval_pred)\n",
    "        val_bacc_scores.append(val_bacc)\n",
    "        #Print progress\n",
    "        print('{%s,%.1f,%.1f} val: %.3f' % (c, n, maxs, val_bacc))\n",
    "    #fold_train_bacc.append(train_bacc_scores)\n",
    "    fold_val_bacc.append(val_bacc_scores)"
   ]
  },
  {
   "cell_type": "code",
   "execution_count": 18,
   "metadata": {},
   "outputs": [
    {
     "name": "stdout",
     "output_type": "stream",
     "text": [
      "[[[0.77073232 0.82016667 0.7316449 ]\n",
      "  [0.77124748 0.76074876 0.75862805]\n",
      "  [0.75988701 0.76118935 0.76069278]\n",
      "  [0.76085267 0.76048265 0.76108138]\n",
      "  [0.76035533 0.76052673 0.75954823]\n",
      "  [0.76110214 0.76165362 0.76074162]]\n",
      "\n",
      " [[0.73269448 0.79511023 0.73772687]\n",
      "  [0.75844146 0.75871192 0.75880961]\n",
      "  [0.75895715 0.76031716 0.75688124]\n",
      "  [0.76013173 0.75892063 0.76003531]\n",
      "  [0.75945564 0.75988665 0.75983702]\n",
      "  [0.76034389 0.76009785 0.76034331]]]\n"
     ]
    }
   ],
   "source": [
    "a = np.mean(fold_val_bacc,axis=0)\n",
    "print(a.reshape(2,6,3))"
   ]
  },
  {
   "cell_type": "markdown",
   "metadata": {},
   "source": [
    "# N-grams experiment"
   ]
  },
  {
   "cell_type": "markdown",
   "metadata": {},
   "source": [
    "### Show amount of source IPs with more than 'threshold' flows"
   ]
  },
  {
   "cell_type": "code",
   "execution_count": 11,
   "metadata": {},
   "outputs": [
    {
     "name": "stdout",
     "output_type": "stream",
     "text": [
      "172.16.0.1        558298\n",
      "192.168.10.3      298975\n",
      "192.168.10.8      215273\n",
      "192.168.10.5      170102\n",
      "192.168.10.9      152531\n",
      "                   ...  \n",
      "23.211.102.137         3\n",
      "81.222.128.13          3\n",
      "27.221.30.47           3\n",
      "52.200.141.101         3\n",
      "54.88.226.64           3\n",
      "Name: Source IP, Length: 11634, dtype: int64\n"
     ]
    }
   ],
   "source": [
    "threshold = 2\n",
    "vc = df['Source IP'].value_counts()\n",
    "res = df[df['Source IP'].isin(vc[vc>threshold].index)]['Source IP'].value_counts()\n",
    "print(res)"
   ]
  },
  {
   "cell_type": "markdown",
   "metadata": {},
   "source": [
    "Threshold (#flows+1) | #Source IPs\n",
    "--- | ---\n",
    "0 | 17005\n",
    "1 | 14054\n",
    "2 | 11634\n",
    "3 | 10178"
   ]
  },
  {
   "cell_type": "markdown",
   "metadata": {},
   "source": [
    "### Transform interesting features to N-gram representation"
   ]
  },
  {
   "cell_type": "code",
   "execution_count": 14,
   "metadata": {
    "scrolled": true
   },
   "outputs": [
    {
     "name": "stdout",
     "output_type": "stream",
     "text": [
      "Progress: 11634/11634\r"
     ]
    }
   ],
   "source": [
    "#Per source IP, grab N-gram and transform numerical features into new\n",
    "#Done for bigrams and trigrams\n",
    "\n",
    "features = ['Flow Duration', 'Total Fwd Packets', 'Total Backward Packets', \\\n",
    "            'Total Length of Fwd Packets', 'Total Length of Bwd Packets', 'Fwd Packet Length Max', \\\n",
    "            'Fwd Packet Length Min', 'Bwd Packet Length Max', 'Bwd Packet Length Min', \\\n",
    "            'Flow Bytes/s', 'Flow Packets/s', 'Flow IAT Mean', 'Flow IAT Std', \\\n",
    "            'Flow IAT Max', 'Flow IAT Min']\n",
    "\n",
    "#Create/reset columns for n_gram features\n",
    "for feature in features:\n",
    "    column_mean = 'ngram_' + feature + '_mean'\n",
    "    column_std = 'ngram_' + feature + '_std'\n",
    "    if column_mean not in df.columns:\n",
    "        df[column_mean] = np.nan\n",
    "    if column_std not in df.columns:\n",
    "        df[column_std] = np.nan\n",
    "\n",
    "#List of ngram features\n",
    "featurelist = df.filter(regex='^ngram', axis=1).columns\n",
    "#Window size 2 = bigrams, 3 = trigrams\n",
    "winsize = 3\n",
    "#Window type\n",
    "indexer = pd.api.indexers.FixedForwardWindowIndexer(window_size=winsize)\n",
    "for itr, (srcIP, _) in enumerate(res.iteritems()):\n",
    "    sub_df = df[df['Source IP'] == srcIP]\n",
    "    for feature in features:\n",
    "        column_mean = 'ngram_' + feature + '_mean'\n",
    "        column_std = 'ngram_' + feature + '_std'\n",
    "        sub_df.loc[:,column_mean] = sub_df[feature].rolling(window=indexer, min_periods=winsize).mean()\n",
    "        sub_df.loc[:,column_std] = sub_df[feature].rolling(window=indexer, min_periods=winsize).std()\n",
    "    df.loc[:,featurelist] = df[featurelist].combine_first(sub_df[featurelist])\n",
    "    print('Progress: ' + str(itr+1) + '/' + str(len(res)), end='\\r')\n",
    "    \n",
    "    "
   ]
  },
  {
   "cell_type": "code",
   "execution_count": 15,
   "metadata": {},
   "outputs": [
    {
     "data": {
      "text/html": [
       "<div>\n",
       "<style scoped>\n",
       "    .dataframe tbody tr th:only-of-type {\n",
       "        vertical-align: middle;\n",
       "    }\n",
       "\n",
       "    .dataframe tbody tr th {\n",
       "        vertical-align: top;\n",
       "    }\n",
       "\n",
       "    .dataframe thead th {\n",
       "        text-align: right;\n",
       "    }\n",
       "</style>\n",
       "<table border=\"1\" class=\"dataframe\">\n",
       "  <thead>\n",
       "    <tr style=\"text-align: right;\">\n",
       "      <th></th>\n",
       "      <th>Flow ID</th>\n",
       "      <th>Source IP</th>\n",
       "      <th>Source Port</th>\n",
       "      <th>Destination IP</th>\n",
       "      <th>Destination Port</th>\n",
       "      <th>Protocol</th>\n",
       "      <th>Timestamp</th>\n",
       "      <th>Flow Duration</th>\n",
       "      <th>Total Fwd Packets</th>\n",
       "      <th>Total Backward Packets</th>\n",
       "      <th>...</th>\n",
       "      <th>ngram_Flow Packets/s_mean</th>\n",
       "      <th>ngram_Flow Packets/s_std</th>\n",
       "      <th>ngram_Flow IAT Mean_mean</th>\n",
       "      <th>ngram_Flow IAT Mean_std</th>\n",
       "      <th>ngram_Flow IAT Std_mean</th>\n",
       "      <th>ngram_Flow IAT Std_std</th>\n",
       "      <th>ngram_Flow IAT Max_mean</th>\n",
       "      <th>ngram_Flow IAT Max_std</th>\n",
       "      <th>ngram_Flow IAT Min_mean</th>\n",
       "      <th>ngram_Flow IAT Min_std</th>\n",
       "    </tr>\n",
       "  </thead>\n",
       "  <tbody>\n",
       "    <tr>\n",
       "      <th>896292</th>\n",
       "      <td>192.168.10.25-23.194.182.12-59385-443-6</td>\n",
       "      <td>192.168.10.25</td>\n",
       "      <td>59385.0</td>\n",
       "      <td>23.194.182.12</td>\n",
       "      <td>443.0</td>\n",
       "      <td>6.0</td>\n",
       "      <td>03/07/2017 01:00:01</td>\n",
       "      <td>83823.0</td>\n",
       "      <td>10.0</td>\n",
       "      <td>5.0</td>\n",
       "      <td>...</td>\n",
       "      <td>166726.342586</td>\n",
       "      <td>288623.467589</td>\n",
       "      <td>4.808416e+06</td>\n",
       "      <td>8.323232e+06</td>\n",
       "      <td>1.270680e+07</td>\n",
       "      <td>2.200088e+07</td>\n",
       "      <td>3.362363e+07</td>\n",
       "      <td>5.821747e+07</td>\n",
       "      <td>3.333333</td>\n",
       "      <td>0.577350</td>\n",
       "    </tr>\n",
       "    <tr>\n",
       "      <th>899991</th>\n",
       "      <td>192.168.10.1-192.168.10.3-53-61098-17</td>\n",
       "      <td>192.168.10.3</td>\n",
       "      <td>61098.0</td>\n",
       "      <td>192.168.10.1</td>\n",
       "      <td>53.0</td>\n",
       "      <td>17.0</td>\n",
       "      <td>03/07/2017 01:00:01</td>\n",
       "      <td>86739.0</td>\n",
       "      <td>1.0</td>\n",
       "      <td>1.0</td>\n",
       "      <td>...</td>\n",
       "      <td>47.112876</td>\n",
       "      <td>21.744539</td>\n",
       "      <td>5.171133e+04</td>\n",
       "      <td>3.054813e+04</td>\n",
       "      <td>0.000000e+00</td>\n",
       "      <td>0.000000e+00</td>\n",
       "      <td>5.171133e+04</td>\n",
       "      <td>3.054813e+04</td>\n",
       "      <td>51711.333333</td>\n",
       "      <td>30548.130652</td>\n",
       "    </tr>\n",
       "    <tr>\n",
       "      <th>896293</th>\n",
       "      <td>192.168.10.25-23.194.182.12-59385-443-6</td>\n",
       "      <td>23.194.182.12</td>\n",
       "      <td>443.0</td>\n",
       "      <td>192.168.10.25</td>\n",
       "      <td>59385.0</td>\n",
       "      <td>6.0</td>\n",
       "      <td>03/07/2017 01:00:01</td>\n",
       "      <td>3.0</td>\n",
       "      <td>2.0</td>\n",
       "      <td>0.0</td>\n",
       "      <td>...</td>\n",
       "      <td>448849.730788</td>\n",
       "      <td>377269.999691</td>\n",
       "      <td>3.983333e+01</td>\n",
       "      <td>6.379720e+01</td>\n",
       "      <td>3.276261e+01</td>\n",
       "      <td>5.674651e+01</td>\n",
       "      <td>6.300000e+01</td>\n",
       "      <td>1.039230e+02</td>\n",
       "      <td>16.666667</td>\n",
       "      <td>23.671361</td>\n",
       "    </tr>\n",
       "    <tr>\n",
       "      <th>1130417</th>\n",
       "      <td>192.168.10.3-192.168.10.25-53-51147-17</td>\n",
       "      <td>192.168.10.25</td>\n",
       "      <td>51147.0</td>\n",
       "      <td>192.168.10.3</td>\n",
       "      <td>53.0</td>\n",
       "      <td>17.0</td>\n",
       "      <td>03/07/2017 01:00:01</td>\n",
       "      <td>100934792.0</td>\n",
       "      <td>4.0</td>\n",
       "      <td>4.0</td>\n",
       "      <td>...</td>\n",
       "      <td>388888.915309</td>\n",
       "      <td>346944.288824</td>\n",
       "      <td>4.806421e+06</td>\n",
       "      <td>8.324959e+06</td>\n",
       "      <td>1.270374e+07</td>\n",
       "      <td>2.200353e+07</td>\n",
       "      <td>3.361579e+07</td>\n",
       "      <td>5.822426e+07</td>\n",
       "      <td>3.333333</td>\n",
       "      <td>0.577350</td>\n",
       "    </tr>\n",
       "    <tr>\n",
       "      <th>897095</th>\n",
       "      <td>8.0.6.4-8.6.0.1-0-0-0</td>\n",
       "      <td>8.6.0.1</td>\n",
       "      <td>0.0</td>\n",
       "      <td>8.0.6.4</td>\n",
       "      <td>0.0</td>\n",
       "      <td>0.0</td>\n",
       "      <td>03/07/2017 01:00:01</td>\n",
       "      <td>118699862.0</td>\n",
       "      <td>76.0</td>\n",
       "      <td>0.0</td>\n",
       "      <td>...</td>\n",
       "      <td>0.878880</td>\n",
       "      <td>0.207151</td>\n",
       "      <td>1.201286e+06</td>\n",
       "      <td>3.306139e+05</td>\n",
       "      <td>2.909551e+06</td>\n",
       "      <td>4.780802e+05</td>\n",
       "      <td>1.582930e+07</td>\n",
       "      <td>8.860682e+05</td>\n",
       "      <td>0.333333</td>\n",
       "      <td>0.577350</td>\n",
       "    </tr>\n",
       "    <tr>\n",
       "      <th>...</th>\n",
       "      <td>...</td>\n",
       "      <td>...</td>\n",
       "      <td>...</td>\n",
       "      <td>...</td>\n",
       "      <td>...</td>\n",
       "      <td>...</td>\n",
       "      <td>...</td>\n",
       "      <td>...</td>\n",
       "      <td>...</td>\n",
       "      <td>...</td>\n",
       "      <td>...</td>\n",
       "      <td>...</td>\n",
       "      <td>...</td>\n",
       "      <td>...</td>\n",
       "      <td>...</td>\n",
       "      <td>...</td>\n",
       "      <td>...</td>\n",
       "      <td>...</td>\n",
       "      <td>...</td>\n",
       "      <td>...</td>\n",
       "      <td>...</td>\n",
       "    </tr>\n",
       "    <tr>\n",
       "      <th>561076</th>\n",
       "      <td>192.168.10.5-72.247.71.166-50380-443-6</td>\n",
       "      <td>192.168.10.5</td>\n",
       "      <td>50380.0</td>\n",
       "      <td>72.247.71.166</td>\n",
       "      <td>443.0</td>\n",
       "      <td>6.0</td>\n",
       "      <td>7/7/2017 9:59</td>\n",
       "      <td>116344944.0</td>\n",
       "      <td>23.0</td>\n",
       "      <td>21.0</td>\n",
       "      <td>...</td>\n",
       "      <td>0.360725</td>\n",
       "      <td>0.089456</td>\n",
       "      <td>2.924479e+06</td>\n",
       "      <td>6.369627e+05</td>\n",
       "      <td>4.468447e+06</td>\n",
       "      <td>2.646083e+05</td>\n",
       "      <td>1.000000e+07</td>\n",
       "      <td>1.171004e+01</td>\n",
       "      <td>48.333333</td>\n",
       "      <td>80.274529</td>\n",
       "    </tr>\n",
       "    <tr>\n",
       "      <th>561075</th>\n",
       "      <td>192.168.10.5-23.203.114.64-50375-443-6</td>\n",
       "      <td>192.168.10.5</td>\n",
       "      <td>50375.0</td>\n",
       "      <td>23.203.114.64</td>\n",
       "      <td>443.0</td>\n",
       "      <td>6.0</td>\n",
       "      <td>7/7/2017 9:59</td>\n",
       "      <td>116435508.0</td>\n",
       "      <td>26.0</td>\n",
       "      <td>23.0</td>\n",
       "      <td>...</td>\n",
       "      <td>0.351643</td>\n",
       "      <td>0.088171</td>\n",
       "      <td>2.995580e+06</td>\n",
       "      <td>6.117358e+05</td>\n",
       "      <td>7.235976e+06</td>\n",
       "      <td>4.738977e+06</td>\n",
       "      <td>2.610000e+07</td>\n",
       "      <td>2.788602e+07</td>\n",
       "      <td>47.666667</td>\n",
       "      <td>80.845532</td>\n",
       "    </tr>\n",
       "    <tr>\n",
       "      <th>561074</th>\n",
       "      <td>172.217.10.46-192.168.10.5-80-50374-6</td>\n",
       "      <td>192.168.10.5</td>\n",
       "      <td>50374.0</td>\n",
       "      <td>172.217.10.46</td>\n",
       "      <td>80.0</td>\n",
       "      <td>6.0</td>\n",
       "      <td>7/7/2017 9:59</td>\n",
       "      <td>116543999.0</td>\n",
       "      <td>18.0</td>\n",
       "      <td>15.0</td>\n",
       "      <td>...</td>\n",
       "      <td>NaN</td>\n",
       "      <td>NaN</td>\n",
       "      <td>NaN</td>\n",
       "      <td>NaN</td>\n",
       "      <td>NaN</td>\n",
       "      <td>NaN</td>\n",
       "      <td>NaN</td>\n",
       "      <td>NaN</td>\n",
       "      <td>NaN</td>\n",
       "      <td>NaN</td>\n",
       "    </tr>\n",
       "    <tr>\n",
       "      <th>561084</th>\n",
       "      <td>172.217.10.4-192.168.10.5-443-50397-6</td>\n",
       "      <td>192.168.10.5</td>\n",
       "      <td>50397.0</td>\n",
       "      <td>172.217.10.4</td>\n",
       "      <td>443.0</td>\n",
       "      <td>6.0</td>\n",
       "      <td>7/7/2017 9:59</td>\n",
       "      <td>119678976.0</td>\n",
       "      <td>20.0</td>\n",
       "      <td>22.0</td>\n",
       "      <td>...</td>\n",
       "      <td>NaN</td>\n",
       "      <td>NaN</td>\n",
       "      <td>NaN</td>\n",
       "      <td>NaN</td>\n",
       "      <td>NaN</td>\n",
       "      <td>NaN</td>\n",
       "      <td>NaN</td>\n",
       "      <td>NaN</td>\n",
       "      <td>NaN</td>\n",
       "      <td>NaN</td>\n",
       "    </tr>\n",
       "    <tr>\n",
       "      <th>560643</th>\n",
       "      <td>192.168.10.1-192.168.10.3-53-61047-17</td>\n",
       "      <td>192.168.10.3</td>\n",
       "      <td>61047.0</td>\n",
       "      <td>192.168.10.1</td>\n",
       "      <td>53.0</td>\n",
       "      <td>17.0</td>\n",
       "      <td>7/7/2017 9:59</td>\n",
       "      <td>47928.0</td>\n",
       "      <td>1.0</td>\n",
       "      <td>1.0</td>\n",
       "      <td>...</td>\n",
       "      <td>NaN</td>\n",
       "      <td>NaN</td>\n",
       "      <td>NaN</td>\n",
       "      <td>NaN</td>\n",
       "      <td>NaN</td>\n",
       "      <td>NaN</td>\n",
       "      <td>NaN</td>\n",
       "      <td>NaN</td>\n",
       "      <td>NaN</td>\n",
       "      <td>NaN</td>\n",
       "    </tr>\n",
       "  </tbody>\n",
       "</table>\n",
       "<p>2829385 rows × 119 columns</p>\n",
       "</div>"
      ],
      "text/plain": [
       "                                         Flow ID      Source IP  Source Port  \\\n",
       "896292   192.168.10.25-23.194.182.12-59385-443-6  192.168.10.25      59385.0   \n",
       "899991     192.168.10.1-192.168.10.3-53-61098-17   192.168.10.3      61098.0   \n",
       "896293   192.168.10.25-23.194.182.12-59385-443-6  23.194.182.12        443.0   \n",
       "1130417   192.168.10.3-192.168.10.25-53-51147-17  192.168.10.25      51147.0   \n",
       "897095                     8.0.6.4-8.6.0.1-0-0-0        8.6.0.1          0.0   \n",
       "...                                          ...            ...          ...   \n",
       "561076    192.168.10.5-72.247.71.166-50380-443-6   192.168.10.5      50380.0   \n",
       "561075    192.168.10.5-23.203.114.64-50375-443-6   192.168.10.5      50375.0   \n",
       "561074     172.217.10.46-192.168.10.5-80-50374-6   192.168.10.5      50374.0   \n",
       "561084     172.217.10.4-192.168.10.5-443-50397-6   192.168.10.5      50397.0   \n",
       "560643     192.168.10.1-192.168.10.3-53-61047-17   192.168.10.3      61047.0   \n",
       "\n",
       "        Destination IP  Destination Port  Protocol            Timestamp  \\\n",
       "896292   23.194.182.12             443.0       6.0  03/07/2017 01:00:01   \n",
       "899991    192.168.10.1              53.0      17.0  03/07/2017 01:00:01   \n",
       "896293   192.168.10.25           59385.0       6.0  03/07/2017 01:00:01   \n",
       "1130417   192.168.10.3              53.0      17.0  03/07/2017 01:00:01   \n",
       "897095         8.0.6.4               0.0       0.0  03/07/2017 01:00:01   \n",
       "...                ...               ...       ...                  ...   \n",
       "561076   72.247.71.166             443.0       6.0        7/7/2017 9:59   \n",
       "561075   23.203.114.64             443.0       6.0        7/7/2017 9:59   \n",
       "561074   172.217.10.46              80.0       6.0        7/7/2017 9:59   \n",
       "561084    172.217.10.4             443.0       6.0        7/7/2017 9:59   \n",
       "560643    192.168.10.1              53.0      17.0        7/7/2017 9:59   \n",
       "\n",
       "         Flow Duration  Total Fwd Packets  Total Backward Packets  ...  \\\n",
       "896292         83823.0               10.0                     5.0  ...   \n",
       "899991         86739.0                1.0                     1.0  ...   \n",
       "896293             3.0                2.0                     0.0  ...   \n",
       "1130417    100934792.0                4.0                     4.0  ...   \n",
       "897095     118699862.0               76.0                     0.0  ...   \n",
       "...                ...                ...                     ...  ...   \n",
       "561076     116344944.0               23.0                    21.0  ...   \n",
       "561075     116435508.0               26.0                    23.0  ...   \n",
       "561074     116543999.0               18.0                    15.0  ...   \n",
       "561084     119678976.0               20.0                    22.0  ...   \n",
       "560643         47928.0                1.0                     1.0  ...   \n",
       "\n",
       "         ngram_Flow Packets/s_mean  ngram_Flow Packets/s_std  \\\n",
       "896292               166726.342586             288623.467589   \n",
       "899991                   47.112876                 21.744539   \n",
       "896293               448849.730788             377269.999691   \n",
       "1130417              388888.915309             346944.288824   \n",
       "897095                    0.878880                  0.207151   \n",
       "...                            ...                       ...   \n",
       "561076                    0.360725                  0.089456   \n",
       "561075                    0.351643                  0.088171   \n",
       "561074                         NaN                       NaN   \n",
       "561084                         NaN                       NaN   \n",
       "560643                         NaN                       NaN   \n",
       "\n",
       "         ngram_Flow IAT Mean_mean  ngram_Flow IAT Mean_std  \\\n",
       "896292               4.808416e+06             8.323232e+06   \n",
       "899991               5.171133e+04             3.054813e+04   \n",
       "896293               3.983333e+01             6.379720e+01   \n",
       "1130417              4.806421e+06             8.324959e+06   \n",
       "897095               1.201286e+06             3.306139e+05   \n",
       "...                           ...                      ...   \n",
       "561076               2.924479e+06             6.369627e+05   \n",
       "561075               2.995580e+06             6.117358e+05   \n",
       "561074                        NaN                      NaN   \n",
       "561084                        NaN                      NaN   \n",
       "560643                        NaN                      NaN   \n",
       "\n",
       "         ngram_Flow IAT Std_mean  ngram_Flow IAT Std_std  \\\n",
       "896292              1.270680e+07            2.200088e+07   \n",
       "899991              0.000000e+00            0.000000e+00   \n",
       "896293              3.276261e+01            5.674651e+01   \n",
       "1130417             1.270374e+07            2.200353e+07   \n",
       "897095              2.909551e+06            4.780802e+05   \n",
       "...                          ...                     ...   \n",
       "561076              4.468447e+06            2.646083e+05   \n",
       "561075              7.235976e+06            4.738977e+06   \n",
       "561074                       NaN                     NaN   \n",
       "561084                       NaN                     NaN   \n",
       "560643                       NaN                     NaN   \n",
       "\n",
       "         ngram_Flow IAT Max_mean  ngram_Flow IAT Max_std  \\\n",
       "896292              3.362363e+07            5.821747e+07   \n",
       "899991              5.171133e+04            3.054813e+04   \n",
       "896293              6.300000e+01            1.039230e+02   \n",
       "1130417             3.361579e+07            5.822426e+07   \n",
       "897095              1.582930e+07            8.860682e+05   \n",
       "...                          ...                     ...   \n",
       "561076              1.000000e+07            1.171004e+01   \n",
       "561075              2.610000e+07            2.788602e+07   \n",
       "561074                       NaN                     NaN   \n",
       "561084                       NaN                     NaN   \n",
       "560643                       NaN                     NaN   \n",
       "\n",
       "         ngram_Flow IAT Min_mean  ngram_Flow IAT Min_std  \n",
       "896292                  3.333333                0.577350  \n",
       "899991              51711.333333            30548.130652  \n",
       "896293                 16.666667               23.671361  \n",
       "1130417                 3.333333                0.577350  \n",
       "897095                  0.333333                0.577350  \n",
       "...                          ...                     ...  \n",
       "561076                 48.333333               80.274529  \n",
       "561075                 47.666667               80.845532  \n",
       "561074                       NaN                     NaN  \n",
       "561084                       NaN                     NaN  \n",
       "560643                       NaN                     NaN  \n",
       "\n",
       "[2829385 rows x 119 columns]"
      ]
     },
     "execution_count": 15,
     "metadata": {},
     "output_type": "execute_result"
    }
   ],
   "source": [
    "df"
   ]
  },
  {
   "cell_type": "markdown",
   "metadata": {},
   "source": [
    "### Save to feathered file"
   ]
  },
  {
   "cell_type": "code",
   "execution_count": 18,
   "metadata": {},
   "outputs": [],
   "source": [
    "df_feather_path = \"/mnt/h/CICIDS/2017/feather/trigram_feather\"\n",
    "df.reset_index().to_feather(df_feather_path)"
   ]
  },
  {
   "cell_type": "code",
   "execution_count": 6,
   "metadata": {},
   "outputs": [],
   "source": [
    "df_feather_path = \"/mnt/h/CICIDS/2017/feather/trigram_feather\"\n",
    "df = pd.read_feather(df_feather_path)"
   ]
  },
  {
   "cell_type": "markdown",
   "metadata": {},
   "source": [
    "## Build Random Forest with ngram features"
   ]
  },
  {
   "cell_type": "code",
   "execution_count": 7,
   "metadata": {},
   "outputs": [
    {
     "name": "stdout",
     "output_type": "stream",
     "text": [
      "(2794030, 120)\n",
      "Index(['ngram_Flow Duration_mean', 'ngram_Flow Duration_std',\n",
      "       'ngram_Total Fwd Packets_mean', 'ngram_Total Fwd Packets_std',\n",
      "       'ngram_Total Backward Packets_mean', 'ngram_Total Backward Packets_std',\n",
      "       'ngram_Total Length of Fwd Packets_mean',\n",
      "       'ngram_Total Length of Fwd Packets_std',\n",
      "       'ngram_Total Length of Bwd Packets_mean',\n",
      "       'ngram_Total Length of Bwd Packets_std',\n",
      "       'ngram_Fwd Packet Length Max_mean', 'ngram_Fwd Packet Length Max_std',\n",
      "       'ngram_Fwd Packet Length Min_mean', 'ngram_Fwd Packet Length Min_std',\n",
      "       'ngram_Bwd Packet Length Max_mean', 'ngram_Bwd Packet Length Max_std',\n",
      "       'ngram_Bwd Packet Length Min_mean', 'ngram_Bwd Packet Length Min_std',\n",
      "       'ngram_Flow Bytes/s_mean', 'ngram_Flow Bytes/s_std',\n",
      "       'ngram_Flow Packets/s_mean', 'ngram_Flow Packets/s_std',\n",
      "       'ngram_Flow IAT Mean_mean', 'ngram_Flow IAT Mean_std',\n",
      "       'ngram_Flow IAT Std_mean', 'ngram_Flow IAT Std_std',\n",
      "       'ngram_Flow IAT Max_mean', 'ngram_Flow IAT Max_std',\n",
      "       'ngram_Flow IAT Min_mean', 'ngram_Flow IAT Min_std'],\n",
      "      dtype='object')\n"
     ]
    }
   ],
   "source": [
    "#Drop rows without ngram features\n",
    "df.dropna(subset=df.filter(regex='^ngram', axis=1).columns, axis=0, how='any', inplace=True)\n",
    "print(df.shape)\n",
    "print(df.filter(regex='^ngram', axis=1).columns)"
   ]
  },
  {
   "cell_type": "code",
   "execution_count": 10,
   "metadata": {},
   "outputs": [],
   "source": [
    "# Compare ngram feature set to normal feature set\n",
    "features = df.filter(regex='^ngram', axis=1).columns\n",
    "#features = ['Flow Duration', 'Total Fwd Packets', 'Total Backward Packets', \\\n",
    "#            'Total Length of Fwd Packets', 'Total Length of Bwd Packets', 'Fwd Packet Length Max', \\\n",
    "#            'Fwd Packet Length Min', 'Bwd Packet Length Max', 'Bwd Packet Length Min', \\\n",
    "#            'Flow Bytes/s', 'Flow Packets/s', 'Flow IAT Mean', 'Flow IAT Std', \\\n",
    "#            'Flow IAT Max', 'Flow IAT Min']\n",
    "features = features.append(df[['Source Port', 'Destination Port']].columns)\n",
    "\n",
    "label = 'BinLabel'\n",
    "skf = StratifiedKFold(n_splits=5)"
   ]
  },
  {
   "cell_type": "code",
   "execution_count": 11,
   "metadata": {
    "scrolled": true
   },
   "outputs": [
    {
     "name": "stdout",
     "output_type": "stream",
     "text": [
      "TRAIN: 2235224 TEST: 558806\n"
     ]
    },
    {
     "name": "stderr",
     "output_type": "stream",
     "text": [
      "[Parallel(n_jobs=5)]: Using backend ThreadingBackend with 5 concurrent workers.\n"
     ]
    },
    {
     "name": "stdout",
     "output_type": "stream",
     "text": [
      "building tree 1 of 100building tree 2 of 100building tree 3 of 100building tree 4 of 100\n",
      "\n",
      "\n",
      "building tree 5 of 100\n",
      "\n",
      "building tree 6 of 100\n",
      "building tree 7 of 100\n",
      "building tree 8 of 100\n",
      "building tree 9 of 100\n",
      "building tree 10 of 100\n",
      "building tree 11 of 100\n",
      "building tree 12 of 100\n",
      "building tree 13 of 100\n"
     ]
    },
    {
     "name": "stderr",
     "output_type": "stream",
     "text": [
      "[Parallel(n_jobs=5)]: Done   8 tasks      | elapsed:   15.3s\n"
     ]
    },
    {
     "name": "stdout",
     "output_type": "stream",
     "text": [
      "building tree 14 of 100\n",
      "building tree 15 of 100\n",
      "building tree 16 of 100\n",
      "building tree 17 of 100\n",
      "building tree 18 of 100\n",
      "building tree 19 of 100\n",
      "building tree 20 of 100\n",
      "building tree 21 of 100\n",
      "building tree 22 of 100\n",
      "building tree 23 of 100\n",
      "building tree 24 of 100\n",
      "building tree 25 of 100\n",
      "building tree 26 of 100\n",
      "building tree 27 of 100\n"
     ]
    },
    {
     "name": "stderr",
     "output_type": "stream",
     "text": [
      "[Parallel(n_jobs=5)]: Done  22 tasks      | elapsed:   37.9s\n"
     ]
    },
    {
     "name": "stdout",
     "output_type": "stream",
     "text": [
      "building tree 28 of 100\n",
      "building tree 29 of 100\n",
      "building tree 30 of 100\n",
      "building tree 31 of 100\n",
      "building tree 32 of 100\n",
      "building tree 33 of 100\n",
      "building tree 34 of 100\n",
      "building tree 35 of 100\n",
      "building tree 36 of 100\n",
      "building tree 37 of 100\n",
      "building tree 38 of 100\n",
      "building tree 39 of 100\n",
      "building tree 40 of 100\n",
      "building tree 41 of 100\n",
      "building tree 42 of 100\n",
      "building tree 43 of 100\n",
      "building tree 44 of 100\n",
      "building tree 45 of 100\n"
     ]
    },
    {
     "name": "stderr",
     "output_type": "stream",
     "text": [
      "[Parallel(n_jobs=5)]: Done  40 tasks      | elapsed:  1.1min\n"
     ]
    },
    {
     "name": "stdout",
     "output_type": "stream",
     "text": [
      "building tree 46 of 100\n",
      "building tree 47 of 100\n",
      "building tree 48 of 100\n",
      "building tree 49 of 100\n",
      "building tree 50 of 100\n",
      "building tree 51 of 100\n",
      "building tree 52 of 100\n",
      "building tree 53 of 100\n",
      "building tree 54 of 100\n",
      "building tree 55 of 100\n",
      "building tree 56 of 100\n",
      "building tree 57 of 100\n",
      "building tree 58 of 100\n",
      "building tree 59 of 100\n",
      "building tree 60 of 100\n",
      "building tree 61 of 100\n",
      "building tree 62 of 100\n",
      "building tree 63 of 100\n",
      "building tree 64 of 100\n",
      "building tree 65 of 100\n",
      "building tree 66 of 100\n",
      "building tree 67 of 100\n"
     ]
    },
    {
     "name": "stderr",
     "output_type": "stream",
     "text": [
      "[Parallel(n_jobs=5)]: Done  62 tasks      | elapsed:  1.7min\n"
     ]
    },
    {
     "name": "stdout",
     "output_type": "stream",
     "text": [
      "building tree 68 of 100\n",
      "building tree 69 of 100\n",
      "building tree 70 of 100\n",
      "building tree 71 of 100\n",
      "building tree 72 of 100\n",
      "building tree 73 of 100\n",
      "building tree 74 of 100\n",
      "building tree 75 of 100\n",
      "building tree 76 of 100\n",
      "building tree 77 of 100\n",
      "building tree 78 of 100\n",
      "building tree 79 of 100\n",
      "building tree 80 of 100\n",
      "building tree 81 of 100\n",
      "building tree 82 of 100\n",
      "building tree 83 of 100\n",
      "building tree 84 of 100\n",
      "building tree 85 of 100\n",
      "building tree 86 of 100\n",
      "building tree 87 of 100\n",
      "building tree 88 of 100\n",
      "building tree 89 of 100\n",
      "building tree 90 of 100\n",
      "building tree 91 of 100\n",
      "building tree 92 of 100\n",
      "building tree 93 of 100\n"
     ]
    },
    {
     "name": "stderr",
     "output_type": "stream",
     "text": [
      "[Parallel(n_jobs=5)]: Done  88 tasks      | elapsed:  2.4min\n"
     ]
    },
    {
     "name": "stdout",
     "output_type": "stream",
     "text": [
      "building tree 94 of 100\n",
      "building tree 95 of 100\n",
      "building tree 96 of 100\n",
      "building tree 97 of 100\n",
      "building tree 98 of 100\n",
      "building tree 99 of 100\n",
      "building tree 100 of 100\n"
     ]
    },
    {
     "name": "stderr",
     "output_type": "stream",
     "text": [
      "[Parallel(n_jobs=5)]: Done 100 out of 100 | elapsed:  2.7min finished\n",
      "[Parallel(n_jobs=5)]: Using backend ThreadingBackend with 5 concurrent workers.\n",
      "[Parallel(n_jobs=5)]: Done   8 tasks      | elapsed:    0.1s\n",
      "[Parallel(n_jobs=5)]: Done  22 tasks      | elapsed:    0.1s\n",
      "[Parallel(n_jobs=5)]: Done  40 tasks      | elapsed:    0.2s\n",
      "[Parallel(n_jobs=5)]: Done  62 tasks      | elapsed:    0.4s\n",
      "[Parallel(n_jobs=5)]: Done  88 tasks      | elapsed:    0.5s\n",
      "[Parallel(n_jobs=5)]: Done 100 out of 100 | elapsed:    0.6s finished\n"
     ]
    },
    {
     "name": "stdout",
     "output_type": "stream",
     "text": [
      "TRAIN: 2235224 TEST: 558806\n"
     ]
    },
    {
     "name": "stderr",
     "output_type": "stream",
     "text": [
      "[Parallel(n_jobs=5)]: Using backend ThreadingBackend with 5 concurrent workers.\n"
     ]
    },
    {
     "name": "stdout",
     "output_type": "stream",
     "text": [
      "building tree 1 of 100building tree 2 of 100building tree 3 of 100building tree 4 of 100\n",
      "\n",
      "\n",
      "\n",
      "building tree 5 of 100\n",
      "building tree 6 of 100\n",
      "building tree 7 of 100\n",
      "building tree 8 of 100\n",
      "building tree 9 of 100\n",
      "building tree 10 of 100\n",
      "building tree 11 of 100\n",
      "building tree 12 of 100\n",
      "building tree 13 of 100\n"
     ]
    },
    {
     "name": "stderr",
     "output_type": "stream",
     "text": [
      "[Parallel(n_jobs=5)]: Done   8 tasks      | elapsed:   16.2s\n"
     ]
    },
    {
     "name": "stdout",
     "output_type": "stream",
     "text": [
      "building tree 14 of 100\n",
      "building tree 15 of 100\n",
      "building tree 16 of 100\n",
      "building tree 17 of 100\n",
      "building tree 18 of 100\n",
      "building tree 19 of 100\n",
      "building tree 20 of 100\n",
      "building tree 21 of 100\n",
      "building tree 22 of 100\n",
      "building tree 23 of 100\n",
      "building tree 24 of 100\n",
      "building tree 25 of 100\n",
      "building tree 26 of 100\n",
      "building tree 27 of 100\n",
      "building tree 28 of 100\n"
     ]
    },
    {
     "name": "stderr",
     "output_type": "stream",
     "text": [
      "[Parallel(n_jobs=5)]: Done  22 tasks      | elapsed:   43.3s\n"
     ]
    },
    {
     "name": "stdout",
     "output_type": "stream",
     "text": [
      "building tree 29 of 100\n",
      "building tree 30 of 100\n",
      "building tree 31 of 100\n",
      "building tree 32 of 100\n",
      "building tree 33 of 100\n",
      "building tree 34 of 100\n",
      "building tree 35 of 100\n",
      "building tree 36 of 100\n",
      "building tree 37 of 100\n",
      "building tree 38 of 100\n",
      "building tree 39 of 100\n",
      "building tree 40 of 100\n",
      "building tree 41 of 100\n",
      "building tree 42 of 100\n",
      "building tree 43 of 100\n",
      "building tree 44 of 100\n",
      "building tree 45 of 100\n"
     ]
    },
    {
     "name": "stderr",
     "output_type": "stream",
     "text": [
      "[Parallel(n_jobs=5)]: Done  40 tasks      | elapsed:  1.2min\n"
     ]
    },
    {
     "name": "stdout",
     "output_type": "stream",
     "text": [
      "building tree 46 of 100\n",
      "building tree 47 of 100\n",
      "building tree 48 of 100\n",
      "building tree 49 of 100\n",
      "building tree 50 of 100\n",
      "building tree 51 of 100\n",
      "building tree 52 of 100\n",
      "building tree 53 of 100\n",
      "building tree 54 of 100\n",
      "building tree 55 of 100\n",
      "building tree 56 of 100\n",
      "building tree 57 of 100\n",
      "building tree 58 of 100\n",
      "building tree 59 of 100\n",
      "building tree 60 of 100\n",
      "building tree 61 of 100\n",
      "building tree 62 of 100\n",
      "building tree 63 of 100\n",
      "building tree 64 of 100\n",
      "building tree 65 of 100\n",
      "building tree 66 of 100\n",
      "building tree 67 of 100\n",
      "building tree 68 of 100\n"
     ]
    },
    {
     "name": "stderr",
     "output_type": "stream",
     "text": [
      "[Parallel(n_jobs=5)]: Done  62 tasks      | elapsed:  1.8min\n"
     ]
    },
    {
     "name": "stdout",
     "output_type": "stream",
     "text": [
      "building tree 69 of 100\n",
      "building tree 70 of 100\n",
      "building tree 71 of 100\n",
      "building tree 72 of 100\n",
      "building tree 73 of 100\n",
      "building tree 74 of 100\n",
      "building tree 75 of 100\n",
      "building tree 76 of 100\n",
      "building tree 77 of 100\n",
      "building tree 78 of 100\n",
      "building tree 79 of 100\n",
      "building tree 80 of 100\n",
      "building tree 81 of 100\n",
      "building tree 82 of 100\n",
      "building tree 83 of 100\n",
      "building tree 84 of 100\n",
      "building tree 85 of 100\n",
      "building tree 86 of 100\n",
      "building tree 87 of 100\n",
      "building tree 88 of 100\n",
      "building tree 89 of 100\n",
      "building tree 90 of 100\n",
      "building tree 91 of 100\n",
      "building tree 92 of 100\n",
      "building tree 93 of 100\n"
     ]
    },
    {
     "name": "stderr",
     "output_type": "stream",
     "text": [
      "[Parallel(n_jobs=5)]: Done  88 tasks      | elapsed:  2.5min\n"
     ]
    },
    {
     "name": "stdout",
     "output_type": "stream",
     "text": [
      "building tree 94 of 100\n",
      "building tree 95 of 100\n",
      "building tree 96 of 100\n",
      "building tree 97 of 100\n",
      "building tree 98 of 100\n",
      "building tree 99 of 100\n",
      "building tree 100 of 100\n"
     ]
    },
    {
     "name": "stderr",
     "output_type": "stream",
     "text": [
      "[Parallel(n_jobs=5)]: Done 100 out of 100 | elapsed:  2.8min finished\n",
      "[Parallel(n_jobs=5)]: Using backend ThreadingBackend with 5 concurrent workers.\n",
      "[Parallel(n_jobs=5)]: Done   8 tasks      | elapsed:    0.1s\n",
      "[Parallel(n_jobs=5)]: Done  22 tasks      | elapsed:    0.1s\n",
      "[Parallel(n_jobs=5)]: Done  40 tasks      | elapsed:    0.3s\n",
      "[Parallel(n_jobs=5)]: Done  62 tasks      | elapsed:    0.4s\n",
      "[Parallel(n_jobs=5)]: Done  88 tasks      | elapsed:    0.6s\n",
      "[Parallel(n_jobs=5)]: Done 100 out of 100 | elapsed:    0.6s finished\n"
     ]
    },
    {
     "name": "stdout",
     "output_type": "stream",
     "text": [
      "TRAIN: 2235224 TEST: 558806\n"
     ]
    },
    {
     "name": "stderr",
     "output_type": "stream",
     "text": [
      "[Parallel(n_jobs=5)]: Using backend ThreadingBackend with 5 concurrent workers.\n"
     ]
    },
    {
     "name": "stdout",
     "output_type": "stream",
     "text": [
      "building tree 1 of 100\n",
      "building tree 2 of 100building tree 3 of 100\n",
      "\n",
      "building tree 4 of 100building tree 5 of 100\n",
      "\n",
      "building tree 6 of 100\n",
      "building tree 7 of 100\n",
      "building tree 8 of 100\n",
      "building tree 9 of 100\n",
      "building tree 10 of 100\n",
      "building tree 11 of 100\n",
      "building tree 12 of 100\n",
      "building tree 13 of 100\n",
      "building tree 14 of 100\n"
     ]
    },
    {
     "name": "stderr",
     "output_type": "stream",
     "text": [
      "[Parallel(n_jobs=5)]: Done   8 tasks      | elapsed:   16.4s\n"
     ]
    },
    {
     "name": "stdout",
     "output_type": "stream",
     "text": [
      "building tree 15 of 100\n",
      "building tree 16 of 100\n",
      "building tree 17 of 100\n",
      "building tree 18 of 100\n",
      "building tree 19 of 100\n",
      "building tree 20 of 100\n",
      "building tree 21 of 100\n",
      "building tree 22 of 100\n",
      "building tree 23 of 100\n",
      "building tree 24 of 100\n",
      "building tree 25 of 100\n",
      "building tree 26 of 100\n",
      "building tree 27 of 100\n",
      "building tree 28 of 100\n"
     ]
    },
    {
     "name": "stderr",
     "output_type": "stream",
     "text": [
      "[Parallel(n_jobs=5)]: Done  22 tasks      | elapsed:   37.9s\n"
     ]
    },
    {
     "name": "stdout",
     "output_type": "stream",
     "text": [
      "building tree 29 of 100\n",
      "building tree 30 of 100\n",
      "building tree 31 of 100\n",
      "building tree 32 of 100\n",
      "building tree 33 of 100\n",
      "building tree 34 of 100\n",
      "building tree 35 of 100\n",
      "building tree 36 of 100\n",
      "building tree 37 of 100\n",
      "building tree 38 of 100\n",
      "building tree 39 of 100\n",
      "building tree 40 of 100\n",
      "building tree 41 of 100\n",
      "building tree 42 of 100\n",
      "building tree 43 of 100\n",
      "building tree 44 of 100\n",
      "building tree 45 of 100\n"
     ]
    },
    {
     "name": "stderr",
     "output_type": "stream",
     "text": [
      "[Parallel(n_jobs=5)]: Done  40 tasks      | elapsed:  1.1min\n"
     ]
    },
    {
     "name": "stdout",
     "output_type": "stream",
     "text": [
      "building tree 46 of 100\n",
      "building tree 47 of 100\n",
      "building tree 48 of 100\n",
      "building tree 49 of 100\n",
      "building tree 50 of 100\n",
      "building tree 51 of 100\n",
      "building tree 52 of 100\n",
      "building tree 53 of 100\n",
      "building tree 54 of 100\n",
      "building tree 55 of 100\n",
      "building tree 56 of 100\n",
      "building tree 57 of 100\n",
      "building tree 58 of 100\n",
      "building tree 59 of 100\n",
      "building tree 60 of 100\n",
      "building tree 61 of 100\n",
      "building tree 62 of 100\n",
      "building tree 63 of 100\n",
      "building tree 64 of 100\n",
      "building tree 65 of 100\n",
      "building tree 66 of 100\n",
      "building tree 67 of 100\n"
     ]
    },
    {
     "name": "stderr",
     "output_type": "stream",
     "text": [
      "[Parallel(n_jobs=5)]: Done  62 tasks      | elapsed:  1.7min\n"
     ]
    },
    {
     "name": "stdout",
     "output_type": "stream",
     "text": [
      "building tree 68 of 100\n",
      "building tree 69 of 100\n",
      "building tree 70 of 100\n",
      "building tree 71 of 100\n",
      "building tree 72 of 100\n",
      "building tree 73 of 100\n",
      "building tree 74 of 100\n",
      "building tree 75 of 100\n",
      "building tree 76 of 100\n",
      "building tree 77 of 100\n",
      "building tree 78 of 100\n",
      "building tree 79 of 100\n",
      "building tree 80 of 100\n",
      "building tree 81 of 100\n",
      "building tree 82 of 100\n",
      "building tree 83 of 100\n",
      "building tree 84 of 100\n",
      "building tree 85 of 100\n",
      "building tree 86 of 100\n",
      "building tree 87 of 100\n",
      "building tree 88 of 100\n",
      "building tree 89 of 100\n",
      "building tree 90 of 100\n",
      "building tree 91 of 100\n",
      "building tree 92 of 100\n",
      "building tree 93 of 100\n"
     ]
    },
    {
     "name": "stderr",
     "output_type": "stream",
     "text": [
      "[Parallel(n_jobs=5)]: Done  88 tasks      | elapsed:  2.3min\n"
     ]
    },
    {
     "name": "stdout",
     "output_type": "stream",
     "text": [
      "building tree 94 of 100\n",
      "building tree 95 of 100\n",
      "building tree 96 of 100\n",
      "building tree 97 of 100\n",
      "building tree 98 of 100\n",
      "building tree 99 of 100\n",
      "building tree 100 of 100\n"
     ]
    },
    {
     "name": "stderr",
     "output_type": "stream",
     "text": [
      "[Parallel(n_jobs=5)]: Done 100 out of 100 | elapsed:  2.6min finished\n",
      "[Parallel(n_jobs=5)]: Using backend ThreadingBackend with 5 concurrent workers.\n",
      "[Parallel(n_jobs=5)]: Done   8 tasks      | elapsed:    0.1s\n",
      "[Parallel(n_jobs=5)]: Done  22 tasks      | elapsed:    0.1s\n",
      "[Parallel(n_jobs=5)]: Done  40 tasks      | elapsed:    0.3s\n",
      "[Parallel(n_jobs=5)]: Done  62 tasks      | elapsed:    0.4s\n",
      "[Parallel(n_jobs=5)]: Done  88 tasks      | elapsed:    0.5s\n",
      "[Parallel(n_jobs=5)]: Done 100 out of 100 | elapsed:    0.6s finished\n"
     ]
    },
    {
     "name": "stdout",
     "output_type": "stream",
     "text": [
      "TRAIN: 2235224 TEST: 558806\n"
     ]
    },
    {
     "name": "stderr",
     "output_type": "stream",
     "text": [
      "[Parallel(n_jobs=5)]: Using backend ThreadingBackend with 5 concurrent workers.\n"
     ]
    },
    {
     "name": "stdout",
     "output_type": "stream",
     "text": [
      "building tree 1 of 100building tree 2 of 100building tree 3 of 100\n",
      "\n",
      "building tree 4 of 100\n",
      "\n",
      "building tree 5 of 100\n",
      "building tree 6 of 100\n",
      "building tree 7 of 100\n",
      "building tree 8 of 100\n",
      "building tree 9 of 100\n",
      "building tree 10 of 100\n",
      "building tree 11 of 100\n",
      "building tree 12 of 100\n",
      "building tree 13 of 100\n"
     ]
    },
    {
     "name": "stderr",
     "output_type": "stream",
     "text": [
      "[Parallel(n_jobs=5)]: Done   8 tasks      | elapsed:   14.2s\n"
     ]
    },
    {
     "name": "stdout",
     "output_type": "stream",
     "text": [
      "building tree 14 of 100\n",
      "building tree 15 of 100\n",
      "building tree 16 of 100\n",
      "building tree 17 of 100\n",
      "building tree 18 of 100\n",
      "building tree 19 of 100\n",
      "building tree 20 of 100\n",
      "building tree 21 of 100\n",
      "building tree 22 of 100\n",
      "building tree 23 of 100\n",
      "building tree 24 of 100\n",
      "building tree 25 of 100\n",
      "building tree 26 of 100\n",
      "building tree 27 of 100\n"
     ]
    },
    {
     "name": "stderr",
     "output_type": "stream",
     "text": [
      "[Parallel(n_jobs=5)]: Done  22 tasks      | elapsed:   35.5s\n"
     ]
    },
    {
     "name": "stdout",
     "output_type": "stream",
     "text": [
      "building tree 28 of 100\n",
      "building tree 29 of 100\n",
      "building tree 30 of 100\n",
      "building tree 31 of 100\n",
      "building tree 32 of 100\n",
      "building tree 33 of 100\n",
      "building tree 34 of 100\n",
      "building tree 35 of 100\n",
      "building tree 36 of 100\n",
      "building tree 37 of 100\n",
      "building tree 38 of 100\n",
      "building tree 39 of 100\n",
      "building tree 40 of 100\n",
      "building tree 41 of 100\n",
      "building tree 42 of 100\n",
      "building tree 43 of 100\n",
      "building tree 44 of 100\n",
      "building tree 45 of 100\n"
     ]
    },
    {
     "name": "stderr",
     "output_type": "stream",
     "text": [
      "[Parallel(n_jobs=5)]: Done  40 tasks      | elapsed:  1.1min\n"
     ]
    },
    {
     "name": "stdout",
     "output_type": "stream",
     "text": [
      "building tree 46 of 100\n",
      "building tree 47 of 100\n",
      "building tree 48 of 100\n",
      "building tree 49 of 100\n",
      "building tree 50 of 100\n",
      "building tree 51 of 100\n",
      "building tree 52 of 100\n",
      "building tree 53 of 100\n",
      "building tree 54 of 100\n",
      "building tree 55 of 100\n",
      "building tree 56 of 100\n",
      "building tree 57 of 100\n",
      "building tree 58 of 100\n",
      "building tree 59 of 100\n",
      "building tree 60 of 100\n",
      "building tree 61 of 100\n",
      "building tree 62 of 100\n",
      "building tree 63 of 100\n",
      "building tree 64 of 100\n",
      "building tree 65 of 100\n",
      "building tree 66 of 100\n",
      "building tree 67 of 100\n"
     ]
    },
    {
     "name": "stderr",
     "output_type": "stream",
     "text": [
      "[Parallel(n_jobs=5)]: Done  62 tasks      | elapsed:  1.7min\n"
     ]
    },
    {
     "name": "stdout",
     "output_type": "stream",
     "text": [
      "building tree 68 of 100\n",
      "building tree 69 of 100\n",
      "building tree 70 of 100\n",
      "building tree 71 of 100\n",
      "building tree 72 of 100\n",
      "building tree 73 of 100\n",
      "building tree 74 of 100\n",
      "building tree 75 of 100\n",
      "building tree 76 of 100\n",
      "building tree 77 of 100\n",
      "building tree 78 of 100\n",
      "building tree 79 of 100\n",
      "building tree 80 of 100\n",
      "building tree 81 of 100\n",
      "building tree 82 of 100\n",
      "building tree 83 of 100\n",
      "building tree 84 of 100\n",
      "building tree 85 of 100\n",
      "building tree 86 of 100\n",
      "building tree 87 of 100\n",
      "building tree 88 of 100\n",
      "building tree 89 of 100\n",
      "building tree 90 of 100\n",
      "building tree 91 of 100\n",
      "building tree 92 of 100\n",
      "building tree 93 of 100\n",
      "building tree 94 of 100\n"
     ]
    },
    {
     "name": "stderr",
     "output_type": "stream",
     "text": [
      "[Parallel(n_jobs=5)]: Done  88 tasks      | elapsed:  2.5min\n"
     ]
    },
    {
     "name": "stdout",
     "output_type": "stream",
     "text": [
      "building tree 95 of 100\n",
      "building tree 96 of 100\n",
      "building tree 97 of 100\n",
      "building tree 98 of 100\n",
      "building tree 99 of 100\n",
      "building tree 100 of 100\n"
     ]
    },
    {
     "name": "stderr",
     "output_type": "stream",
     "text": [
      "[Parallel(n_jobs=5)]: Done 100 out of 100 | elapsed:  2.7min finished\n",
      "[Parallel(n_jobs=5)]: Using backend ThreadingBackend with 5 concurrent workers.\n",
      "[Parallel(n_jobs=5)]: Done   8 tasks      | elapsed:    0.1s\n",
      "[Parallel(n_jobs=5)]: Done  22 tasks      | elapsed:    0.1s\n",
      "[Parallel(n_jobs=5)]: Done  40 tasks      | elapsed:    0.2s\n",
      "[Parallel(n_jobs=5)]: Done  62 tasks      | elapsed:    0.4s\n",
      "[Parallel(n_jobs=5)]: Done  88 tasks      | elapsed:    0.5s\n",
      "[Parallel(n_jobs=5)]: Done 100 out of 100 | elapsed:    0.6s finished\n"
     ]
    },
    {
     "name": "stdout",
     "output_type": "stream",
     "text": [
      "TRAIN: 2235224 TEST: 558806\n"
     ]
    },
    {
     "name": "stderr",
     "output_type": "stream",
     "text": [
      "[Parallel(n_jobs=5)]: Using backend ThreadingBackend with 5 concurrent workers.\n"
     ]
    },
    {
     "name": "stdout",
     "output_type": "stream",
     "text": [
      "building tree 1 of 100building tree 2 of 100building tree 3 of 100\n",
      "\n",
      "building tree 4 of 100\n",
      "\n",
      "building tree 5 of 100\n",
      "building tree 6 of 100\n",
      "building tree 7 of 100\n",
      "building tree 8 of 100\n",
      "building tree 9 of 100\n",
      "building tree 10 of 100\n",
      "building tree 11 of 100\n",
      "building tree 12 of 100\n",
      "building tree 13 of 100\n"
     ]
    },
    {
     "name": "stderr",
     "output_type": "stream",
     "text": [
      "[Parallel(n_jobs=5)]: Done   8 tasks      | elapsed:   15.4s\n"
     ]
    },
    {
     "name": "stdout",
     "output_type": "stream",
     "text": [
      "building tree 14 of 100\n",
      "building tree 15 of 100\n",
      "building tree 16 of 100\n",
      "building tree 17 of 100\n",
      "building tree 18 of 100\n",
      "building tree 19 of 100\n",
      "building tree 20 of 100\n",
      "building tree 21 of 100\n",
      "building tree 22 of 100\n",
      "building tree 23 of 100\n",
      "building tree 24 of 100\n",
      "building tree 25 of 100\n",
      "building tree 26 of 100\n",
      "building tree 27 of 100\n"
     ]
    },
    {
     "name": "stderr",
     "output_type": "stream",
     "text": [
      "[Parallel(n_jobs=5)]: Done  22 tasks      | elapsed:   39.4s\n"
     ]
    },
    {
     "name": "stdout",
     "output_type": "stream",
     "text": [
      "building tree 28 of 100\n",
      "building tree 29 of 100\n",
      "building tree 30 of 100\n",
      "building tree 31 of 100\n",
      "building tree 32 of 100\n",
      "building tree 33 of 100\n",
      "building tree 34 of 100\n",
      "building tree 35 of 100\n",
      "building tree 36 of 100\n",
      "building tree 37 of 100\n",
      "building tree 38 of 100\n",
      "building tree 39 of 100\n",
      "building tree 40 of 100\n",
      "building tree 41 of 100\n",
      "building tree 42 of 100\n",
      "building tree 43 of 100\n",
      "building tree 44 of 100\n",
      "building tree 45 of 100\n"
     ]
    },
    {
     "name": "stderr",
     "output_type": "stream",
     "text": [
      "[Parallel(n_jobs=5)]: Done  40 tasks      | elapsed:  1.1min\n"
     ]
    },
    {
     "name": "stdout",
     "output_type": "stream",
     "text": [
      "building tree 46 of 100\n",
      "building tree 47 of 100\n",
      "building tree 48 of 100\n",
      "building tree 49 of 100\n",
      "building tree 50 of 100\n",
      "building tree 51 of 100\n",
      "building tree 52 of 100\n",
      "building tree 53 of 100\n",
      "building tree 54 of 100\n",
      "building tree 55 of 100\n",
      "building tree 56 of 100\n",
      "building tree 57 of 100\n",
      "building tree 58 of 100\n",
      "building tree 59 of 100\n",
      "building tree 60 of 100\n",
      "building tree 61 of 100\n",
      "building tree 62 of 100\n",
      "building tree 63 of 100\n",
      "building tree 64 of 100\n",
      "building tree 65 of 100\n",
      "building tree 66 of 100\n",
      "building tree 67 of 100\n"
     ]
    },
    {
     "name": "stderr",
     "output_type": "stream",
     "text": [
      "[Parallel(n_jobs=5)]: Done  62 tasks      | elapsed:  1.8min\n"
     ]
    },
    {
     "name": "stdout",
     "output_type": "stream",
     "text": [
      "building tree 68 of 100\n",
      "building tree 69 of 100\n",
      "building tree 70 of 100\n",
      "building tree 71 of 100\n",
      "building tree 72 of 100\n",
      "building tree 73 of 100\n",
      "building tree 74 of 100\n",
      "building tree 75 of 100\n",
      "building tree 76 of 100\n",
      "building tree 77 of 100\n",
      "building tree 78 of 100\n",
      "building tree 79 of 100\n",
      "building tree 80 of 100\n",
      "building tree 81 of 100\n",
      "building tree 82 of 100\n",
      "building tree 83 of 100\n",
      "building tree 84 of 100\n",
      "building tree 85 of 100\n",
      "building tree 86 of 100\n",
      "building tree 87 of 100\n",
      "building tree 88 of 100\n",
      "building tree 89 of 100\n",
      "building tree 90 of 100\n",
      "building tree 91 of 100\n",
      "building tree 92 of 100\n",
      "building tree 93 of 100\n"
     ]
    },
    {
     "name": "stderr",
     "output_type": "stream",
     "text": [
      "[Parallel(n_jobs=5)]: Done  88 tasks      | elapsed:  2.6min\n"
     ]
    },
    {
     "name": "stdout",
     "output_type": "stream",
     "text": [
      "building tree 94 of 100\n",
      "building tree 95 of 100\n",
      "building tree 96 of 100\n",
      "building tree 97 of 100\n",
      "building tree 98 of 100\n",
      "building tree 99 of 100\n",
      "building tree 100 of 100\n"
     ]
    },
    {
     "name": "stderr",
     "output_type": "stream",
     "text": [
      "[Parallel(n_jobs=5)]: Done 100 out of 100 | elapsed:  3.0min finished\n",
      "[Parallel(n_jobs=5)]: Using backend ThreadingBackend with 5 concurrent workers.\n",
      "[Parallel(n_jobs=5)]: Done   8 tasks      | elapsed:    0.1s\n",
      "[Parallel(n_jobs=5)]: Done  22 tasks      | elapsed:    0.1s\n",
      "[Parallel(n_jobs=5)]: Done  40 tasks      | elapsed:    0.3s\n",
      "[Parallel(n_jobs=5)]: Done  62 tasks      | elapsed:    0.4s\n",
      "[Parallel(n_jobs=5)]: Done  88 tasks      | elapsed:    0.6s\n",
      "[Parallel(n_jobs=5)]: Done 100 out of 100 | elapsed:    0.6s finished\n"
     ]
    }
   ],
   "source": [
    "from sklearn.ensemble import RandomForestClassifier\n",
    "from sklearn.metrics import confusion_matrix\n",
    "cfs = []\n",
    "preds = []\n",
    "for train_idxs, test_idxs in skf.split(df[features], df['Label']):\n",
    "    print(\"TRAIN:\", (len(train_idxs)), \"TEST:\", (len(test_idxs)))\n",
    "    X_train = df[features].iloc[train_idxs,:]\n",
    "    X_test = df[features].iloc[test_idxs,:]\n",
    "    y_train = df[label].iloc[train_idxs]\n",
    "    y_test = df[label].iloc[test_idxs]\n",
    "    #Apply Random Forest\n",
    "    rf_clf = RandomForestClassifier(n_estimators=100,min_samples_split=10,min_samples_leaf=5,max_samples=0.8,criterion='gini',n_jobs=5, verbose=9)\n",
    "    rf_clf.fit(X_train,y_train)\n",
    "    y_pred = rf_clf.predict(X_test)\n",
    "    cfs.append(confusion_matrix(y_test, y_pred))\n",
    "    preds.append([y_test, y_pred])"
   ]
  },
  {
   "cell_type": "code",
   "execution_count": 12,
   "metadata": {},
   "outputs": [
    {
     "name": "stdout",
     "output_type": "stream",
     "text": [
      "[array([[447543,      9],\n",
      "       [   259, 110995]]), array([[447549,      3],\n",
      "       [    98, 111156]]), array([[447520,     32],\n",
      "       [   560, 110694]]), array([[446563,    988],\n",
      "       [   145, 111110]]), array([[446990,    561],\n",
      "       [   968, 110287]])]\n",
      "[[4.472330e+05 3.186000e+02]\n",
      " [4.060000e+02 1.108484e+05]]\n",
      "[[396.55365337 396.09322135]\n",
      " [323.77584839 323.59023471]]\n",
      "std. dev %\n",
      " [[8.86682453e-02 1.24323045e+02]\n",
      " [7.97477459e+01 2.91921430e-01]]\n"
     ]
    }
   ],
   "source": [
    "print(cfs)\n",
    "cf = np.mean(cfs,axis=(0))\n",
    "cf_std = np.std(cfs,axis=0)\n",
    "print(cf)\n",
    "print(cf_std)\n",
    "print('std. dev %\\n', np.divide(np.std(cfs,axis=0),np.mean(cfs,axis=0))*100)\n",
    "objectToFile(preds, \"cicids2017_trigrams_ports_preds_\"+label)"
   ]
  },
  {
   "cell_type": "code",
   "execution_count": 3,
   "metadata": {},
   "outputs": [],
   "source": [
    "from sklearn.metrics import classification_report, confusion_matrix\n",
    "label = 'BinLabel'\n",
    "preds_mem = objectFromFile(\"cicids2017_trigrams_normal_preds_\"+label)\n",
    "cfs = []\n",
    "for pred_tuple in preds_mem:\n",
    "    cfs.append(confusion_matrix(pred_tuple[0], pred_tuple[1]))"
   ]
  },
  {
   "cell_type": "markdown",
   "metadata": {},
   "source": [
    "### Ngram results"
   ]
  },
  {
   "cell_type": "code",
   "execution_count": 13,
   "metadata": {},
   "outputs": [
    {
     "data": {
      "image/png": "[encoded data removed]",
      "text/plain": [
       "<Figure size 432x432 with 1 Axes>"
      ]
     },
     "metadata": {
      "needs_background": "light"
     },
     "output_type": "display_data"
    }
   ],
   "source": [
    "#Plot confusion matrix\n",
    "import seaborn as sns\n",
    "#labels = ['Benign','Malicious']\n",
    "\n",
    "#Standard heatmap\n",
    "cf_norm = cf/cf.sum(axis=1)[:,None]\n",
    "cf_percentages = [\"{0:.2%}\".format(value) for value in cf_norm.flatten()]\n",
    "cf_numbers = [abbrv_num(value) for value in cf.flatten()]\n",
    "cf_labels = ['{v1}\\n({v2})'.format(v1=v1, v2=v2) for v1,v2 in zip(cf_percentages,cf_numbers)]\n",
    "cf_labels = np.asarray(cf_labels).reshape(cf.shape)\n",
    "\n",
    "fig, ax = plt.subplots(figsize=(6, 6))\n",
    "plt.rc('font', size=14)\n",
    "#column_labels = sorted(y_test.unique())\n",
    "#column_labels[0] = 'Benign'\n",
    "#column_labels[3] = 'DoS-GE'\n",
    "#column_labels[4] = 'DoS-Hulk'\n",
    "#column_labels[5] = 'DoS-SHT'\n",
    "#column_labels[6] = 'DoS-SL'\n",
    "#column_labels[12] = 'WA-BruteForce'\n",
    "#column_labels[13] = 'WA-SQLInject'\n",
    "#column_labels[14] = 'WA-XSS'\n",
    "column_labels = ['Benign', 'Malicious']\n",
    "sns.heatmap(cf_norm, annot=cf_labels, fmt='',cmap='Blues',cbar=False, vmin=0.0, vmax=1.0, ax=ax, xticklabels=column_labels, yticklabels=column_labels)\n",
    "plt.ylabel('True label')\n",
    "plt.xlabel('Predicted label')\n",
    "plt.yticks(rotation='0', size='12')\n",
    "plt.xticks(rotation='65', size='12')\n",
    "plt.title(\"CICIDS2017 mean binary classification matrix - Trigrams w/ ports\")\n",
    "plt.savefig('cicids2017_binaryclass_cf_trigrams_ports.png',bbox_inches='tight')\n",
    "plt.show()"
   ]
  },
  {
   "cell_type": "code",
   "execution_count": 16,
   "metadata": {},
   "outputs": [
    {
     "name": "stdout",
     "output_type": "stream",
     "text": [
      "447233.0 318.6 406.0 110848.4\n",
      "Accuracy: 0.9987033066931994 \n",
      "\n",
      "Recall: 0.9963507061293756 \n",
      "\n",
      "Specificity: 0.9992881267768902\n"
     ]
    }
   ],
   "source": [
    "from sklearn.metrics import accuracy_score\n",
    "from sklearn.metrics import recall_score\n",
    "tn, fp, fn, tp = np.mean(cfs,axis=0).ravel()\n",
    "print(tn,fp,fn,tp)\n",
    "\n",
    "acc_scores = [accuracy_score(pred_tuple[0], pred_tuple[1]) for pred_tuple in preds]\n",
    "rec_score  = tp / (tp+fn)\n",
    "spec_score = tn / (tn+fp)\n",
    "print('Accuracy: ' + str(np.mean(acc_scores)), \"\\n\")\n",
    "print('Recall: ' + str(rec_score), \"\\n\")\n",
    "print('Specificity: ' + str(spec_score))"
   ]
  },
  {
   "cell_type": "code",
   "execution_count": 27,
   "metadata": {
    "scrolled": true
   },
   "outputs": [
    {
     "name": "stdout",
     "output_type": "stream",
     "text": [
      "Feature: ngram_Fwd Packet Length Min_std, Score: 0.15939\n",
      "Feature: ngram_Bwd Packet Length Min_std, Score: 0.13067\n",
      "Feature: ngram_Bwd Packet Length Max_mean, Score: 0.11131\n",
      "Feature: ngram_Fwd Packet Length Max_std, Score: 0.05638\n",
      "Feature: ngram_Total Length of Bwd Packets_std, Score: 0.05282\n",
      "Feature: ngram_Total Backward Packets_std, Score: 0.05257\n",
      "Feature: ngram_Bwd Packet Length Max_std, Score: 0.04286\n",
      "Feature: ngram_Total Length of Bwd Packets_mean, Score: 0.03823\n",
      "Feature: ngram_Fwd Packet Length Min_mean, Score: 0.03772\n",
      "Feature: ngram_Flow IAT Max_mean, Score: 0.03758\n",
      "Feature: ngram_Total Length of Fwd Packets_std, Score: 0.03220\n",
      "Feature: ngram_Total Length of Fwd Packets_mean, Score: 0.02546\n",
      "Feature: ngram_Bwd Packet Length Min_mean, Score: 0.02431\n",
      "Feature: ngram_Fwd Packet Length Max_mean, Score: 0.02127\n",
      "Feature: ngram_Flow Bytes/s_std, Score: 0.02110\n",
      "Feature: ngram_Flow Packets/s_mean, Score: 0.02035\n",
      "Feature: ngram_Total Backward Packets_mean, Score: 0.02034\n",
      "Feature: ngram_Flow IAT Std_mean, Score: 0.01950\n",
      "Feature: ngram_Total Fwd Packets_std, Score: 0.01760\n",
      "Feature: ngram_Flow Bytes/s_mean, Score: 0.01274\n",
      "Feature: ngram_Total Fwd Packets_mean, Score: 0.01252\n",
      "Feature: ngram_Flow IAT Std_std, Score: 0.01065\n",
      "Feature: ngram_Flow IAT Mean_mean, Score: 0.00903\n",
      "Feature: ngram_Flow Duration_mean, Score: 0.00741\n",
      "Feature: ngram_Flow Packets/s_std, Score: 0.00634\n",
      "Feature: ngram_Flow IAT Max_std, Score: 0.00527\n",
      "Feature: ngram_Flow IAT Mean_std, Score: 0.00395\n",
      "Feature: ngram_Flow IAT Min_mean, Score: 0.00375\n",
      "Feature: ngram_Flow IAT Min_std, Score: 0.00361\n",
      "Feature: ngram_Flow Duration_std, Score: 0.00306\n"
     ]
    }
   ],
   "source": [
    "importance = rf_clf.feature_importances_\n",
    "# summarize feature importance\n",
    "for i,v in sorted(enumerate(importance),key=lambda x: x[1], reverse=True):\n",
    "    print('Feature: %s, Score: %.5f' % (features[i],v))"
   ]
  },
  {
   "cell_type": "markdown",
   "metadata": {},
   "source": [
    "### Normal feature set results"
   ]
  },
  {
   "cell_type": "code",
   "execution_count": 30,
   "metadata": {},
   "outputs": [
    {
     "data": {
      "image/png": "[encoded data removed]",
      "text/plain": [
       "<Figure size 576x576 with 1 Axes>"
      ]
     },
     "metadata": {
      "needs_background": "light"
     },
     "output_type": "display_data"
    }
   ],
   "source": [
    "#Plot confusion matrix\n",
    "import seaborn as sns\n",
    "#labels = ['Benign','Malicious']\n",
    "\n",
    "#Standard heatmap\n",
    "cf_norm = cf/cf.sum(axis=1)[:,None]\n",
    "cf_percentages = [\"{0:.2%}\".format(value) for value in cf_norm.flatten()]\n",
    "cf_numbers = [abbrv_num(value) for value in cf.flatten()]\n",
    "cf_labels = ['{v1}\\n({v2})'.format(v1=v1, v2=v2) for v1,v2 in zip(cf_percentages,cf_numbers)]\n",
    "cf_labels = np.asarray(cf_labels).reshape(cf.shape)\n",
    "\n",
    "fig, ax = plt.subplots(figsize=(8, 8))\n",
    "plt.rc('font', size=14)\n",
    "column_labels = sorted(y_test.unique())\n",
    "#column_labels[0] = 'Benign'\n",
    "#column_labels[3] = 'DoS-GE'\n",
    "#column_labels[4] = 'DoS-Hulk'\n",
    "#column_labels[5] = 'DoS-SHT'\n",
    "#column_labels[6] = 'DoS-SL'\n",
    "#column_labels[12] = 'WA-BruteForce'\n",
    "#column_labels[13] = 'WA-SQLInject'\n",
    "#column_labels[14] = 'WA-XSS'\n",
    "#column_labels = ['Benign', 'Malicious']\n",
    "sns.heatmap(cf_norm, annot=cf_labels, fmt='',cmap='Blues',cbar=False, vmin=0.0, vmax=1.0, ax=ax, xticklabels=column_labels, yticklabels=column_labels)\n",
    "plt.ylabel('True label')\n",
    "plt.xlabel('Predicted label')\n",
    "plt.yticks(rotation='0', size='12')\n",
    "plt.xticks(rotation='65', size='12')\n",
    "plt.title(\"CICIDS2017 mean binary classification matrix - Trigrams feature set normal\")\n",
    "plt.savefig('cicids2017_binaryclass_cf_trigrams_normal.png',bbox_inches='tight')\n",
    "plt.show()"
   ]
  },
  {
   "cell_type": "code",
   "execution_count": 4,
   "metadata": {},
   "outputs": [
    {
     "name": "stdout",
     "output_type": "stream",
     "text": [
      "441603.2 5957.8 5092.4 106160.2\n",
      "Accuracy: 0.9802256009260256 \n",
      "\n",
      "Recall: 0.9542266877358372 \n",
      "\n",
      "Specificity: 0.9866882950033627\n"
     ]
    }
   ],
   "source": [
    "from sklearn.metrics import accuracy_score\n",
    "from sklearn.metrics import recall_score\n",
    "tn, fp, fn, tp = np.mean(cfs,axis=0).ravel()\n",
    "print(tn,fp,fn,tp)\n",
    "\n",
    "acc_scores = [accuracy_score(pred_tuple[0], pred_tuple[1]) for pred_tuple in preds_mem]\n",
    "rec_score  = tp / (tp+fn)\n",
    "spec_score = tn / (tn+fp)\n",
    "print('Accuracy: ' + str(np.mean(acc_scores)), \"\\n\")\n",
    "print('Recall: ' + str(rec_score), \"\\n\")\n",
    "print('Specificity: ' + str(spec_score))"
   ]
  },
  {
   "cell_type": "markdown",
   "metadata": {},
   "source": [
    "## Construct barplot of own feature sets"
   ]
  },
  {
   "cell_type": "code",
   "execution_count": 8,
   "metadata": {},
   "outputs": [
    {
     "data": {
      "image/png": "[encoded data removed]",
      "text/plain": [
       "<Figure size 504x432 with 1 Axes>"
      ]
     },
     "metadata": {
      "needs_background": "light"
     },
     "output_type": "display_data"
    }
   ],
   "source": [
    "import matplotlib.patches as mpatches\n",
    "\n",
    "#Scores\n",
    "genset_acc = 0.979\n",
    "genset_rec = 0.944\n",
    "genset_spec = 0.988\n",
    "trigramset_acc = 0.997\n",
    "trigramset_rec = 0.991\n",
    "trigramset_spec = 0.999\n",
    "altset_acc = 0.980\n",
    "altset_rec = 0.954\n",
    "altset_spec = 0.987\n",
    "\n",
    "#Colors\n",
    "clr_acc = 'royalblue'\n",
    "clr_rec = 'salmon'\n",
    "clr_spec = 'lightgreen'\n",
    "\n",
    "acc_patch = mpatches.Patch(color=clr_acc, label='accuracy')\n",
    "rec_patch = mpatches.Patch(color=clr_rec, label='recall')\n",
    "spec_patch = mpatches.Patch(color=clr_spec, label='specificity')\n",
    "\n",
    "labels = ['General\\n (12 features)', 'Alternative\\n (15 features)', \\\n",
    "          'Trigram\\n (30 features)']\n",
    "\n",
    "x = np.arange(len(labels))*10\n",
    "width = 2.5  # the width of the bars\n",
    "pad_width = 3\n",
    "scores = [genset_acc,genset_rec,genset_spec,altset_acc,altset_rec,altset_spec,trigramset_acc,trigramset_rec,trigramset_spec]\n",
    "\n",
    "fig, ax = plt.subplots(figsize=(7,6))\n",
    "\n",
    "#Spawn bar(s) of group 1\n",
    "plt.bar(x[0]-pad_width, height=scores[0], width=width, color=clr_acc)\n",
    "plt.bar(x[0], height=scores[1], width=width, color=clr_rec)\n",
    "plt.bar(x[0]+pad_width, height=scores[2], width=width, color=clr_spec)\n",
    "\n",
    "#Spawn bar(s) of group 2\n",
    "plt.bar(x[1]-pad_width, height=scores[3], width=width, color=clr_acc)\n",
    "plt.bar(x[1], height=scores[4], width=width, color=clr_rec)\n",
    "plt.bar(x[1]+pad_width, height=scores[5], width=width, color=clr_spec)\n",
    "\n",
    "#Spawn bar(s) of group 3\n",
    "plt.bar(x[2]-pad_width, height=scores[6], width=width, color=clr_acc)\n",
    "plt.bar(x[2], height=scores[7], width=width, color=clr_rec)\n",
    "plt.bar(x[2]+pad_width, height=scores[8], width=width, color=clr_spec)\n",
    "\n",
    "#Hide the left, right and top spines\n",
    "ax.spines['right'].set_visible(False)\n",
    "ax.spines['top'].set_visible(False)\n",
    "ax.spines['left'].set_visible(False)\n",
    "\n",
    "plt.tick_params(left = False)\n",
    "\n",
    "#Set plot details\n",
    "plt.rc('font', size=13)\n",
    "#plt.ylabel('Metric score')\n",
    "plt.yticks()\n",
    "ax.set_yticklabels([])\n",
    "plt.ylim([0.8, 1])\n",
    "#ax.get_yaxis().set_visible(False)\n",
    "plt.xticks(size='14')\n",
    "plt.title(\"CICIDS2017 feature sets comparison\", fontweight='bold', pad=25)\n",
    "ax.set_xticks(x)\n",
    "ax.set_xticklabels(labels)\n",
    "add_value_labels(ax)\n",
    "#ax.legend(handles=[acc_patch,rec_patch,spec_patch],bbox_to_anchor=(1.05, 1), loc='upper left', borderaxespad=0.)\n",
    "ax.legend(handles=[acc_patch,rec_patch,spec_patch], loc='lower right', borderaxespad=0.)\n",
    "ax.set_axisbelow(True)\n",
    "plt.grid(axis='y', color='grey')\n",
    "fig.tight_layout()\n",
    "plt.savefig('cicids2017_binaryclass_featuresets_bars.png',bbox_inches='tight')\n",
    "plt.show()"
   ]
  }
 ],
 "metadata": {
  "kernelspec": {
   "display_name": "Python 3",
   "language": "python",
   "name": "python3"
  },
  "language_info": {
   "codemirror_mode": {
    "name": "ipython",
    "version": 3
   },
   "file_extension": ".py",
   "mimetype": "text/x-python",
   "name": "python",
   "nbconvert_exporter": "python",
   "pygments_lexer": "ipython3",
   "version": "3.6.9"
  }
 },
 "nbformat": 4,
 "nbformat_minor": 4
}
