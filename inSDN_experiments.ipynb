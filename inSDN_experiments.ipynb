{
 "cells": [
  {
   "cell_type": "code",
   "execution_count": 1,
   "metadata": {},
   "outputs": [
    {
     "name": "stdout",
     "output_type": "stream",
     "text": [
      "INFO: Pandarallel will run on 12 workers.\n",
      "INFO: Pandarallel will use Memory file system to transfer data between the main process and workers.\n"
     ]
    }
   ],
   "source": [
    "# Third Party Imports\n",
    "import pandas as pd\n",
    "import matplotlib.pyplot as plt\n",
    "import numpy as np\n",
    "import pickle\n",
    "from sklearn.model_selection import StratifiedKFold\n",
    "from sklearn.tree import DecisionTreeClassifier\n",
    "from exphelperfunctions import abbrv_num\n",
    "from exphelperfunctions import objectToFile\n",
    "from exphelperfunctions import objectFromFile\n",
    "from exphelperfunctions import add_value_labels"
   ]
  },
  {
   "cell_type": "code",
   "execution_count": 3,
   "metadata": {},
   "outputs": [],
   "source": [
    "#Open UNSW-NB15 small train/test split\n",
    "df_normal = pd.read_csv('/mnt/h/inSDN/Normal_data.csv', sep=',',header=0,skipinitialspace=True)\n",
    "df_meta = pd.read_csv('/mnt/h/inSDN/metasploitable-2.csv', sep=',',header=0,skipinitialspace=True)\n",
    "df_ovs = pd.read_csv('/mnt/h/inSDN/OVS.csv', sep=',',header=0,skipinitialspace=True)"
   ]
  },
  {
   "cell_type": "code",
   "execution_count": 4,
   "metadata": {},
   "outputs": [
    {
     "name": "stdout",
     "output_type": "stream",
     "text": [
      "Index(['Flow ID', 'Src IP', 'Src Port', 'Dst IP', 'Dst Port', 'Protocol',\n",
      "       'Timestamp', 'Flow Duration', 'Tot Fwd Pkts', 'Tot Bwd Pkts',\n",
      "       'TotLen Fwd Pkts', 'TotLen Bwd Pkts', 'Fwd Pkt Len Max',\n",
      "       'Fwd Pkt Len Min', 'Fwd Pkt Len Mean', 'Fwd Pkt Len Std',\n",
      "       'Bwd Pkt Len Max', 'Bwd Pkt Len Min', 'Bwd Pkt Len Mean',\n",
      "       'Bwd Pkt Len Std', 'Flow Byts/s', 'Flow Pkts/s', 'Flow IAT Mean',\n",
      "       'Flow IAT Std', 'Flow IAT Max', 'Flow IAT Min', 'Fwd IAT Tot',\n",
      "       'Fwd IAT Mean', 'Fwd IAT Std', 'Fwd IAT Max', 'Fwd IAT Min',\n",
      "       'Bwd IAT Tot', 'Bwd IAT Mean', 'Bwd IAT Std', 'Bwd IAT Max',\n",
      "       'Bwd IAT Min', 'Fwd PSH Flags', 'Bwd PSH Flags', 'Fwd URG Flags',\n",
      "       'Bwd URG Flags', 'Fwd Header Len', 'Bwd Header Len', 'Fwd Pkts/s',\n",
      "       'Bwd Pkts/s', 'Pkt Len Min', 'Pkt Len Max', 'Pkt Len Mean',\n",
      "       'Pkt Len Std', 'Pkt Len Var', 'FIN Flag Cnt', 'SYN Flag Cnt',\n",
      "       'RST Flag Cnt', 'PSH Flag Cnt', 'ACK Flag Cnt', 'URG Flag Cnt',\n",
      "       'CWE Flag Count', 'ECE Flag Cnt', 'Down/Up Ratio', 'Pkt Size Avg',\n",
      "       'Fwd Seg Size Avg', 'Bwd Seg Size Avg', 'Fwd Byts/b Avg',\n",
      "       'Fwd Pkts/b Avg', 'Fwd Blk Rate Avg', 'Bwd Byts/b Avg',\n",
      "       'Bwd Pkts/b Avg', 'Bwd Blk Rate Avg', 'Subflow Fwd Pkts',\n",
      "       'Subflow Fwd Byts', 'Subflow Bwd Pkts', 'Subflow Bwd Byts',\n",
      "       'Init Fwd Win Byts', 'Init Bwd Win Byts', 'Fwd Act Data Pkts',\n",
      "       'Fwd Seg Size Min', 'Active Mean', 'Active Std', 'Active Max',\n",
      "       'Active Min', 'Idle Mean', 'Idle Std', 'Idle Max', 'Idle Min', 'Label'],\n",
      "      dtype='object')\n"
     ]
    }
   ],
   "source": [
    "print(df_normal.columns)"
   ]
  },
  {
   "cell_type": "code",
   "execution_count": 5,
   "metadata": {
    "scrolled": false
   },
   "outputs": [
    {
     "name": "stdout",
     "output_type": "stream",
     "text": [
      "['Normal']\n",
      "['U2R' 'BFA' 'DDoS' 'DoS' 'Probe']\n",
      "['BFA' 'DDoS' 'DoS' 'Probe' 'Web-Attack' 'BOTNET']\n"
     ]
    }
   ],
   "source": [
    "print(df_normal['Label'].unique())\n",
    "print(df_meta['Label'].unique())\n",
    "df_ovs['Label'] = df_ovs['Label'].str.strip()\n",
    "print(df_ovs['Label'].unique())\n",
    "\n",
    "#change to binary/multiclass label columns\n",
    "\n",
    "df_meta['BinLabel'] = 1\n",
    "df_ovs['BinLabel'] = 1\n",
    "df_normal['BinLabel'] = 0"
   ]
  },
  {
   "cell_type": "markdown",
   "metadata": {},
   "source": [
    "# Data composition\n",
    "Normal: 68,424 instances (20%)\n",
    "\n",
    "Meta: 138,772 instances (40.34%)\n",
    "* DoS: 1145\n",
    "* DDoS: 73529\n",
    "* Probe: 61757\n",
    "* brute-force-attack: 295\n",
    "* Exploitation (R2L): 17\n",
    "\n",
    "OVS: 136,743 instances (39.76%)\n",
    "* DoS: 52471\n",
    "* DDoS: 48413\n",
    "* Probe: 36372\n",
    "* brute-force-attack: 1110\n",
    "* web_attack: 192\n",
    "* Botnet: 164"
   ]
  },
  {
   "cell_type": "markdown",
   "metadata": {},
   "source": [
    "# One hot encoding"
   ]
  },
  {
   "cell_type": "code",
   "execution_count": 6,
   "metadata": {},
   "outputs": [
    {
     "name": "stdout",
     "output_type": "stream",
     "text": [
      "[ 6  0 17]\n",
      "[ 6 17  0]\n",
      "[ 6  0 17]\n"
     ]
    }
   ],
   "source": [
    "print(df_normal['Protocol'].unique())\n",
    "print(df_meta['Protocol'].unique())\n",
    "print(df_ovs['Protocol'].unique())"
   ]
  },
  {
   "cell_type": "code",
   "execution_count": 7,
   "metadata": {},
   "outputs": [],
   "source": [
    "# One hot encoding for protocol\n",
    "ohe_df = pd.get_dummies(df_normal['Protocol'], prefix=\"proto\")\n",
    "df_normal = df_normal.join(ohe_df)\n",
    "\n",
    "ohe_df = pd.get_dummies(df_meta['Protocol'], prefix=\"proto\")\n",
    "df_meta = df_meta.join(ohe_df)\n",
    "\n",
    "ohe_df = pd.get_dummies(df_ovs['Protocol'], prefix=\"proto\")\n",
    "df_ovs = df_ovs.join(ohe_df)"
   ]
  },
  {
   "cell_type": "markdown",
   "metadata": {},
   "source": [
    "# Combine datasets and select features"
   ]
  },
  {
   "cell_type": "code",
   "execution_count": 8,
   "metadata": {},
   "outputs": [],
   "source": [
    "#Get input columns and corresponding label vector\n",
    "#Use duration, protocol, src bytes&packets per flow, dst bytes&packets per flow, mean src/dst bytes per flow, mean src/dst IAT per flow\n",
    "#features = df_train.drop(['id','proto','service','state','attack_cat','label'],axis=1)\n",
    "features = ['Flow Duration','proto_0','proto_6','proto_17','TotLen Fwd Pkts','TotLen Bwd Pkts','Fwd Pkt Len Mean','Bwd Pkt Len Mean','Tot Fwd Pkts','Tot Bwd Pkts','Fwd IAT Mean','Bwd IAT Mean']\n",
    "label = 'BinLabel'\n",
    "skf = StratifiedKFold(n_splits=5)"
   ]
  },
  {
   "cell_type": "code",
   "execution_count": 9,
   "metadata": {},
   "outputs": [
    {
     "name": "stdout",
     "output_type": "stream",
     "text": [
      "TRAIN: 275110 TEST: 68779\n",
      "building tree 1 of 100building tree 2 of 100building tree 3 of 100building tree 4 of 100building tree 5 of 100\n",
      "\n",
      "\n",
      "\n",
      "\n"
     ]
    },
    {
     "name": "stderr",
     "output_type": "stream",
     "text": [
      "[Parallel(n_jobs=5)]: Using backend ThreadingBackend with 5 concurrent workers.\n",
      "[Parallel(n_jobs=5)]: Done   3 tasks      | elapsed:    0.2s\n"
     ]
    },
    {
     "name": "stdout",
     "output_type": "stream",
     "text": [
      "building tree 6 of 100\n",
      "building tree 7 of 100\n",
      "building tree 8 of 100\n",
      "building tree 9 of 100\n",
      "building tree 10 of 100\n",
      "building tree 11 of 100\n",
      "building tree 12 of 100\n",
      "building tree 13 of 100\n",
      "building tree 14 of 100\n",
      "building tree 15 of 100\n"
     ]
    },
    {
     "name": "stderr",
     "output_type": "stream",
     "text": [
      "[Parallel(n_jobs=5)]: Done   8 tasks      | elapsed:    0.3s\n",
      "[Parallel(n_jobs=5)]: Done  15 tasks      | elapsed:    0.4s\n"
     ]
    },
    {
     "name": "stdout",
     "output_type": "stream",
     "text": [
      "building tree 16 of 100\n",
      "building tree 17 of 100\n",
      "building tree 18 of 100\n",
      "building tree 19 of 100\n",
      "building tree 20 of 100\n",
      "building tree 21 of 100\n",
      "building tree 22 of 100\n",
      "building tree 23 of 100\n",
      "building tree 24 of 100\n",
      "building tree 25 of 100\n",
      "building tree 26 of 100\n",
      "building tree 27 of 100\n",
      "building tree 28 of 100\n",
      "building tree 29 of 100\n",
      "building tree 30 of 100\n",
      "building tree 31 of 100\n",
      "building tree 32 of 100\n",
      "building tree 33 of 100\n",
      "building tree 34 of 100\n",
      "building tree 35 of 100\n"
     ]
    },
    {
     "name": "stderr",
     "output_type": "stream",
     "text": [
      "[Parallel(n_jobs=5)]: Done  22 tasks      | elapsed:    0.6s\n"
     ]
    },
    {
     "name": "stdout",
     "output_type": "stream",
     "text": [
      "building tree 36 of 100\n",
      "building tree 37 of 100\n",
      "building tree 38 of 100\n",
      "building tree 39 of 100\n",
      "building tree 40 of 100\n",
      "building tree 41 of 100\n",
      "building tree 42 of 100\n",
      "building tree 43 of 100\n"
     ]
    },
    {
     "name": "stderr",
     "output_type": "stream",
     "text": [
      "[Parallel(n_jobs=5)]: Done  31 tasks      | elapsed:    0.8s\n"
     ]
    },
    {
     "name": "stdout",
     "output_type": "stream",
     "text": [
      "building tree 44 of 100\n",
      "building tree 45 of 100\n",
      "building tree 46 of 100\n",
      "building tree 47 of 100\n",
      "building tree 48 of 100\n",
      "building tree 49 of 100\n",
      "building tree 50 of 100\n",
      "building tree 51 of 100\n",
      "building tree 52 of 100\n",
      "building tree 53 of 100\n",
      "building tree 54 of 100\n",
      "building tree 55 of 100\n",
      "building tree 56 of 100\n"
     ]
    },
    {
     "name": "stderr",
     "output_type": "stream",
     "text": [
      "[Parallel(n_jobs=5)]: Done  40 tasks      | elapsed:    1.1s\n",
      "[Parallel(n_jobs=5)]: Done  51 tasks      | elapsed:    1.3s\n"
     ]
    },
    {
     "name": "stdout",
     "output_type": "stream",
     "text": [
      "building tree 57 of 100\n",
      "building tree 58 of 100\n",
      "building tree 59 of 100\n",
      "building tree 60 of 100\n",
      "building tree 61 of 100\n",
      "building tree 62 of 100\n",
      "building tree 63 of 100\n",
      "building tree 64 of 100\n",
      "building tree 65 of 100\n",
      "building tree 66 of 100\n",
      "building tree 67 of 100\n",
      "building tree 68 of 100\n",
      "building tree 69 of 100\n",
      "building tree 70 of 100\n",
      "building tree 71 of 100\n",
      "building tree 72 of 100\n",
      "building tree 73 of 100\n",
      "building tree 74 of 100\n"
     ]
    },
    {
     "name": "stderr",
     "output_type": "stream",
     "text": [
      "[Parallel(n_jobs=5)]: Done  62 tasks      | elapsed:    1.5s\n"
     ]
    },
    {
     "name": "stdout",
     "output_type": "stream",
     "text": [
      "building tree 75 of 100\n",
      "building tree 76 of 100\n",
      "building tree 77 of 100\n",
      "building tree 78 of 100\n",
      "building tree 79 of 100\n",
      "building tree 80 of 100\n",
      "building tree 81 of 100\n",
      "building tree 82 of 100\n",
      "building tree 83 of 100building tree 84 of 100\n",
      "\n"
     ]
    },
    {
     "name": "stderr",
     "output_type": "stream",
     "text": [
      "[Parallel(n_jobs=5)]: Done  75 tasks      | elapsed:    1.9s\n"
     ]
    },
    {
     "name": "stdout",
     "output_type": "stream",
     "text": [
      "building tree 85 of 100\n",
      "building tree 86 of 100\n",
      "building tree 87 of 100\n",
      "building tree 88 of 100\n",
      "building tree 89 of 100\n",
      "building tree 90 of 100\n",
      "building tree 91 of 100\n",
      "building tree 92 of 100\n",
      "building tree 93 of 100\n",
      "building tree 94 of 100\n"
     ]
    },
    {
     "name": "stderr",
     "output_type": "stream",
     "text": [
      "[Parallel(n_jobs=5)]: Done  88 tasks      | elapsed:    2.2s\n"
     ]
    },
    {
     "name": "stdout",
     "output_type": "stream",
     "text": [
      "building tree 95 of 100\n",
      "building tree 96 of 100\n",
      "building tree 97 of 100\n",
      "building tree 98 of 100\n",
      "building tree 99 of 100\n",
      "building tree 100 of 100\n"
     ]
    },
    {
     "name": "stderr",
     "output_type": "stream",
     "text": [
      "[Parallel(n_jobs=5)]: Done 100 out of 100 | elapsed:    2.5s finished\n",
      "[Parallel(n_jobs=5)]: Using backend ThreadingBackend with 5 concurrent workers.\n",
      "[Parallel(n_jobs=5)]: Done   3 tasks      | elapsed:    0.0s\n",
      "[Parallel(n_jobs=5)]: Done   8 tasks      | elapsed:    0.0s\n",
      "[Parallel(n_jobs=5)]: Done  15 tasks      | elapsed:    0.0s\n",
      "[Parallel(n_jobs=5)]: Done  22 tasks      | elapsed:    0.0s\n",
      "[Parallel(n_jobs=5)]: Done  31 tasks      | elapsed:    0.0s\n",
      "[Parallel(n_jobs=5)]: Done  40 tasks      | elapsed:    0.0s\n",
      "[Parallel(n_jobs=5)]: Done  51 tasks      | elapsed:    0.0s\n",
      "[Parallel(n_jobs=5)]: Done  62 tasks      | elapsed:    0.0s\n",
      "[Parallel(n_jobs=5)]: Done  75 tasks      | elapsed:    0.0s\n",
      "[Parallel(n_jobs=5)]: Done  88 tasks      | elapsed:    0.0s\n",
      "[Parallel(n_jobs=5)]: Done 100 out of 100 | elapsed:    0.1s finished\n"
     ]
    },
    {
     "name": "stdout",
     "output_type": "stream",
     "text": [
      "TRAIN: 275110 TEST: 68779\n",
      "building tree 1 of 100building tree 2 of 100building tree 3 of 100building tree 4 of 100building tree 5 of 100\n",
      "\n",
      "\n",
      "\n",
      "\n",
      "building tree 6 of 100\n",
      "building tree 7 of 100\n",
      "building tree 8 of 100\n"
     ]
    },
    {
     "name": "stderr",
     "output_type": "stream",
     "text": [
      "[Parallel(n_jobs=5)]: Using backend ThreadingBackend with 5 concurrent workers.\n",
      "[Parallel(n_jobs=5)]: Done   3 tasks      | elapsed:    0.1s\n"
     ]
    },
    {
     "name": "stdout",
     "output_type": "stream",
     "text": [
      "building tree 9 of 100\n",
      "building tree 10 of 100\n",
      "building tree 11 of 100\n",
      "building tree 12 of 100\n",
      "building tree 13 of 100\n",
      "building tree 14 of 100\n",
      "building tree 15 of 100\n",
      "building tree 16 of 100\n",
      "building tree 17 of 100\n"
     ]
    },
    {
     "name": "stderr",
     "output_type": "stream",
     "text": [
      "[Parallel(n_jobs=5)]: Done   8 tasks      | elapsed:    0.3s\n",
      "[Parallel(n_jobs=5)]: Done  15 tasks      | elapsed:    0.4s\n"
     ]
    },
    {
     "name": "stdout",
     "output_type": "stream",
     "text": [
      "building tree 18 of 100\n",
      "building tree 19 of 100\n",
      "building tree 20 of 100\n",
      "building tree 21 of 100\n",
      "building tree 22 of 100\n",
      "building tree 23 of 100\n",
      "building tree 24 of 100\n",
      "building tree 25 of 100\n",
      "building tree 26 of 100\n",
      "building tree 27 of 100\n",
      "building tree 28 of 100\n",
      "building tree 29 of 100\n",
      "building tree 30 of 100\n",
      "building tree 31 of 100\n",
      "building tree 32 of 100\n",
      "building tree 33 of 100\n",
      "building tree 34 of 100\n",
      "building tree 35 of 100\n",
      "building tree 36 of 100\n"
     ]
    },
    {
     "name": "stderr",
     "output_type": "stream",
     "text": [
      "[Parallel(n_jobs=5)]: Done  22 tasks      | elapsed:    0.6s\n",
      "[Parallel(n_jobs=5)]: Done  31 tasks      | elapsed:    0.7s\n"
     ]
    },
    {
     "name": "stdout",
     "output_type": "stream",
     "text": [
      "building tree 37 of 100\n",
      "building tree 38 of 100\n",
      "building tree 39 of 100\n",
      "building tree 40 of 100\n",
      "building tree 41 of 100\n",
      "building tree 42 of 100\n",
      "building tree 43 of 100\n",
      "building tree 44 of 100\n",
      "building tree 45 of 100\n",
      "building tree 46 of 100\n"
     ]
    },
    {
     "name": "stderr",
     "output_type": "stream",
     "text": [
      "[Parallel(n_jobs=5)]: Done  40 tasks      | elapsed:    1.0s\n"
     ]
    },
    {
     "name": "stdout",
     "output_type": "stream",
     "text": [
      "building tree 47 of 100\n",
      "building tree 48 of 100\n",
      "building tree 49 of 100\n",
      "building tree 50 of 100\n",
      "building tree 51 of 100\n",
      "building tree 52 of 100\n",
      "building tree 53 of 100\n",
      "building tree 54 of 100\n",
      "building tree 55 of 100\n",
      "building tree 56 of 100\n",
      "building tree 57 of 100\n",
      "building tree 58 of 100\n",
      "building tree 59 of 100\n",
      "building tree 60 of 100\n",
      "building tree 61 of 100\n",
      "building tree 62 of 100\n",
      "building tree 63 of 100\n",
      "building tree 64 of 100\n"
     ]
    },
    {
     "name": "stderr",
     "output_type": "stream",
     "text": [
      "[Parallel(n_jobs=5)]: Done  51 tasks      | elapsed:    1.2s\n"
     ]
    },
    {
     "name": "stdout",
     "output_type": "stream",
     "text": [
      "building tree 65 of 100\n",
      "building tree 66 of 100\n",
      "building tree 67 of 100\n",
      "building tree 68 of 100\n",
      "building tree 69 of 100\n",
      "building tree 70 of 100\n",
      "building tree 71 of 100\n",
      "building tree 72 of 100\n",
      "building tree 73 of 100\n"
     ]
    },
    {
     "name": "stderr",
     "output_type": "stream",
     "text": [
      "[Parallel(n_jobs=5)]: Done  62 tasks      | elapsed:    1.5s\n"
     ]
    },
    {
     "name": "stdout",
     "output_type": "stream",
     "text": [
      "building tree 74 of 100\n",
      "building tree 75 of 100\n",
      "building tree 76 of 100\n",
      "building tree 77 of 100\n",
      "building tree 78 of 100\n",
      "building tree 79 of 100\n",
      "building tree 80 of 100\n",
      "building tree 81 of 100\n",
      "building tree 82 of 100\n",
      "building tree 83 of 100\n",
      "building tree 84 of 100\n"
     ]
    },
    {
     "name": "stderr",
     "output_type": "stream",
     "text": [
      "[Parallel(n_jobs=5)]: Done  75 tasks      | elapsed:    1.8s\n"
     ]
    },
    {
     "name": "stdout",
     "output_type": "stream",
     "text": [
      "building tree 85 of 100\n",
      "building tree 86 of 100\n",
      "building tree 87 of 100\n",
      "building tree 88 of 100\n",
      "building tree 89 of 100\n",
      "building tree 90 of 100\n",
      "building tree 91 of 100\n",
      "building tree 92 of 100\n",
      "building tree 93 of 100\n",
      "building tree 94 of 100\n"
     ]
    },
    {
     "name": "stderr",
     "output_type": "stream",
     "text": [
      "[Parallel(n_jobs=5)]: Done  88 tasks      | elapsed:    2.0s\n"
     ]
    },
    {
     "name": "stdout",
     "output_type": "stream",
     "text": [
      "building tree 95 of 100\n",
      "building tree 96 of 100\n",
      "building tree 97 of 100\n",
      "building tree 98 of 100\n",
      "building tree 99 of 100\n",
      "building tree 100 of 100\n"
     ]
    },
    {
     "name": "stderr",
     "output_type": "stream",
     "text": [
      "[Parallel(n_jobs=5)]: Done 100 out of 100 | elapsed:    2.3s finished\n",
      "[Parallel(n_jobs=5)]: Using backend ThreadingBackend with 5 concurrent workers.\n",
      "[Parallel(n_jobs=5)]: Done   3 tasks      | elapsed:    0.0s\n",
      "[Parallel(n_jobs=5)]: Done   8 tasks      | elapsed:    0.0s\n",
      "[Parallel(n_jobs=5)]: Done  15 tasks      | elapsed:    0.0s\n",
      "[Parallel(n_jobs=5)]: Done  22 tasks      | elapsed:    0.0s\n",
      "[Parallel(n_jobs=5)]: Done  31 tasks      | elapsed:    0.0s\n",
      "[Parallel(n_jobs=5)]: Done  40 tasks      | elapsed:    0.0s\n",
      "[Parallel(n_jobs=5)]: Done  51 tasks      | elapsed:    0.0s\n",
      "[Parallel(n_jobs=5)]: Done  62 tasks      | elapsed:    0.0s\n",
      "[Parallel(n_jobs=5)]: Done  75 tasks      | elapsed:    0.0s\n",
      "[Parallel(n_jobs=5)]: Done  88 tasks      | elapsed:    0.0s\n",
      "[Parallel(n_jobs=5)]: Done 100 out of 100 | elapsed:    0.0s finished\n"
     ]
    },
    {
     "name": "stdout",
     "output_type": "stream",
     "text": [
      "TRAIN: 275111 TEST: 68778\n",
      "building tree 1 of 100building tree 2 of 100building tree 3 of 100building tree 4 of 100building tree 5 of 100\n",
      "\n",
      "\n",
      "\n",
      "\n",
      "building tree 6 of 100\n",
      "building tree 7 of 100\n",
      "building tree 8 of 100\n",
      "building tree 9 of 100\n",
      "building tree 10 of 100\n"
     ]
    },
    {
     "name": "stderr",
     "output_type": "stream",
     "text": [
      "[Parallel(n_jobs=5)]: Using backend ThreadingBackend with 5 concurrent workers.\n",
      "[Parallel(n_jobs=5)]: Done   3 tasks      | elapsed:    0.1s\n"
     ]
    },
    {
     "name": "stdout",
     "output_type": "stream",
     "text": [
      "building tree 11 of 100\n",
      "building tree 12 of 100\n",
      "building tree 13 of 100\n",
      "building tree 14 of 100\n",
      "building tree 15 of 100\n",
      "building tree 16 of 100\n",
      "building tree 17 of 100\n",
      "building tree 18 of 100\n",
      "building tree 19 of 100\n",
      "building tree 20 of 100\n"
     ]
    },
    {
     "name": "stderr",
     "output_type": "stream",
     "text": [
      "[Parallel(n_jobs=5)]: Done   8 tasks      | elapsed:    0.2s\n",
      "[Parallel(n_jobs=5)]: Done  15 tasks      | elapsed:    0.4s\n"
     ]
    },
    {
     "name": "stdout",
     "output_type": "stream",
     "text": [
      "building tree 21 of 100\n",
      "building tree 22 of 100\n",
      "building tree 23 of 100\n",
      "building tree 24 of 100\n",
      "building tree 25 of 100\n",
      "building tree 26 of 100\n",
      "building tree 27 of 100\n",
      "building tree 28 of 100\n",
      "building tree 29 of 100\n",
      "building tree 30 of 100\n"
     ]
    },
    {
     "name": "stderr",
     "output_type": "stream",
     "text": [
      "[Parallel(n_jobs=5)]: Done  22 tasks      | elapsed:    0.6s\n",
      "[Parallel(n_jobs=5)]: Done  31 tasks      | elapsed:    0.8s\n"
     ]
    },
    {
     "name": "stdout",
     "output_type": "stream",
     "text": [
      "building tree 31 of 100\n",
      "building tree 32 of 100\n",
      "building tree 33 of 100\n",
      "building tree 34 of 100\n",
      "building tree 35 of 100\n",
      "building tree 36 of 100\n",
      "building tree 37 of 100\n",
      "building tree 38 of 100\n",
      "building tree 39 of 100\n",
      "building tree 40 of 100\n",
      "building tree 41 of 100\n",
      "building tree 42 of 100\n",
      "building tree 43 of 100\n",
      "building tree 44 of 100\n",
      "building tree 45 of 100\n",
      "building tree 46 of 100\n"
     ]
    },
    {
     "name": "stderr",
     "output_type": "stream",
     "text": [
      "[Parallel(n_jobs=5)]: Done  40 tasks      | elapsed:    1.0s\n"
     ]
    },
    {
     "name": "stdout",
     "output_type": "stream",
     "text": [
      "building tree 47 of 100\n",
      "building tree 48 of 100\n",
      "building tree 49 of 100\n",
      "building tree 50 of 100\n",
      "building tree 51 of 100\n",
      "building tree 52 of 100\n",
      "building tree 53 of 100\n",
      "building tree 54 of 100\n",
      "building tree 55 of 100\n",
      "building tree 56 of 100\n"
     ]
    },
    {
     "name": "stderr",
     "output_type": "stream",
     "text": [
      "[Parallel(n_jobs=5)]: Done  51 tasks      | elapsed:    1.2s\n"
     ]
    },
    {
     "name": "stdout",
     "output_type": "stream",
     "text": [
      "building tree 57 of 100\n",
      "building tree 58 of 100\n",
      "building tree 59 of 100\n",
      "building tree 60 of 100\n",
      "building tree 61 of 100\n",
      "building tree 62 of 100\n",
      "building tree 63 of 100\n",
      "building tree 64 of 100\n",
      "building tree 65 of 100\n",
      "building tree 66 of 100\n",
      "building tree 67 of 100\n",
      "building tree 68 of 100\n",
      "building tree 69 of 100\n",
      "building tree 70 of 100\n",
      "building tree 71 of 100\n",
      "building tree 72 of 100\n",
      "building tree 73 of 100\n",
      "building tree 74 of 100\n",
      "building tree 75 of 100\n",
      "building tree 76 of 100\n"
     ]
    },
    {
     "name": "stderr",
     "output_type": "stream",
     "text": [
      "[Parallel(n_jobs=5)]: Done  62 tasks      | elapsed:    1.5s\n"
     ]
    },
    {
     "name": "stdout",
     "output_type": "stream",
     "text": [
      "building tree 77 of 100\n",
      "building tree 78 of 100\n",
      "building tree 79 of 100\n",
      "building tree 80 of 100\n",
      "building tree 81 of 100\n",
      "building tree 82 of 100\n",
      "building tree 83 of 100\n"
     ]
    },
    {
     "name": "stderr",
     "output_type": "stream",
     "text": [
      "[Parallel(n_jobs=5)]: Done  75 tasks      | elapsed:    1.8s\n"
     ]
    },
    {
     "name": "stdout",
     "output_type": "stream",
     "text": [
      "building tree 84 of 100\n",
      "building tree 85 of 100\n",
      "building tree 86 of 100\n",
      "building tree 87 of 100\n",
      "building tree 88 of 100\n",
      "building tree 89 of 100\n",
      "building tree 90 of 100\n",
      "building tree 91 of 100\n",
      "building tree 92 of 100\n",
      "building tree 93 of 100\n",
      "building tree 94 of 100\n",
      "building tree 95 of 100\n",
      "building tree 96 of 100\n",
      "building tree 97 of 100\n",
      "building tree 98 of 100\n",
      "building tree 99 of 100\n",
      "building tree 100 of 100\n"
     ]
    },
    {
     "name": "stderr",
     "output_type": "stream",
     "text": [
      "[Parallel(n_jobs=5)]: Done  88 tasks      | elapsed:    2.2s\n",
      "[Parallel(n_jobs=5)]: Done 100 out of 100 | elapsed:    2.4s finished\n",
      "[Parallel(n_jobs=5)]: Using backend ThreadingBackend with 5 concurrent workers.\n",
      "[Parallel(n_jobs=5)]: Done   3 tasks      | elapsed:    0.0s\n",
      "[Parallel(n_jobs=5)]: Done   8 tasks      | elapsed:    0.0s\n",
      "[Parallel(n_jobs=5)]: Done  15 tasks      | elapsed:    0.0s\n",
      "[Parallel(n_jobs=5)]: Done  22 tasks      | elapsed:    0.0s\n",
      "[Parallel(n_jobs=5)]: Done  31 tasks      | elapsed:    0.0s\n",
      "[Parallel(n_jobs=5)]: Done  40 tasks      | elapsed:    0.0s\n",
      "[Parallel(n_jobs=5)]: Done  51 tasks      | elapsed:    0.0s\n",
      "[Parallel(n_jobs=5)]: Done  62 tasks      | elapsed:    0.0s\n",
      "[Parallel(n_jobs=5)]: Done  75 tasks      | elapsed:    0.0s\n",
      "[Parallel(n_jobs=5)]: Done  88 tasks      | elapsed:    0.0s\n",
      "[Parallel(n_jobs=5)]: Done 100 out of 100 | elapsed:    0.1s finished\n",
      "[Parallel(n_jobs=5)]: Using backend ThreadingBackend with 5 concurrent workers.\n"
     ]
    },
    {
     "name": "stdout",
     "output_type": "stream",
     "text": [
      "TRAIN: 275112 TEST: 68777\n",
      "building tree 1 of 100building tree 2 of 100building tree 3 of 100\n",
      "\n",
      "building tree 4 of 100\n",
      "building tree 5 of 100\n",
      "\n",
      "building tree 6 of 100\n",
      "building tree 7 of 100\n",
      "building tree 8 of 100\n",
      "building tree 9 of 100\n",
      "building tree 10 of 100\n"
     ]
    },
    {
     "name": "stderr",
     "output_type": "stream",
     "text": [
      "[Parallel(n_jobs=5)]: Done   3 tasks      | elapsed:    0.1s\n",
      "[Parallel(n_jobs=5)]: Done   8 tasks      | elapsed:    0.2s\n"
     ]
    },
    {
     "name": "stdout",
     "output_type": "stream",
     "text": [
      "building tree 11 of 100\n",
      "building tree 12 of 100\n",
      "building tree 13 of 100\n",
      "building tree 14 of 100\n",
      "building tree 15 of 100\n",
      "building tree 16 of 100\n",
      "building tree 17 of 100\n",
      "building tree 18 of 100\n",
      "building tree 19 of 100\n",
      "building tree 20 of 100\n"
     ]
    },
    {
     "name": "stderr",
     "output_type": "stream",
     "text": [
      "[Parallel(n_jobs=5)]: Done  15 tasks      | elapsed:    0.3s\n"
     ]
    },
    {
     "name": "stdout",
     "output_type": "stream",
     "text": [
      "building tree 21 of 100\n",
      "building tree 22 of 100\n",
      "building tree 23 of 100\n",
      "building tree 24 of 100\n",
      "building tree 25 of 100\n",
      "building tree 26 of 100\n",
      "building tree 27 of 100\n",
      "building tree 28 of 100\n",
      "building tree 29 of 100\n",
      "building tree 30 of 100\n"
     ]
    },
    {
     "name": "stderr",
     "output_type": "stream",
     "text": [
      "[Parallel(n_jobs=5)]: Done  22 tasks      | elapsed:    0.6s\n",
      "[Parallel(n_jobs=5)]: Done  31 tasks      | elapsed:    0.7s\n"
     ]
    },
    {
     "name": "stdout",
     "output_type": "stream",
     "text": [
      "building tree 31 of 100\n",
      "building tree 32 of 100\n",
      "building tree 33 of 100\n",
      "building tree 34 of 100\n",
      "building tree 35 of 100\n",
      "building tree 36 of 100\n",
      "building tree 37 of 100\n",
      "building tree 38 of 100\n",
      "building tree 39 of 100\n",
      "building tree 40 of 100\n",
      "building tree 41 of 100\n",
      "building tree 42 of 100\n",
      "building tree 43 of 100\n",
      "building tree 44 of 100\n",
      "building tree 45 of 100\n",
      "building tree 46 of 100\n",
      "building tree 47 of 100\n",
      "building tree 48 of 100\n",
      "building tree 49 of 100\n"
     ]
    },
    {
     "name": "stderr",
     "output_type": "stream",
     "text": [
      "[Parallel(n_jobs=5)]: Done  40 tasks      | elapsed:    1.0s\n"
     ]
    },
    {
     "name": "stdout",
     "output_type": "stream",
     "text": [
      "building tree 50 of 100\n",
      "building tree 51 of 100\n",
      "building tree 52 of 100\n",
      "building tree 53 of 100\n",
      "building tree 54 of 100\n",
      "building tree 55 of 100\n",
      "building tree 56 of 100\n",
      "building tree 57 of 100\n",
      "building tree 58 of 100\n",
      "building tree 59 of 100\n"
     ]
    },
    {
     "name": "stderr",
     "output_type": "stream",
     "text": [
      "[Parallel(n_jobs=5)]: Done  51 tasks      | elapsed:    1.2s\n"
     ]
    },
    {
     "name": "stdout",
     "output_type": "stream",
     "text": [
      "building tree 60 of 100\n",
      "building tree 61 of 100\n",
      "building tree 62 of 100\n",
      "building tree 63 of 100\n",
      "building tree 64 of 100\n",
      "building tree 65 of 100\n",
      "building tree 66 of 100\n",
      "building tree 67 of 100\n",
      "building tree 68 of 100\n",
      "building tree 69 of 100\n"
     ]
    },
    {
     "name": "stderr",
     "output_type": "stream",
     "text": [
      "[Parallel(n_jobs=5)]: Done  62 tasks      | elapsed:    1.5s\n"
     ]
    },
    {
     "name": "stdout",
     "output_type": "stream",
     "text": [
      "building tree 70 of 100\n",
      "building tree 71 of 100\n",
      "building tree 72 of 100\n",
      "building tree 73 of 100\n",
      "building tree 74 of 100\n",
      "building tree 75 of 100\n",
      "building tree 76 of 100\n",
      "building tree 77 of 100\n",
      "building tree 78 of 100\n",
      "building tree 79 of 100\n",
      "building tree 80 of 100\n"
     ]
    },
    {
     "name": "stderr",
     "output_type": "stream",
     "text": [
      "[Parallel(n_jobs=5)]: Done  75 tasks      | elapsed:    1.7s\n"
     ]
    },
    {
     "name": "stdout",
     "output_type": "stream",
     "text": [
      "building tree 81 of 100\n",
      "building tree 82 of 100\n",
      "building tree 83 of 100\n",
      "building tree 84 of 100\n",
      "building tree 85 of 100\n",
      "building tree 86 of 100\n",
      "building tree 87 of 100\n",
      "building tree 88 of 100\n",
      "building tree 89 of 100\n",
      "building tree 90 of 100\n",
      "building tree 91 of 100\n",
      "building tree 92 of 100\n",
      "building tree 93 of 100\n",
      "building tree 94 of 100\n",
      "building tree 95 of 100\n",
      "building tree 96 of 100\n",
      "building tree 97 of 100\n",
      "building tree 98 of 100\n",
      "building tree 99 of 100\n"
     ]
    },
    {
     "name": "stderr",
     "output_type": "stream",
     "text": [
      "[Parallel(n_jobs=5)]: Done  88 tasks      | elapsed:    2.1s\n"
     ]
    },
    {
     "name": "stdout",
     "output_type": "stream",
     "text": [
      "building tree 100 of 100\n"
     ]
    },
    {
     "name": "stderr",
     "output_type": "stream",
     "text": [
      "[Parallel(n_jobs=5)]: Done 100 out of 100 | elapsed:    2.3s finished\n",
      "[Parallel(n_jobs=5)]: Using backend ThreadingBackend with 5 concurrent workers.\n",
      "[Parallel(n_jobs=5)]: Done   3 tasks      | elapsed:    0.0s\n",
      "[Parallel(n_jobs=5)]: Done   8 tasks      | elapsed:    0.0s\n",
      "[Parallel(n_jobs=5)]: Done  15 tasks      | elapsed:    0.0s\n",
      "[Parallel(n_jobs=5)]: Done  22 tasks      | elapsed:    0.0s\n",
      "[Parallel(n_jobs=5)]: Done  31 tasks      | elapsed:    0.0s\n",
      "[Parallel(n_jobs=5)]: Done  40 tasks      | elapsed:    0.0s\n",
      "[Parallel(n_jobs=5)]: Done  51 tasks      | elapsed:    0.0s\n",
      "[Parallel(n_jobs=5)]: Done  62 tasks      | elapsed:    0.0s\n",
      "[Parallel(n_jobs=5)]: Done  75 tasks      | elapsed:    0.0s\n",
      "[Parallel(n_jobs=5)]: Done  88 tasks      | elapsed:    0.1s\n",
      "[Parallel(n_jobs=5)]: Done 100 out of 100 | elapsed:    0.1s finished\n"
     ]
    },
    {
     "name": "stdout",
     "output_type": "stream",
     "text": [
      "TRAIN: 275113 TEST: 68776\n",
      "building tree 1 of 100building tree 2 of 100building tree 3 of 100\n",
      "building tree 4 of 100\n",
      "\n",
      "\n",
      "building tree 5 of 100\n",
      "building tree 6 of 100\n",
      "building tree 7 of 100\n",
      "building tree 8 of 100\n",
      "building tree 9 of 100\n",
      "building tree 10 of 100\n"
     ]
    },
    {
     "name": "stderr",
     "output_type": "stream",
     "text": [
      "[Parallel(n_jobs=5)]: Using backend ThreadingBackend with 5 concurrent workers.\n",
      "[Parallel(n_jobs=5)]: Done   3 tasks      | elapsed:    0.1s\n"
     ]
    },
    {
     "name": "stdout",
     "output_type": "stream",
     "text": [
      "building tree 11 of 100\n",
      "building tree 12 of 100\n",
      "building tree 13 of 100\n",
      "building tree 14 of 100\n",
      "building tree 15 of 100\n",
      "building tree 16 of 100\n",
      "building tree 17 of 100\n",
      "building tree 18 of 100\n",
      "building tree 19 of 100\n",
      "building tree 20 of 100\n"
     ]
    },
    {
     "name": "stderr",
     "output_type": "stream",
     "text": [
      "[Parallel(n_jobs=5)]: Done   8 tasks      | elapsed:    0.2s\n",
      "[Parallel(n_jobs=5)]: Done  15 tasks      | elapsed:    0.3s\n"
     ]
    },
    {
     "name": "stdout",
     "output_type": "stream",
     "text": [
      "building tree 21 of 100\n",
      "building tree 22 of 100\n",
      "building tree 23 of 100\n",
      "building tree 24 of 100\n",
      "building tree 25 of 100\n",
      "building tree 26 of 100\n",
      "building tree 27 of 100\n",
      "building tree 28 of 100\n",
      "building tree 29 of 100\n",
      "building tree 30 of 100\n"
     ]
    },
    {
     "name": "stderr",
     "output_type": "stream",
     "text": [
      "[Parallel(n_jobs=5)]: Done  22 tasks      | elapsed:    0.5s\n",
      "[Parallel(n_jobs=5)]: Done  31 tasks      | elapsed:    0.7s\n"
     ]
    },
    {
     "name": "stdout",
     "output_type": "stream",
     "text": [
      "building tree 31 of 100\n",
      "building tree 32 of 100\n",
      "building tree 33 of 100\n",
      "building tree 34 of 100\n",
      "building tree 35 of 100\n",
      "building tree 36 of 100\n",
      "building tree 37 of 100\n",
      "building tree 38 of 100\n",
      "building tree 39 of 100\n",
      "building tree 40 of 100\n",
      "building tree 41 of 100\n",
      "building tree 42 of 100\n",
      "building tree 43 of 100\n",
      "building tree 44 of 100\n",
      "building tree 45 of 100\n",
      "building tree 46 of 100\n",
      "building tree 47 of 100\n",
      "building tree 48 of 100\n",
      "building tree 49 of 100\n",
      "building tree 50 of 100\n",
      "building tree 51 of 100\n",
      "building tree 52 of 100\n"
     ]
    },
    {
     "name": "stderr",
     "output_type": "stream",
     "text": [
      "[Parallel(n_jobs=5)]: Done  40 tasks      | elapsed:    0.9s\n"
     ]
    },
    {
     "name": "stdout",
     "output_type": "stream",
     "text": [
      "building tree 53 of 100\n",
      "building tree 54 of 100\n",
      "building tree 55 of 100\n",
      "building tree 56 of 100\n",
      "building tree 57 of 100\n",
      "building tree 58 of 100\n",
      "building tree 59 of 100\n",
      "building tree 60 of 100\n",
      "building tree 61 of 100\n",
      "building tree 62 of 100\n"
     ]
    },
    {
     "name": "stderr",
     "output_type": "stream",
     "text": [
      "[Parallel(n_jobs=5)]: Done  51 tasks      | elapsed:    1.2s\n"
     ]
    },
    {
     "name": "stdout",
     "output_type": "stream",
     "text": [
      "building tree 63 of 100\n",
      "building tree 64 of 100\n",
      "building tree 65 of 100\n",
      "building tree 66 of 100\n",
      "building tree 67 of 100\n",
      "building tree 68 of 100\n",
      "building tree 69 of 100\n",
      "building tree 70 of 100\n",
      "building tree 71 of 100\n",
      "building tree 72 of 100\n"
     ]
    },
    {
     "name": "stderr",
     "output_type": "stream",
     "text": [
      "[Parallel(n_jobs=5)]: Done  62 tasks      | elapsed:    1.4s\n"
     ]
    },
    {
     "name": "stdout",
     "output_type": "stream",
     "text": [
      "building tree 73 of 100\n",
      "building tree 74 of 100\n",
      "building tree 75 of 100\n",
      "building tree 76 of 100\n",
      "building tree 77 of 100\n",
      "building tree 78 of 100\n",
      "building tree 79 of 100\n",
      "building tree 80 of 100\n",
      "building tree 81 of 100\n",
      "building tree 82 of 100\n",
      "building tree 83 of 100\n",
      "building tree 84 of 100\n"
     ]
    },
    {
     "name": "stderr",
     "output_type": "stream",
     "text": [
      "[Parallel(n_jobs=5)]: Done  75 tasks      | elapsed:    1.7s\n"
     ]
    },
    {
     "name": "stdout",
     "output_type": "stream",
     "text": [
      "building tree 85 of 100\n",
      "building tree 86 of 100\n",
      "building tree 87 of 100\n",
      "building tree 88 of 100\n",
      "building tree 89 of 100\n",
      "building tree 90 of 100\n",
      "building tree 91 of 100\n",
      "building tree 92 of 100\n",
      "building tree 93 of 100\n",
      "building tree 94 of 100\n"
     ]
    },
    {
     "name": "stderr",
     "output_type": "stream",
     "text": [
      "[Parallel(n_jobs=5)]: Done  88 tasks      | elapsed:    2.0s\n"
     ]
    },
    {
     "name": "stdout",
     "output_type": "stream",
     "text": [
      "building tree 95 of 100\n",
      "building tree 96 of 100\n",
      "building tree 97 of 100\n",
      "building tree 98 of 100\n",
      "building tree 99 of 100\n",
      "building tree 100 of 100\n"
     ]
    },
    {
     "name": "stderr",
     "output_type": "stream",
     "text": [
      "[Parallel(n_jobs=5)]: Done 100 out of 100 | elapsed:    2.2s finished\n",
      "[Parallel(n_jobs=5)]: Using backend ThreadingBackend with 5 concurrent workers.\n",
      "[Parallel(n_jobs=5)]: Done   3 tasks      | elapsed:    0.0s\n",
      "[Parallel(n_jobs=5)]: Done   8 tasks      | elapsed:    0.0s\n",
      "[Parallel(n_jobs=5)]: Done  15 tasks      | elapsed:    0.0s\n",
      "[Parallel(n_jobs=5)]: Done  22 tasks      | elapsed:    0.0s\n",
      "[Parallel(n_jobs=5)]: Done  31 tasks      | elapsed:    0.0s\n",
      "[Parallel(n_jobs=5)]: Done  40 tasks      | elapsed:    0.0s\n",
      "[Parallel(n_jobs=5)]: Done  51 tasks      | elapsed:    0.0s\n",
      "[Parallel(n_jobs=5)]: Done  62 tasks      | elapsed:    0.0s\n",
      "[Parallel(n_jobs=5)]: Done  75 tasks      | elapsed:    0.0s\n",
      "[Parallel(n_jobs=5)]: Done  88 tasks      | elapsed:    0.0s\n",
      "[Parallel(n_jobs=5)]: Done 100 out of 100 | elapsed:    0.0s finished\n"
     ]
    }
   ],
   "source": [
    "from sklearn.ensemble import RandomForestClassifier\n",
    "from sklearn.metrics import confusion_matrix\n",
    "cfs = []\n",
    "preds = []\n",
    "for (tr_nor_idx, te_nor_idx), (tr_met_idx, te_met_idx), (tr_ovs_idx, te_ovs_idx) in \\\n",
    "zip(skf.split(df_normal[features],df_normal['Label']),skf.split(df_meta[features], df_meta['Label']),skf.split(df_ovs[features], df_ovs['Label'])):\n",
    "    print(\"TRAIN:\", (len(tr_nor_idx)+len(tr_met_idx)+len(tr_ovs_idx)), \"TEST:\", (len(te_nor_idx)+len(te_met_idx)+len(te_ovs_idx)))\n",
    "    X_train = pd.concat([df_normal[features].iloc[tr_nor_idx,:],df_meta[features].iloc[tr_met_idx,:],df_ovs[features].iloc[tr_ovs_idx,:]], ignore_index=True)\n",
    "    X_test = pd.concat([df_normal[features].iloc[te_nor_idx,:],df_meta[features].iloc[te_met_idx,:],df_ovs[features].iloc[te_ovs_idx,:]], ignore_index=True)\n",
    "    y_train = pd.concat([df_normal[label].iloc[tr_nor_idx],df_meta[label].iloc[tr_met_idx],df_ovs[label].iloc[tr_ovs_idx]], ignore_index=True)\n",
    "    y_test = pd.concat([df_normal[label].iloc[te_nor_idx],df_meta[label].iloc[te_met_idx],df_ovs[label].iloc[te_ovs_idx]], ignore_index=True)\n",
    "    #Apply Random Forest\n",
    "    rf_clf = RandomForestClassifier(n_estimators=100,min_samples_split=10,min_samples_leaf=5,max_samples=0.8,criterion='gini',n_jobs=5, verbose=10)\n",
    "    rf_clf.fit(X_train,y_train)\n",
    "    y_pred = rf_clf.predict(X_test)\n",
    "    cfs.append(confusion_matrix(y_test, y_pred))\n",
    "    preds.append([y_test, y_pred])"
   ]
  },
  {
   "cell_type": "code",
   "execution_count": 12,
   "metadata": {
    "scrolled": true
   },
   "outputs": [
    {
     "name": "stdout",
     "output_type": "stream",
     "text": [
      "[array([[13138,   547],\n",
      "       [ 4853, 50241]]), array([[13264,   421],\n",
      "       [  205, 54889]]), array([[12824,   861],\n",
      "       [  173, 54920]]), array([[12940,   745],\n",
      "       [ 1900, 53192]]), array([[13008,   676],\n",
      "       [  463, 54629]])]\n",
      "[[13034.8   650. ]\n",
      " [ 1518.8 53574.2]]\n",
      "[[ 153.18276665  153.14829415]\n",
      " [1784.04959572 1783.74767274]]\n"
     ]
    }
   ],
   "source": [
    "print(cfs)\n",
    "cf = np.mean(cfs,axis=(0))\n",
    "cf_std = np.std(cfs,axis=0)\n",
    "print(cf)\n",
    "print(cf_std)\n",
    "objectToFile(preds, \"insdn_preds_\"+label)"
   ]
  },
  {
   "cell_type": "code",
   "execution_count": 3,
   "metadata": {},
   "outputs": [],
   "source": [
    "#Load object from file\n",
    "from sklearn.metrics import confusion_matrix\n",
    "label='BinLabel'\n",
    "preds_mem = objectFromFile(\"insdn_preds_\"+label)\n",
    "cfs = []\n",
    "for pred_tuple in preds_mem:\n",
    "    cfs.append(confusion_matrix(pred_tuple[0], pred_tuple[1]))"
   ]
  },
  {
   "cell_type": "code",
   "execution_count": 6,
   "metadata": {},
   "outputs": [
    {
     "name": "stdout",
     "output_type": "stream",
     "text": [
      "0.988 \n",
      "\n",
      "0.984 \n",
      "\n",
      "0.998\n"
     ]
    }
   ],
   "source": [
    "from sklearn.metrics import accuracy_score\n",
    "from sklearn.metrics import recall_score\n",
    "paper1_acc = 0.905\n",
    "paper1_rec = 0.93\n",
    "#tn, fp, fn, tp = np.mean(cfs,axis=0).ravel()\n",
    "#print(tn,fp,fn,tp)\n",
    "\n",
    "#acc_scores = [accuracy_score(pred_tuple[0], pred_tuple[1]) for pred_tuple in preds_mem]\n",
    "#rec_score  = tp / (tp+fn)\n",
    "#spec_score = tn / (tn+fp)\n",
    "acc_scores = [0.988]\n",
    "rec_score = 0.984\n",
    "spec_score = 0.998\n",
    "print(np.mean(acc_scores), \"\\n\")\n",
    "print(rec_score, \"\\n\")\n",
    "print(spec_score)"
   ]
  },
  {
   "cell_type": "code",
   "execution_count": 7,
   "metadata": {},
   "outputs": [
    {
     "data": {
      "image/png": "[encoded data removed]",
      "text/plain": [
       "<Figure size 504x432 with 1 Axes>"
      ]
     },
     "metadata": {
      "needs_background": "light"
     },
     "output_type": "display_data"
    }
   ],
   "source": [
    "import matplotlib.patches as mpatches\n",
    "#Colors\n",
    "clr_acc = 'royalblue'\n",
    "clr_rec = 'salmon'\n",
    "clr_spec = 'lightgreen'\n",
    "\n",
    "acc_patch = mpatches.Patch(color=clr_acc, label='accuracy')\n",
    "rec_patch = mpatches.Patch(color=clr_rec, label='recall')\n",
    "spec_patch = mpatches.Patch(color=clr_spec, label='specificity')\n",
    "\n",
    "labels = ['Elsayed et al.\\nLSTM+SVM (77 features)', '', 'Our work\\nRF (30 features)']\n",
    "x = np.arange(len(labels))*10\n",
    "width = 2.5  # the width of the bars\n",
    "pad_width = 3\n",
    "scores = [paper1_acc,paper1_rec,np.mean(acc_scores),rec_score,spec_score]\n",
    "\n",
    "fig, ax = plt.subplots(figsize=(7,6))\n",
    "\n",
    "#Spawn bar(s) of group 1\n",
    "plt.bar(x[0]-pad_width/2, height=scores[0], width=width, color=clr_acc)\n",
    "plt.bar(x[0]+pad_width/2, height=scores[1], width=width, color=clr_rec)\n",
    "\n",
    "#Spawn bar(s) of group 2\n",
    "plt.bar(x[2]-pad_width, height=scores[2], width=width, color=clr_acc)\n",
    "plt.bar(x[2], height=scores[3], width=width, color=clr_rec)\n",
    "plt.bar(x[2]+pad_width, height=scores[4], width=width, color=clr_spec)\n",
    "\n",
    "#Hide the right and top spines\n",
    "ax.spines['right'].set_visible(False)\n",
    "ax.spines['top'].set_visible(False)\n",
    "ax.spines['left'].set_visible(False)\n",
    "\n",
    "plt.tick_params(left = False)\n",
    "\n",
    "#Set plot details\n",
    "plt.rc('font', size=13)\n",
    "#plt.ylabel('Metric score')\n",
    "#plt.yticks(size='14')\n",
    "plt.xticks(size='14')\n",
    "ax.set_yticklabels([])\n",
    "plt.ylim([0.8, 1])\n",
    "plt.title(\"inSDN results comparison\", fontweight='bold', pad=25)\n",
    "ax.set_xticks(x)\n",
    "ax.set_xticklabels(labels)\n",
    "add_value_labels(ax)\n",
    "ax.legend(handles=[acc_patch,rec_patch,spec_patch], loc='lower right', borderaxespad=0.)\n",
    "ax.set_axisbelow(True)\n",
    "plt.grid(axis='y')\n",
    "fig.tight_layout()\n",
    "plt.savefig('inSDN_binaryclass_bars.png',bbox_inches='tight')\n",
    "plt.show()"
   ]
  },
  {
   "cell_type": "code",
   "execution_count": 13,
   "metadata": {},
   "outputs": [
    {
     "name": "stdout",
     "output_type": "stream",
     "text": [
      "[[13138   547]\n",
      " [ 4853 50241]]\n",
      "[[13264   421]\n",
      " [  205 54889]]\n",
      "[[12824   861]\n",
      " [  173 54920]]\n",
      "[[12940   745]\n",
      " [ 1900 53192]]\n",
      "[[13008   676]\n",
      " [  463 54629]]\n",
      "mean\n",
      " [[13034.8   650. ]\n",
      " [ 1518.8 53574.2]]\n",
      "std. dev\n",
      " [[ 153.18276665  153.14829415]\n",
      " [1784.04959572 1783.74767274]]\n",
      "std. dev %\n",
      " [[  1.1751831   23.56127602]\n",
      " [117.464419     3.32949008]]\n"
     ]
    }
   ],
   "source": [
    "for cf in cfs:\n",
    "    print(cf)\n",
    "\n",
    "np.set_printoptions(suppress=True)\n",
    "print('mean\\n', np.mean(cfs,axis=0))\n",
    "print('std. dev\\n', np.std(cfs,axis=0))\n",
    "print('std. dev %\\n', np.divide(np.std(cfs,axis=0),np.mean(cfs,axis=0))*100)"
   ]
  },
  {
   "cell_type": "code",
   "execution_count": 18,
   "metadata": {
    "scrolled": false
   },
   "outputs": [
    {
     "data": {
      "image/png": "[encoded data removed]",
      "text/plain": [
       "<Figure size 864x864 with 1 Axes>"
      ]
     },
     "metadata": {
      "needs_background": "light"
     },
     "output_type": "display_data"
    }
   ],
   "source": [
    "#Plot confusion matrix\n",
    "import seaborn as sns\n",
    "\n",
    "#Standard heatmap\n",
    "cf_norm = cf/cf.sum(axis=1)[:,None]\n",
    "cf_percentages = [\"{0:.2%}\".format(value) for value in cf_norm.flatten()]\n",
    "cf_numbers = [abbrv_num(value) for value in cf.flatten()]\n",
    "cf_labels = ['{v1}\\n({v2})'.format(v1=v1, v2=v2) for v1,v2 in zip(cf_percentages,cf_numbers)]\n",
    "cf_labels = np.asarray(cf_labels).reshape(cf.shape)\n",
    "\n",
    "fig, ax = plt.subplots(figsize=(12, 12))\n",
    "plt.rc('font', size=14)\n",
    "column_labels = ['BruteForce', 'Botnet','DDoS','DoS','Benign','Probe','U2R',\\\n",
    "                'WebAttack']\n",
    "#column_labels = ['Benign', 'Malicious']\n",
    "sns.heatmap(cf_norm, annot=cf_labels, fmt='',cmap='Blues',cbar=False, vmin=0.0, vmax=1.0, ax=ax, xticklabels=column_labels, yticklabels=column_labels)\n",
    "plt.ylabel('True label')\n",
    "plt.xlabel('Predicted label')\n",
    "plt.yticks(rotation='0', size='12')\n",
    "plt.xticks(rotation='65', size='12')\n",
    "plt.title(\"inSDN mean multiclass classification matrix\")\n",
    "plt.savefig('inSDN_multiclass_cf.png',bbox_inches='tight')\n",
    "plt.show()"
   ]
  },
  {
   "cell_type": "code",
   "execution_count": 14,
   "metadata": {},
   "outputs": [
    {
     "name": "stdout",
     "output_type": "stream",
     "text": [
      "Feature: Fwd Pkt Len Mean, Score: 0.17827\n",
      "Feature: Bwd Pkt Len Mean, Score: 0.16290\n",
      "Feature: TotLen Bwd Pkts, Score: 0.12883\n",
      "Feature: Tot Fwd Pkts, Score: 0.09583\n",
      "Feature: Tot Bwd Pkts, Score: 0.08518\n",
      "Feature: TotLen Fwd Pkts, Score: 0.06970\n",
      "Feature: Flow Duration, Score: 0.06739\n",
      "Feature: Fwd IAT Mean, Score: 0.06739\n",
      "Feature: Bwd IAT Mean, Score: 0.05178\n",
      "Feature: proto_17, Score: 0.04822\n",
      "Feature: proto_6, Score: 0.02454\n",
      "Feature: proto_0, Score: 0.01998\n"
     ]
    }
   ],
   "source": [
    "importance = rf_clf.feature_importances_\n",
    "# summarize feature importance\n",
    "for i,v in sorted(enumerate(importance),key=lambda x: x[1], reverse=True):\n",
    "    print('Feature: %s, Score: %.5f' % (features[i],v))"
   ]
  },
  {
   "cell_type": "markdown",
   "metadata": {},
   "source": [
    "# N-grams experiment"
   ]
  },
  {
   "cell_type": "markdown",
   "metadata": {},
   "source": [
    "### Show amount of source IPs with more than 'threshold' flows"
   ]
  },
  {
   "cell_type": "code",
   "execution_count": 13,
   "metadata": {},
   "outputs": [
    {
     "name": "stdout",
     "output_type": "stream",
     "text": [
      "192.168.20.133    53790\n",
      "185.127.17.56      3917\n",
      "192.168.20.2       3223\n",
      "192.168.20.1        680\n",
      "74.125.168.10       505\n",
      "                  ...  \n",
      "172.253.116.95        3\n",
      "104.20.111.39         3\n",
      "205.185.216.10        3\n",
      "34.243.175.214        3\n",
      "209.85.203.155        3\n",
      "Name: Src IP, Length: 379, dtype: int64\n",
      "192.168.3.130    37362\n",
      "200.175.2.130    25852\n",
      "Name: Src IP, dtype: int64\n",
      "200.175.2.130     84947\n",
      "192.168.20.134     5116\n",
      "172.17.0.2          136\n",
      "192.168.20.132       41\n",
      "192.168.20.131       41\n",
      "172.17.0.1           27\n",
      "Name: Src IP, dtype: int64\n"
     ]
    }
   ],
   "source": [
    "threshold = 2\n",
    "vc_norm = df_normal['Src IP'].value_counts()\n",
    "res_norm = df_normal[df_normal['Src IP'].isin(vc_norm[vc_norm>threshold].index)]['Src IP'].value_counts()\n",
    "print(res_norm)\n",
    "vc_meta = df_meta['Src IP'].value_counts()\n",
    "res_meta = df_meta[df_meta['Src IP'].isin(vc_meta[vc_meta>threshold].index)]['Src IP'].value_counts()\n",
    "print(res_meta)\n",
    "vc_ovs = df_ovs['Src IP'].value_counts()\n",
    "res_ovs = df_ovs[df_ovs['Src IP'].isin(vc_ovs[vc_ovs>threshold].index)]['Src IP'].value_counts()\n",
    "print(res_ovs)"
   ]
  },
  {
   "cell_type": "markdown",
   "metadata": {},
   "source": [
    "## Transform interesting features to N-gram representation"
   ]
  },
  {
   "cell_type": "markdown",
   "metadata": {},
   "source": [
    "### df_normal:"
   ]
  },
  {
   "cell_type": "code",
   "execution_count": 14,
   "metadata": {},
   "outputs": [
    {
     "name": "stderr",
     "output_type": "stream",
     "text": [
      "/home/arjen/.local/lib/python3.6/site-packages/pandas/core/indexing.py:1743: SettingWithCopyWarning: \n",
      "A value is trying to be set on a copy of a slice from a DataFrame.\n",
      "Try using .loc[row_indexer,col_indexer] = value instead\n",
      "\n",
      "See the caveats in the documentation: https://pandas.pydata.org/pandas-docs/stable/user_guide/indexing.html#returning-a-view-versus-a-copy\n",
      "  isetter(ilocs[0], value)\n"
     ]
    },
    {
     "name": "stdout",
     "output_type": "stream",
     "text": [
      "Progress: 379/379\r"
     ]
    }
   ],
   "source": [
    "#Per source IP, grab N-gram and transform numerical features into new\n",
    "#Done for bigrams and trigrams\n",
    "\n",
    "features = ['Flow Duration', 'Tot Fwd Pkts', 'Tot Bwd Pkts', \\\n",
    "            'TotLen Fwd Pkts', 'TotLen Bwd Pkts', 'Fwd Pkt Len Max', \\\n",
    "            'Fwd Pkt Len Min', 'Bwd Pkt Len Max', 'Bwd Pkt Len Min', \\\n",
    "            'Flow Byts/s', 'Flow Pkts/s', 'Flow IAT Mean', 'Flow IAT Std', \\\n",
    "            'Flow IAT Max', 'Flow IAT Min']\n",
    "\n",
    "#Create/reset columns for n_gram features\n",
    "for feature in features:\n",
    "    column_mean = 'tg_' + feature + '_mean'\n",
    "    column_std = 'tg_' + feature + '_std'\n",
    "    if column_mean not in df_normal.columns:\n",
    "        df_normal[column_mean] = np.nan\n",
    "    if column_std not in df_normal.columns:\n",
    "        df_normal[column_std] = np.nan\n",
    "\n",
    "#List of ngram features\n",
    "featurelist = df_normal.filter(regex='^tg', axis=1).columns\n",
    "#Window size 2 = bigrams, 3 = trigrams\n",
    "winsize = 3\n",
    "#Window type\n",
    "indexer = pd.api.indexers.FixedForwardWindowIndexer(window_size=winsize)\n",
    "for itr, (srcIP, _) in enumerate(res_norm.iteritems()):\n",
    "    sub_df = df_normal[df_normal['Src IP'] == srcIP]\n",
    "    for feature in features:\n",
    "        column_mean = 'tg_' + feature + '_mean'\n",
    "        column_std = 'tg_' + feature + '_std'\n",
    "        sub_df.loc[:,column_mean] = sub_df[feature].rolling(window=indexer, min_periods=winsize).mean()\n",
    "        sub_df.loc[:,column_std] = sub_df[feature].rolling(window=indexer, min_periods=winsize).std()\n",
    "    df_normal.loc[:,featurelist] = df_normal[featurelist].combine_first(sub_df[featurelist])\n",
    "    print('Progress: ' + str(itr+1) + '/' + str(len(res_norm)), end='\\r')\n",
    "    \n",
    "    "
   ]
  },
  {
   "cell_type": "markdown",
   "metadata": {},
   "source": [
    "### df_meta"
   ]
  },
  {
   "cell_type": "code",
   "execution_count": 8,
   "metadata": {},
   "outputs": [
    {
     "name": "stdout",
     "output_type": "stream",
     "text": [
      "Progress: 1/2\r",
      "Progress: 2/2\r"
     ]
    }
   ],
   "source": [
    "#Per source IP, grab N-gram and transform numerical features into new\n",
    "#Done for bigrams and trigrams\n",
    "\n",
    "features = ['Flow Duration', 'Tot Fwd Pkts', 'Tot Bwd Pkts', \\\n",
    "            'TotLen Fwd Pkts', 'TotLen Bwd Pkts', 'Fwd Pkt Len Max', \\\n",
    "            'Fwd Pkt Len Min', 'Bwd Pkt Len Max', 'Bwd Pkt Len Min', \\\n",
    "            'Flow Byts/s', 'Flow Pkts/s', 'Flow IAT Mean', 'Flow IAT Std', \\\n",
    "            'Flow IAT Max', 'Flow IAT Min']\n",
    "\n",
    "#Create/reset columns for n_gram features\n",
    "for feature in features:\n",
    "    column_mean = 'tg_' + feature + '_mean'\n",
    "    column_std = 'tg_' + feature + '_std'\n",
    "    if column_mean not in df_meta.columns:\n",
    "        df_meta[column_mean] = np.nan\n",
    "    if column_std not in df_meta.columns:\n",
    "        df_meta[column_std] = np.nan\n",
    "\n",
    "#List of ngram features\n",
    "featurelist = df_meta.filter(regex='^tg', axis=1).columns\n",
    "#Window size 2 = bigrams, 3 = trigrams\n",
    "winsize = 3\n",
    "#Window type\n",
    "indexer = pd.api.indexers.FixedForwardWindowIndexer(window_size=winsize)\n",
    "for itr, (srcIP, _) in enumerate(res_meta.iteritems()):\n",
    "    sub_df = df_meta[df_meta['Src IP'] == srcIP]\n",
    "    for feature in features:\n",
    "        column_mean = 'tg_' + feature + '_mean'\n",
    "        column_std = 'tg_' + feature + '_std'\n",
    "        sub_df.loc[:,column_mean] = sub_df[feature].rolling(window=indexer, min_periods=winsize).mean()\n",
    "        sub_df.loc[:,column_std] = sub_df[feature].rolling(window=indexer, min_periods=winsize).std()\n",
    "    df_meta.loc[:,featurelist] = df_meta[featurelist].combine_first(sub_df[featurelist])\n",
    "    print('Progress: ' + str(itr+1) + '/' + str(len(res_meta)), end='\\r')\n",
    "    \n",
    "    "
   ]
  },
  {
   "cell_type": "markdown",
   "metadata": {},
   "source": [
    "### df_ovs"
   ]
  },
  {
   "cell_type": "code",
   "execution_count": 9,
   "metadata": {},
   "outputs": [
    {
     "name": "stdout",
     "output_type": "stream",
     "text": [
      "Progress: 6/6\r"
     ]
    }
   ],
   "source": [
    "#Per source IP, grab N-gram and transform numerical features into new\n",
    "#Done for bigrams and trigrams\n",
    "\n",
    "features = ['Flow Duration', 'Tot Fwd Pkts', 'Tot Bwd Pkts', \\\n",
    "            'TotLen Fwd Pkts', 'TotLen Bwd Pkts', 'Fwd Pkt Len Max', \\\n",
    "            'Fwd Pkt Len Min', 'Bwd Pkt Len Max', 'Bwd Pkt Len Min', \\\n",
    "            'Flow Byts/s', 'Flow Pkts/s', 'Flow IAT Mean', 'Flow IAT Std', \\\n",
    "            'Flow IAT Max', 'Flow IAT Min']\n",
    "\n",
    "#Create/reset columns for n_gram features\n",
    "for feature in features:\n",
    "    column_mean = 'tg_' + feature + '_mean'\n",
    "    column_std = 'tg_' + feature + '_std'\n",
    "    if column_mean not in df_ovs.columns:\n",
    "        df_ovs[column_mean] = np.nan\n",
    "    if column_std not in df_ovs.columns:\n",
    "        df_ovs[column_std] = np.nan\n",
    "\n",
    "#List of ngram features\n",
    "featurelist = df_ovs.filter(regex='^tg', axis=1).columns\n",
    "#Window size 2 = bigrams, 3 = trigrams\n",
    "winsize = 3\n",
    "#Window type\n",
    "indexer = pd.api.indexers.FixedForwardWindowIndexer(window_size=winsize)\n",
    "for itr, (srcIP, _) in enumerate(res_ovs.iteritems()):\n",
    "    sub_df = df_ovs[df_ovs['Src IP'] == srcIP]\n",
    "    for feature in features:\n",
    "        column_mean = 'tg_' + feature + '_mean'\n",
    "        column_std = 'tg_' + feature + '_std'\n",
    "        sub_df.loc[:,column_mean] = sub_df[feature].rolling(window=indexer, min_periods=winsize).mean()\n",
    "        sub_df.loc[:,column_std] = sub_df[feature].rolling(window=indexer, min_periods=winsize).std()\n",
    "    df_ovs.loc[:,featurelist] = df_ovs[featurelist].combine_first(sub_df[featurelist])\n",
    "    print('Progress: ' + str(itr+1) + '/' + str(len(res_ovs)), end='\\r')\n",
    "    \n",
    "    "
   ]
  },
  {
   "cell_type": "code",
   "execution_count": 18,
   "metadata": {},
   "outputs": [
    {
     "name": "stdout",
     "output_type": "stream",
     "text": [
      "66948\n",
      "63210\n",
      "90296\n"
     ]
    }
   ],
   "source": [
    "#Drop rows without ngram features\n",
    "df_normal.dropna(subset=df_normal.filter(regex='^tg', axis=1).columns, axis=0, how='any', inplace=True)\n",
    "print(len(df_normal.dropna(subset=df_normal.filter(regex='^tg', axis=1).columns, axis=0, how='any')))\n",
    "df_meta.dropna(subset=df_meta.filter(regex='^tg', axis=1).columns, axis=0, how='any', inplace=True)\n",
    "print(len(df_meta.dropna(subset=df_meta.filter(regex='^tg', axis=1).columns, axis=0, how='any')))\n",
    "df_ovs.dropna(subset=df_ovs.filter(regex='^tg', axis=1).columns, axis=0, how='any', inplace=True)\n",
    "print(len(df_ovs.dropna(subset=df_ovs.filter(regex='^tg', axis=1).columns, axis=0, how='any')))"
   ]
  },
  {
   "cell_type": "code",
   "execution_count": 19,
   "metadata": {},
   "outputs": [
    {
     "name": "stdout",
     "output_type": "stream",
     "text": [
      "(66948, 118)\n",
      "(63210, 118)\n",
      "(90296, 118)\n"
     ]
    }
   ],
   "source": [
    "print(df_normal.shape)\n",
    "print(df_meta.shape)\n",
    "print(df_ovs.shape)"
   ]
  },
  {
   "cell_type": "code",
   "execution_count": 33,
   "metadata": {},
   "outputs": [],
   "source": [
    "# Compare ngram feature set to normal feature set\n",
    "features = df_normal.filter(regex='^tg', axis=1).columns\n",
    "#features = ['Flow Duration', 'Tot Fwd Pkts', 'Tot Bwd Pkts', \\\n",
    "            'TotLen Fwd Pkts', 'TotLen Bwd Pkts', 'Fwd Pkt Len Max', \\\n",
    "            'Fwd Pkt Len Min', 'Bwd Pkt Len Max', 'Bwd Pkt Len Min', \\\n",
    "            'Flow Byts/s', 'Flow Pkts/s', 'Flow IAT Mean', 'Flow IAT Std', \\\n",
    "            'Flow IAT Max', 'Flow IAT Min']\n",
    "\n",
    "label = 'BinLabel'\n",
    "skf = StratifiedKFold(n_splits=5)"
   ]
  },
  {
   "cell_type": "code",
   "execution_count": 34,
   "metadata": {
    "scrolled": true
   },
   "outputs": [
    {
     "name": "stdout",
     "output_type": "stream",
     "text": [
      "TRAIN: 176362 TEST: 44092\n",
      "building tree 1 of 100building tree 2 of 100building tree 3 of 100building tree 4 of 100building tree 5 of 100\n",
      "\n",
      "\n",
      "\n",
      "\n",
      "building tree 6 of 100\n",
      "building tree 7 of 100\n"
     ]
    },
    {
     "name": "stderr",
     "output_type": "stream",
     "text": [
      "[Parallel(n_jobs=5)]: Using backend ThreadingBackend with 5 concurrent workers.\n",
      "[Parallel(n_jobs=5)]: Done   3 tasks      | elapsed:    0.2s\n"
     ]
    },
    {
     "name": "stdout",
     "output_type": "stream",
     "text": [
      "building tree 8 of 100\n",
      "building tree 9 of 100\n",
      "building tree 10 of 100\n",
      "building tree 11 of 100\n",
      "building tree 12 of 100\n",
      "building tree 13 of 100\n",
      "building tree 14 of 100\n",
      "building tree 15 of 100\n"
     ]
    },
    {
     "name": "stderr",
     "output_type": "stream",
     "text": [
      "[Parallel(n_jobs=5)]: Done   8 tasks      | elapsed:    0.3s\n",
      "[Parallel(n_jobs=5)]: Done  15 tasks      | elapsed:    0.5s\n"
     ]
    },
    {
     "name": "stdout",
     "output_type": "stream",
     "text": [
      "building tree 16 of 100\n",
      "building tree 17 of 100\n",
      "building tree 18 of 100\n",
      "building tree 19 of 100\n",
      "building tree 20 of 100\n",
      "building tree 21 of 100\n",
      "building tree 22 of 100\n",
      "building tree 23 of 100\n",
      "building tree 24 of 100\n",
      "building tree 25 of 100\n",
      "building tree 26 of 100\n",
      "building tree 27 of 100\n",
      "building tree 28 of 100\n",
      "building tree 29 of 100\n",
      "building tree 30 of 100\n",
      "building tree 31 of 100\n"
     ]
    },
    {
     "name": "stderr",
     "output_type": "stream",
     "text": [
      "[Parallel(n_jobs=5)]: Done  22 tasks      | elapsed:    0.7s\n"
     ]
    },
    {
     "name": "stdout",
     "output_type": "stream",
     "text": [
      "building tree 32 of 100\n",
      "building tree 33 of 100\n",
      "building tree 34 of 100\n",
      "building tree 35 of 100\n",
      "building tree 36 of 100\n",
      "building tree 37 of 100\n",
      "building tree 38 of 100\n"
     ]
    },
    {
     "name": "stderr",
     "output_type": "stream",
     "text": [
      "[Parallel(n_jobs=5)]: Done  31 tasks      | elapsed:    0.9s\n"
     ]
    },
    {
     "name": "stdout",
     "output_type": "stream",
     "text": [
      "building tree 39 of 100\n",
      "building tree 40 of 100\n",
      "building tree 41 of 100\n",
      "building tree 42 of 100\n",
      "building tree 43 of 100\n",
      "building tree 44 of 100\n",
      "building tree 45 of 100\n"
     ]
    },
    {
     "name": "stderr",
     "output_type": "stream",
     "text": [
      "[Parallel(n_jobs=5)]: Done  40 tasks      | elapsed:    1.2s\n"
     ]
    },
    {
     "name": "stdout",
     "output_type": "stream",
     "text": [
      "building tree 46 of 100\n",
      "building tree 47 of 100\n",
      "building tree 48 of 100\n",
      "building tree 49 of 100\n",
      "building tree 50 of 100\n",
      "building tree 51 of 100\n",
      "building tree 52 of 100\n",
      "building tree 53 of 100\n",
      "building tree 54 of 100\n",
      "building tree 55 of 100\n",
      "building tree 56 of 100\n",
      "building tree 57 of 100\n",
      "building tree 58 of 100\n",
      "building tree 59 of 100\n",
      "building tree 60 of 100\n",
      "building tree 61 of 100\n",
      "building tree 62 of 100\n"
     ]
    },
    {
     "name": "stderr",
     "output_type": "stream",
     "text": [
      "[Parallel(n_jobs=5)]: Done  51 tasks      | elapsed:    1.5s\n"
     ]
    },
    {
     "name": "stdout",
     "output_type": "stream",
     "text": [
      "building tree 63 of 100\n",
      "building tree 64 of 100\n",
      "building tree 65 of 100\n",
      "building tree 66 of 100\n",
      "building tree 67 of 100\n",
      "building tree 68 of 100\n",
      "building tree 69 of 100\n",
      "building tree 70 of 100\n"
     ]
    },
    {
     "name": "stderr",
     "output_type": "stream",
     "text": [
      "[Parallel(n_jobs=5)]: Done  62 tasks      | elapsed:    1.8s\n"
     ]
    },
    {
     "name": "stdout",
     "output_type": "stream",
     "text": [
      "building tree 71 of 100\n",
      "building tree 72 of 100\n",
      "building tree 73 of 100\n",
      "building tree 74 of 100\n",
      "building tree 75 of 100\n",
      "building tree 76 of 100\n",
      "building tree 77 of 100\n",
      "building tree 78 of 100\n",
      "building tree 79 of 100\n",
      "building tree 80 of 100\n",
      "building tree 81 of 100\n",
      "building tree 82 of 100\n",
      "building tree 83 of 100\n",
      "building tree 84 of 100\n",
      "building tree 85 of 100\n",
      "building tree 86 of 100\n",
      "building tree 87 of 100\n"
     ]
    },
    {
     "name": "stderr",
     "output_type": "stream",
     "text": [
      "[Parallel(n_jobs=5)]: Done  75 tasks      | elapsed:    2.2s\n"
     ]
    },
    {
     "name": "stdout",
     "output_type": "stream",
     "text": [
      "building tree 88 of 100\n",
      "building tree 89 of 100\n",
      "building tree 90 of 100\n",
      "building tree 91 of 100\n",
      "building tree 92 of 100\n",
      "building tree 93 of 100\n",
      "building tree 94 of 100\n",
      "building tree 95 of 100\n",
      "building tree 96 of 100\n"
     ]
    },
    {
     "name": "stderr",
     "output_type": "stream",
     "text": [
      "[Parallel(n_jobs=5)]: Done  88 tasks      | elapsed:    2.6s\n"
     ]
    },
    {
     "name": "stdout",
     "output_type": "stream",
     "text": [
      "building tree 97 of 100\n",
      "building tree 98 of 100\n",
      "building tree 99 of 100\n",
      "building tree 100 of 100\n"
     ]
    },
    {
     "name": "stderr",
     "output_type": "stream",
     "text": [
      "[Parallel(n_jobs=5)]: Done 100 out of 100 | elapsed:    2.9s finished\n",
      "[Parallel(n_jobs=5)]: Using backend ThreadingBackend with 5 concurrent workers.\n",
      "[Parallel(n_jobs=5)]: Done   3 tasks      | elapsed:    0.0s\n",
      "[Parallel(n_jobs=5)]: Done   8 tasks      | elapsed:    0.0s\n",
      "[Parallel(n_jobs=5)]: Done  15 tasks      | elapsed:    0.0s\n",
      "[Parallel(n_jobs=5)]: Done  22 tasks      | elapsed:    0.0s\n",
      "[Parallel(n_jobs=5)]: Done  31 tasks      | elapsed:    0.0s\n",
      "[Parallel(n_jobs=5)]: Done  40 tasks      | elapsed:    0.0s\n",
      "[Parallel(n_jobs=5)]: Done  51 tasks      | elapsed:    0.0s\n",
      "[Parallel(n_jobs=5)]: Done  62 tasks      | elapsed:    0.0s\n",
      "[Parallel(n_jobs=5)]: Done  75 tasks      | elapsed:    0.0s\n",
      "[Parallel(n_jobs=5)]: Done  88 tasks      | elapsed:    0.0s\n",
      "[Parallel(n_jobs=5)]: Done 100 out of 100 | elapsed:    0.0s finished\n",
      "[Parallel(n_jobs=5)]: Using backend ThreadingBackend with 5 concurrent workers.\n"
     ]
    },
    {
     "name": "stdout",
     "output_type": "stream",
     "text": [
      "TRAIN: 176363 TEST: 44091\n",
      "building tree 1 of 100building tree 2 of 100building tree 3 of 100building tree 4 of 100building tree 5 of 100\n",
      "\n",
      "\n",
      "\n",
      "\n",
      "building tree 6 of 100\n",
      "building tree 7 of 100\n",
      "building tree 8 of 100\n"
     ]
    },
    {
     "name": "stderr",
     "output_type": "stream",
     "text": [
      "[Parallel(n_jobs=5)]: Done   3 tasks      | elapsed:    0.1s\n",
      "[Parallel(n_jobs=5)]: Done   8 tasks      | elapsed:    0.3s\n"
     ]
    },
    {
     "name": "stdout",
     "output_type": "stream",
     "text": [
      "building tree 9 of 100\n",
      "building tree 10 of 100\n",
      "building tree 11 of 100\n",
      "building tree 12 of 100\n",
      "building tree 13 of 100\n",
      "building tree 14 of 100\n",
      "building tree 15 of 100\n",
      "building tree 16 of 100\n",
      "building tree 17 of 100\n",
      "building tree 18 of 100\n",
      "building tree 19 of 100\n",
      "building tree 20 of 100\n",
      "building tree 21 of 100\n",
      "building tree 22 of 100\n",
      "building tree 23 of 100\n",
      "building tree 24 of 100\n"
     ]
    },
    {
     "name": "stderr",
     "output_type": "stream",
     "text": [
      "[Parallel(n_jobs=5)]: Done  15 tasks      | elapsed:    0.5s\n"
     ]
    },
    {
     "name": "stdout",
     "output_type": "stream",
     "text": [
      "building tree 25 of 100\n",
      "building tree 26 of 100\n",
      "building tree 27 of 100\n",
      "building tree 28 of 100\n",
      "building tree 29 of 100\n",
      "building tree 30 of 100\n",
      "building tree 31 of 100\n"
     ]
    },
    {
     "name": "stderr",
     "output_type": "stream",
     "text": [
      "[Parallel(n_jobs=5)]: Done  22 tasks      | elapsed:    0.7s\n"
     ]
    },
    {
     "name": "stdout",
     "output_type": "stream",
     "text": [
      "building tree 32 of 100\n",
      "building tree 33 of 100\n",
      "building tree 34 of 100\n",
      "building tree 35 of 100\n",
      "building tree 36 of 100\n",
      "building tree 37 of 100\n",
      "building tree 38 of 100\n"
     ]
    },
    {
     "name": "stderr",
     "output_type": "stream",
     "text": [
      "[Parallel(n_jobs=5)]: Done  31 tasks      | elapsed:    0.9s\n"
     ]
    },
    {
     "name": "stdout",
     "output_type": "stream",
     "text": [
      "building tree 39 of 100\n",
      "building tree 40 of 100\n",
      "building tree 41 of 100\n",
      "building tree 42 of 100\n",
      "building tree 43 of 100\n",
      "building tree 44 of 100\n",
      "building tree 45 of 100\n"
     ]
    },
    {
     "name": "stderr",
     "output_type": "stream",
     "text": [
      "[Parallel(n_jobs=5)]: Done  40 tasks      | elapsed:    1.2s\n"
     ]
    },
    {
     "name": "stdout",
     "output_type": "stream",
     "text": [
      "building tree 46 of 100\n",
      "building tree 47 of 100\n",
      "building tree 48 of 100\n",
      "building tree 49 of 100\n",
      "building tree 50 of 100\n",
      "building tree 51 of 100\n",
      "building tree 52 of 100\n",
      "building tree 53 of 100\n",
      "building tree 54 of 100\n",
      "building tree 55 of 100\n",
      "building tree 56 of 100\n",
      "building tree 57 of 100\n",
      "building tree 58 of 100\n",
      "building tree 59 of 100building tree 60 of 100\n",
      "\n",
      "building tree 61 of 100\n",
      "building tree 62 of 100\n",
      "building tree 63 of 100\n"
     ]
    },
    {
     "name": "stderr",
     "output_type": "stream",
     "text": [
      "[Parallel(n_jobs=5)]: Done  51 tasks      | elapsed:    1.5s\n"
     ]
    },
    {
     "name": "stdout",
     "output_type": "stream",
     "text": [
      "building tree 64 of 100\n",
      "building tree 65 of 100\n",
      "building tree 66 of 100\n",
      "building tree 67 of 100\n",
      "building tree 68 of 100\n",
      "building tree 69 of 100\n",
      "building tree 70 of 100\n"
     ]
    },
    {
     "name": "stderr",
     "output_type": "stream",
     "text": [
      "[Parallel(n_jobs=5)]: Done  62 tasks      | elapsed:    1.8s\n"
     ]
    },
    {
     "name": "stdout",
     "output_type": "stream",
     "text": [
      "building tree 71 of 100\n",
      "building tree 72 of 100\n",
      "building tree 73 of 100\n",
      "building tree 74 of 100\n",
      "building tree 75 of 100\n",
      "building tree 76 of 100\n",
      "building tree 77 of 100\n",
      "building tree 78 of 100\n",
      "building tree 79 of 100\n",
      "building tree 80 of 100\n",
      "building tree 81 of 100\n",
      "building tree 82 of 100\n",
      "building tree 83 of 100\n",
      "building tree 84 of 100\n",
      "building tree 85 of 100\n",
      "building tree 86 of 100\n",
      "building tree 87 of 100\n",
      "building tree 88 of 100\n"
     ]
    },
    {
     "name": "stderr",
     "output_type": "stream",
     "text": [
      "[Parallel(n_jobs=5)]: Done  75 tasks      | elapsed:    2.2s\n"
     ]
    },
    {
     "name": "stdout",
     "output_type": "stream",
     "text": [
      "building tree 89 of 100\n",
      "building tree 90 of 100\n",
      "building tree 91 of 100\n",
      "building tree 92 of 100\n",
      "building tree 93 of 100\n",
      "building tree 94 of 100\n",
      "building tree 95 of 100\n",
      "building tree 96 of 100\n"
     ]
    },
    {
     "name": "stderr",
     "output_type": "stream",
     "text": [
      "[Parallel(n_jobs=5)]: Done  88 tasks      | elapsed:    2.5s\n"
     ]
    },
    {
     "name": "stdout",
     "output_type": "stream",
     "text": [
      "building tree 97 of 100\n",
      "building tree 98 of 100\n",
      "building tree 99 of 100\n",
      "building tree 100 of 100\n"
     ]
    },
    {
     "name": "stderr",
     "output_type": "stream",
     "text": [
      "[Parallel(n_jobs=5)]: Done 100 out of 100 | elapsed:    2.9s finished\n",
      "[Parallel(n_jobs=5)]: Using backend ThreadingBackend with 5 concurrent workers.\n",
      "[Parallel(n_jobs=5)]: Done   3 tasks      | elapsed:    0.0s\n",
      "[Parallel(n_jobs=5)]: Done   8 tasks      | elapsed:    0.0s\n",
      "[Parallel(n_jobs=5)]: Done  15 tasks      | elapsed:    0.0s\n",
      "[Parallel(n_jobs=5)]: Done  22 tasks      | elapsed:    0.0s\n",
      "[Parallel(n_jobs=5)]: Done  31 tasks      | elapsed:    0.0s\n",
      "[Parallel(n_jobs=5)]: Done  40 tasks      | elapsed:    0.0s\n",
      "[Parallel(n_jobs=5)]: Done  51 tasks      | elapsed:    0.0s\n",
      "[Parallel(n_jobs=5)]: Done  62 tasks      | elapsed:    0.0s\n",
      "[Parallel(n_jobs=5)]: Done  75 tasks      | elapsed:    0.0s\n",
      "[Parallel(n_jobs=5)]: Done  88 tasks      | elapsed:    0.0s\n",
      "[Parallel(n_jobs=5)]: Done 100 out of 100 | elapsed:    0.0s finished\n",
      "[Parallel(n_jobs=5)]: Using backend ThreadingBackend with 5 concurrent workers.\n"
     ]
    },
    {
     "name": "stdout",
     "output_type": "stream",
     "text": [
      "TRAIN: 176363 TEST: 44091\n",
      "building tree 1 of 100building tree 2 of 100building tree 3 of 100building tree 4 of 100building tree 5 of 100\n",
      "\n",
      "\n",
      "\n",
      "\n",
      "building tree 6 of 100\n",
      "building tree 7 of 100\n",
      "building tree 8 of 100\n"
     ]
    },
    {
     "name": "stderr",
     "output_type": "stream",
     "text": [
      "[Parallel(n_jobs=5)]: Done   3 tasks      | elapsed:    0.2s\n",
      "[Parallel(n_jobs=5)]: Done   8 tasks      | elapsed:    0.3s\n"
     ]
    },
    {
     "name": "stdout",
     "output_type": "stream",
     "text": [
      "building tree 9 of 100\n",
      "building tree 10 of 100\n",
      "building tree 11 of 100\n",
      "building tree 12 of 100\n",
      "building tree 13 of 100\n",
      "building tree 14 of 100\n",
      "building tree 15 of 100\n",
      "building tree 16 of 100\n",
      "building tree 17 of 100\n",
      "building tree 18 of 100\n",
      "building tree 19 of 100\n",
      "building tree 20 of 100\n",
      "building tree 21 of 100\n",
      "building tree 22 of 100\n",
      "building tree 23 of 100\n",
      "building tree 24 of 100\n"
     ]
    },
    {
     "name": "stderr",
     "output_type": "stream",
     "text": [
      "[Parallel(n_jobs=5)]: Done  15 tasks      | elapsed:    0.5s\n"
     ]
    },
    {
     "name": "stdout",
     "output_type": "stream",
     "text": [
      "building tree 25 of 100\n",
      "building tree 26 of 100\n",
      "building tree 27 of 100\n",
      "building tree 28 of 100\n",
      "building tree 29 of 100\n",
      "building tree 30 of 100\n",
      "building tree 31 of 100\n"
     ]
    },
    {
     "name": "stderr",
     "output_type": "stream",
     "text": [
      "[Parallel(n_jobs=5)]: Done  22 tasks      | elapsed:    0.7s\n"
     ]
    },
    {
     "name": "stdout",
     "output_type": "stream",
     "text": [
      "building tree 32 of 100\n",
      "building tree 33 of 100\n",
      "building tree 34 of 100\n",
      "building tree 35 of 100\n",
      "building tree 36 of 100\n",
      "building tree 37 of 100\n",
      "building tree 38 of 100\n"
     ]
    },
    {
     "name": "stderr",
     "output_type": "stream",
     "text": [
      "[Parallel(n_jobs=5)]: Done  31 tasks      | elapsed:    1.0s\n"
     ]
    },
    {
     "name": "stdout",
     "output_type": "stream",
     "text": [
      "building tree 39 of 100\n",
      "building tree 40 of 100\n",
      "building tree 41 of 100\n",
      "building tree 42 of 100\n",
      "building tree 43 of 100\n",
      "building tree 44 of 100\n",
      "building tree 45 of 100\n",
      "building tree 46 of 100\n",
      "building tree 47 of 100\n",
      "building tree 48 of 100\n",
      "building tree 49 of 100\n",
      "building tree 50 of 100\n",
      "building tree 51 of 100\n",
      "building tree 52 of 100\n",
      "building tree 53 of 100\n"
     ]
    },
    {
     "name": "stderr",
     "output_type": "stream",
     "text": [
      "[Parallel(n_jobs=5)]: Done  40 tasks      | elapsed:    1.3s\n"
     ]
    },
    {
     "name": "stdout",
     "output_type": "stream",
     "text": [
      "building tree 54 of 100\n",
      "building tree 55 of 100\n",
      "building tree 56 of 100\n",
      "building tree 57 of 100\n",
      "building tree 58 of 100\n",
      "building tree 59 of 100\n",
      "building tree 60 of 100\n",
      "building tree 61 of 100\n"
     ]
    },
    {
     "name": "stderr",
     "output_type": "stream",
     "text": [
      "[Parallel(n_jobs=5)]: Done  51 tasks      | elapsed:    1.6s\n"
     ]
    },
    {
     "name": "stdout",
     "output_type": "stream",
     "text": [
      "building tree 62 of 100\n",
      "building tree 63 of 100\n",
      "building tree 64 of 100\n",
      "building tree 65 of 100\n",
      "building tree 66 of 100\n",
      "building tree 67 of 100\n",
      "building tree 68 of 100\n",
      "building tree 69 of 100\n"
     ]
    },
    {
     "name": "stderr",
     "output_type": "stream",
     "text": [
      "[Parallel(n_jobs=5)]: Done  62 tasks      | elapsed:    1.9s\n"
     ]
    },
    {
     "name": "stdout",
     "output_type": "stream",
     "text": [
      "building tree 70 of 100\n",
      "building tree 71 of 100\n",
      "building tree 72 of 100\n",
      "building tree 73 of 100\n",
      "building tree 74 of 100\n",
      "building tree 75 of 100\n",
      "building tree 76 of 100\n",
      "building tree 77 of 100\n",
      "building tree 78 of 100\n",
      "building tree 79 of 100\n",
      "building tree 80 of 100\n",
      "building tree 81 of 100\n",
      "building tree 82 of 100\n",
      "building tree 83 of 100\n",
      "building tree 84 of 100\n",
      "building tree 85 of 100\n",
      "building tree 86 of 100\n"
     ]
    },
    {
     "name": "stderr",
     "output_type": "stream",
     "text": [
      "[Parallel(n_jobs=5)]: Done  75 tasks      | elapsed:    2.2s\n"
     ]
    },
    {
     "name": "stdout",
     "output_type": "stream",
     "text": [
      "building tree 87 of 100\n",
      "building tree 88 of 100\n",
      "building tree 89 of 100\n",
      "building tree 90 of 100\n",
      "building tree 91 of 100\n",
      "building tree 92 of 100\n",
      "building tree 93 of 100\n"
     ]
    },
    {
     "name": "stderr",
     "output_type": "stream",
     "text": [
      "[Parallel(n_jobs=5)]: Done  88 tasks      | elapsed:    2.6s\n"
     ]
    },
    {
     "name": "stdout",
     "output_type": "stream",
     "text": [
      "building tree 94 of 100\n",
      "building tree 95 of 100\n",
      "building tree 96 of 100\n",
      "building tree 97 of 100\n",
      "building tree 98 of 100\n",
      "building tree 99 of 100\n",
      "building tree 100 of 100\n"
     ]
    },
    {
     "name": "stderr",
     "output_type": "stream",
     "text": [
      "[Parallel(n_jobs=5)]: Done 100 out of 100 | elapsed:    2.9s finished\n",
      "[Parallel(n_jobs=5)]: Using backend ThreadingBackend with 5 concurrent workers.\n",
      "[Parallel(n_jobs=5)]: Done   3 tasks      | elapsed:    0.0s\n",
      "[Parallel(n_jobs=5)]: Done   8 tasks      | elapsed:    0.0s\n",
      "[Parallel(n_jobs=5)]: Done  15 tasks      | elapsed:    0.0s\n",
      "[Parallel(n_jobs=5)]: Done  22 tasks      | elapsed:    0.0s\n",
      "[Parallel(n_jobs=5)]: Done  31 tasks      | elapsed:    0.0s\n",
      "[Parallel(n_jobs=5)]: Done  40 tasks      | elapsed:    0.0s\n",
      "[Parallel(n_jobs=5)]: Done  51 tasks      | elapsed:    0.0s\n",
      "[Parallel(n_jobs=5)]: Done  62 tasks      | elapsed:    0.0s\n",
      "[Parallel(n_jobs=5)]: Done  75 tasks      | elapsed:    0.0s\n",
      "[Parallel(n_jobs=5)]: Done  88 tasks      | elapsed:    0.0s\n",
      "[Parallel(n_jobs=5)]: Done 100 out of 100 | elapsed:    0.0s finished\n"
     ]
    },
    {
     "name": "stdout",
     "output_type": "stream",
     "text": [
      "TRAIN: 176364 TEST: 44090\n",
      "building tree 1 of 100building tree 2 of 100building tree 3 of 100building tree 4 of 100building tree 5 of 100\n",
      "\n",
      "\n",
      "\n",
      "\n",
      "building tree 6 of 100\n",
      "building tree 7 of 100\n"
     ]
    },
    {
     "name": "stderr",
     "output_type": "stream",
     "text": [
      "[Parallel(n_jobs=5)]: Using backend ThreadingBackend with 5 concurrent workers.\n",
      "[Parallel(n_jobs=5)]: Done   3 tasks      | elapsed:    0.2s\n"
     ]
    },
    {
     "name": "stdout",
     "output_type": "stream",
     "text": [
      "building tree 8 of 100\n",
      "building tree 9 of 100\n",
      "building tree 10 of 100\n",
      "building tree 11 of 100\n",
      "building tree 12 of 100\n",
      "building tree 13 of 100\n",
      "building tree 14 of 100\n",
      "building tree 15 of 100\n",
      "building tree 16 of 100\n"
     ]
    },
    {
     "name": "stderr",
     "output_type": "stream",
     "text": [
      "[Parallel(n_jobs=5)]: Done   8 tasks      | elapsed:    0.3s\n",
      "[Parallel(n_jobs=5)]: Done  15 tasks      | elapsed:    0.4s\n"
     ]
    },
    {
     "name": "stdout",
     "output_type": "stream",
     "text": [
      "building tree 17 of 100\n",
      "building tree 18 of 100\n",
      "building tree 19 of 100\n",
      "building tree 20 of 100\n",
      "building tree 21 of 100\n",
      "building tree 22 of 100\n",
      "building tree 23 of 100\n",
      "building tree 24 of 100\n",
      "building tree 25 of 100\n",
      "building tree 26 of 100\n",
      "building tree 27 of 100\n",
      "building tree 28 of 100\n",
      "building tree 29 of 100\n",
      "building tree 30 of 100\n",
      "building tree 31 of 100\n"
     ]
    },
    {
     "name": "stderr",
     "output_type": "stream",
     "text": [
      "[Parallel(n_jobs=5)]: Done  22 tasks      | elapsed:    0.7s\n",
      "[Parallel(n_jobs=5)]: Done  31 tasks      | elapsed:    0.9s\n"
     ]
    },
    {
     "name": "stdout",
     "output_type": "stream",
     "text": [
      "building tree 32 of 100\n",
      "building tree 33 of 100\n",
      "building tree 34 of 100\n",
      "building tree 35 of 100\n",
      "building tree 36 of 100\n",
      "building tree 37 of 100\n",
      "building tree 38 of 100\n",
      "building tree 39 of 100\n",
      "building tree 40 of 100\n",
      "building tree 41 of 100\n",
      "building tree 42 of 100\n",
      "building tree 43 of 100\n",
      "building tree 44 of 100\n",
      "building tree 45 of 100\n",
      "building tree 46 of 100\n",
      "building tree 47 of 100\n",
      "building tree 48 of 100\n",
      "building tree 49 of 100\n",
      "building tree 50 of 100\n"
     ]
    },
    {
     "name": "stderr",
     "output_type": "stream",
     "text": [
      "[Parallel(n_jobs=5)]: Done  40 tasks      | elapsed:    1.2s\n"
     ]
    },
    {
     "name": "stdout",
     "output_type": "stream",
     "text": [
      "building tree 51 of 100\n",
      "building tree 52 of 100\n",
      "building tree 53 of 100\n",
      "building tree 54 of 100\n",
      "building tree 55 of 100\n",
      "building tree 56 of 100\n",
      "building tree 57 of 100\n"
     ]
    },
    {
     "name": "stderr",
     "output_type": "stream",
     "text": [
      "[Parallel(n_jobs=5)]: Done  51 tasks      | elapsed:    1.5s\n"
     ]
    },
    {
     "name": "stdout",
     "output_type": "stream",
     "text": [
      "building tree 58 of 100\n",
      "building tree 59 of 100\n",
      "building tree 60 of 100\n",
      "building tree 61 of 100\n",
      "building tree 62 of 100\n",
      "building tree 63 of 100\n",
      "building tree 64 of 100\n",
      "building tree 65 of 100\n",
      "building tree 66 of 100\n",
      "building tree 67 of 100\n",
      "building tree 68 of 100\n",
      "building tree 69 of 100\n",
      "building tree 70 of 100\n",
      "building tree 71 of 100\n",
      "building tree 72 of 100\n",
      "building tree 73 of 100\n",
      "building tree 74 of 100\n"
     ]
    },
    {
     "name": "stderr",
     "output_type": "stream",
     "text": [
      "[Parallel(n_jobs=5)]: Done  62 tasks      | elapsed:    1.8s\n"
     ]
    },
    {
     "name": "stdout",
     "output_type": "stream",
     "text": [
      "building tree 75 of 100\n",
      "building tree 76 of 100\n",
      "building tree 77 of 100\n",
      "building tree 78 of 100\n",
      "building tree 79 of 100\n",
      "building tree 80 of 100\n",
      "building tree 81 of 100\n",
      "building tree 82 of 100\n"
     ]
    },
    {
     "name": "stderr",
     "output_type": "stream",
     "text": [
      "[Parallel(n_jobs=5)]: Done  75 tasks      | elapsed:    2.2s\n"
     ]
    },
    {
     "name": "stdout",
     "output_type": "stream",
     "text": [
      "building tree 83 of 100\n",
      "building tree 84 of 100\n",
      "building tree 85 of 100\n",
      "building tree 86 of 100\n",
      "building tree 87 of 100\n",
      "building tree 88 of 100\n",
      "building tree 89 of 100\n",
      "building tree 90 of 100\n",
      "building tree 91 of 100\n",
      "building tree 92 of 100\n",
      "building tree 93 of 100\n",
      "building tree 94 of 100\n",
      "building tree 95 of 100\n",
      "building tree 96 of 100\n",
      "building tree 97 of 100\n",
      "building tree 98 of 100\n",
      "building tree 99 of 100\n"
     ]
    },
    {
     "name": "stderr",
     "output_type": "stream",
     "text": [
      "[Parallel(n_jobs=5)]: Done  88 tasks      | elapsed:    2.6s\n"
     ]
    },
    {
     "name": "stdout",
     "output_type": "stream",
     "text": [
      "building tree 100 of 100\n"
     ]
    },
    {
     "name": "stderr",
     "output_type": "stream",
     "text": [
      "[Parallel(n_jobs=5)]: Done 100 out of 100 | elapsed:    2.9s finished\n",
      "[Parallel(n_jobs=5)]: Using backend ThreadingBackend with 5 concurrent workers.\n",
      "[Parallel(n_jobs=5)]: Done   3 tasks      | elapsed:    0.0s\n",
      "[Parallel(n_jobs=5)]: Done   8 tasks      | elapsed:    0.0s\n",
      "[Parallel(n_jobs=5)]: Done  15 tasks      | elapsed:    0.0s\n",
      "[Parallel(n_jobs=5)]: Done  22 tasks      | elapsed:    0.0s\n",
      "[Parallel(n_jobs=5)]: Done  31 tasks      | elapsed:    0.0s\n",
      "[Parallel(n_jobs=5)]: Done  40 tasks      | elapsed:    0.0s\n",
      "[Parallel(n_jobs=5)]: Done  51 tasks      | elapsed:    0.0s\n",
      "[Parallel(n_jobs=5)]: Done  62 tasks      | elapsed:    0.0s\n",
      "[Parallel(n_jobs=5)]: Done  75 tasks      | elapsed:    0.0s\n",
      "[Parallel(n_jobs=5)]: Done  88 tasks      | elapsed:    0.0s\n",
      "[Parallel(n_jobs=5)]: Done 100 out of 100 | elapsed:    0.1s finished\n",
      "[Parallel(n_jobs=5)]: Using backend ThreadingBackend with 5 concurrent workers.\n"
     ]
    },
    {
     "name": "stdout",
     "output_type": "stream",
     "text": [
      "TRAIN: 176364 TEST: 44090\n",
      "building tree 1 of 100building tree 2 of 100building tree 3 of 100building tree 4 of 100building tree 5 of 100\n",
      "\n",
      "\n",
      "\n",
      "\n",
      "building tree 6 of 100\n",
      "building tree 7 of 100\n",
      "building tree 8 of 100\n",
      "building tree 9 of 100\n"
     ]
    },
    {
     "name": "stderr",
     "output_type": "stream",
     "text": [
      "[Parallel(n_jobs=5)]: Done   3 tasks      | elapsed:    0.1s\n",
      "[Parallel(n_jobs=5)]: Done   8 tasks      | elapsed:    0.3s\n"
     ]
    },
    {
     "name": "stdout",
     "output_type": "stream",
     "text": [
      "building tree 10 of 100\n",
      "building tree 11 of 100\n",
      "building tree 12 of 100\n",
      "building tree 13 of 100\n",
      "building tree 14 of 100\n",
      "building tree 15 of 100\n",
      "building tree 16 of 100\n",
      "building tree 17 of 100\n",
      "building tree 18 of 100\n",
      "building tree 19 of 100\n",
      "building tree 20 of 100\n",
      "building tree 21 of 100\n",
      "building tree 22 of 100\n",
      "building tree 23 of 100\n"
     ]
    },
    {
     "name": "stderr",
     "output_type": "stream",
     "text": [
      "[Parallel(n_jobs=5)]: Done  15 tasks      | elapsed:    0.5s\n"
     ]
    },
    {
     "name": "stdout",
     "output_type": "stream",
     "text": [
      "building tree 24 of 100\n",
      "building tree 25 of 100\n",
      "building tree 26 of 100\n",
      "building tree 27 of 100\n",
      "building tree 28 of 100\n",
      "building tree 29 of 100\n",
      "building tree 30 of 100\n"
     ]
    },
    {
     "name": "stderr",
     "output_type": "stream",
     "text": [
      "[Parallel(n_jobs=5)]: Done  22 tasks      | elapsed:    0.7s\n"
     ]
    },
    {
     "name": "stdout",
     "output_type": "stream",
     "text": [
      "building tree 31 of 100\n",
      "building tree 32 of 100\n",
      "building tree 33 of 100\n",
      "building tree 34 of 100\n",
      "building tree 35 of 100\n",
      "building tree 36 of 100\n",
      "building tree 37 of 100\n",
      "building tree 38 of 100\n",
      "building tree 39 of 100\n"
     ]
    },
    {
     "name": "stderr",
     "output_type": "stream",
     "text": [
      "[Parallel(n_jobs=5)]: Done  31 tasks      | elapsed:    0.9s\n"
     ]
    },
    {
     "name": "stdout",
     "output_type": "stream",
     "text": [
      "building tree 40 of 100\n",
      "building tree 41 of 100\n",
      "building tree 42 of 100\n",
      "building tree 43 of 100\n",
      "building tree 44 of 100\n",
      "building tree 45 of 100\n",
      "building tree 46 of 100\n"
     ]
    },
    {
     "name": "stderr",
     "output_type": "stream",
     "text": [
      "[Parallel(n_jobs=5)]: Done  40 tasks      | elapsed:    1.2s\n"
     ]
    },
    {
     "name": "stdout",
     "output_type": "stream",
     "text": [
      "building tree 47 of 100\n",
      "building tree 48 of 100\n",
      "building tree 49 of 100\n",
      "building tree 50 of 100\n",
      "building tree 51 of 100\n",
      "building tree 52 of 100\n",
      "building tree 53 of 100\n",
      "building tree 54 of 100\n",
      "building tree 55 of 100\n",
      "building tree 56 of 100\n"
     ]
    },
    {
     "name": "stderr",
     "output_type": "stream",
     "text": [
      "[Parallel(n_jobs=5)]: Done  51 tasks      | elapsed:    1.4s\n"
     ]
    },
    {
     "name": "stdout",
     "output_type": "stream",
     "text": [
      "building tree 57 of 100\n",
      "building tree 58 of 100\n",
      "building tree 59 of 100\n",
      "building tree 60 of 100\n",
      "building tree 61 of 100\n",
      "building tree 62 of 100\n",
      "building tree 63 of 100\n",
      "building tree 64 of 100\n",
      "building tree 65 of 100\n",
      "building tree 66 of 100\n",
      "building tree 67 of 100\n",
      "building tree 68 of 100\n",
      "building tree 69 of 100\n",
      "building tree 70 of 100\n",
      "building tree 71 of 100\n",
      "building tree 72 of 100\n",
      "building tree 73 of 100\n"
     ]
    },
    {
     "name": "stderr",
     "output_type": "stream",
     "text": [
      "[Parallel(n_jobs=5)]: Done  62 tasks      | elapsed:    1.8s\n"
     ]
    },
    {
     "name": "stdout",
     "output_type": "stream",
     "text": [
      "building tree 74 of 100\n",
      "building tree 75 of 100\n",
      "building tree 76 of 100\n",
      "building tree 77 of 100\n",
      "building tree 78 of 100\n",
      "building tree 79 of 100\n",
      "building tree 80 of 100\n",
      "building tree 81 of 100\n"
     ]
    },
    {
     "name": "stderr",
     "output_type": "stream",
     "text": [
      "[Parallel(n_jobs=5)]: Done  75 tasks      | elapsed:    2.1s\n"
     ]
    },
    {
     "name": "stdout",
     "output_type": "stream",
     "text": [
      "building tree 82 of 100\n",
      "building tree 83 of 100\n",
      "building tree 84 of 100\n",
      "building tree 85 of 100\n",
      "building tree 86 of 100\n",
      "building tree 87 of 100\n",
      "building tree 88 of 100\n",
      "building tree 89 of 100\n",
      "building tree 90 of 100building tree 91 of 100\n",
      "\n",
      "building tree 92 of 100\n",
      "building tree 93 of 100\n",
      "building tree 94 of 100\n",
      "building tree 95 of 100\n",
      "building tree 96 of 100\n"
     ]
    },
    {
     "name": "stderr",
     "output_type": "stream",
     "text": [
      "[Parallel(n_jobs=5)]: Done  88 tasks      | elapsed:    2.5s\n"
     ]
    },
    {
     "name": "stdout",
     "output_type": "stream",
     "text": [
      "building tree 97 of 100\n",
      "building tree 98 of 100\n",
      "building tree 99 of 100\n",
      "building tree 100 of 100\n"
     ]
    },
    {
     "name": "stderr",
     "output_type": "stream",
     "text": [
      "[Parallel(n_jobs=5)]: Done 100 out of 100 | elapsed:    2.8s finished\n",
      "[Parallel(n_jobs=5)]: Using backend ThreadingBackend with 5 concurrent workers.\n",
      "[Parallel(n_jobs=5)]: Done   3 tasks      | elapsed:    0.0s\n",
      "[Parallel(n_jobs=5)]: Done   8 tasks      | elapsed:    0.0s\n",
      "[Parallel(n_jobs=5)]: Done  15 tasks      | elapsed:    0.0s\n",
      "[Parallel(n_jobs=5)]: Done  22 tasks      | elapsed:    0.0s\n",
      "[Parallel(n_jobs=5)]: Done  31 tasks      | elapsed:    0.0s\n",
      "[Parallel(n_jobs=5)]: Done  40 tasks      | elapsed:    0.0s\n",
      "[Parallel(n_jobs=5)]: Done  51 tasks      | elapsed:    0.0s\n",
      "[Parallel(n_jobs=5)]: Done  62 tasks      | elapsed:    0.0s\n",
      "[Parallel(n_jobs=5)]: Done  75 tasks      | elapsed:    0.0s\n",
      "[Parallel(n_jobs=5)]: Done  88 tasks      | elapsed:    0.0s\n",
      "[Parallel(n_jobs=5)]: Done 100 out of 100 | elapsed:    0.0s finished\n"
     ]
    }
   ],
   "source": [
    "from sklearn.ensemble import RandomForestClassifier\n",
    "from sklearn.metrics import confusion_matrix\n",
    "cfs = []\n",
    "preds = []\n",
    "for (tr_nor_idx, te_nor_idx), (tr_met_idx, te_met_idx), (tr_ovs_idx, te_ovs_idx) in \\\n",
    "zip(skf.split(df_normal[features],df_normal['Label']),skf.split(df_meta[features], df_meta['Label']),skf.split(df_ovs[features], df_ovs['Label'])):\n",
    "    print(\"TRAIN:\", (len(tr_nor_idx)+len(tr_met_idx)+len(tr_ovs_idx)), \"TEST:\", (len(te_nor_idx)+len(te_met_idx)+len(te_ovs_idx)))\n",
    "    X_train = pd.concat([df_normal[features].iloc[tr_nor_idx,:],df_meta[features].iloc[tr_met_idx,:],df_ovs[features].iloc[tr_ovs_idx,:]], ignore_index=True)\n",
    "    X_test = pd.concat([df_normal[features].iloc[te_nor_idx,:],df_meta[features].iloc[te_met_idx,:],df_ovs[features].iloc[te_ovs_idx,:]], ignore_index=True)\n",
    "    y_train = pd.concat([df_normal[label].iloc[tr_nor_idx],df_meta[label].iloc[tr_met_idx],df_ovs[label].iloc[tr_ovs_idx]], ignore_index=True)\n",
    "    y_test = pd.concat([df_normal[label].iloc[te_nor_idx],df_meta[label].iloc[te_met_idx],df_ovs[label].iloc[te_ovs_idx]], ignore_index=True)\n",
    "    #Apply Random Forest\n",
    "    rf_clf = RandomForestClassifier(n_estimators=100,min_samples_split=10,min_samples_leaf=5,max_samples=0.8,criterion='gini',n_jobs=5, verbose=10)\n",
    "    rf_clf.fit(X_train,y_train)\n",
    "    y_pred = rf_clf.predict(X_test)\n",
    "    cfs.append(confusion_matrix(y_test, y_pred))\n",
    "    preds.append([y_test, y_pred])"
   ]
  },
  {
   "cell_type": "code",
   "execution_count": 35,
   "metadata": {},
   "outputs": [
    {
     "name": "stdout",
     "output_type": "stream",
     "text": [
      "[array([[12898,   492],\n",
      "       [ 1410, 29292]]), array([[12915,   475],\n",
      "       [  248, 30453]]), array([[12591,   799],\n",
      "       [  154, 30547]]), array([[12650,   739],\n",
      "       [ 1953, 28748]]), array([[12753,   636],\n",
      "       [   72, 30629]])]\n",
      "[[12761.4   628.2]\n",
      " [  767.4 29933.8]]\n",
      "[[129.43662542 129.25231139]\n",
      " [767.88009481 767.71281089]]\n"
     ]
    }
   ],
   "source": [
    "print(cfs)\n",
    "cf = np.mean(cfs,axis=(0))\n",
    "cf_std = np.std(cfs,axis=0)\n",
    "print(cf)\n",
    "print(cf_std)\n",
    "objectToFile(preds, \"insdn_trigrams_normal_preds_\"+label)"
   ]
  },
  {
   "cell_type": "code",
   "execution_count": 6,
   "metadata": {},
   "outputs": [],
   "source": [
    "from sklearn.metrics import classification_report, confusion_matrix\n",
    "label = 'BinLabel'\n",
    "preds_mem = objectFromFile(\"insdn_trigrams_normal_preds_\"+label)\n",
    "cfs = []\n",
    "for pred_tuple in preds_mem:\n",
    "    cfs.append(confusion_matrix(pred_tuple[0], pred_tuple[1]))"
   ]
  },
  {
   "cell_type": "code",
   "execution_count": 7,
   "metadata": {},
   "outputs": [
    {
     "name": "stdout",
     "output_type": "stream",
     "text": [
      "[[12898   492]\n",
      " [ 1410 29292]]\n",
      "[[12915   475]\n",
      " [  248 30453]]\n",
      "[[12591   799]\n",
      " [  154 30547]]\n",
      "[[12650   739]\n",
      " [ 1953 28748]]\n",
      "[[12753   636]\n",
      " [   72 30629]]\n",
      "mean\n",
      " [[12761.4   628.2]\n",
      " [  767.4 29933.8]]\n",
      "std. dev\n",
      " [[129.43662542 129.25231139]\n",
      " [767.88009481 767.71281089]]\n",
      "std. dev %\n",
      " [[  1.01428233  20.57502569]\n",
      " [100.06256122   2.56470215]]\n"
     ]
    }
   ],
   "source": [
    "for cf in cfs:\n",
    "    print(cf)\n",
    "\n",
    "cf = np.mean(cfs,axis=(0))\n",
    "np.set_printoptions(suppress=True)\n",
    "print('mean\\n', cf)\n",
    "print('std. dev\\n', np.std(cfs,axis=0))\n",
    "print('std. dev %\\n', np.divide(np.std(cfs,axis=0),np.mean(cfs,axis=0))*100)"
   ]
  },
  {
   "cell_type": "markdown",
   "metadata": {},
   "source": [
    "### Ngram feature set results"
   ]
  },
  {
   "cell_type": "code",
   "execution_count": 29,
   "metadata": {},
   "outputs": [
    {
     "data": {
      "image/png": "[encoded data removed]",
      "text/plain": [
       "<Figure size 432x432 with 1 Axes>"
      ]
     },
     "metadata": {
      "needs_background": "light"
     },
     "output_type": "display_data"
    }
   ],
   "source": [
    "#Plot confusion matrix\n",
    "import seaborn as sns\n",
    "\n",
    "#Standard heatmap\n",
    "cf_norm = cf/cf.sum(axis=1)[:,None]\n",
    "cf_percentages = [\"{0:.2%}\".format(value) for value in cf_norm.flatten()]\n",
    "cf_numbers = [abbrv_num(value) for value in cf.flatten()]\n",
    "cf_labels = ['{v1}\\n({v2})'.format(v1=v1, v2=v2) for v1,v2 in zip(cf_percentages,cf_numbers)]\n",
    "cf_labels = np.asarray(cf_labels).reshape(cf.shape)\n",
    "\n",
    "fig, ax = plt.subplots(figsize=(6, 6))\n",
    "plt.rc('font', size=14)\n",
    "#column_labels = ['BruteForce', 'Botnet','DDoS','DoS','Benign','Probe','U2R',\\\n",
    "#                'WebAttack']\n",
    "column_labels = ['Benign', 'Malicious']\n",
    "sns.heatmap(cf_norm, annot=cf_labels, fmt='',cmap='Blues',cbar=False, vmin=0.0, vmax=1.0, ax=ax, xticklabels=column_labels, yticklabels=column_labels)\n",
    "plt.ylabel('True label')\n",
    "plt.xlabel('Predicted label')\n",
    "plt.yticks(rotation='0', size='12')\n",
    "plt.xticks(rotation='65', size='12')\n",
    "plt.title(\"inSDN mean binary classification matrix - Trigrams\")\n",
    "plt.savefig('inSDN_binaryclass_cf_trigrams.png',bbox_inches='tight')\n",
    "plt.show()"
   ]
  },
  {
   "cell_type": "code",
   "execution_count": 5,
   "metadata": {},
   "outputs": [
    {
     "name": "stdout",
     "output_type": "stream",
     "text": [
      "13358.4 31.2 480.0 30221.2\n",
      "Accuracy: 0.9884056889691477 \n",
      "\n",
      "Recall: 0.9843654319700859 \n",
      "\n",
      "Specificity: 0.9976698333034594\n"
     ]
    }
   ],
   "source": [
    "from sklearn.metrics import accuracy_score\n",
    "from sklearn.metrics import recall_score\n",
    "tn, fp, fn, tp = np.mean(cfs,axis=0).ravel()\n",
    "print(tn,fp,fn,tp)\n",
    "\n",
    "acc_scores = [accuracy_score(pred_tuple[0], pred_tuple[1]) for pred_tuple in preds_mem]\n",
    "rec_score  = tp / (tp+fn)\n",
    "spec_score = tn / (tn+fp)\n",
    "print('Accuracy: ' + str(np.mean(acc_scores)), \"\\n\")\n",
    "print('Recall: ' + str(rec_score), \"\\n\")\n",
    "print('Specificity: ' + str(spec_score))"
   ]
  },
  {
   "cell_type": "code",
   "execution_count": 30,
   "metadata": {},
   "outputs": [
    {
     "name": "stdout",
     "output_type": "stream",
     "text": [
      "Feature: ngram_Bwd Pkt Len Min_std, Score: 0.13518\n",
      "Feature: ngram_Bwd Pkt Len Min_mean, Score: 0.11703\n",
      "Feature: ngram_Fwd Pkt Len Min_mean, Score: 0.10277\n",
      "Feature: ngram_Fwd Pkt Len Min_std, Score: 0.09600\n",
      "Feature: ngram_Tot Bwd Pkts_mean, Score: 0.08374\n",
      "Feature: ngram_TotLen Bwd Pkts_std, Score: 0.06858\n",
      "Feature: ngram_TotLen Bwd Pkts_mean, Score: 0.04664\n",
      "Feature: ngram_Tot Fwd Pkts_mean, Score: 0.04149\n",
      "Feature: ngram_Tot Fwd Pkts_std, Score: 0.03520\n",
      "Feature: ngram_Fwd Pkt Len Max_std, Score: 0.03507\n",
      "Feature: ngram_Bwd Pkt Len Max_mean, Score: 0.03075\n",
      "Feature: ngram_Tot Bwd Pkts_std, Score: 0.03037\n",
      "Feature: ngram_Bwd Pkt Len Max_std, Score: 0.02557\n",
      "Feature: ngram_Flow Byts/s_std, Score: 0.02475\n",
      "Feature: ngram_Fwd Pkt Len Max_mean, Score: 0.01917\n",
      "Feature: ngram_Flow Byts/s_mean, Score: 0.01572\n",
      "Feature: ngram_TotLen Fwd Pkts_mean, Score: 0.01194\n",
      "Feature: ngram_TotLen Fwd Pkts_std, Score: 0.01019\n",
      "Feature: ngram_Flow IAT Min_mean, Score: 0.01001\n",
      "Feature: ngram_Flow Pkts/s_mean, Score: 0.00878\n",
      "Feature: ngram_Flow IAT Std_mean, Score: 0.00690\n",
      "Feature: ngram_Flow IAT Min_std, Score: 0.00672\n",
      "Feature: ngram_Flow IAT Std_std, Score: 0.00671\n",
      "Feature: ngram_Flow Pkts/s_std, Score: 0.00596\n",
      "Feature: ngram_Flow IAT Max_std, Score: 0.00498\n",
      "Feature: ngram_Flow IAT Max_mean, Score: 0.00485\n",
      "Feature: ngram_Flow IAT Mean_mean, Score: 0.00415\n",
      "Feature: ngram_Flow Duration_mean, Score: 0.00402\n",
      "Feature: ngram_Flow Duration_std, Score: 0.00369\n",
      "Feature: ngram_Flow IAT Mean_std, Score: 0.00306\n"
     ]
    }
   ],
   "source": [
    "importance = rf_clf.feature_importances_\n",
    "# summarize feature importance\n",
    "for i,v in sorted(enumerate(importance),key=lambda x: x[1], reverse=True):\n",
    "    print('Feature: %s, Score: %.5f' % (features[i],v))"
   ]
  },
  {
   "cell_type": "markdown",
   "metadata": {},
   "source": [
    "### Normal feature set results"
   ]
  },
  {
   "cell_type": "code",
   "execution_count": 37,
   "metadata": {},
   "outputs": [
    {
     "data": {
      "image/png": "[encoded data removed]",
      "text/plain": [
       "<Figure size 432x432 with 1 Axes>"
      ]
     },
     "metadata": {
      "needs_background": "light"
     },
     "output_type": "display_data"
    }
   ],
   "source": [
    "#Plot confusion matrix\n",
    "import seaborn as sns\n",
    "\n",
    "#Standard heatmap\n",
    "cf_norm = cf/cf.sum(axis=1)[:,None]\n",
    "cf_percentages = [\"{0:.2%}\".format(value) for value in cf_norm.flatten()]\n",
    "cf_numbers = [abbrv_num(value) for value in cf.flatten()]\n",
    "cf_labels = ['{v1}\\n({v2})'.format(v1=v1, v2=v2) for v1,v2 in zip(cf_percentages,cf_numbers)]\n",
    "cf_labels = np.asarray(cf_labels).reshape(cf.shape)\n",
    "\n",
    "fig, ax = plt.subplots(figsize=(6, 6))\n",
    "plt.rc('font', size=14)\n",
    "#column_labels = ['BruteForce', 'Botnet','DDoS','DoS','Benign','Probe','U2R',\\\n",
    "#                'WebAttack']\n",
    "column_labels = ['Benign', 'Malicious']\n",
    "sns.heatmap(cf_norm, annot=cf_labels, fmt='',cmap='Blues',cbar=False, vmin=0.0, vmax=1.0, ax=ax, xticklabels=column_labels, yticklabels=column_labels)\n",
    "plt.ylabel('True label')\n",
    "plt.xlabel('Predicted label')\n",
    "plt.yticks(rotation='0', size='12')\n",
    "plt.xticks(rotation='65', size='12')\n",
    "plt.title(\"InSDN mean binary classification matrix - Trigrams feature set normal\")\n",
    "plt.savefig('insdn_binaryclass_cf_trigrams_normal.png',bbox_inches='tight')\n",
    "plt.show()"
   ]
  },
  {
   "cell_type": "code",
   "execution_count": 8,
   "metadata": {},
   "outputs": [
    {
     "name": "stdout",
     "output_type": "stream",
     "text": [
      "12761.4 628.2 767.4 29933.8\n",
      "Accuracy: 0.9683471276318748 \n",
      "\n",
      "Recall: 0.9750042343621748 \n",
      "\n",
      "Specificity: 0.9530829897831152\n"
     ]
    }
   ],
   "source": [
    "from sklearn.metrics import accuracy_score\n",
    "from sklearn.metrics import recall_score\n",
    "tn, fp, fn, tp = np.mean(cfs,axis=0).ravel()\n",
    "print(tn,fp,fn,tp)\n",
    "\n",
    "acc_scores = [accuracy_score(pred_tuple[0], pred_tuple[1]) for pred_tuple in preds_mem]\n",
    "rec_score  = tp / (tp+fn)\n",
    "spec_score = tn / (tn+fp)\n",
    "print('Accuracy: ' + str(np.mean(acc_scores)), \"\\n\")\n",
    "print('Recall: ' + str(rec_score), \"\\n\")\n",
    "print('Specificity: ' + str(spec_score))"
   ]
  },
  {
   "cell_type": "code",
   "execution_count": 38,
   "metadata": {},
   "outputs": [
    {
     "name": "stdout",
     "output_type": "stream",
     "text": [
      "Feature: Bwd Pkt Len Max, Score: 0.12712\n",
      "Feature: TotLen Bwd Pkts, Score: 0.11595\n",
      "Feature: Fwd Pkt Len Max, Score: 0.10737\n",
      "Feature: Bwd Pkt Len Min, Score: 0.10229\n",
      "Feature: Tot Fwd Pkts, Score: 0.08280\n",
      "Feature: Tot Bwd Pkts, Score: 0.08008\n",
      "Feature: Fwd Pkt Len Min, Score: 0.07254\n",
      "Feature: TotLen Fwd Pkts, Score: 0.06610\n",
      "Feature: Flow IAT Min, Score: 0.05775\n",
      "Feature: Flow Byts/s, Score: 0.05131\n",
      "Feature: Flow IAT Std, Score: 0.03526\n",
      "Feature: Flow Duration, Score: 0.03182\n",
      "Feature: Flow IAT Max, Score: 0.02651\n",
      "Feature: Flow IAT Mean, Score: 0.02170\n",
      "Feature: Flow Pkts/s, Score: 0.02142\n"
     ]
    }
   ],
   "source": [
    "importance = rf_clf.feature_importances_\n",
    "# summarize feature importance\n",
    "for i,v in sorted(enumerate(importance),key=lambda x: x[1], reverse=True):\n",
    "    print('Feature: %s, Score: %.5f' % (features[i],v))"
   ]
  },
  {
   "cell_type": "markdown",
   "metadata": {},
   "source": [
    "## Barplot of own feature sets"
   ]
  },
  {
   "cell_type": "code",
   "execution_count": 4,
   "metadata": {},
   "outputs": [
    {
     "data": {
      "image/png": "[encoded data removed]",
      "text/plain": [
       "<Figure size 504x432 with 1 Axes>"
      ]
     },
     "metadata": {
      "needs_background": "light"
     },
     "output_type": "display_data"
    }
   ],
   "source": [
    "import matplotlib.patches as mpatches\n",
    "\n",
    "#Scores\n",
    "genset_acc = 0.968\n",
    "genset_rec = 0.972\n",
    "genset_spec = 0.953\n",
    "trigramset_acc = 0.988\n",
    "trigramset_rec = 0.984\n",
    "trigramset_spec = 0.998\n",
    "altset_acc = 0.968\n",
    "altset_rec = 0.975\n",
    "altset_spec = 0.953\n",
    "\n",
    "#Colors\n",
    "clr_acc = 'royalblue'\n",
    "clr_rec = 'salmon'\n",
    "clr_spec = 'lightgreen'\n",
    "\n",
    "acc_patch = mpatches.Patch(color=clr_acc, label='accuracy')\n",
    "rec_patch = mpatches.Patch(color=clr_rec, label='recall')\n",
    "spec_patch = mpatches.Patch(color=clr_spec, label='specificity')\n",
    "\n",
    "labels = ['General\\n (12 features)', 'Alternative\\n (15 features)', \\\n",
    "          'Trigram\\n (30 features)']\n",
    "\n",
    "x = np.arange(len(labels))*10\n",
    "width = 2.5  # the width of the bars\n",
    "pad_width = 3\n",
    "scores = [genset_acc,genset_rec,genset_spec,altset_acc,altset_rec,altset_spec, trigramset_acc, trigramset_rec, trigramset_spec]\n",
    "\n",
    "fig, ax = plt.subplots(figsize=(7,6))\n",
    "\n",
    "#Spawn bar(s) of group 1\n",
    "plt.bar(x[0]-pad_width, height=scores[0], width=width, color=clr_acc)\n",
    "plt.bar(x[0], height=scores[1], width=width, color=clr_rec)\n",
    "plt.bar(x[0]+pad_width, height=scores[2], width=width, color=clr_spec)\n",
    "\n",
    "#Spawn bar(s) of group 2\n",
    "plt.bar(x[1]-pad_width, height=scores[3], width=width, color=clr_acc)\n",
    "plt.bar(x[1], height=scores[4], width=width, color=clr_rec)\n",
    "plt.bar(x[1]+pad_width, height=scores[5], width=width, color=clr_spec)\n",
    "\n",
    "#Spawn bar(s) of group 3\n",
    "plt.bar(x[2]-pad_width, height=scores[6], width=width, color=clr_acc)\n",
    "plt.bar(x[2], height=scores[7], width=width, color=clr_rec)\n",
    "plt.bar(x[2]+pad_width, height=scores[8], width=width, color=clr_spec)\n",
    "\n",
    "#Hide the left, right and top spines\n",
    "ax.spines['right'].set_visible(False)\n",
    "ax.spines['top'].set_visible(False)\n",
    "ax.spines['left'].set_visible(False)\n",
    "\n",
    "plt.tick_params(left = False)\n",
    "\n",
    "#Set plot details\n",
    "plt.rc('font', size=13)\n",
    "#plt.ylabel('Metric score')\n",
    "plt.yticks()\n",
    "ax.set_yticklabels([])\n",
    "plt.ylim([0.8, 1])\n",
    "#ax.get_yaxis().set_visible(False)\n",
    "plt.xticks(size='14')\n",
    "plt.title(\"inSDN feature sets comparison\", fontweight='bold', pad=25)\n",
    "ax.set_xticks(x)\n",
    "ax.set_xticklabels(labels)\n",
    "add_value_labels(ax)\n",
    "#ax.legend(handles=[acc_patch,rec_patch,spec_patch],bbox_to_anchor=(1.05, 1), loc='upper left', borderaxespad=0.)\n",
    "ax.legend(handles=[acc_patch,rec_patch,spec_patch], loc='lower right', borderaxespad=0.)\n",
    "ax.set_axisbelow(True)\n",
    "plt.grid(axis='y', color='grey')\n",
    "fig.tight_layout()\n",
    "plt.savefig('inSDN_binaryclass_featuresets_bars.png',bbox_inches='tight')\n",
    "plt.show()"
   ]
  },
  {
   "cell_type": "markdown",
   "metadata": {},
   "source": [
    "## Print inSDN instance examples for all 3 feature sets"
   ]
  },
  {
   "cell_type": "code",
   "execution_count": 15,
   "metadata": {},
   "outputs": [],
   "source": [
    "gen_features = ['Flow Duration','proto_0','proto_6','proto_17','TotLen Fwd Pkts','TotLen Bwd Pkts','Fwd Pkt Len Mean','Bwd Pkt Len Mean','Tot Fwd Pkts','Tot Bwd Pkts','Fwd IAT Mean','Bwd IAT Mean']\n",
    "alt_features = ['Flow Duration', 'Tot Fwd Pkts', 'Tot Bwd Pkts', \\\n",
    "            'TotLen Fwd Pkts', 'TotLen Bwd Pkts', 'Fwd Pkt Len Max', \\\n",
    "            'Fwd Pkt Len Min', 'Bwd Pkt Len Max', 'Bwd Pkt Len Min', \\\n",
    "            'Flow Byts/s', 'Flow Pkts/s', 'Flow IAT Mean', 'Flow IAT Std', \\\n",
    "            'Flow IAT Max', 'Flow IAT Min']\n",
    "tg_features = df_normal.filter(regex='^tg', axis=1).columns\n",
    "label = 'BinLabel'"
   ]
  },
  {
   "cell_type": "code",
   "execution_count": 11,
   "metadata": {},
   "outputs": [
    {
     "data": {
      "text/html": [
       "<div>\n",
       "<style scoped>\n",
       "    .dataframe tbody tr th:only-of-type {\n",
       "        vertical-align: middle;\n",
       "    }\n",
       "\n",
       "    .dataframe tbody tr th {\n",
       "        vertical-align: top;\n",
       "    }\n",
       "\n",
       "    .dataframe thead th {\n",
       "        text-align: right;\n",
       "    }\n",
       "</style>\n",
       "<table border=\"1\" class=\"dataframe\">\n",
       "  <thead>\n",
       "    <tr style=\"text-align: right;\">\n",
       "      <th></th>\n",
       "      <th>Flow Duration</th>\n",
       "      <th>proto_0</th>\n",
       "      <th>proto_6</th>\n",
       "      <th>proto_17</th>\n",
       "      <th>TotLen Fwd Pkts</th>\n",
       "      <th>TotLen Bwd Pkts</th>\n",
       "      <th>Fwd Pkt Len Mean</th>\n",
       "      <th>Bwd Pkt Len Mean</th>\n",
       "      <th>Tot Fwd Pkts</th>\n",
       "      <th>Tot Bwd Pkts</th>\n",
       "      <th>Fwd IAT Mean</th>\n",
       "      <th>Bwd IAT Mean</th>\n",
       "    </tr>\n",
       "  </thead>\n",
       "  <tbody>\n",
       "    <tr>\n",
       "      <th>0</th>\n",
       "      <td>245230</td>\n",
       "      <td>0</td>\n",
       "      <td>1</td>\n",
       "      <td>0</td>\n",
       "      <td>124937.0</td>\n",
       "      <td>1071.0</td>\n",
       "      <td>2839.477273</td>\n",
       "      <td>26.775000</td>\n",
       "      <td>44</td>\n",
       "      <td>40</td>\n",
       "      <td>5548.00000</td>\n",
       "      <td>6287.948718</td>\n",
       "    </tr>\n",
       "    <tr>\n",
       "      <th>1</th>\n",
       "      <td>1605449</td>\n",
       "      <td>0</td>\n",
       "      <td>1</td>\n",
       "      <td>0</td>\n",
       "      <td>1071.0</td>\n",
       "      <td>439537.0</td>\n",
       "      <td>10.009346</td>\n",
       "      <td>2949.912752</td>\n",
       "      <td>107</td>\n",
       "      <td>149</td>\n",
       "      <td>12567.17925</td>\n",
       "      <td>10831.959460</td>\n",
       "    </tr>\n",
       "    <tr>\n",
       "      <th>2</th>\n",
       "      <td>53078</td>\n",
       "      <td>0</td>\n",
       "      <td>1</td>\n",
       "      <td>0</td>\n",
       "      <td>66.0</td>\n",
       "      <td>758.0</td>\n",
       "      <td>13.200000</td>\n",
       "      <td>151.600000</td>\n",
       "      <td>5</td>\n",
       "      <td>5</td>\n",
       "      <td>12575.50000</td>\n",
       "      <td>13240.500000</td>\n",
       "    </tr>\n",
       "  </tbody>\n",
       "</table>\n",
       "</div>"
      ],
      "text/plain": [
       "   Flow Duration  proto_0  proto_6  proto_17  TotLen Fwd Pkts  \\\n",
       "0         245230        0        1         0         124937.0   \n",
       "1        1605449        0        1         0           1071.0   \n",
       "2          53078        0        1         0             66.0   \n",
       "\n",
       "   TotLen Bwd Pkts  Fwd Pkt Len Mean  Bwd Pkt Len Mean  Tot Fwd Pkts  \\\n",
       "0           1071.0       2839.477273         26.775000            44   \n",
       "1         439537.0         10.009346       2949.912752           107   \n",
       "2            758.0         13.200000        151.600000             5   \n",
       "\n",
       "   Tot Bwd Pkts  Fwd IAT Mean  Bwd IAT Mean  \n",
       "0            40    5548.00000   6287.948718  \n",
       "1           149   12567.17925  10831.959460  \n",
       "2             5   12575.50000  13240.500000  "
      ]
     },
     "execution_count": 11,
     "metadata": {},
     "output_type": "execute_result"
    }
   ],
   "source": [
    "df_normal[gen_features].head(3)"
   ]
  },
  {
   "cell_type": "code",
   "execution_count": 12,
   "metadata": {},
   "outputs": [
    {
     "data": {
      "text/html": [
       "<div>\n",
       "<style scoped>\n",
       "    .dataframe tbody tr th:only-of-type {\n",
       "        vertical-align: middle;\n",
       "    }\n",
       "\n",
       "    .dataframe tbody tr th {\n",
       "        vertical-align: top;\n",
       "    }\n",
       "\n",
       "    .dataframe thead th {\n",
       "        text-align: right;\n",
       "    }\n",
       "</style>\n",
       "<table border=\"1\" class=\"dataframe\">\n",
       "  <thead>\n",
       "    <tr style=\"text-align: right;\">\n",
       "      <th></th>\n",
       "      <th>Flow Duration</th>\n",
       "      <th>Tot Fwd Pkts</th>\n",
       "      <th>Tot Bwd Pkts</th>\n",
       "      <th>TotLen Fwd Pkts</th>\n",
       "      <th>TotLen Bwd Pkts</th>\n",
       "      <th>Fwd Pkt Len Max</th>\n",
       "      <th>Fwd Pkt Len Min</th>\n",
       "      <th>Bwd Pkt Len Max</th>\n",
       "      <th>Bwd Pkt Len Min</th>\n",
       "      <th>Flow Byts/s</th>\n",
       "      <th>Flow Pkts/s</th>\n",
       "      <th>Flow IAT Mean</th>\n",
       "      <th>Flow IAT Std</th>\n",
       "      <th>Flow IAT Max</th>\n",
       "      <th>Flow IAT Min</th>\n",
       "    </tr>\n",
       "  </thead>\n",
       "  <tbody>\n",
       "    <tr>\n",
       "      <th>0</th>\n",
       "      <td>245230</td>\n",
       "      <td>44</td>\n",
       "      <td>40</td>\n",
       "      <td>124937.0</td>\n",
       "      <td>1071.0</td>\n",
       "      <td>9100</td>\n",
       "      <td>0</td>\n",
       "      <td>517</td>\n",
       "      <td>0</td>\n",
       "      <td>513835.99070</td>\n",
       "      <td>342.535579</td>\n",
       "      <td>2954.578313</td>\n",
       "      <td>7953.221927</td>\n",
       "      <td>64066.0</td>\n",
       "      <td>-44.0</td>\n",
       "    </tr>\n",
       "    <tr>\n",
       "      <th>1</th>\n",
       "      <td>1605449</td>\n",
       "      <td>107</td>\n",
       "      <td>149</td>\n",
       "      <td>1071.0</td>\n",
       "      <td>439537.0</td>\n",
       "      <td>517</td>\n",
       "      <td>0</td>\n",
       "      <td>27300</td>\n",
       "      <td>0</td>\n",
       "      <td>274445.34210</td>\n",
       "      <td>159.456949</td>\n",
       "      <td>6295.878431</td>\n",
       "      <td>56408.330520</td>\n",
       "      <td>859760.0</td>\n",
       "      <td>-102.0</td>\n",
       "    </tr>\n",
       "    <tr>\n",
       "      <th>2</th>\n",
       "      <td>53078</td>\n",
       "      <td>5</td>\n",
       "      <td>5</td>\n",
       "      <td>66.0</td>\n",
       "      <td>758.0</td>\n",
       "      <td>66</td>\n",
       "      <td>0</td>\n",
       "      <td>638</td>\n",
       "      <td>0</td>\n",
       "      <td>15524.32269</td>\n",
       "      <td>188.401974</td>\n",
       "      <td>5897.555556</td>\n",
       "      <td>15184.845200</td>\n",
       "      <td>46232.0</td>\n",
       "      <td>19.0</td>\n",
       "    </tr>\n",
       "  </tbody>\n",
       "</table>\n",
       "</div>"
      ],
      "text/plain": [
       "   Flow Duration  Tot Fwd Pkts  Tot Bwd Pkts  TotLen Fwd Pkts  \\\n",
       "0         245230            44            40         124937.0   \n",
       "1        1605449           107           149           1071.0   \n",
       "2          53078             5             5             66.0   \n",
       "\n",
       "   TotLen Bwd Pkts  Fwd Pkt Len Max  Fwd Pkt Len Min  Bwd Pkt Len Max  \\\n",
       "0           1071.0             9100                0              517   \n",
       "1         439537.0              517                0            27300   \n",
       "2            758.0               66                0              638   \n",
       "\n",
       "   Bwd Pkt Len Min   Flow Byts/s  Flow Pkts/s  Flow IAT Mean  Flow IAT Std  \\\n",
       "0                0  513835.99070   342.535579    2954.578313   7953.221927   \n",
       "1                0  274445.34210   159.456949    6295.878431  56408.330520   \n",
       "2                0   15524.32269   188.401974    5897.555556  15184.845200   \n",
       "\n",
       "   Flow IAT Max  Flow IAT Min  \n",
       "0       64066.0         -44.0  \n",
       "1      859760.0        -102.0  \n",
       "2       46232.0          19.0  "
      ]
     },
     "execution_count": 12,
     "metadata": {},
     "output_type": "execute_result"
    }
   ],
   "source": [
    "df_normal[alt_features].head(3)"
   ]
  },
  {
   "cell_type": "code",
   "execution_count": 16,
   "metadata": {},
   "outputs": [
    {
     "data": {
      "text/html": [
       "<div>\n",
       "<style scoped>\n",
       "    .dataframe tbody tr th:only-of-type {\n",
       "        vertical-align: middle;\n",
       "    }\n",
       "\n",
       "    .dataframe tbody tr th {\n",
       "        vertical-align: top;\n",
       "    }\n",
       "\n",
       "    .dataframe thead th {\n",
       "        text-align: right;\n",
       "    }\n",
       "</style>\n",
       "<table border=\"1\" class=\"dataframe\">\n",
       "  <thead>\n",
       "    <tr style=\"text-align: right;\">\n",
       "      <th></th>\n",
       "      <th>tg_Flow Duration_mean</th>\n",
       "      <th>tg_Flow Duration_std</th>\n",
       "      <th>tg_Tot Fwd Pkts_mean</th>\n",
       "      <th>tg_Tot Fwd Pkts_std</th>\n",
       "      <th>tg_Tot Bwd Pkts_mean</th>\n",
       "      <th>tg_Tot Bwd Pkts_std</th>\n",
       "      <th>tg_TotLen Fwd Pkts_mean</th>\n",
       "      <th>tg_TotLen Fwd Pkts_std</th>\n",
       "      <th>tg_TotLen Bwd Pkts_mean</th>\n",
       "      <th>tg_TotLen Bwd Pkts_std</th>\n",
       "      <th>...</th>\n",
       "      <th>tg_Flow Pkts/s_mean</th>\n",
       "      <th>tg_Flow Pkts/s_std</th>\n",
       "      <th>tg_Flow IAT Mean_mean</th>\n",
       "      <th>tg_Flow IAT Mean_std</th>\n",
       "      <th>tg_Flow IAT Std_mean</th>\n",
       "      <th>tg_Flow IAT Std_std</th>\n",
       "      <th>tg_Flow IAT Max_mean</th>\n",
       "      <th>tg_Flow IAT Max_std</th>\n",
       "      <th>tg_Flow IAT Min_mean</th>\n",
       "      <th>tg_Flow IAT Min_std</th>\n",
       "    </tr>\n",
       "  </thead>\n",
       "  <tbody>\n",
       "    <tr>\n",
       "      <th>0</th>\n",
       "      <td>89183.000000</td>\n",
       "      <td>135148.396687</td>\n",
       "      <td>15.666667</td>\n",
       "      <td>24.542480</td>\n",
       "      <td>14.000000</td>\n",
       "      <td>22.516660</td>\n",
       "      <td>41645.666667</td>\n",
       "      <td>72132.410582</td>\n",
       "      <td>357.000000</td>\n",
       "      <td>618.342138</td>\n",
       "      <td>...</td>\n",
       "      <td>262.141594</td>\n",
       "      <td>71.450654</td>\n",
       "      <td>6323.692771</td>\n",
       "      <td>3379.760677</td>\n",
       "      <td>5553.275908</td>\n",
       "      <td>4824.007856</td>\n",
       "      <td>28746.333333</td>\n",
       "      <td>30618.505782</td>\n",
       "      <td>3272.000000</td>\n",
       "      <td>5579.744439</td>\n",
       "    </tr>\n",
       "    <tr>\n",
       "      <th>1</th>\n",
       "      <td>616222.666667</td>\n",
       "      <td>859431.859086</td>\n",
       "      <td>41.666667</td>\n",
       "      <td>56.721542</td>\n",
       "      <td>56.666667</td>\n",
       "      <td>80.151939</td>\n",
       "      <td>639.000000</td>\n",
       "      <td>517.123776</td>\n",
       "      <td>150460.000000</td>\n",
       "      <td>250401.269324</td>\n",
       "      <td>...</td>\n",
       "      <td>166.792439</td>\n",
       "      <td>19.033258</td>\n",
       "      <td>6328.061329</td>\n",
       "      <td>447.466069</td>\n",
       "      <td>28175.490543</td>\n",
       "      <td>24476.260099</td>\n",
       "      <td>314837.666667</td>\n",
       "      <td>471932.332972</td>\n",
       "      <td>-45.666667</td>\n",
       "      <td>60.928920</td>\n",
       "    </tr>\n",
       "    <tr>\n",
       "      <th>2</th>\n",
       "      <td>82666.666667</td>\n",
       "      <td>96157.159361</td>\n",
       "      <td>6.666667</td>\n",
       "      <td>5.686241</td>\n",
       "      <td>7.333333</td>\n",
       "      <td>7.767453</td>\n",
       "      <td>292.333333</td>\n",
       "      <td>422.694137</td>\n",
       "      <td>3947.666667</td>\n",
       "      <td>6192.720431</td>\n",
       "      <td>...</td>\n",
       "      <td>322.801386</td>\n",
       "      <td>264.471989</td>\n",
       "      <td>5026.268519</td>\n",
       "      <td>2325.920429</td>\n",
       "      <td>9848.596567</td>\n",
       "      <td>7379.135597</td>\n",
       "      <td>29384.333333</td>\n",
       "      <td>22830.989123</td>\n",
       "      <td>448.666667</td>\n",
       "      <td>808.248930</td>\n",
       "    </tr>\n",
       "  </tbody>\n",
       "</table>\n",
       "<p>3 rows × 30 columns</p>\n",
       "</div>"
      ],
      "text/plain": [
       "   tg_Flow Duration_mean  tg_Flow Duration_std  tg_Tot Fwd Pkts_mean  \\\n",
       "0           89183.000000         135148.396687             15.666667   \n",
       "1          616222.666667         859431.859086             41.666667   \n",
       "2           82666.666667          96157.159361              6.666667   \n",
       "\n",
       "   tg_Tot Fwd Pkts_std  tg_Tot Bwd Pkts_mean  tg_Tot Bwd Pkts_std  \\\n",
       "0            24.542480             14.000000            22.516660   \n",
       "1            56.721542             56.666667            80.151939   \n",
       "2             5.686241              7.333333             7.767453   \n",
       "\n",
       "   tg_TotLen Fwd Pkts_mean  tg_TotLen Fwd Pkts_std  tg_TotLen Bwd Pkts_mean  \\\n",
       "0             41645.666667            72132.410582               357.000000   \n",
       "1               639.000000              517.123776            150460.000000   \n",
       "2               292.333333              422.694137              3947.666667   \n",
       "\n",
       "   tg_TotLen Bwd Pkts_std  ...  tg_Flow Pkts/s_mean  tg_Flow Pkts/s_std  \\\n",
       "0              618.342138  ...           262.141594           71.450654   \n",
       "1           250401.269324  ...           166.792439           19.033258   \n",
       "2             6192.720431  ...           322.801386          264.471989   \n",
       "\n",
       "   tg_Flow IAT Mean_mean  tg_Flow IAT Mean_std  tg_Flow IAT Std_mean  \\\n",
       "0            6323.692771           3379.760677           5553.275908   \n",
       "1            6328.061329            447.466069          28175.490543   \n",
       "2            5026.268519           2325.920429           9848.596567   \n",
       "\n",
       "   tg_Flow IAT Std_std  tg_Flow IAT Max_mean  tg_Flow IAT Max_std  \\\n",
       "0          4824.007856          28746.333333         30618.505782   \n",
       "1         24476.260099         314837.666667        471932.332972   \n",
       "2          7379.135597          29384.333333         22830.989123   \n",
       "\n",
       "   tg_Flow IAT Min_mean  tg_Flow IAT Min_std  \n",
       "0           3272.000000          5579.744439  \n",
       "1            -45.666667            60.928920  \n",
       "2            448.666667           808.248930  \n",
       "\n",
       "[3 rows x 30 columns]"
      ]
     },
     "execution_count": 16,
     "metadata": {},
     "output_type": "execute_result"
    }
   ],
   "source": [
    "df_normal[tg_features].head(3)"
   ]
  },
  {
   "cell_type": "code",
   "execution_count": null,
   "metadata": {},
   "outputs": [],
   "source": []
  }
 ],
 "metadata": {
  "kernelspec": {
   "display_name": "Python 3",
   "language": "python",
   "name": "python3"
  },
  "language_info": {
   "codemirror_mode": {
    "name": "ipython",
    "version": 3
   },
   "file_extension": ".py",
   "mimetype": "text/x-python",
   "name": "python",
   "nbconvert_exporter": "python",
   "pygments_lexer": "ipython3",
   "version": "3.6.9"
  }
 },
 "nbformat": 4,
 "nbformat_minor": 4
}
