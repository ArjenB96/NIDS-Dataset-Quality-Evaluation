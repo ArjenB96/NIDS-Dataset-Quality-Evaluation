{
 "cells": [
  {
   "cell_type": "code",
   "execution_count": 1,
   "metadata": {},
   "outputs": [
    {
     "name": "stdout",
     "output_type": "stream",
     "text": [
      "INFO: Pandarallel will run on 12 workers.\n",
      "INFO: Pandarallel will use Memory file system to transfer data between the main process and workers.\n"
     ]
    }
   ],
   "source": [
    "# Third Party Imports\n",
    "import pandas as pd\n",
    "import matplotlib.pyplot as plt\n",
    "#import seaborn as sns\n",
    "import numpy as np\n",
    "from sklearn.model_selection import train_test_split\n",
    "from sklearn.tree import DecisionTreeClassifier\n",
    "import pickle\n",
    "from exphelperfunctions import abbrv_num\n",
    "from exphelperfunctions import objectToFile\n",
    "from exphelperfunctions import objectFromFile\n",
    "from exphelperfunctions import add_value_labels"
   ]
  },
  {
   "cell_type": "code",
   "execution_count": 2,
   "metadata": {},
   "outputs": [],
   "source": [
    "#Open UNSW-NB15 small train/test split\n",
    "df_train = pd.read_csv('/mnt/h/UNSW-NB15/train_test_set/UNSW_NB15_training-set.csv', sep=',',header=0,skipinitialspace=True)\n",
    "df_test = pd.read_csv('/mnt/h/UNSW-NB15/train_test_set/UNSW_NB15_testing-set.csv', sep=',',header=0,skipinitialspace=True)"
   ]
  },
  {
   "cell_type": "code",
   "execution_count": 4,
   "metadata": {
    "scrolled": false
   },
   "outputs": [
    {
     "name": "stdout",
     "output_type": "stream",
     "text": [
      "[0 1]\n",
      "['Normal' 'Reconnaissance' 'Backdoor' 'DoS' 'Exploits' 'Analysis'\n",
      " 'Fuzzers' 'Worms' 'Shellcode' 'Generic']\n",
      "Index(['id', 'dur', 'proto', 'service', 'state', 'spkts', 'dpkts', 'sbytes',\n",
      "       'dbytes', 'rate', 'sttl', 'dttl', 'sload', 'dload', 'sloss', 'dloss',\n",
      "       'sinpkt', 'dinpkt', 'sjit', 'djit', 'swin', 'stcpb', 'dtcpb', 'dwin',\n",
      "       'tcprtt', 'synack', 'ackdat', 'smean', 'dmean', 'trans_depth',\n",
      "       'response_body_len', 'ct_srv_src', 'ct_state_ttl', 'ct_dst_ltm',\n",
      "       'ct_src_dport_ltm', 'ct_dst_sport_ltm', 'ct_dst_src_ltm',\n",
      "       'is_ftp_login', 'ct_ftp_cmd', 'ct_flw_http_mthd', 'ct_src_ltm',\n",
      "       'ct_srv_dst', 'is_sm_ips_ports', 'attack_cat', 'label'],\n",
      "      dtype='object')\n"
     ]
    }
   ],
   "source": [
    "print(df_train['label'].unique())\n",
    "print(df_train['attack_cat'].unique())\n",
    "print(df_train.columns)"
   ]
  },
  {
   "cell_type": "markdown",
   "metadata": {},
   "source": [
    "# Data composition\n",
    "Training: Total amount of instances = 175,341\n",
    "\n",
    "Testing: Total amount of instances = 82,332\n"
   ]
  },
  {
   "cell_type": "markdown",
   "metadata": {},
   "source": [
    "# One hot encoding"
   ]
  },
  {
   "cell_type": "code",
   "execution_count": 5,
   "metadata": {},
   "outputs": [],
   "source": [
    "# One hot encoding for protocol\n",
    "ohe_df = pd.get_dummies(df_train['proto'])\n",
    "df_train = df_train.join(ohe_df)\n",
    "ohe_list = list(ohe_df.columns)\n",
    "    \n",
    "ohe_df = pd.get_dummies(df_test['proto'])\n",
    "df_test = df_test.join(ohe_df)"
   ]
  },
  {
   "cell_type": "code",
   "execution_count": 6,
   "metadata": {
    "scrolled": true
   },
   "outputs": [
    {
     "name": "stdout",
     "output_type": "stream",
     "text": [
      "Index(['id', 'dur', 'proto', 'service', 'state', 'spkts', 'dpkts', 'sbytes',\n",
      "       'dbytes', 'rate',\n",
      "       ...\n",
      "       'visa', 'vmtp', 'vrrp', 'wb-expak', 'wb-mon', 'wsn', 'xnet', 'xns-idp',\n",
      "       'xtp', 'zero'],\n",
      "      dtype='object', length=176)\n",
      "Index(['id', 'dur', 'proto', 'service', 'state', 'spkts', 'dpkts', 'sbytes',\n",
      "       'dbytes', 'rate',\n",
      "       ...\n",
      "       'visa', 'vmtp', 'vrrp', 'wb-expak', 'wb-mon', 'wsn', 'xnet', 'xns-idp',\n",
      "       'xtp', 'zero'],\n",
      "      dtype='object', length=178)\n",
      "{'icmp', 'rtp'}\n"
     ]
    }
   ],
   "source": [
    "print(df_train.columns)\n",
    "print(df_test.columns)\n",
    "print(set(ohe_list).symmetric_difference(set(ohe_df.columns))) #test set contains two extra protocols, unnecessary to use."
   ]
  },
  {
   "cell_type": "code",
   "execution_count": 7,
   "metadata": {},
   "outputs": [],
   "source": [
    "#Get input columns and corresponding label vector\n",
    "#Use duration, src bytes&packets per flow, dst bytes&packets per flow, mean src/dst bytes per flow AND src TTL + \n",
    "#features = df_train.drop(['id','proto','service','state','attack_cat','label'],axis=1)\n",
    "\n",
    "label = 'label'\n",
    "features = ['dur','sbytes','dbytes','spkts','dpkts','smean','dmean','sinpkt','dinpkt','sttl','ct_state_ttl']\n",
    "features.extend(ohe_list)\n",
    "X_train = df_train[features]\n",
    "y_train = df_train[label]\n",
    "X_test = df_test[features]\n",
    "y_test = df_test[label]\n",
    "\n",
    "#Split in train and test set\n",
    "#X_train, X_test, y_train, y_test = train_test_split(X, y, test_size=0.30, shuffle=False)"
   ]
  },
  {
   "cell_type": "code",
   "execution_count": 8,
   "metadata": {},
   "outputs": [
    {
     "name": "stdout",
     "output_type": "stream",
     "text": [
      "count    82332.000000\n",
      "mean         0.550600\n",
      "std          0.497436\n",
      "min          0.000000\n",
      "25%          0.000000\n",
      "50%          1.000000\n",
      "75%          1.000000\n",
      "max          1.000000\n",
      "Name: label, dtype: float64\n",
      "count    175341.000000\n",
      "mean          0.680622\n",
      "std           0.466237\n",
      "min           0.000000\n",
      "25%           0.000000\n",
      "50%           1.000000\n",
      "75%           1.000000\n",
      "max           1.000000\n",
      "Name: label, dtype: float64\n"
     ]
    }
   ],
   "source": [
    "print(y_train.describe())\n",
    "print(y_test.describe())"
   ]
  },
  {
   "cell_type": "markdown",
   "metadata": {},
   "source": [
    "# Random Forest implementation"
   ]
  },
  {
   "cell_type": "code",
   "execution_count": 9,
   "metadata": {},
   "outputs": [],
   "source": [
    "from sklearn.ensemble import RandomForestClassifier\n",
    "from sklearn.metrics import classification_report, confusion_matrix\n",
    "cfs = []\n",
    "preds = []\n",
    "for i in range(5):\n",
    "    rf_clf = RandomForestClassifier(n_estimators=100,min_samples_split=10,min_samples_leaf=5,max_samples=0.8,criterion='gini',n_jobs=5)\n",
    "    rf_clf.fit(X_train,y_train)\n",
    "    y_pred = rf_clf.predict(X_test)\n",
    "    cfs.append(confusion_matrix(y_test, y_pred))\n",
    "    preds.append([y_test, y_pred])"
   ]
  },
  {
   "cell_type": "code",
   "execution_count": 13,
   "metadata": {},
   "outputs": [
    {
     "name": "stdout",
     "output_type": "stream",
     "text": [
      "[array([[ 53909,   2091],\n",
      "       [ 14520, 104821]]), array([[ 53988,   2012],\n",
      "       [ 14636, 104705]]), array([[ 53963,   2037],\n",
      "       [ 14605, 104736]]), array([[ 53878,   2122],\n",
      "       [ 14122, 105219]]), array([[ 53965,   2035],\n",
      "       [ 14401, 104940]])]\n",
      "(5, 2, 2)\n",
      "[[ 53940.6   2059.4]\n",
      " [ 14456.8 104884.2]]\n",
      "[[ 40.64775517  40.64775517]\n",
      " [186.15842715 186.15842715]]\n"
     ]
    }
   ],
   "source": [
    "print(cfs)\n",
    "print(np.shape(cfs))\n",
    "cf = np.mean(cfs,axis=(0))\n",
    "print(cf)\n",
    "print(np.std(cfs,axis=(0)))\n",
    "objectToFile(preds, \"nb15_preds_\"+label)"
   ]
  },
  {
   "cell_type": "code",
   "execution_count": 3,
   "metadata": {},
   "outputs": [],
   "source": [
    "#Grab results from file\n",
    "from sklearn.metrics import confusion_matrix\n",
    "preds_mem = objectFromFile(\"nb15_preds_label\")\n",
    "cfs = []\n",
    "for pred_tuple in preds_mem:\n",
    "    cfs.append(confusion_matrix(pred_tuple[0], pred_tuple[1]))"
   ]
  },
  {
   "cell_type": "code",
   "execution_count": 4,
   "metadata": {},
   "outputs": [
    {
     "name": "stdout",
     "output_type": "stream",
     "text": [
      "53940.6 2059.4 14456.8 104884.2\n",
      "0.9058052594658408 \n",
      "\n",
      "0.8788614139315072 \n",
      "\n",
      "0.963225\n"
     ]
    }
   ],
   "source": [
    "from sklearn.metrics import accuracy_score\n",
    "from sklearn.metrics import recall_score\n",
    "paper1_acc = 0.9919\n",
    "paper2_acc = 0.8913\n",
    "acc_scores = [[accuracy_score(pred_tuple[0], pred_tuple[1]) for pred_tuple in preds_mem]]\n",
    "rec_scores = [[recall_score(pred_tuple[0], pred_tuple[1]) for pred_tuple in preds_mem]]\n",
    "tn, fp, fn, tp = np.mean(cfs,axis=0).ravel()\n",
    "print(tn,fp,fn,tp)\n",
    "spec_score = tn / (tn+fp)\n",
    "print(np.mean(acc_scores), \"\\n\")\n",
    "print(np.mean(rec_scores), \"\\n\")\n",
    "print(spec_score)\n",
    "\n",
    "#print('std. dev %\\n', np.divide(np.std(cfs,axis=0),np.mean(cfs,axis=0))*100)"
   ]
  },
  {
   "cell_type": "code",
   "execution_count": 6,
   "metadata": {},
   "outputs": [
    {
     "data": {
      "image/png": "[encoded data removed]",
      "text/plain": [
       "<Figure size 504x432 with 1 Axes>"
      ]
     },
     "metadata": {
      "needs_background": "light"
     },
     "output_type": "display_data"
    }
   ],
   "source": [
    "import matplotlib.patches as mpatches\n",
    "#Colors\n",
    "clr_acc = 'royalblue'\n",
    "clr_rec = 'salmon'\n",
    "clr_spec = 'lightgreen'\n",
    "\n",
    "acc_patch = mpatches.Patch(color=clr_acc, label='accuracy')\n",
    "rec_patch = mpatches.Patch(color=clr_rec, label='recall')\n",
    "spec_patch = mpatches.Patch(color=clr_spec, label='specificity')\n",
    "\n",
    "labels = ['Faker et al.\\nDNN (41 features)', 'Khan et al.\\nDNN (10 features)', 'Our work\\nRF (11+176 features)']\n",
    "x = np.arange(len(labels))*10\n",
    "width = 2.5  # the width of the bars\n",
    "pad_width = 3\n",
    "scores = [paper1_acc,paper2_acc,np.mean(acc_scores),np.mean(rec_scores),spec_score]\n",
    "\n",
    "fig, ax = plt.subplots(figsize=(7,6))\n",
    "\n",
    "#Spawn bar(s) of group 1\n",
    "plt.bar(x[0], height=scores[0], width=width, color=clr_acc)\n",
    "\n",
    "#Spawn bar(s) of group 2\n",
    "plt.bar(x[1], height=scores[1], width=width, color=clr_acc)\n",
    "\n",
    "#Spawn bar(s) of group 3\n",
    "plt.bar(x[2]-pad_width, height=scores[2], width=width, color=clr_acc)\n",
    "plt.bar(x[2], height=scores[3], width=width, color=clr_rec)\n",
    "plt.bar(x[2]+pad_width, height=scores[4], width=width, color=clr_spec)\n",
    "\n",
    "#Hide the right and top spines\n",
    "ax.spines['right'].set_visible(False)\n",
    "ax.spines['top'].set_visible(False)\n",
    "\n",
    "#Set plot details\n",
    "plt.rc('font', size=13)\n",
    "plt.ylabel('Metric score')\n",
    "plt.yticks(size='14')\n",
    "plt.xticks(size='14')\n",
    "plt.ylim([0.8, 1])\n",
    "plt.title(\"NB15 results comparison\", fontweight='bold',  pad=25)\n",
    "ax.set_xticks(x)\n",
    "ax.set_xticklabels(labels)\n",
    "add_value_labels(ax)\n",
    "#ax.legend(handles=[acc_patch,rec_patch,spec_patch],bbox_to_anchor=(1.05, 1), loc='upper left', borderaxespad=0.)\n",
    "ax.set_axisbelow(True)\n",
    "plt.grid(axis='y')\n",
    "fig.tight_layout()\n",
    "plt.savefig('nb15_binaryclass_bars.png',bbox_inches='tight')\n",
    "plt.show()"
   ]
  },
  {
   "cell_type": "code",
   "execution_count": 45,
   "metadata": {},
   "outputs": [
    {
     "ename": "NameError",
     "evalue": "name 'cf' is not defined",
     "output_type": "error",
     "traceback": [
      "\u001b[0;31m---------------------------------------------------------------------------\u001b[0m",
      "\u001b[0;31mNameError\u001b[0m                                 Traceback (most recent call last)",
      "\u001b[0;32m<ipython-input-45-352f66449632>\u001b[0m in \u001b[0;36m<module>\u001b[0;34m\u001b[0m\n\u001b[1;32m      4\u001b[0m \u001b[0;34m\u001b[0m\u001b[0m\n\u001b[1;32m      5\u001b[0m \u001b[0;31m#Standard heatmap\u001b[0m\u001b[0;34m\u001b[0m\u001b[0;34m\u001b[0m\u001b[0;34m\u001b[0m\u001b[0m\n\u001b[0;32m----> 6\u001b[0;31m \u001b[0mcf_norm\u001b[0m \u001b[0;34m=\u001b[0m \u001b[0mcf\u001b[0m\u001b[0;34m/\u001b[0m\u001b[0mcf\u001b[0m\u001b[0;34m.\u001b[0m\u001b[0msum\u001b[0m\u001b[0;34m(\u001b[0m\u001b[0maxis\u001b[0m\u001b[0;34m=\u001b[0m\u001b[0;36m1\u001b[0m\u001b[0;34m)\u001b[0m\u001b[0;34m[\u001b[0m\u001b[0;34m:\u001b[0m\u001b[0;34m,\u001b[0m\u001b[0;32mNone\u001b[0m\u001b[0;34m]\u001b[0m\u001b[0;34m\u001b[0m\u001b[0;34m\u001b[0m\u001b[0m\n\u001b[0m\u001b[1;32m      7\u001b[0m \u001b[0mcf_percentages\u001b[0m \u001b[0;34m=\u001b[0m \u001b[0;34m[\u001b[0m\u001b[0;34m\"{0:.2%}\"\u001b[0m\u001b[0;34m.\u001b[0m\u001b[0mformat\u001b[0m\u001b[0;34m(\u001b[0m\u001b[0mvalue\u001b[0m\u001b[0;34m)\u001b[0m \u001b[0;32mfor\u001b[0m \u001b[0mvalue\u001b[0m \u001b[0;32min\u001b[0m \u001b[0mcf_norm\u001b[0m\u001b[0;34m.\u001b[0m\u001b[0mflatten\u001b[0m\u001b[0;34m(\u001b[0m\u001b[0;34m)\u001b[0m\u001b[0;34m]\u001b[0m\u001b[0;34m\u001b[0m\u001b[0;34m\u001b[0m\u001b[0m\n\u001b[1;32m      8\u001b[0m \u001b[0mcf_numbers\u001b[0m \u001b[0;34m=\u001b[0m \u001b[0;34m[\u001b[0m\u001b[0mabbrv_num\u001b[0m\u001b[0;34m(\u001b[0m\u001b[0mvalue\u001b[0m\u001b[0;34m)\u001b[0m \u001b[0;32mfor\u001b[0m \u001b[0mvalue\u001b[0m \u001b[0;32min\u001b[0m \u001b[0mcf\u001b[0m\u001b[0;34m.\u001b[0m\u001b[0mflatten\u001b[0m\u001b[0;34m(\u001b[0m\u001b[0;34m)\u001b[0m\u001b[0;34m]\u001b[0m\u001b[0;34m\u001b[0m\u001b[0;34m\u001b[0m\u001b[0m\n",
      "\u001b[0;31mNameError\u001b[0m: name 'cf' is not defined"
     ]
    }
   ],
   "source": [
    "#Plot confusion matrix\n",
    "import seaborn as sns\n",
    "#labels = ['Benign','Malicious']\n",
    "\n",
    "#Standard heatmap\n",
    "cf_norm = cf/cf.sum(axis=1)[:,None]\n",
    "cf_percentages = [\"{0:.2%}\".format(value) for value in cf_norm.flatten()]\n",
    "cf_numbers = [abbrv_num(value) for value in cf.flatten()]\n",
    "cf_labels = ['{v1}\\n({v2})'.format(v1=v1, v2=v2) for v1,v2 in zip(cf_percentages,cf_numbers)]\n",
    "cf_labels = np.asarray(cf_labels).reshape(cf.shape)\n",
    "\n",
    "fig, ax = plt.subplots(figsize=(6, 6))\n",
    "plt.rc('font', size=14)\n",
    "column_labels = sorted(y_test.unique())\n",
    "#column_labels[6] = 'Benign'\n",
    "column_labels = ['Benign', 'Malicious']\n",
    "sns.heatmap(cf_norm, annot=cf_labels, fmt='',cmap='Blues',cbar=False, vmin=0.0, vmax=1.0, ax=ax, xticklabels=column_labels, yticklabels=column_labels)\n",
    "plt.ylabel('True label')\n",
    "plt.xlabel('Predicted label')\n",
    "plt.yticks(size='12')\n",
    "plt.xticks(rotation='65', size='12')\n",
    "plt.title(\"NB15 mean binary classification matrix\")\n",
    "plt.savefig('nb15_binaryclass_cf.png',bbox_inches='tight')\n",
    "plt.show()"
   ]
  },
  {
   "cell_type": "code",
   "execution_count": 70,
   "metadata": {},
   "outputs": [
    {
     "name": "stdout",
     "output_type": "stream",
     "text": [
      "Feature: sbytes, Score: 0.18759\n",
      "Feature: smean, Score: 0.15470\n",
      "Feature: udp, Score: 0.09853\n",
      "Feature: ct_state_ttl, Score: 0.06670\n",
      "Feature: sttl, Score: 0.06041\n",
      "Feature: dbytes, Score: 0.06001\n",
      "Feature: dmean, Score: 0.05686\n",
      "Feature: dur, Score: 0.05539\n",
      "Feature: dinpkt, Score: 0.05345\n",
      "Feature: sinpkt, Score: 0.05153\n",
      "Feature: dpkts, Score: 0.04995\n",
      "Feature: spkts, Score: 0.04294\n",
      "Feature: tcp, Score: 0.03142\n",
      "Feature: unas, Score: 0.01203\n",
      "Feature: ospf, Score: 0.00270\n",
      "Feature: arp, Score: 0.00231\n",
      "Feature: sctp, Score: 0.00226\n",
      "Feature: any, Score: 0.00036\n",
      "Feature: ipv6, Score: 0.00036\n",
      "Feature: sep, Score: 0.00036\n",
      "Feature: gre, Score: 0.00032\n",
      "Feature: sun-nd, Score: 0.00028\n",
      "Feature: igmp, Score: 0.00023\n",
      "Feature: rsvp, Score: 0.00023\n",
      "Feature: mobile, Score: 0.00023\n",
      "Feature: swipe, Score: 0.00021\n",
      "Feature: pim, Score: 0.00016\n",
      "Feature: tcf, Score: 0.00016\n",
      "Feature: larp, Score: 0.00015\n",
      "Feature: rvd, Score: 0.00013\n",
      "Feature: aris, Score: 0.00012\n",
      "Feature: sccopmce, Score: 0.00012\n",
      "Feature: ipx-n-ip, Score: 0.00012\n",
      "Feature: ifmp, Score: 0.00011\n",
      "Feature: mux, Score: 0.00011\n",
      "Feature: isis, Score: 0.00011\n",
      "Feature: zero, Score: 0.00010\n",
      "Feature: leaf-1, Score: 0.00010\n",
      "Feature: pri-enc, Score: 0.00010\n",
      "Feature: ip, Score: 0.00009\n",
      "Feature: idpr, Score: 0.00009\n",
      "Feature: st2, Score: 0.00009\n",
      "Feature: idrp, Score: 0.00009\n",
      "Feature: leaf-2, Score: 0.00009\n",
      "Feature: prm, Score: 0.00009\n",
      "Feature: mtp, Score: 0.00009\n",
      "Feature: dcn, Score: 0.00009\n",
      "Feature: ddp, Score: 0.00009\n",
      "Feature: vines, Score: 0.00009\n",
      "Feature: scps, Score: 0.00009\n",
      "Feature: netblt, Score: 0.00009\n",
      "Feature: pvp, Score: 0.00008\n",
      "Feature: cftp, Score: 0.00008\n",
      "Feature: pgm, Score: 0.00008\n",
      "Feature: wsn, Score: 0.00008\n",
      "Feature: bbn-rcc, Score: 0.00008\n",
      "Feature: hmp, Score: 0.00008\n",
      "Feature: wb-expak, Score: 0.00008\n",
      "Feature: cbt, Score: 0.00008\n",
      "Feature: tlsp, Score: 0.00008\n",
      "Feature: xns-idp, Score: 0.00008\n",
      "Feature: aes-sp3-d, Score: 0.00008\n",
      "Feature: narp, Score: 0.00008\n",
      "Feature: irtp, Score: 0.00008\n",
      "Feature: sat-expak, Score: 0.00008\n",
      "Feature: ippc, Score: 0.00008\n",
      "Feature: ptp, Score: 0.00008\n",
      "Feature: ipcv, Score: 0.00008\n",
      "Feature: argus, Score: 0.00008\n",
      "Feature: pnni, Score: 0.00008\n",
      "Feature: kryptolan, Score: 0.00008\n",
      "Feature: bna, Score: 0.00007\n",
      "Feature: ttp, Score: 0.00007\n",
      "Feature: qnx, Score: 0.00007\n",
      "Feature: ipcomp, Score: 0.00007\n",
      "Feature: ib, Score: 0.00007\n",
      "Feature: snp, Score: 0.00007\n",
      "Feature: uti, Score: 0.00007\n",
      "Feature: rdp, Score: 0.00007\n",
      "Feature: sprite-rpc, Score: 0.00007\n",
      "Feature: iplt, Score: 0.00007\n",
      "Feature: cphb, Score: 0.00007\n",
      "Feature: chaos, Score: 0.00007\n",
      "Feature: trunk-2, Score: 0.00007\n",
      "Feature: vrrp, Score: 0.00007\n",
      "Feature: ipv6-no, Score: 0.00007\n",
      "Feature: nsfnet-igp, Score: 0.00007\n",
      "Feature: wb-mon, Score: 0.00007\n",
      "Feature: tp++, Score: 0.00007\n",
      "Feature: nvp, Score: 0.00007\n",
      "Feature: igp, Score: 0.00007\n",
      "Feature: visa, Score: 0.00007\n",
      "Feature: iso-ip, Score: 0.00007\n",
      "Feature: ipv6-route, Score: 0.00007\n",
      "Feature: ggp, Score: 0.00007\n",
      "Feature: xnet, Score: 0.00007\n",
      "Feature: a/n, Score: 0.00007\n",
      "Feature: stp, Score: 0.00007\n",
      "Feature: fc, Score: 0.00007\n",
      "Feature: smp, Score: 0.00006\n",
      "Feature: emcon, Score: 0.00006\n",
      "Feature: fire, Score: 0.00006\n",
      "Feature: eigrp, Score: 0.00006\n",
      "Feature: mhrp, Score: 0.00006\n",
      "Feature: mfe-nsp, Score: 0.00006\n",
      "Feature: sdrp, Score: 0.00006\n",
      "Feature: iso-tp4, Score: 0.00006\n",
      "Feature: trunk-1, Score: 0.00006\n",
      "Feature: sm, Score: 0.00006\n",
      "Feature: gmtp, Score: 0.00006\n",
      "Feature: 3pc, Score: 0.00006\n",
      "Feature: vmtp, Score: 0.00006\n",
      "Feature: ddx, Score: 0.00006\n",
      "Feature: pipe, Score: 0.00006\n",
      "Feature: compaq-peer, Score: 0.00006\n",
      "Feature: ipv6-frag, Score: 0.00006\n",
      "Feature: etherip, Score: 0.00006\n",
      "Feature: ipnip, Score: 0.00006\n",
      "Feature: micp, Score: 0.00006\n",
      "Feature: crudp, Score: 0.00006\n",
      "Feature: ax.25, Score: 0.00006\n",
      "Feature: br-sat-mon, Score: 0.00006\n",
      "Feature: pup, Score: 0.00006\n",
      "Feature: idpr-cmtp, Score: 0.00006\n",
      "Feature: crtp, Score: 0.00006\n",
      "Feature: i-nlsp, Score: 0.00006\n",
      "Feature: ipip, Score: 0.00006\n",
      "Feature: srp, Score: 0.00005\n",
      "Feature: l2tp, Score: 0.00005\n",
      "Feature: xtp, Score: 0.00005\n",
      "Feature: egp, Score: 0.00005\n",
      "Feature: secure-vmtp, Score: 0.00005\n",
      "Feature: iatp, Score: 0.00005\n",
      "Feature: cpnx, Score: 0.00005\n",
      "Feature: dgp, Score: 0.00005\n",
      "Feature: merit-inp, Score: 0.00005\n",
      "Feature: sat-mon, Score: 0.00005\n",
      "Feature: encap, Score: 0.00005\n",
      "Feature: skip, Score: 0.00005\n",
      "Feature: il, Score: 0.00005\n",
      "Feature: sps, Score: 0.00005\n",
      "Feature: ipv6-opts, Score: 0.00003\n"
     ]
    }
   ],
   "source": [
    "importance = rf_clf.feature_importances_\n",
    "# summarize feature importance\n",
    "for i,v in sorted(enumerate(importance),key=lambda x: x[1], reverse=True):\n",
    "    print('Feature: %s, Score: %.5f' % (features[i],v))"
   ]
  },
  {
   "cell_type": "markdown",
   "metadata": {},
   "source": [
    "# Rerun experiment with less features to confirm feature importances"
   ]
  },
  {
   "cell_type": "code",
   "execution_count": 7,
   "metadata": {},
   "outputs": [],
   "source": [
    "#Get input columns and corresponding label vector\n",
    "#Use duration, src bytes&packets per flow, dst bytes&packets per flow, mean src/dst bytes per flow AND src TTL + \n",
    "#features = df_train.drop(['id','proto','service','state','attack_cat','label'],axis=1)\n",
    "\n",
    "label = 'label'\n",
    "features = ['sbytes','udp','smean']\n",
    "#features.extend(ohe_list)\n",
    "X_train = df_train[features]\n",
    "y_train = df_train[label]\n",
    "X_test = df_test[features]\n",
    "y_test = df_test[label]\n",
    "\n"
   ]
  },
  {
   "cell_type": "code",
   "execution_count": 8,
   "metadata": {},
   "outputs": [],
   "source": [
    "from sklearn.ensemble import RandomForestClassifier\n",
    "from sklearn.metrics import classification_report, confusion_matrix\n",
    "cfs = []\n",
    "preds = []\n",
    "for i in range(5):\n",
    "    rf_clf = RandomForestClassifier(n_estimators=100,min_samples_split=10,min_samples_leaf=5,max_samples=0.8,criterion='gini',n_jobs=5)\n",
    "    rf_clf.fit(X_train,y_train)\n",
    "    y_pred = rf_clf.predict(X_test)\n",
    "    cfs.append(confusion_matrix(y_test, y_pred))\n",
    "    preds.append([y_test, y_pred])"
   ]
  },
  {
   "cell_type": "code",
   "execution_count": 9,
   "metadata": {},
   "outputs": [
    {
     "name": "stdout",
     "output_type": "stream",
     "text": [
      "[array([[ 53293,   2707],\n",
      "       [ 15482, 103859]]), array([[ 53300,   2700],\n",
      "       [ 15302, 104039]]), array([[ 53385,   2615],\n",
      "       [ 15421, 103920]]), array([[ 53316,   2684],\n",
      "       [ 15340, 104001]]), array([[ 53256,   2744],\n",
      "       [ 15267, 104074]])]\n",
      "(5, 2, 2)\n",
      "[[ 53310.    2690. ]\n",
      " [ 15362.4 103978.6]]\n",
      "[[42.34619227 42.34619227]\n",
      " [78.72636153 78.72636153]]\n"
     ]
    }
   ],
   "source": [
    "print(cfs)\n",
    "print(np.shape(cfs))\n",
    "cf = np.mean(cfs,axis=(0))\n",
    "print(cf)\n",
    "print(np.std(cfs,axis=(0)))\n",
    "#objectToFile(preds, \"nb15_preds_\"+label)"
   ]
  },
  {
   "cell_type": "code",
   "execution_count": 10,
   "metadata": {},
   "outputs": [
    {
     "data": {
      "image/png": "[encoded data removed]",
      "text/plain": [
       "<Figure size 432x432 with 1 Axes>"
      ]
     },
     "metadata": {
      "needs_background": "light"
     },
     "output_type": "display_data"
    }
   ],
   "source": [
    "#Plot confusion matrix\n",
    "import seaborn as sns\n",
    "#labels = ['Benign','Malicious']\n",
    "\n",
    "#Standard heatmap\n",
    "cf_norm = cf/cf.sum(axis=1)[:,None]\n",
    "cf_percentages = [\"{0:.2%}\".format(value) for value in cf_norm.flatten()]\n",
    "cf_numbers = [abbrv_num(value) for value in cf.flatten()]\n",
    "cf_labels = ['{v1}\\n({v2})'.format(v1=v1, v2=v2) for v1,v2 in zip(cf_percentages,cf_numbers)]\n",
    "cf_labels = np.asarray(cf_labels).reshape(cf.shape)\n",
    "\n",
    "fig, ax = plt.subplots(figsize=(6, 6))\n",
    "plt.rc('font', size=14)\n",
    "column_labels = sorted(y_test.unique())\n",
    "#column_labels[6] = 'Benign'\n",
    "column_labels = ['Benign', 'Malicious']\n",
    "sns.heatmap(cf_norm, annot=cf_labels, fmt='',cmap='Blues',cbar=False, vmin=0.0, vmax=1.0, ax=ax, xticklabels=column_labels, yticklabels=column_labels)\n",
    "plt.ylabel('True label')\n",
    "plt.xlabel('Predicted label')\n",
    "plt.yticks(size='12')\n",
    "plt.xticks(rotation='65', size='12')\n",
    "plt.title(\"NB15 mean binary classification matrix\")\n",
    "#plt.savefig('nb15_binaryclass_cf.png',bbox_inches='tight')\n",
    "plt.show()"
   ]
  },
  {
   "cell_type": "code",
   "execution_count": 11,
   "metadata": {},
   "outputs": [
    {
     "name": "stdout",
     "output_type": "stream",
     "text": [
      "53310.0 2690.0 15362.4 103978.6\n",
      "0.8970440456025687 \n",
      "\n",
      "0.8712730746348699 \n",
      "\n",
      "0.9519642857142857\n"
     ]
    }
   ],
   "source": [
    "from sklearn.metrics import accuracy_score\n",
    "from sklearn.metrics import recall_score\n",
    "\n",
    "acc_scores = [[accuracy_score(pred_tuple[0], pred_tuple[1]) for pred_tuple in preds]]\n",
    "rec_scores = [[recall_score(pred_tuple[0], pred_tuple[1]) for pred_tuple in preds]]\n",
    "tn, fp, fn, tp = np.mean(cfs,axis=0).ravel()\n",
    "print(tn,fp,fn,tp)\n",
    "spec_score = tn / (tn+fp)\n",
    "print(np.mean(acc_scores), \"\\n\")\n",
    "print(np.mean(rec_scores), \"\\n\")\n",
    "print(spec_score)\n",
    "\n",
    "#print('std. dev %\\n', np.divide(np.std(cfs,axis=0),np.mean(cfs,axis=0))*100)"
   ]
  },
  {
   "cell_type": "code",
   "execution_count": null,
   "metadata": {},
   "outputs": [],
   "source": []
  }
 ],
 "metadata": {
  "kernelspec": {
   "display_name": "Python 3",
   "language": "python",
   "name": "python3"
  },
  "language_info": {
   "codemirror_mode": {
    "name": "ipython",
    "version": 3
   },
   "file_extension": ".py",
   "mimetype": "text/x-python",
   "name": "python",
   "nbconvert_exporter": "python",
   "pygments_lexer": "ipython3",
   "version": "3.6.9"
  }
 },
 "nbformat": 4,
 "nbformat_minor": 4
}
